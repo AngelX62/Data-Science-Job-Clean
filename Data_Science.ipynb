{
 "cells": [
  {
   "cell_type": "markdown",
   "id": "6ec0bf5b-637d-4385-a343-037d9250a972",
   "metadata": {},
   "source": [
    "# Data Science Job Market Analysis\n",
    "\n",
    "## Introduction\n",
    "\n",
    "In the 21st century, data science has emerged as a critical field, influencing decision-making in industries ranging from finance to healthcare. The ability to extract meaningful insights from data is now a pivotal skill, driving innovation and competitive advantage. \n",
    "\n",
    "We will analyze the job market for data science roles using a comprehensive dataset from 2021. While it is a few years old, this dataset continues to provide valuable insights about salary distributions, popular job titles, required skill, and industry trends. \n"
   ]
  },
  {
   "cell_type": "markdown",
   "id": "57f69b52-5c20-4c9f-856f-cdf3d8e0e34e",
   "metadata": {},
   "source": [
    "## Methodology\n",
    "- **Data Collection**: Data was scraped from Glassdoor job listings for 2021\n",
    "- **Data Cleaning**: Removing duplicates, handling nissing values, and standardizing data formats.\n",
    "- **Exploratory Data Analysis**: Identifying trends, correlaitons, and distributions in the data.**"
   ]
  },
  {
   "cell_type": "markdown",
   "id": "b4ebc829-d0f7-4def-af7b-0fcdcfc0500a",
   "metadata": {},
   "source": [
    "# Prepare the data\n",
    "In this section, we first import the necessary libraries for data manipulation and analysis to read data from a CSV file into a DataFrame.\n",
    "\n",
    "- **Pandas**: Used for data manipulation and cleaning. It offers data structures and operations for manipulating numerical tables and time series.\n",
    "- **NumPy**: Provides support for large, multi-dimensional arrays and matrices, with a large collection of high-lebel mathematical functions to operate on these arrays.\n",
    "- **Matplotlib**: A plotting library for creating static, interactive, and animated visualizations in Python.\n",
    "- **Seaborn**: It provides a high-level interface for drawing attractive and informative statistical graphics.\n",
    "- **Plotly**: An open source library that provides interactive data visualizations to understand data simply and easily.\n"
   ]
  },
  {
   "cell_type": "code",
   "execution_count": 1,
   "id": "b79ddc95-bfef-4ab9-b751-245c60ccf429",
   "metadata": {},
   "outputs": [
    {
     "data": {
      "text/html": [
       "        <script type=\"text/javascript\">\n",
       "        window.PlotlyConfig = {MathJaxConfig: 'local'};\n",
       "        if (window.MathJax && window.MathJax.Hub && window.MathJax.Hub.Config) {window.MathJax.Hub.Config({SVG: {font: \"STIX-Web\"}});}\n",
       "        if (typeof require !== 'undefined') {\n",
       "        require.undef(\"plotly\");\n",
       "        requirejs.config({\n",
       "            paths: {\n",
       "                'plotly': ['https://cdn.plot.ly/plotly-2.32.0.min']\n",
       "            }\n",
       "        });\n",
       "        require(['plotly'], function(Plotly) {\n",
       "            window._Plotly = Plotly;\n",
       "        });\n",
       "        }\n",
       "        </script>\n",
       "        "
      ]
     },
     "metadata": {},
     "output_type": "display_data"
    }
   ],
   "source": [
    "# Data Manipulation\n",
    "import pandas as pd\n",
    "import numpy as np\n",
    "# Data viz\n",
    "import matplotlib.pyplot as plt\n",
    "import seaborn as sns\n",
    "import plotly.express as px\n",
    "import plotly.io as pio\n",
    "import plotly.graph_objects as go\n",
    "# Others\n",
    "from matplotlib.ticker import FixedLocator, FuncFormatter\n",
    "from plotly.offline import init_notebook_mode, iplot\n",
    "from plotly.subplots import make_subplots\n",
    "init_notebook_mode(connected=True)"
   ]
  },
  {
   "cell_type": "markdown",
   "id": "16e1d503-d057-486d-be36-d6c03b319bd2",
   "metadata": {},
   "source": [
    "# Loading the Data\n",
    "This dataset is loaded into a pandas DataFrame and the first few rows are displayed to get an overview of the data."
   ]
  },
  {
   "cell_type": "code",
   "execution_count": 50,
   "id": "3d0a3b3a-28cd-40d7-ae23-48cafa7aef21",
   "metadata": {},
   "outputs": [
    {
     "data": {
      "text/html": [
       "<div>\n",
       "<style scoped>\n",
       "    .dataframe tbody tr th:only-of-type {\n",
       "        vertical-align: middle;\n",
       "    }\n",
       "\n",
       "    .dataframe tbody tr th {\n",
       "        vertical-align: top;\n",
       "    }\n",
       "\n",
       "    .dataframe thead th {\n",
       "        text-align: right;\n",
       "    }\n",
       "</style>\n",
       "<table border=\"1\" class=\"dataframe\">\n",
       "  <thead>\n",
       "    <tr style=\"text-align: right;\">\n",
       "      <th></th>\n",
       "      <th>Job Title</th>\n",
       "      <th>Salary Estimate</th>\n",
       "      <th>Job Description</th>\n",
       "      <th>Rating</th>\n",
       "      <th>Company Name</th>\n",
       "      <th>Location</th>\n",
       "      <th>Headquarters</th>\n",
       "      <th>Size</th>\n",
       "      <th>Founded</th>\n",
       "      <th>Type of ownership</th>\n",
       "      <th>Industry</th>\n",
       "      <th>Sector</th>\n",
       "      <th>Revenue</th>\n",
       "      <th>Competitors</th>\n",
       "    </tr>\n",
       "    <tr>\n",
       "      <th>index</th>\n",
       "      <th></th>\n",
       "      <th></th>\n",
       "      <th></th>\n",
       "      <th></th>\n",
       "      <th></th>\n",
       "      <th></th>\n",
       "      <th></th>\n",
       "      <th></th>\n",
       "      <th></th>\n",
       "      <th></th>\n",
       "      <th></th>\n",
       "      <th></th>\n",
       "      <th></th>\n",
       "      <th></th>\n",
       "    </tr>\n",
       "  </thead>\n",
       "  <tbody>\n",
       "    <tr>\n",
       "      <th>0</th>\n",
       "      <td>Sr Data Scientist</td>\n",
       "      <td>$137K-$171K (Glassdoor est.)</td>\n",
       "      <td>Description\\n\\nThe Senior Data Scientist is re...</td>\n",
       "      <td>3.1</td>\n",
       "      <td>Healthfirst\\n3.1</td>\n",
       "      <td>New York, NY</td>\n",
       "      <td>New York, NY</td>\n",
       "      <td>1001 to 5000 employees</td>\n",
       "      <td>1993</td>\n",
       "      <td>Nonprofit Organization</td>\n",
       "      <td>Insurance Carriers</td>\n",
       "      <td>Insurance</td>\n",
       "      <td>Unknown / Non-Applicable</td>\n",
       "      <td>EmblemHealth, UnitedHealth Group, Aetna</td>\n",
       "    </tr>\n",
       "    <tr>\n",
       "      <th>1</th>\n",
       "      <td>Data Scientist</td>\n",
       "      <td>$137K-$171K (Glassdoor est.)</td>\n",
       "      <td>Secure our Nation, Ignite your Future\\n\\nJoin ...</td>\n",
       "      <td>4.2</td>\n",
       "      <td>ManTech\\n4.2</td>\n",
       "      <td>Chantilly, VA</td>\n",
       "      <td>Herndon, VA</td>\n",
       "      <td>5001 to 10000 employees</td>\n",
       "      <td>1968</td>\n",
       "      <td>Company - Public</td>\n",
       "      <td>Research &amp; Development</td>\n",
       "      <td>Business Services</td>\n",
       "      <td>$1 to $2 billion (USD)</td>\n",
       "      <td>-1</td>\n",
       "    </tr>\n",
       "    <tr>\n",
       "      <th>2</th>\n",
       "      <td>Data Scientist</td>\n",
       "      <td>$137K-$171K (Glassdoor est.)</td>\n",
       "      <td>Overview\\n\\n\\nAnalysis Group is one of the lar...</td>\n",
       "      <td>3.8</td>\n",
       "      <td>Analysis Group\\n3.8</td>\n",
       "      <td>Boston, MA</td>\n",
       "      <td>Boston, MA</td>\n",
       "      <td>1001 to 5000 employees</td>\n",
       "      <td>1981</td>\n",
       "      <td>Private Practice / Firm</td>\n",
       "      <td>Consulting</td>\n",
       "      <td>Business Services</td>\n",
       "      <td>$100 to $500 million (USD)</td>\n",
       "      <td>-1</td>\n",
       "    </tr>\n",
       "    <tr>\n",
       "      <th>3</th>\n",
       "      <td>Data Scientist</td>\n",
       "      <td>$137K-$171K (Glassdoor est.)</td>\n",
       "      <td>JOB DESCRIPTION:\\n\\nDo you have a passion for ...</td>\n",
       "      <td>3.5</td>\n",
       "      <td>INFICON\\n3.5</td>\n",
       "      <td>Newton, MA</td>\n",
       "      <td>Bad Ragaz, Switzerland</td>\n",
       "      <td>501 to 1000 employees</td>\n",
       "      <td>2000</td>\n",
       "      <td>Company - Public</td>\n",
       "      <td>Electrical &amp; Electronic Manufacturing</td>\n",
       "      <td>Manufacturing</td>\n",
       "      <td>$100 to $500 million (USD)</td>\n",
       "      <td>MKS Instruments, Pfeiffer Vacuum, Agilent Tech...</td>\n",
       "    </tr>\n",
       "    <tr>\n",
       "      <th>4</th>\n",
       "      <td>Data Scientist</td>\n",
       "      <td>$137K-$171K (Glassdoor est.)</td>\n",
       "      <td>Data Scientist\\nAffinity Solutions / Marketing...</td>\n",
       "      <td>2.9</td>\n",
       "      <td>Affinity Solutions\\n2.9</td>\n",
       "      <td>New York, NY</td>\n",
       "      <td>New York, NY</td>\n",
       "      <td>51 to 200 employees</td>\n",
       "      <td>1998</td>\n",
       "      <td>Company - Private</td>\n",
       "      <td>Advertising &amp; Marketing</td>\n",
       "      <td>Business Services</td>\n",
       "      <td>Unknown / Non-Applicable</td>\n",
       "      <td>Commerce Signals, Cardlytics, Yodlee</td>\n",
       "    </tr>\n",
       "  </tbody>\n",
       "</table>\n",
       "</div>"
      ],
      "text/plain": [
       "               Job Title               Salary Estimate  \\\n",
       "index                                                    \n",
       "0      Sr Data Scientist  $137K-$171K (Glassdoor est.)   \n",
       "1         Data Scientist  $137K-$171K (Glassdoor est.)   \n",
       "2         Data Scientist  $137K-$171K (Glassdoor est.)   \n",
       "3         Data Scientist  $137K-$171K (Glassdoor est.)   \n",
       "4         Data Scientist  $137K-$171K (Glassdoor est.)   \n",
       "\n",
       "                                         Job Description  Rating  \\\n",
       "index                                                              \n",
       "0      Description\\n\\nThe Senior Data Scientist is re...     3.1   \n",
       "1      Secure our Nation, Ignite your Future\\n\\nJoin ...     4.2   \n",
       "2      Overview\\n\\n\\nAnalysis Group is one of the lar...     3.8   \n",
       "3      JOB DESCRIPTION:\\n\\nDo you have a passion for ...     3.5   \n",
       "4      Data Scientist\\nAffinity Solutions / Marketing...     2.9   \n",
       "\n",
       "                  Company Name       Location            Headquarters  \\\n",
       "index                                                                   \n",
       "0             Healthfirst\\n3.1   New York, NY            New York, NY   \n",
       "1                 ManTech\\n4.2  Chantilly, VA             Herndon, VA   \n",
       "2          Analysis Group\\n3.8     Boston, MA              Boston, MA   \n",
       "3                 INFICON\\n3.5     Newton, MA  Bad Ragaz, Switzerland   \n",
       "4      Affinity Solutions\\n2.9   New York, NY            New York, NY   \n",
       "\n",
       "                          Size  Founded        Type of ownership  \\\n",
       "index                                                              \n",
       "0       1001 to 5000 employees     1993   Nonprofit Organization   \n",
       "1      5001 to 10000 employees     1968         Company - Public   \n",
       "2       1001 to 5000 employees     1981  Private Practice / Firm   \n",
       "3        501 to 1000 employees     2000         Company - Public   \n",
       "4          51 to 200 employees     1998        Company - Private   \n",
       "\n",
       "                                    Industry             Sector  \\\n",
       "index                                                             \n",
       "0                         Insurance Carriers          Insurance   \n",
       "1                     Research & Development  Business Services   \n",
       "2                                 Consulting  Business Services   \n",
       "3      Electrical & Electronic Manufacturing      Manufacturing   \n",
       "4                    Advertising & Marketing  Business Services   \n",
       "\n",
       "                          Revenue  \\\n",
       "index                               \n",
       "0        Unknown / Non-Applicable   \n",
       "1          $1 to $2 billion (USD)   \n",
       "2      $100 to $500 million (USD)   \n",
       "3      $100 to $500 million (USD)   \n",
       "4        Unknown / Non-Applicable   \n",
       "\n",
       "                                             Competitors  \n",
       "index                                                     \n",
       "0                EmblemHealth, UnitedHealth Group, Aetna  \n",
       "1                                                     -1  \n",
       "2                                                     -1  \n",
       "3      MKS Instruments, Pfeiffer Vacuum, Agilent Tech...  \n",
       "4                   Commerce Signals, Cardlytics, Yodlee  "
      ]
     },
     "execution_count": 50,
     "metadata": {},
     "output_type": "execute_result"
    }
   ],
   "source": [
    "df = pd.read_csv(r\"Uncleaned_DS_jobs.csv\", index_col=[0])\n",
    "# Set display options\n",
    "pd.set_option('display.max.columns', None)\n",
    "pd.set_option('display.max.rows', 10)\n",
    "df.head()"
   ]
  },
  {
   "cell_type": "markdown",
   "id": "9ce23db5-268c-4321-8c85-5ba766060891",
   "metadata": {},
   "source": [
    "# Exploratory Data Analysis"
   ]
  },
  {
   "cell_type": "markdown",
   "id": "e792c103-bbe8-4cba-b5c0-61ea26b98043",
   "metadata": {},
   "source": [
    "### Understanding the data\n",
    "We need to gain an understanding of the dataset's structure and content. Below, we will start by identifying the data types of each columns, drop some potential unused columns, and data cleaning."
   ]
  },
  {
   "cell_type": "code",
   "execution_count": 6,
   "id": "e8e87ddf-893e-47ac-89ad-b1522505842d",
   "metadata": {},
   "outputs": [
    {
     "data": {
      "text/plain": [
       "Index(['Job Title', 'Salary Estimate', 'Job Description', 'Rating',\n",
       "       'Company Name', 'Location', 'Headquarters', 'Size', 'Founded',\n",
       "       'Type of ownership', 'Industry', 'Sector', 'Revenue', 'Competitors'],\n",
       "      dtype='object')"
      ]
     },
     "execution_count": 6,
     "metadata": {},
     "output_type": "execute_result"
    }
   ],
   "source": [
    "# Check columns\n",
    "df.columns"
   ]
  },
  {
   "cell_type": "code",
   "execution_count": 7,
   "id": "f983f6f4-b2c4-4b69-8c5a-73b16f62a6dc",
   "metadata": {},
   "outputs": [
    {
     "data": {
      "text/plain": [
       "Job Title             object\n",
       "Salary Estimate       object\n",
       "Job Description       object\n",
       "Rating               float64\n",
       "Company Name          object\n",
       "                      ...   \n",
       "Type of ownership     object\n",
       "Industry              object\n",
       "Sector                object\n",
       "Revenue               object\n",
       "Competitors           object\n",
       "Length: 14, dtype: object"
      ]
     },
     "execution_count": 7,
     "metadata": {},
     "output_type": "execute_result"
    }
   ],
   "source": [
    "# Check data types of each column\n",
    "df.dtypes"
   ]
  },
  {
   "cell_type": "code",
   "execution_count": 8,
   "id": "0cab33ab-4d97-4852-9c1a-89df0f0e37f7",
   "metadata": {},
   "outputs": [
    {
     "name": "stdout",
     "output_type": "stream",
     "text": [
      "<class 'pandas.core.frame.DataFrame'>\n",
      "Index: 672 entries, 0 to 671\n",
      "Data columns (total 14 columns):\n",
      " #   Column             Non-Null Count  Dtype  \n",
      "---  ------             --------------  -----  \n",
      " 0   Job Title          672 non-null    object \n",
      " 1   Salary Estimate    672 non-null    object \n",
      " 2   Job Description    672 non-null    object \n",
      " 3   Rating             672 non-null    float64\n",
      " 4   Company Name       672 non-null    object \n",
      " 5   Location           672 non-null    object \n",
      " 6   Headquarters       672 non-null    object \n",
      " 7   Size               672 non-null    object \n",
      " 8   Founded            672 non-null    int64  \n",
      " 9   Type of ownership  672 non-null    object \n",
      " 10  Industry           672 non-null    object \n",
      " 11  Sector             672 non-null    object \n",
      " 12  Revenue            672 non-null    object \n",
      " 13  Competitors        672 non-null    object \n",
      "dtypes: float64(1), int64(1), object(12)\n",
      "memory usage: 78.8+ KB\n"
     ]
    }
   ],
   "source": [
    "df.info()"
   ]
  },
  {
   "cell_type": "markdown",
   "id": "305719cd-25a4-4466-bf65-00b74b208398",
   "metadata": {},
   "source": [
    "## Data Cleaning\n",
    "This section will focus on preparing the raw dataset for analysis by identifying and correcting inaccuracies, removing duplicates, handle missing values, and standardizing data formats. These processes are a must to ensure the data is accurate and reliable. "
   ]
  },
  {
   "cell_type": "markdown",
   "id": "d429b3ad-1bb6-4487-94e2-e13613c59d5f",
   "metadata": {},
   "source": [
    "### Dropping column and duplicates\n",
    "Competitors and Sector columns are dropped from the dataset since we do not need them in our analysis. As well as duplications, we want to remove them to maintain the integrity of the dataset."
   ]
  },
  {
   "cell_type": "code",
   "execution_count": 9,
   "id": "d1f1679c-1e8b-4d71-86e1-131c2571a1f8",
   "metadata": {},
   "outputs": [
    {
     "data": {
      "text/html": [
       "<div>\n",
       "<style scoped>\n",
       "    .dataframe tbody tr th:only-of-type {\n",
       "        vertical-align: middle;\n",
       "    }\n",
       "\n",
       "    .dataframe tbody tr th {\n",
       "        vertical-align: top;\n",
       "    }\n",
       "\n",
       "    .dataframe thead th {\n",
       "        text-align: right;\n",
       "    }\n",
       "</style>\n",
       "<table border=\"1\" class=\"dataframe\">\n",
       "  <thead>\n",
       "    <tr style=\"text-align: right;\">\n",
       "      <th></th>\n",
       "      <th>Job Title</th>\n",
       "      <th>Salary Estimate</th>\n",
       "      <th>Job Description</th>\n",
       "      <th>Rating</th>\n",
       "      <th>Company Name</th>\n",
       "      <th>Location</th>\n",
       "      <th>Headquarters</th>\n",
       "      <th>Size</th>\n",
       "      <th>Founded</th>\n",
       "      <th>Type of ownership</th>\n",
       "      <th>Industry</th>\n",
       "      <th>Revenue</th>\n",
       "    </tr>\n",
       "    <tr>\n",
       "      <th>index</th>\n",
       "      <th></th>\n",
       "      <th></th>\n",
       "      <th></th>\n",
       "      <th></th>\n",
       "      <th></th>\n",
       "      <th></th>\n",
       "      <th></th>\n",
       "      <th></th>\n",
       "      <th></th>\n",
       "      <th></th>\n",
       "      <th></th>\n",
       "      <th></th>\n",
       "    </tr>\n",
       "  </thead>\n",
       "  <tbody>\n",
       "    <tr>\n",
       "      <th>0</th>\n",
       "      <td>Sr Data Scientist</td>\n",
       "      <td>$137K-$171K (Glassdoor est.)</td>\n",
       "      <td>Description\\n\\nThe Senior Data Scientist is re...</td>\n",
       "      <td>3.1</td>\n",
       "      <td>Healthfirst\\n3.1</td>\n",
       "      <td>New York, NY</td>\n",
       "      <td>New York, NY</td>\n",
       "      <td>1001 to 5000 employees</td>\n",
       "      <td>1993</td>\n",
       "      <td>Nonprofit Organization</td>\n",
       "      <td>Insurance Carriers</td>\n",
       "      <td>Unknown / Non-Applicable</td>\n",
       "    </tr>\n",
       "    <tr>\n",
       "      <th>1</th>\n",
       "      <td>Data Scientist</td>\n",
       "      <td>$137K-$171K (Glassdoor est.)</td>\n",
       "      <td>Secure our Nation, Ignite your Future\\n\\nJoin ...</td>\n",
       "      <td>4.2</td>\n",
       "      <td>ManTech\\n4.2</td>\n",
       "      <td>Chantilly, VA</td>\n",
       "      <td>Herndon, VA</td>\n",
       "      <td>5001 to 10000 employees</td>\n",
       "      <td>1968</td>\n",
       "      <td>Company - Public</td>\n",
       "      <td>Research &amp; Development</td>\n",
       "      <td>$1 to $2 billion (USD)</td>\n",
       "    </tr>\n",
       "    <tr>\n",
       "      <th>2</th>\n",
       "      <td>Data Scientist</td>\n",
       "      <td>$137K-$171K (Glassdoor est.)</td>\n",
       "      <td>Overview\\n\\n\\nAnalysis Group is one of the lar...</td>\n",
       "      <td>3.8</td>\n",
       "      <td>Analysis Group\\n3.8</td>\n",
       "      <td>Boston, MA</td>\n",
       "      <td>Boston, MA</td>\n",
       "      <td>1001 to 5000 employees</td>\n",
       "      <td>1981</td>\n",
       "      <td>Private Practice / Firm</td>\n",
       "      <td>Consulting</td>\n",
       "      <td>$100 to $500 million (USD)</td>\n",
       "    </tr>\n",
       "    <tr>\n",
       "      <th>3</th>\n",
       "      <td>Data Scientist</td>\n",
       "      <td>$137K-$171K (Glassdoor est.)</td>\n",
       "      <td>JOB DESCRIPTION:\\n\\nDo you have a passion for ...</td>\n",
       "      <td>3.5</td>\n",
       "      <td>INFICON\\n3.5</td>\n",
       "      <td>Newton, MA</td>\n",
       "      <td>Bad Ragaz, Switzerland</td>\n",
       "      <td>501 to 1000 employees</td>\n",
       "      <td>2000</td>\n",
       "      <td>Company - Public</td>\n",
       "      <td>Electrical &amp; Electronic Manufacturing</td>\n",
       "      <td>$100 to $500 million (USD)</td>\n",
       "    </tr>\n",
       "    <tr>\n",
       "      <th>4</th>\n",
       "      <td>Data Scientist</td>\n",
       "      <td>$137K-$171K (Glassdoor est.)</td>\n",
       "      <td>Data Scientist\\nAffinity Solutions / Marketing...</td>\n",
       "      <td>2.9</td>\n",
       "      <td>Affinity Solutions\\n2.9</td>\n",
       "      <td>New York, NY</td>\n",
       "      <td>New York, NY</td>\n",
       "      <td>51 to 200 employees</td>\n",
       "      <td>1998</td>\n",
       "      <td>Company - Private</td>\n",
       "      <td>Advertising &amp; Marketing</td>\n",
       "      <td>Unknown / Non-Applicable</td>\n",
       "    </tr>\n",
       "    <tr>\n",
       "      <th>...</th>\n",
       "      <td>...</td>\n",
       "      <td>...</td>\n",
       "      <td>...</td>\n",
       "      <td>...</td>\n",
       "      <td>...</td>\n",
       "      <td>...</td>\n",
       "      <td>...</td>\n",
       "      <td>...</td>\n",
       "      <td>...</td>\n",
       "      <td>...</td>\n",
       "      <td>...</td>\n",
       "      <td>...</td>\n",
       "    </tr>\n",
       "    <tr>\n",
       "      <th>667</th>\n",
       "      <td>Data Scientist</td>\n",
       "      <td>$105K-$167K (Glassdoor est.)</td>\n",
       "      <td>Summary\\n\\nWe’re looking for a data scientist ...</td>\n",
       "      <td>3.6</td>\n",
       "      <td>TRANZACT\\n3.6</td>\n",
       "      <td>Fort Lee, NJ</td>\n",
       "      <td>Fort Lee, NJ</td>\n",
       "      <td>1001 to 5000 employees</td>\n",
       "      <td>1989</td>\n",
       "      <td>Company - Private</td>\n",
       "      <td>Advertising &amp; Marketing</td>\n",
       "      <td>Unknown / Non-Applicable</td>\n",
       "    </tr>\n",
       "    <tr>\n",
       "      <th>668</th>\n",
       "      <td>Data Scientist</td>\n",
       "      <td>$105K-$167K (Glassdoor est.)</td>\n",
       "      <td>Job Description\\nBecome a thought leader withi...</td>\n",
       "      <td>-1.0</td>\n",
       "      <td>JKGT</td>\n",
       "      <td>San Francisco, CA</td>\n",
       "      <td>-1</td>\n",
       "      <td>-1</td>\n",
       "      <td>-1</td>\n",
       "      <td>-1</td>\n",
       "      <td>-1</td>\n",
       "      <td>-1</td>\n",
       "    </tr>\n",
       "    <tr>\n",
       "      <th>669</th>\n",
       "      <td>Data Scientist</td>\n",
       "      <td>$105K-$167K (Glassdoor est.)</td>\n",
       "      <td>Join a thriving company that is changing the w...</td>\n",
       "      <td>-1.0</td>\n",
       "      <td>AccessHope</td>\n",
       "      <td>Irwindale, CA</td>\n",
       "      <td>-1</td>\n",
       "      <td>-1</td>\n",
       "      <td>-1</td>\n",
       "      <td>-1</td>\n",
       "      <td>-1</td>\n",
       "      <td>-1</td>\n",
       "    </tr>\n",
       "    <tr>\n",
       "      <th>670</th>\n",
       "      <td>Data Scientist</td>\n",
       "      <td>$105K-$167K (Glassdoor est.)</td>\n",
       "      <td>100 Remote Opportunity As an AINLP Data Scient...</td>\n",
       "      <td>5.0</td>\n",
       "      <td>ChaTeck Incorporated\\n5.0</td>\n",
       "      <td>San Francisco, CA</td>\n",
       "      <td>Santa Clara, CA</td>\n",
       "      <td>1 to 50 employees</td>\n",
       "      <td>-1</td>\n",
       "      <td>Company - Private</td>\n",
       "      <td>Advertising &amp; Marketing</td>\n",
       "      <td>$1 to $5 million (USD)</td>\n",
       "    </tr>\n",
       "    <tr>\n",
       "      <th>671</th>\n",
       "      <td>Data Scientist</td>\n",
       "      <td>$105K-$167K (Glassdoor est.)</td>\n",
       "      <td>Description\\n\\nThe Data Scientist will be part...</td>\n",
       "      <td>2.7</td>\n",
       "      <td>1-800-Flowers\\n2.7</td>\n",
       "      <td>New York, NY</td>\n",
       "      <td>Carle Place, NY</td>\n",
       "      <td>1001 to 5000 employees</td>\n",
       "      <td>1976</td>\n",
       "      <td>Company - Public</td>\n",
       "      <td>Wholesale</td>\n",
       "      <td>$1 to $2 billion (USD)</td>\n",
       "    </tr>\n",
       "  </tbody>\n",
       "</table>\n",
       "<p>672 rows × 12 columns</p>\n",
       "</div>"
      ],
      "text/plain": [
       "               Job Title               Salary Estimate  \\\n",
       "index                                                    \n",
       "0      Sr Data Scientist  $137K-$171K (Glassdoor est.)   \n",
       "1         Data Scientist  $137K-$171K (Glassdoor est.)   \n",
       "2         Data Scientist  $137K-$171K (Glassdoor est.)   \n",
       "3         Data Scientist  $137K-$171K (Glassdoor est.)   \n",
       "4         Data Scientist  $137K-$171K (Glassdoor est.)   \n",
       "...                  ...                           ...   \n",
       "667       Data Scientist  $105K-$167K (Glassdoor est.)   \n",
       "668       Data Scientist  $105K-$167K (Glassdoor est.)   \n",
       "669       Data Scientist  $105K-$167K (Glassdoor est.)   \n",
       "670       Data Scientist  $105K-$167K (Glassdoor est.)   \n",
       "671       Data Scientist  $105K-$167K (Glassdoor est.)   \n",
       "\n",
       "                                         Job Description  Rating  \\\n",
       "index                                                              \n",
       "0      Description\\n\\nThe Senior Data Scientist is re...     3.1   \n",
       "1      Secure our Nation, Ignite your Future\\n\\nJoin ...     4.2   \n",
       "2      Overview\\n\\n\\nAnalysis Group is one of the lar...     3.8   \n",
       "3      JOB DESCRIPTION:\\n\\nDo you have a passion for ...     3.5   \n",
       "4      Data Scientist\\nAffinity Solutions / Marketing...     2.9   \n",
       "...                                                  ...     ...   \n",
       "667    Summary\\n\\nWe’re looking for a data scientist ...     3.6   \n",
       "668    Job Description\\nBecome a thought leader withi...    -1.0   \n",
       "669    Join a thriving company that is changing the w...    -1.0   \n",
       "670    100 Remote Opportunity As an AINLP Data Scient...     5.0   \n",
       "671    Description\\n\\nThe Data Scientist will be part...     2.7   \n",
       "\n",
       "                    Company Name           Location            Headquarters  \\\n",
       "index                                                                         \n",
       "0               Healthfirst\\n3.1       New York, NY            New York, NY   \n",
       "1                   ManTech\\n4.2      Chantilly, VA             Herndon, VA   \n",
       "2            Analysis Group\\n3.8         Boston, MA              Boston, MA   \n",
       "3                   INFICON\\n3.5         Newton, MA  Bad Ragaz, Switzerland   \n",
       "4        Affinity Solutions\\n2.9       New York, NY            New York, NY   \n",
       "...                          ...                ...                     ...   \n",
       "667                TRANZACT\\n3.6       Fort Lee, NJ            Fort Lee, NJ   \n",
       "668                         JKGT  San Francisco, CA                      -1   \n",
       "669                   AccessHope      Irwindale, CA                      -1   \n",
       "670    ChaTeck Incorporated\\n5.0  San Francisco, CA         Santa Clara, CA   \n",
       "671           1-800-Flowers\\n2.7       New York, NY         Carle Place, NY   \n",
       "\n",
       "                          Size  Founded        Type of ownership  \\\n",
       "index                                                              \n",
       "0       1001 to 5000 employees     1993   Nonprofit Organization   \n",
       "1      5001 to 10000 employees     1968         Company - Public   \n",
       "2       1001 to 5000 employees     1981  Private Practice / Firm   \n",
       "3        501 to 1000 employees     2000         Company - Public   \n",
       "4          51 to 200 employees     1998        Company - Private   \n",
       "...                        ...      ...                      ...   \n",
       "667     1001 to 5000 employees     1989        Company - Private   \n",
       "668                         -1       -1                       -1   \n",
       "669                         -1       -1                       -1   \n",
       "670          1 to 50 employees       -1        Company - Private   \n",
       "671     1001 to 5000 employees     1976         Company - Public   \n",
       "\n",
       "                                    Industry                     Revenue  \n",
       "index                                                                     \n",
       "0                         Insurance Carriers    Unknown / Non-Applicable  \n",
       "1                     Research & Development      $1 to $2 billion (USD)  \n",
       "2                                 Consulting  $100 to $500 million (USD)  \n",
       "3      Electrical & Electronic Manufacturing  $100 to $500 million (USD)  \n",
       "4                    Advertising & Marketing    Unknown / Non-Applicable  \n",
       "...                                      ...                         ...  \n",
       "667                  Advertising & Marketing    Unknown / Non-Applicable  \n",
       "668                                       -1                          -1  \n",
       "669                                       -1                          -1  \n",
       "670                  Advertising & Marketing      $1 to $5 million (USD)  \n",
       "671                                Wholesale      $1 to $2 billion (USD)  \n",
       "\n",
       "[672 rows x 12 columns]"
      ]
     },
     "execution_count": 9,
     "metadata": {},
     "output_type": "execute_result"
    }
   ],
   "source": [
    "# Drop Competitors and Sector column\n",
    "df = df.drop(columns=['Competitors', 'Sector'], axis=1)\n",
    "df"
   ]
  },
  {
   "cell_type": "code",
   "execution_count": 10,
   "id": "7be6ea47-325a-40eb-bdf1-f3d8ceaf46aa",
   "metadata": {},
   "outputs": [
    {
     "data": {
      "text/html": [
       "<div>\n",
       "<style scoped>\n",
       "    .dataframe tbody tr th:only-of-type {\n",
       "        vertical-align: middle;\n",
       "    }\n",
       "\n",
       "    .dataframe tbody tr th {\n",
       "        vertical-align: top;\n",
       "    }\n",
       "\n",
       "    .dataframe thead th {\n",
       "        text-align: right;\n",
       "    }\n",
       "</style>\n",
       "<table border=\"1\" class=\"dataframe\">\n",
       "  <thead>\n",
       "    <tr style=\"text-align: right;\">\n",
       "      <th></th>\n",
       "      <th>Job Title</th>\n",
       "      <th>Salary Estimate</th>\n",
       "      <th>Job Description</th>\n",
       "      <th>Rating</th>\n",
       "      <th>Company Name</th>\n",
       "      <th>Location</th>\n",
       "      <th>Headquarters</th>\n",
       "      <th>Size</th>\n",
       "      <th>Founded</th>\n",
       "      <th>Type of ownership</th>\n",
       "      <th>Industry</th>\n",
       "      <th>Revenue</th>\n",
       "    </tr>\n",
       "    <tr>\n",
       "      <th>index</th>\n",
       "      <th></th>\n",
       "      <th></th>\n",
       "      <th></th>\n",
       "      <th></th>\n",
       "      <th></th>\n",
       "      <th></th>\n",
       "      <th></th>\n",
       "      <th></th>\n",
       "      <th></th>\n",
       "      <th></th>\n",
       "      <th></th>\n",
       "      <th></th>\n",
       "    </tr>\n",
       "  </thead>\n",
       "  <tbody>\n",
       "    <tr>\n",
       "      <th>0</th>\n",
       "      <td>Sr Data Scientist</td>\n",
       "      <td>$137K-$171K (Glassdoor est.)</td>\n",
       "      <td>Description\\n\\nThe Senior Data Scientist is re...</td>\n",
       "      <td>3.1</td>\n",
       "      <td>Healthfirst\\n3.1</td>\n",
       "      <td>New York, NY</td>\n",
       "      <td>New York, NY</td>\n",
       "      <td>1001 to 5000 employees</td>\n",
       "      <td>1993</td>\n",
       "      <td>Nonprofit Organization</td>\n",
       "      <td>Insurance Carriers</td>\n",
       "      <td>Unknown / Non-Applicable</td>\n",
       "    </tr>\n",
       "    <tr>\n",
       "      <th>1</th>\n",
       "      <td>Data Scientist</td>\n",
       "      <td>$137K-$171K (Glassdoor est.)</td>\n",
       "      <td>Secure our Nation, Ignite your Future\\n\\nJoin ...</td>\n",
       "      <td>4.2</td>\n",
       "      <td>ManTech\\n4.2</td>\n",
       "      <td>Chantilly, VA</td>\n",
       "      <td>Herndon, VA</td>\n",
       "      <td>5001 to 10000 employees</td>\n",
       "      <td>1968</td>\n",
       "      <td>Company - Public</td>\n",
       "      <td>Research &amp; Development</td>\n",
       "      <td>$1 to $2 billion (USD)</td>\n",
       "    </tr>\n",
       "    <tr>\n",
       "      <th>2</th>\n",
       "      <td>Data Scientist</td>\n",
       "      <td>$137K-$171K (Glassdoor est.)</td>\n",
       "      <td>Overview\\n\\n\\nAnalysis Group is one of the lar...</td>\n",
       "      <td>3.8</td>\n",
       "      <td>Analysis Group\\n3.8</td>\n",
       "      <td>Boston, MA</td>\n",
       "      <td>Boston, MA</td>\n",
       "      <td>1001 to 5000 employees</td>\n",
       "      <td>1981</td>\n",
       "      <td>Private Practice / Firm</td>\n",
       "      <td>Consulting</td>\n",
       "      <td>$100 to $500 million (USD)</td>\n",
       "    </tr>\n",
       "    <tr>\n",
       "      <th>3</th>\n",
       "      <td>Data Scientist</td>\n",
       "      <td>$137K-$171K (Glassdoor est.)</td>\n",
       "      <td>JOB DESCRIPTION:\\n\\nDo you have a passion for ...</td>\n",
       "      <td>3.5</td>\n",
       "      <td>INFICON\\n3.5</td>\n",
       "      <td>Newton, MA</td>\n",
       "      <td>Bad Ragaz, Switzerland</td>\n",
       "      <td>501 to 1000 employees</td>\n",
       "      <td>2000</td>\n",
       "      <td>Company - Public</td>\n",
       "      <td>Electrical &amp; Electronic Manufacturing</td>\n",
       "      <td>$100 to $500 million (USD)</td>\n",
       "    </tr>\n",
       "    <tr>\n",
       "      <th>4</th>\n",
       "      <td>Data Scientist</td>\n",
       "      <td>$137K-$171K (Glassdoor est.)</td>\n",
       "      <td>Data Scientist\\nAffinity Solutions / Marketing...</td>\n",
       "      <td>2.9</td>\n",
       "      <td>Affinity Solutions\\n2.9</td>\n",
       "      <td>New York, NY</td>\n",
       "      <td>New York, NY</td>\n",
       "      <td>51 to 200 employees</td>\n",
       "      <td>1998</td>\n",
       "      <td>Company - Private</td>\n",
       "      <td>Advertising &amp; Marketing</td>\n",
       "      <td>Unknown / Non-Applicable</td>\n",
       "    </tr>\n",
       "  </tbody>\n",
       "</table>\n",
       "</div>"
      ],
      "text/plain": [
       "               Job Title               Salary Estimate  \\\n",
       "index                                                    \n",
       "0      Sr Data Scientist  $137K-$171K (Glassdoor est.)   \n",
       "1         Data Scientist  $137K-$171K (Glassdoor est.)   \n",
       "2         Data Scientist  $137K-$171K (Glassdoor est.)   \n",
       "3         Data Scientist  $137K-$171K (Glassdoor est.)   \n",
       "4         Data Scientist  $137K-$171K (Glassdoor est.)   \n",
       "\n",
       "                                         Job Description  Rating  \\\n",
       "index                                                              \n",
       "0      Description\\n\\nThe Senior Data Scientist is re...     3.1   \n",
       "1      Secure our Nation, Ignite your Future\\n\\nJoin ...     4.2   \n",
       "2      Overview\\n\\n\\nAnalysis Group is one of the lar...     3.8   \n",
       "3      JOB DESCRIPTION:\\n\\nDo you have a passion for ...     3.5   \n",
       "4      Data Scientist\\nAffinity Solutions / Marketing...     2.9   \n",
       "\n",
       "                  Company Name       Location            Headquarters  \\\n",
       "index                                                                   \n",
       "0             Healthfirst\\n3.1   New York, NY            New York, NY   \n",
       "1                 ManTech\\n4.2  Chantilly, VA             Herndon, VA   \n",
       "2          Analysis Group\\n3.8     Boston, MA              Boston, MA   \n",
       "3                 INFICON\\n3.5     Newton, MA  Bad Ragaz, Switzerland   \n",
       "4      Affinity Solutions\\n2.9   New York, NY            New York, NY   \n",
       "\n",
       "                          Size  Founded        Type of ownership  \\\n",
       "index                                                              \n",
       "0       1001 to 5000 employees     1993   Nonprofit Organization   \n",
       "1      5001 to 10000 employees     1968         Company - Public   \n",
       "2       1001 to 5000 employees     1981  Private Practice / Firm   \n",
       "3        501 to 1000 employees     2000         Company - Public   \n",
       "4          51 to 200 employees     1998        Company - Private   \n",
       "\n",
       "                                    Industry                     Revenue  \n",
       "index                                                                     \n",
       "0                         Insurance Carriers    Unknown / Non-Applicable  \n",
       "1                     Research & Development      $1 to $2 billion (USD)  \n",
       "2                                 Consulting  $100 to $500 million (USD)  \n",
       "3      Electrical & Electronic Manufacturing  $100 to $500 million (USD)  \n",
       "4                    Advertising & Marketing    Unknown / Non-Applicable  "
      ]
     },
     "execution_count": 10,
     "metadata": {},
     "output_type": "execute_result"
    }
   ],
   "source": [
    "# Drop potential duplicates\n",
    "df = df.drop_duplicates()\n",
    "df.head()"
   ]
  },
  {
   "cell_type": "markdown",
   "id": "bbba50ae-2dd1-42a2-8ab5-a4c5894817b4",
   "metadata": {},
   "source": [
    "### Scan Missing Values\n",
    "The presence of missing data can affect the quality and accuracy of the analysis. It can also significantly impact visualizations that may output misleading conclusions. "
   ]
  },
  {
   "cell_type": "code",
   "execution_count": 11,
   "id": "1a8cd0cc-84f3-499e-9828-e59f70f796ef",
   "metadata": {},
   "outputs": [
    {
     "data": {
      "text/plain": [
       "Job Title            0\n",
       "Salary Estimate      0\n",
       "Job Description      0\n",
       "Rating               0\n",
       "Company Name         0\n",
       "Location             0\n",
       "Headquarters         0\n",
       "Size                 0\n",
       "Founded              0\n",
       "Type of ownership    0\n",
       "Industry             0\n",
       "Revenue              0\n",
       "dtype: int64"
      ]
     },
     "execution_count": 11,
     "metadata": {},
     "output_type": "execute_result"
    }
   ],
   "source": [
    "# Check if there are NaN values\n",
    "pd.set_option('display.max.rows', None)\n",
    "df.isna().sum()"
   ]
  },
  {
   "cell_type": "code",
   "execution_count": 12,
   "id": "de1034d2-c864-4c79-aff8-6808c954719d",
   "metadata": {},
   "outputs": [
    {
     "data": {
      "text/html": [
       "<div>\n",
       "<style scoped>\n",
       "    .dataframe tbody tr th:only-of-type {\n",
       "        vertical-align: middle;\n",
       "    }\n",
       "\n",
       "    .dataframe tbody tr th {\n",
       "        vertical-align: top;\n",
       "    }\n",
       "\n",
       "    .dataframe thead th {\n",
       "        text-align: right;\n",
       "    }\n",
       "</style>\n",
       "<table border=\"1\" class=\"dataframe\">\n",
       "  <thead>\n",
       "    <tr style=\"text-align: right;\">\n",
       "      <th></th>\n",
       "      <th>Rating</th>\n",
       "      <th>Founded</th>\n",
       "    </tr>\n",
       "  </thead>\n",
       "  <tbody>\n",
       "    <tr>\n",
       "      <th>count</th>\n",
       "      <td>659.000000</td>\n",
       "      <td>659.000000</td>\n",
       "    </tr>\n",
       "    <tr>\n",
       "      <th>mean</th>\n",
       "      <td>3.592413</td>\n",
       "      <td>1661.701062</td>\n",
       "    </tr>\n",
       "    <tr>\n",
       "      <th>std</th>\n",
       "      <td>1.295563</td>\n",
       "      <td>733.544565</td>\n",
       "    </tr>\n",
       "    <tr>\n",
       "      <th>min</th>\n",
       "      <td>-1.000000</td>\n",
       "      <td>-1.000000</td>\n",
       "    </tr>\n",
       "    <tr>\n",
       "      <th>25%</th>\n",
       "      <td>3.400000</td>\n",
       "      <td>1932.500000</td>\n",
       "    </tr>\n",
       "    <tr>\n",
       "      <th>50%</th>\n",
       "      <td>3.800000</td>\n",
       "      <td>1995.000000</td>\n",
       "    </tr>\n",
       "    <tr>\n",
       "      <th>75%</th>\n",
       "      <td>4.300000</td>\n",
       "      <td>2009.000000</td>\n",
       "    </tr>\n",
       "    <tr>\n",
       "      <th>max</th>\n",
       "      <td>5.000000</td>\n",
       "      <td>2019.000000</td>\n",
       "    </tr>\n",
       "  </tbody>\n",
       "</table>\n",
       "</div>"
      ],
      "text/plain": [
       "           Rating      Founded\n",
       "count  659.000000   659.000000\n",
       "mean     3.592413  1661.701062\n",
       "std      1.295563   733.544565\n",
       "min     -1.000000    -1.000000\n",
       "25%      3.400000  1932.500000\n",
       "50%      3.800000  1995.000000\n",
       "75%      4.300000  2009.000000\n",
       "max      5.000000  2019.000000"
      ]
     },
     "execution_count": 12,
     "metadata": {},
     "output_type": "execute_result"
    }
   ],
   "source": [
    "# Get rough statistic information\n",
    "df.describe()"
   ]
  },
  {
   "cell_type": "markdown",
   "id": "2bd38c29-9a6d-46a2-be01-f8aae3822461",
   "metadata": {},
   "source": [
    "### Salary Estimate Cleanup\n",
    "This columns consists of extra characters like 'K', 'Glassdoor est.' and '$' which are not useful in our analysis. Therefore, we need to remove it to simplify the data processing."
   ]
  },
  {
   "cell_type": "code",
   "execution_count": 13,
   "id": "a0aaf7bb-33a8-40e0-9d5d-30f1293b4012",
   "metadata": {},
   "outputs": [
    {
     "data": {
      "text/html": [
       "<div>\n",
       "<style scoped>\n",
       "    .dataframe tbody tr th:only-of-type {\n",
       "        vertical-align: middle;\n",
       "    }\n",
       "\n",
       "    .dataframe tbody tr th {\n",
       "        vertical-align: top;\n",
       "    }\n",
       "\n",
       "    .dataframe thead th {\n",
       "        text-align: right;\n",
       "    }\n",
       "</style>\n",
       "<table border=\"1\" class=\"dataframe\">\n",
       "  <thead>\n",
       "    <tr style=\"text-align: right;\">\n",
       "      <th></th>\n",
       "      <th>Job Title</th>\n",
       "      <th>Salary Estimate</th>\n",
       "      <th>Job Description</th>\n",
       "      <th>Rating</th>\n",
       "      <th>Company Name</th>\n",
       "      <th>Location</th>\n",
       "      <th>Headquarters</th>\n",
       "      <th>Size</th>\n",
       "      <th>Founded</th>\n",
       "      <th>Type of ownership</th>\n",
       "      <th>Industry</th>\n",
       "      <th>Revenue</th>\n",
       "    </tr>\n",
       "    <tr>\n",
       "      <th>index</th>\n",
       "      <th></th>\n",
       "      <th></th>\n",
       "      <th></th>\n",
       "      <th></th>\n",
       "      <th></th>\n",
       "      <th></th>\n",
       "      <th></th>\n",
       "      <th></th>\n",
       "      <th></th>\n",
       "      <th></th>\n",
       "      <th></th>\n",
       "      <th></th>\n",
       "    </tr>\n",
       "  </thead>\n",
       "  <tbody>\n",
       "    <tr>\n",
       "      <th>0</th>\n",
       "      <td>Sr Data Scientist</td>\n",
       "      <td>137-171</td>\n",
       "      <td>Description\\n\\nThe Senior Data Scientist is re...</td>\n",
       "      <td>3.1</td>\n",
       "      <td>Healthfirst\\n3.1</td>\n",
       "      <td>New York, NY</td>\n",
       "      <td>New York, NY</td>\n",
       "      <td>1001 to 5000 employees</td>\n",
       "      <td>1993</td>\n",
       "      <td>Nonprofit Organization</td>\n",
       "      <td>Insurance Carriers</td>\n",
       "      <td>Unknown / Non-Applicable</td>\n",
       "    </tr>\n",
       "    <tr>\n",
       "      <th>1</th>\n",
       "      <td>Data Scientist</td>\n",
       "      <td>137-171</td>\n",
       "      <td>Secure our Nation, Ignite your Future\\n\\nJoin ...</td>\n",
       "      <td>4.2</td>\n",
       "      <td>ManTech\\n4.2</td>\n",
       "      <td>Chantilly, VA</td>\n",
       "      <td>Herndon, VA</td>\n",
       "      <td>5001 to 10000 employees</td>\n",
       "      <td>1968</td>\n",
       "      <td>Company - Public</td>\n",
       "      <td>Research &amp; Development</td>\n",
       "      <td>$1 to $2 billion (USD)</td>\n",
       "    </tr>\n",
       "    <tr>\n",
       "      <th>2</th>\n",
       "      <td>Data Scientist</td>\n",
       "      <td>137-171</td>\n",
       "      <td>Overview\\n\\n\\nAnalysis Group is one of the lar...</td>\n",
       "      <td>3.8</td>\n",
       "      <td>Analysis Group\\n3.8</td>\n",
       "      <td>Boston, MA</td>\n",
       "      <td>Boston, MA</td>\n",
       "      <td>1001 to 5000 employees</td>\n",
       "      <td>1981</td>\n",
       "      <td>Private Practice / Firm</td>\n",
       "      <td>Consulting</td>\n",
       "      <td>$100 to $500 million (USD)</td>\n",
       "    </tr>\n",
       "    <tr>\n",
       "      <th>3</th>\n",
       "      <td>Data Scientist</td>\n",
       "      <td>137-171</td>\n",
       "      <td>JOB DESCRIPTION:\\n\\nDo you have a passion for ...</td>\n",
       "      <td>3.5</td>\n",
       "      <td>INFICON\\n3.5</td>\n",
       "      <td>Newton, MA</td>\n",
       "      <td>Bad Ragaz, Switzerland</td>\n",
       "      <td>501 to 1000 employees</td>\n",
       "      <td>2000</td>\n",
       "      <td>Company - Public</td>\n",
       "      <td>Electrical &amp; Electronic Manufacturing</td>\n",
       "      <td>$100 to $500 million (USD)</td>\n",
       "    </tr>\n",
       "    <tr>\n",
       "      <th>4</th>\n",
       "      <td>Data Scientist</td>\n",
       "      <td>137-171</td>\n",
       "      <td>Data Scientist\\nAffinity Solutions / Marketing...</td>\n",
       "      <td>2.9</td>\n",
       "      <td>Affinity Solutions\\n2.9</td>\n",
       "      <td>New York, NY</td>\n",
       "      <td>New York, NY</td>\n",
       "      <td>51 to 200 employees</td>\n",
       "      <td>1998</td>\n",
       "      <td>Company - Private</td>\n",
       "      <td>Advertising &amp; Marketing</td>\n",
       "      <td>Unknown / Non-Applicable</td>\n",
       "    </tr>\n",
       "  </tbody>\n",
       "</table>\n",
       "</div>"
      ],
      "text/plain": [
       "               Job Title Salary Estimate  \\\n",
       "index                                      \n",
       "0      Sr Data Scientist        137-171    \n",
       "1         Data Scientist        137-171    \n",
       "2         Data Scientist        137-171    \n",
       "3         Data Scientist        137-171    \n",
       "4         Data Scientist        137-171    \n",
       "\n",
       "                                         Job Description  Rating  \\\n",
       "index                                                              \n",
       "0      Description\\n\\nThe Senior Data Scientist is re...     3.1   \n",
       "1      Secure our Nation, Ignite your Future\\n\\nJoin ...     4.2   \n",
       "2      Overview\\n\\n\\nAnalysis Group is one of the lar...     3.8   \n",
       "3      JOB DESCRIPTION:\\n\\nDo you have a passion for ...     3.5   \n",
       "4      Data Scientist\\nAffinity Solutions / Marketing...     2.9   \n",
       "\n",
       "                  Company Name       Location            Headquarters  \\\n",
       "index                                                                   \n",
       "0             Healthfirst\\n3.1   New York, NY            New York, NY   \n",
       "1                 ManTech\\n4.2  Chantilly, VA             Herndon, VA   \n",
       "2          Analysis Group\\n3.8     Boston, MA              Boston, MA   \n",
       "3                 INFICON\\n3.5     Newton, MA  Bad Ragaz, Switzerland   \n",
       "4      Affinity Solutions\\n2.9   New York, NY            New York, NY   \n",
       "\n",
       "                          Size  Founded        Type of ownership  \\\n",
       "index                                                              \n",
       "0       1001 to 5000 employees     1993   Nonprofit Organization   \n",
       "1      5001 to 10000 employees     1968         Company - Public   \n",
       "2       1001 to 5000 employees     1981  Private Practice / Firm   \n",
       "3        501 to 1000 employees     2000         Company - Public   \n",
       "4          51 to 200 employees     1998        Company - Private   \n",
       "\n",
       "                                    Industry                     Revenue  \n",
       "index                                                                     \n",
       "0                         Insurance Carriers    Unknown / Non-Applicable  \n",
       "1                     Research & Development      $1 to $2 billion (USD)  \n",
       "2                                 Consulting  $100 to $500 million (USD)  \n",
       "3      Electrical & Electronic Manufacturing  $100 to $500 million (USD)  \n",
       "4                    Advertising & Marketing    Unknown / Non-Applicable  "
      ]
     },
     "execution_count": 13,
     "metadata": {},
     "output_type": "execute_result"
    }
   ],
   "source": [
    "rep = {'K': '', '(Glassdoor est.) ': '', '-': '-', r'\\$': ''}\n",
    "df.loc[:, 'Salary Estimate'] = df['Salary Estimate'].replace(rep, regex=True).apply(lambda x: x.split('(')[0])\n",
    "df.head()"
   ]
  },
  {
   "cell_type": "markdown",
   "id": "ab28083a-4a9a-4345-9753-513ba458ddc8",
   "metadata": {},
   "source": [
    "### Replacing extra colons in the Job Description Field\n",
    "What we do to make this column look cleaner:\n",
    "\n",
    "1. **Replacing New Line Characters**: We replace sequences of newline characters ('\\n+) with a single colon followed by a space (': '). This helps in standardizing the break points in text.\n",
    "2. **Removing Excessive Colons**: Some descriptions contain multiple consecutive colons. Reducing these to a single colon enhances the visual cleanliness and readability of the text, making it seamless for stakeholders to review the data."
   ]
  },
  {
   "cell_type": "code",
   "execution_count": 14,
   "id": "71972823-6e4a-4981-a218-16c060174a08",
   "metadata": {},
   "outputs": [
    {
     "data": {
      "text/html": [
       "<div>\n",
       "<style scoped>\n",
       "    .dataframe tbody tr th:only-of-type {\n",
       "        vertical-align: middle;\n",
       "    }\n",
       "\n",
       "    .dataframe tbody tr th {\n",
       "        vertical-align: top;\n",
       "    }\n",
       "\n",
       "    .dataframe thead th {\n",
       "        text-align: right;\n",
       "    }\n",
       "</style>\n",
       "<table border=\"1\" class=\"dataframe\">\n",
       "  <thead>\n",
       "    <tr style=\"text-align: right;\">\n",
       "      <th></th>\n",
       "      <th>Job Title</th>\n",
       "      <th>Salary Estimate</th>\n",
       "      <th>Job Description</th>\n",
       "      <th>Rating</th>\n",
       "      <th>Company Name</th>\n",
       "      <th>Location</th>\n",
       "      <th>Headquarters</th>\n",
       "      <th>Size</th>\n",
       "      <th>Founded</th>\n",
       "      <th>Type of ownership</th>\n",
       "      <th>Industry</th>\n",
       "      <th>Revenue</th>\n",
       "    </tr>\n",
       "    <tr>\n",
       "      <th>index</th>\n",
       "      <th></th>\n",
       "      <th></th>\n",
       "      <th></th>\n",
       "      <th></th>\n",
       "      <th></th>\n",
       "      <th></th>\n",
       "      <th></th>\n",
       "      <th></th>\n",
       "      <th></th>\n",
       "      <th></th>\n",
       "      <th></th>\n",
       "      <th></th>\n",
       "    </tr>\n",
       "  </thead>\n",
       "  <tbody>\n",
       "    <tr>\n",
       "      <th>0</th>\n",
       "      <td>Sr Data Scientist</td>\n",
       "      <td>137-171</td>\n",
       "      <td>Description: The Senior Data Scientist is resp...</td>\n",
       "      <td>3.1</td>\n",
       "      <td>Healthfirst\\n3.1</td>\n",
       "      <td>New York, NY</td>\n",
       "      <td>New York, NY</td>\n",
       "      <td>1001 to 5000 employees</td>\n",
       "      <td>1993</td>\n",
       "      <td>Nonprofit Organization</td>\n",
       "      <td>Insurance Carriers</td>\n",
       "      <td>Unknown / Non-Applicable</td>\n",
       "    </tr>\n",
       "    <tr>\n",
       "      <th>1</th>\n",
       "      <td>Data Scientist</td>\n",
       "      <td>137-171</td>\n",
       "      <td>Secure our Nation, Ignite your Future: Join th...</td>\n",
       "      <td>4.2</td>\n",
       "      <td>ManTech\\n4.2</td>\n",
       "      <td>Chantilly, VA</td>\n",
       "      <td>Herndon, VA</td>\n",
       "      <td>5001 to 10000 employees</td>\n",
       "      <td>1968</td>\n",
       "      <td>Company - Public</td>\n",
       "      <td>Research &amp; Development</td>\n",
       "      <td>$1 to $2 billion (USD)</td>\n",
       "    </tr>\n",
       "    <tr>\n",
       "      <th>2</th>\n",
       "      <td>Data Scientist</td>\n",
       "      <td>137-171</td>\n",
       "      <td>Overview: Analysis Group is one of the largest...</td>\n",
       "      <td>3.8</td>\n",
       "      <td>Analysis Group\\n3.8</td>\n",
       "      <td>Boston, MA</td>\n",
       "      <td>Boston, MA</td>\n",
       "      <td>1001 to 5000 employees</td>\n",
       "      <td>1981</td>\n",
       "      <td>Private Practice / Firm</td>\n",
       "      <td>Consulting</td>\n",
       "      <td>$100 to $500 million (USD)</td>\n",
       "    </tr>\n",
       "    <tr>\n",
       "      <th>3</th>\n",
       "      <td>Data Scientist</td>\n",
       "      <td>137-171</td>\n",
       "      <td>JOB DESCRIPTION:  Do you have a passion for Da...</td>\n",
       "      <td>3.5</td>\n",
       "      <td>INFICON\\n3.5</td>\n",
       "      <td>Newton, MA</td>\n",
       "      <td>Bad Ragaz, Switzerland</td>\n",
       "      <td>501 to 1000 employees</td>\n",
       "      <td>2000</td>\n",
       "      <td>Company - Public</td>\n",
       "      <td>Electrical &amp; Electronic Manufacturing</td>\n",
       "      <td>$100 to $500 million (USD)</td>\n",
       "    </tr>\n",
       "    <tr>\n",
       "      <th>4</th>\n",
       "      <td>Data Scientist</td>\n",
       "      <td>137-171</td>\n",
       "      <td>Data Scientist: Affinity Solutions / Marketing...</td>\n",
       "      <td>2.9</td>\n",
       "      <td>Affinity Solutions\\n2.9</td>\n",
       "      <td>New York, NY</td>\n",
       "      <td>New York, NY</td>\n",
       "      <td>51 to 200 employees</td>\n",
       "      <td>1998</td>\n",
       "      <td>Company - Private</td>\n",
       "      <td>Advertising &amp; Marketing</td>\n",
       "      <td>Unknown / Non-Applicable</td>\n",
       "    </tr>\n",
       "  </tbody>\n",
       "</table>\n",
       "</div>"
      ],
      "text/plain": [
       "               Job Title Salary Estimate  \\\n",
       "index                                      \n",
       "0      Sr Data Scientist        137-171    \n",
       "1         Data Scientist        137-171    \n",
       "2         Data Scientist        137-171    \n",
       "3         Data Scientist        137-171    \n",
       "4         Data Scientist        137-171    \n",
       "\n",
       "                                         Job Description  Rating  \\\n",
       "index                                                              \n",
       "0      Description: The Senior Data Scientist is resp...     3.1   \n",
       "1      Secure our Nation, Ignite your Future: Join th...     4.2   \n",
       "2      Overview: Analysis Group is one of the largest...     3.8   \n",
       "3      JOB DESCRIPTION:  Do you have a passion for Da...     3.5   \n",
       "4      Data Scientist: Affinity Solutions / Marketing...     2.9   \n",
       "\n",
       "                  Company Name       Location            Headquarters  \\\n",
       "index                                                                   \n",
       "0             Healthfirst\\n3.1   New York, NY            New York, NY   \n",
       "1                 ManTech\\n4.2  Chantilly, VA             Herndon, VA   \n",
       "2          Analysis Group\\n3.8     Boston, MA              Boston, MA   \n",
       "3                 INFICON\\n3.5     Newton, MA  Bad Ragaz, Switzerland   \n",
       "4      Affinity Solutions\\n2.9   New York, NY            New York, NY   \n",
       "\n",
       "                          Size  Founded        Type of ownership  \\\n",
       "index                                                              \n",
       "0       1001 to 5000 employees     1993   Nonprofit Organization   \n",
       "1      5001 to 10000 employees     1968         Company - Public   \n",
       "2       1001 to 5000 employees     1981  Private Practice / Firm   \n",
       "3        501 to 1000 employees     2000         Company - Public   \n",
       "4          51 to 200 employees     1998        Company - Private   \n",
       "\n",
       "                                    Industry                     Revenue  \n",
       "index                                                                     \n",
       "0                         Insurance Carriers    Unknown / Non-Applicable  \n",
       "1                     Research & Development      $1 to $2 billion (USD)  \n",
       "2                                 Consulting  $100 to $500 million (USD)  \n",
       "3      Electrical & Electronic Manufacturing  $100 to $500 million (USD)  \n",
       "4                    Advertising & Marketing    Unknown / Non-Applicable  "
      ]
     },
     "execution_count": 14,
     "metadata": {},
     "output_type": "execute_result"
    }
   ],
   "source": [
    "# Replace values \n",
    "df.loc[:, 'Job Description'] = (df['Job Description'].str.replace('\\n+', ': ', regex=True)\n",
    "                                .str.replace('::+', ': ', regex=True)\n",
    "                                .str.replace('â', ' ')\n",
    "                                .str.replace('€', ' ')\n",
    "                               )\n",
    "df.head()"
   ]
  },
  {
   "cell_type": "code",
   "execution_count": 15,
   "id": "af7941e2-f0b8-4048-8f52-aefa9543bd7a",
   "metadata": {},
   "outputs": [
    {
     "data": {
      "text/html": [
       "<div>\n",
       "<style scoped>\n",
       "    .dataframe tbody tr th:only-of-type {\n",
       "        vertical-align: middle;\n",
       "    }\n",
       "\n",
       "    .dataframe tbody tr th {\n",
       "        vertical-align: top;\n",
       "    }\n",
       "\n",
       "    .dataframe thead th {\n",
       "        text-align: right;\n",
       "    }\n",
       "</style>\n",
       "<table border=\"1\" class=\"dataframe\">\n",
       "  <thead>\n",
       "    <tr style=\"text-align: right;\">\n",
       "      <th></th>\n",
       "      <th>Job Title</th>\n",
       "      <th>Salary Estimate</th>\n",
       "      <th>Job Description</th>\n",
       "      <th>Rating</th>\n",
       "      <th>Company Name</th>\n",
       "      <th>Location</th>\n",
       "      <th>Headquarters</th>\n",
       "      <th>Size</th>\n",
       "      <th>Founded</th>\n",
       "      <th>Type of ownership</th>\n",
       "      <th>Industry</th>\n",
       "      <th>Revenue</th>\n",
       "    </tr>\n",
       "    <tr>\n",
       "      <th>index</th>\n",
       "      <th></th>\n",
       "      <th></th>\n",
       "      <th></th>\n",
       "      <th></th>\n",
       "      <th></th>\n",
       "      <th></th>\n",
       "      <th></th>\n",
       "      <th></th>\n",
       "      <th></th>\n",
       "      <th></th>\n",
       "      <th></th>\n",
       "      <th></th>\n",
       "    </tr>\n",
       "  </thead>\n",
       "  <tbody>\n",
       "    <tr>\n",
       "      <th>154</th>\n",
       "      <td>ELISA RESEARCH SCIENTIST (CV-15)</td>\n",
       "      <td>90-109</td>\n",
       "      <td>Covaxx, a subsidiary of the UBI Group, has joi...</td>\n",
       "      <td>-1.0</td>\n",
       "      <td>Covid-19 Search Partners</td>\n",
       "      <td>Hauppauge, NY</td>\n",
       "      <td>-1</td>\n",
       "      <td>-1</td>\n",
       "      <td>-1</td>\n",
       "      <td>-1</td>\n",
       "      <td>-1</td>\n",
       "      <td>-1</td>\n",
       "    </tr>\n",
       "    <tr>\n",
       "      <th>158</th>\n",
       "      <td>Machine Learning Engineer</td>\n",
       "      <td>101-165</td>\n",
       "      <td>Overview: Radical Convergence is a fast-paced ...</td>\n",
       "      <td>-1.0</td>\n",
       "      <td>Radical Convergence</td>\n",
       "      <td>Reston, VA</td>\n",
       "      <td>-1</td>\n",
       "      <td>-1</td>\n",
       "      <td>-1</td>\n",
       "      <td>-1</td>\n",
       "      <td>-1</td>\n",
       "      <td>-1</td>\n",
       "    </tr>\n",
       "    <tr>\n",
       "      <th>230</th>\n",
       "      <td>Data Scientist</td>\n",
       "      <td>71-123</td>\n",
       "      <td>Senior Data Scientist Active Secret clearance ...</td>\n",
       "      <td>-1.0</td>\n",
       "      <td>Encode, Inc.</td>\n",
       "      <td>Norfolk, VA</td>\n",
       "      <td>Manalapan, NJ</td>\n",
       "      <td>1 to 50 employees</td>\n",
       "      <td>-1</td>\n",
       "      <td>Company - Private</td>\n",
       "      <td>IT Services</td>\n",
       "      <td>$5 to $10 million (USD)</td>\n",
       "    </tr>\n",
       "    <tr>\n",
       "      <th>282</th>\n",
       "      <td>Data Scientist</td>\n",
       "      <td>91-150</td>\n",
       "      <td>Greetings from Trovetechs!!!: Â: We have an im...</td>\n",
       "      <td>-1.0</td>\n",
       "      <td>Trovetechs Inc</td>\n",
       "      <td>San Francisco, CA</td>\n",
       "      <td>Hillsborough, NJ</td>\n",
       "      <td>Unknown</td>\n",
       "      <td>-1</td>\n",
       "      <td>Company - Private</td>\n",
       "      <td>-1</td>\n",
       "      <td>Unknown / Non-Applicable</td>\n",
       "    </tr>\n",
       "    <tr>\n",
       "      <th>285</th>\n",
       "      <td>Data Scientist</td>\n",
       "      <td>141-225</td>\n",
       "      <td>Greetings from Trovetechs!!!: Â: We have an im...</td>\n",
       "      <td>-1.0</td>\n",
       "      <td>Trovetechs Inc</td>\n",
       "      <td>San Francisco, CA</td>\n",
       "      <td>Hillsborough, NJ</td>\n",
       "      <td>Unknown</td>\n",
       "      <td>-1</td>\n",
       "      <td>Company - Private</td>\n",
       "      <td>-1</td>\n",
       "      <td>Unknown / Non-Applicable</td>\n",
       "    </tr>\n",
       "  </tbody>\n",
       "</table>\n",
       "</div>"
      ],
      "text/plain": [
       "                              Job Title Salary Estimate  \\\n",
       "index                                                     \n",
       "154    ELISA RESEARCH SCIENTIST (CV-15)         90-109    \n",
       "158           Machine Learning Engineer        101-165    \n",
       "230                      Data Scientist         71-123    \n",
       "282                      Data Scientist         91-150    \n",
       "285                      Data Scientist        141-225    \n",
       "\n",
       "                                         Job Description  Rating  \\\n",
       "index                                                              \n",
       "154    Covaxx, a subsidiary of the UBI Group, has joi...    -1.0   \n",
       "158    Overview: Radical Convergence is a fast-paced ...    -1.0   \n",
       "230    Senior Data Scientist Active Secret clearance ...    -1.0   \n",
       "282    Greetings from Trovetechs!!!: Â: We have an im...    -1.0   \n",
       "285    Greetings from Trovetechs!!!: Â: We have an im...    -1.0   \n",
       "\n",
       "                   Company Name           Location      Headquarters  \\\n",
       "index                                                                  \n",
       "154    Covid-19 Search Partners      Hauppauge, NY                -1   \n",
       "158         Radical Convergence         Reston, VA                -1   \n",
       "230                Encode, Inc.        Norfolk, VA     Manalapan, NJ   \n",
       "282              Trovetechs Inc  San Francisco, CA  Hillsborough, NJ   \n",
       "285              Trovetechs Inc  San Francisco, CA  Hillsborough, NJ   \n",
       "\n",
       "                    Size  Founded  Type of ownership     Industry  \\\n",
       "index                                                               \n",
       "154                   -1       -1                 -1           -1   \n",
       "158                   -1       -1                 -1           -1   \n",
       "230    1 to 50 employees       -1  Company - Private  IT Services   \n",
       "282              Unknown       -1  Company - Private           -1   \n",
       "285              Unknown       -1  Company - Private           -1   \n",
       "\n",
       "                        Revenue  \n",
       "index                            \n",
       "154                          -1  \n",
       "158                          -1  \n",
       "230     $5 to $10 million (USD)  \n",
       "282    Unknown / Non-Applicable  \n",
       "285    Unknown / Non-Applicable  "
      ]
     },
     "execution_count": 15,
     "metadata": {},
     "output_type": "execute_result"
    }
   ],
   "source": [
    "# Get Rating values of -1\n",
    "df.query('Rating == -1').head()"
   ]
  },
  {
   "cell_type": "code",
   "execution_count": 16,
   "id": "729f48a8-1d39-478b-a9f0-2c9f2abdf4f5",
   "metadata": {},
   "outputs": [
    {
     "data": {
      "text/html": [
       "<div>\n",
       "<style scoped>\n",
       "    .dataframe tbody tr th:only-of-type {\n",
       "        vertical-align: middle;\n",
       "    }\n",
       "\n",
       "    .dataframe tbody tr th {\n",
       "        vertical-align: top;\n",
       "    }\n",
       "\n",
       "    .dataframe thead th {\n",
       "        text-align: right;\n",
       "    }\n",
       "</style>\n",
       "<table border=\"1\" class=\"dataframe\">\n",
       "  <thead>\n",
       "    <tr style=\"text-align: right;\">\n",
       "      <th></th>\n",
       "      <th>Job Title</th>\n",
       "      <th>Salary Estimate</th>\n",
       "      <th>Job Description</th>\n",
       "      <th>Rating</th>\n",
       "      <th>Company Name</th>\n",
       "      <th>Location</th>\n",
       "      <th>Headquarters</th>\n",
       "      <th>Size</th>\n",
       "      <th>Founded</th>\n",
       "      <th>Type of ownership</th>\n",
       "      <th>Industry</th>\n",
       "      <th>Revenue</th>\n",
       "    </tr>\n",
       "    <tr>\n",
       "      <th>index</th>\n",
       "      <th></th>\n",
       "      <th></th>\n",
       "      <th></th>\n",
       "      <th></th>\n",
       "      <th></th>\n",
       "      <th></th>\n",
       "      <th></th>\n",
       "      <th></th>\n",
       "      <th></th>\n",
       "      <th></th>\n",
       "      <th></th>\n",
       "      <th></th>\n",
       "    </tr>\n",
       "  </thead>\n",
       "  <tbody>\n",
       "    <tr>\n",
       "      <th>154</th>\n",
       "      <td>ELISA RESEARCH SCIENTIST (CV-15)</td>\n",
       "      <td>90-109</td>\n",
       "      <td>Covaxx, a subsidiary of the UBI Group, has joi...</td>\n",
       "      <td>0.0</td>\n",
       "      <td>Covid-19 Search Partners</td>\n",
       "      <td>Hauppauge, NY</td>\n",
       "      <td>-1</td>\n",
       "      <td>-1</td>\n",
       "      <td>-1</td>\n",
       "      <td>-1</td>\n",
       "      <td>-1</td>\n",
       "      <td>-1</td>\n",
       "    </tr>\n",
       "    <tr>\n",
       "      <th>158</th>\n",
       "      <td>Machine Learning Engineer</td>\n",
       "      <td>101-165</td>\n",
       "      <td>Overview: Radical Convergence is a fast-paced ...</td>\n",
       "      <td>0.0</td>\n",
       "      <td>Radical Convergence</td>\n",
       "      <td>Reston, VA</td>\n",
       "      <td>-1</td>\n",
       "      <td>-1</td>\n",
       "      <td>-1</td>\n",
       "      <td>-1</td>\n",
       "      <td>-1</td>\n",
       "      <td>-1</td>\n",
       "    </tr>\n",
       "    <tr>\n",
       "      <th>230</th>\n",
       "      <td>Data Scientist</td>\n",
       "      <td>71-123</td>\n",
       "      <td>Senior Data Scientist Active Secret clearance ...</td>\n",
       "      <td>0.0</td>\n",
       "      <td>Encode, Inc.</td>\n",
       "      <td>Norfolk, VA</td>\n",
       "      <td>Manalapan, NJ</td>\n",
       "      <td>1 to 50 employees</td>\n",
       "      <td>-1</td>\n",
       "      <td>Company - Private</td>\n",
       "      <td>IT Services</td>\n",
       "      <td>$5 to $10 million (USD)</td>\n",
       "    </tr>\n",
       "    <tr>\n",
       "      <th>282</th>\n",
       "      <td>Data Scientist</td>\n",
       "      <td>91-150</td>\n",
       "      <td>Greetings from Trovetechs!!!: Â: We have an im...</td>\n",
       "      <td>0.0</td>\n",
       "      <td>Trovetechs Inc</td>\n",
       "      <td>San Francisco, CA</td>\n",
       "      <td>Hillsborough, NJ</td>\n",
       "      <td>Unknown</td>\n",
       "      <td>-1</td>\n",
       "      <td>Company - Private</td>\n",
       "      <td>-1</td>\n",
       "      <td>Unknown / Non-Applicable</td>\n",
       "    </tr>\n",
       "    <tr>\n",
       "      <th>285</th>\n",
       "      <td>Data Scientist</td>\n",
       "      <td>141-225</td>\n",
       "      <td>Greetings from Trovetechs!!!: Â: We have an im...</td>\n",
       "      <td>0.0</td>\n",
       "      <td>Trovetechs Inc</td>\n",
       "      <td>San Francisco, CA</td>\n",
       "      <td>Hillsborough, NJ</td>\n",
       "      <td>Unknown</td>\n",
       "      <td>-1</td>\n",
       "      <td>Company - Private</td>\n",
       "      <td>-1</td>\n",
       "      <td>Unknown / Non-Applicable</td>\n",
       "    </tr>\n",
       "  </tbody>\n",
       "</table>\n",
       "</div>"
      ],
      "text/plain": [
       "                              Job Title Salary Estimate  \\\n",
       "index                                                     \n",
       "154    ELISA RESEARCH SCIENTIST (CV-15)         90-109    \n",
       "158           Machine Learning Engineer        101-165    \n",
       "230                      Data Scientist         71-123    \n",
       "282                      Data Scientist         91-150    \n",
       "285                      Data Scientist        141-225    \n",
       "\n",
       "                                         Job Description  Rating  \\\n",
       "index                                                              \n",
       "154    Covaxx, a subsidiary of the UBI Group, has joi...     0.0   \n",
       "158    Overview: Radical Convergence is a fast-paced ...     0.0   \n",
       "230    Senior Data Scientist Active Secret clearance ...     0.0   \n",
       "282    Greetings from Trovetechs!!!: Â: We have an im...     0.0   \n",
       "285    Greetings from Trovetechs!!!: Â: We have an im...     0.0   \n",
       "\n",
       "                   Company Name           Location      Headquarters  \\\n",
       "index                                                                  \n",
       "154    Covid-19 Search Partners      Hauppauge, NY                -1   \n",
       "158         Radical Convergence         Reston, VA                -1   \n",
       "230                Encode, Inc.        Norfolk, VA     Manalapan, NJ   \n",
       "282              Trovetechs Inc  San Francisco, CA  Hillsborough, NJ   \n",
       "285              Trovetechs Inc  San Francisco, CA  Hillsborough, NJ   \n",
       "\n",
       "                    Size  Founded  Type of ownership     Industry  \\\n",
       "index                                                               \n",
       "154                   -1       -1                 -1           -1   \n",
       "158                   -1       -1                 -1           -1   \n",
       "230    1 to 50 employees       -1  Company - Private  IT Services   \n",
       "282              Unknown       -1  Company - Private           -1   \n",
       "285              Unknown       -1  Company - Private           -1   \n",
       "\n",
       "                        Revenue  \n",
       "index                            \n",
       "154                          -1  \n",
       "158                          -1  \n",
       "230     $5 to $10 million (USD)  \n",
       "282    Unknown / Non-Applicable  \n",
       "285    Unknown / Non-Applicable  "
      ]
     },
     "execution_count": 16,
     "metadata": {},
     "output_type": "execute_result"
    }
   ],
   "source": [
    "# Replace -1.0 values with 0.0\n",
    "df.loc[:, 'Rating'] = np.where(df['Rating'] == -1.0, 0.0, df['Rating'])\n",
    "df.query('Rating == 0.0').head()"
   ]
  },
  {
   "cell_type": "code",
   "execution_count": 17,
   "id": "8ee063e9-917b-4d7c-8a18-290efcfd992f",
   "metadata": {},
   "outputs": [
    {
     "data": {
      "text/plain": [
       "count    659.000000\n",
       "mean       3.651593\n",
       "std        1.090806\n",
       "min        0.000000\n",
       "25%        3.400000\n",
       "50%        3.800000\n",
       "75%        4.300000\n",
       "max        5.000000\n",
       "Name: Rating, dtype: float64"
      ]
     },
     "execution_count": 17,
     "metadata": {},
     "output_type": "execute_result"
    }
   ],
   "source": [
    "# Check Ratings info is accurate\n",
    "df['Rating'].describe()"
   ]
  },
  {
   "cell_type": "code",
   "execution_count": 18,
   "id": "bf528592-fad4-4266-ae72-88f69190e1a7",
   "metadata": {},
   "outputs": [
    {
     "data": {
      "text/plain": [
       "<Axes: xlabel='Rating', ylabel='Probability'>"
      ]
     },
     "execution_count": 18,
     "metadata": {},
     "output_type": "execute_result"
    },
    {
     "data": {
      "image/png": "[encoded data removed]",
      "text/plain": [
       "<Figure size 640x480 with 1 Axes>"
      ]
     },
     "metadata": {},
     "output_type": "display_data"
    }
   ],
   "source": [
    "#df['Rating'].plot.hist(bins = 20, color='skyblue', figsize=(5,5))\n",
    "#plt.xlabel('Rating')\n",
    "sns.histplot(df['Rating'], stat='probability')"
   ]
  },
  {
   "cell_type": "code",
   "execution_count": 19,
   "id": "ff27ca30-ad93-4d88-8791-e0d34af1e23f",
   "metadata": {},
   "outputs": [
    {
     "data": {
      "text/html": [
       "<div>\n",
       "<style scoped>\n",
       "    .dataframe tbody tr th:only-of-type {\n",
       "        vertical-align: middle;\n",
       "    }\n",
       "\n",
       "    .dataframe tbody tr th {\n",
       "        vertical-align: top;\n",
       "    }\n",
       "\n",
       "    .dataframe thead th {\n",
       "        text-align: right;\n",
       "    }\n",
       "</style>\n",
       "<table border=\"1\" class=\"dataframe\">\n",
       "  <thead>\n",
       "    <tr style=\"text-align: right;\">\n",
       "      <th></th>\n",
       "      <th>Job_Title</th>\n",
       "      <th>Salary_Estimate</th>\n",
       "      <th>Job_Description</th>\n",
       "      <th>Rating</th>\n",
       "      <th>Company_Name</th>\n",
       "      <th>Location</th>\n",
       "      <th>Headquarters</th>\n",
       "      <th>Size</th>\n",
       "      <th>Founded</th>\n",
       "      <th>Ownership_Type</th>\n",
       "      <th>Industry</th>\n",
       "      <th>Revenue</th>\n",
       "    </tr>\n",
       "    <tr>\n",
       "      <th>index</th>\n",
       "      <th></th>\n",
       "      <th></th>\n",
       "      <th></th>\n",
       "      <th></th>\n",
       "      <th></th>\n",
       "      <th></th>\n",
       "      <th></th>\n",
       "      <th></th>\n",
       "      <th></th>\n",
       "      <th></th>\n",
       "      <th></th>\n",
       "      <th></th>\n",
       "    </tr>\n",
       "  </thead>\n",
       "  <tbody>\n",
       "    <tr>\n",
       "      <th>0</th>\n",
       "      <td>Sr Data Scientist</td>\n",
       "      <td>137-171</td>\n",
       "      <td>Description: The Senior Data Scientist is resp...</td>\n",
       "      <td>3.1</td>\n",
       "      <td>Healthfirst\\n3.1</td>\n",
       "      <td>New York, NY</td>\n",
       "      <td>New York, NY</td>\n",
       "      <td>1001 to 5000 employees</td>\n",
       "      <td>1993</td>\n",
       "      <td>Nonprofit Organization</td>\n",
       "      <td>Insurance Carriers</td>\n",
       "      <td>Unknown / Non-Applicable</td>\n",
       "    </tr>\n",
       "    <tr>\n",
       "      <th>1</th>\n",
       "      <td>Data Scientist</td>\n",
       "      <td>137-171</td>\n",
       "      <td>Secure our Nation, Ignite your Future: Join th...</td>\n",
       "      <td>4.2</td>\n",
       "      <td>ManTech\\n4.2</td>\n",
       "      <td>Chantilly, VA</td>\n",
       "      <td>Herndon, VA</td>\n",
       "      <td>5001 to 10000 employees</td>\n",
       "      <td>1968</td>\n",
       "      <td>Company - Public</td>\n",
       "      <td>Research &amp; Development</td>\n",
       "      <td>$1 to $2 billion (USD)</td>\n",
       "    </tr>\n",
       "    <tr>\n",
       "      <th>2</th>\n",
       "      <td>Data Scientist</td>\n",
       "      <td>137-171</td>\n",
       "      <td>Overview: Analysis Group is one of the largest...</td>\n",
       "      <td>3.8</td>\n",
       "      <td>Analysis Group\\n3.8</td>\n",
       "      <td>Boston, MA</td>\n",
       "      <td>Boston, MA</td>\n",
       "      <td>1001 to 5000 employees</td>\n",
       "      <td>1981</td>\n",
       "      <td>Private Practice / Firm</td>\n",
       "      <td>Consulting</td>\n",
       "      <td>$100 to $500 million (USD)</td>\n",
       "    </tr>\n",
       "    <tr>\n",
       "      <th>3</th>\n",
       "      <td>Data Scientist</td>\n",
       "      <td>137-171</td>\n",
       "      <td>JOB DESCRIPTION:  Do you have a passion for Da...</td>\n",
       "      <td>3.5</td>\n",
       "      <td>INFICON\\n3.5</td>\n",
       "      <td>Newton, MA</td>\n",
       "      <td>Bad Ragaz, Switzerland</td>\n",
       "      <td>501 to 1000 employees</td>\n",
       "      <td>2000</td>\n",
       "      <td>Company - Public</td>\n",
       "      <td>Electrical &amp; Electronic Manufacturing</td>\n",
       "      <td>$100 to $500 million (USD)</td>\n",
       "    </tr>\n",
       "    <tr>\n",
       "      <th>4</th>\n",
       "      <td>Data Scientist</td>\n",
       "      <td>137-171</td>\n",
       "      <td>Data Scientist: Affinity Solutions / Marketing...</td>\n",
       "      <td>2.9</td>\n",
       "      <td>Affinity Solutions\\n2.9</td>\n",
       "      <td>New York, NY</td>\n",
       "      <td>New York, NY</td>\n",
       "      <td>51 to 200 employees</td>\n",
       "      <td>1998</td>\n",
       "      <td>Company - Private</td>\n",
       "      <td>Advertising &amp; Marketing</td>\n",
       "      <td>Unknown / Non-Applicable</td>\n",
       "    </tr>\n",
       "  </tbody>\n",
       "</table>\n",
       "</div>"
      ],
      "text/plain": [
       "               Job_Title Salary_Estimate  \\\n",
       "index                                      \n",
       "0      Sr Data Scientist        137-171    \n",
       "1         Data Scientist        137-171    \n",
       "2         Data Scientist        137-171    \n",
       "3         Data Scientist        137-171    \n",
       "4         Data Scientist        137-171    \n",
       "\n",
       "                                         Job_Description  Rating  \\\n",
       "index                                                              \n",
       "0      Description: The Senior Data Scientist is resp...     3.1   \n",
       "1      Secure our Nation, Ignite your Future: Join th...     4.2   \n",
       "2      Overview: Analysis Group is one of the largest...     3.8   \n",
       "3      JOB DESCRIPTION:  Do you have a passion for Da...     3.5   \n",
       "4      Data Scientist: Affinity Solutions / Marketing...     2.9   \n",
       "\n",
       "                  Company_Name       Location            Headquarters  \\\n",
       "index                                                                   \n",
       "0             Healthfirst\\n3.1   New York, NY            New York, NY   \n",
       "1                 ManTech\\n4.2  Chantilly, VA             Herndon, VA   \n",
       "2          Analysis Group\\n3.8     Boston, MA              Boston, MA   \n",
       "3                 INFICON\\n3.5     Newton, MA  Bad Ragaz, Switzerland   \n",
       "4      Affinity Solutions\\n2.9   New York, NY            New York, NY   \n",
       "\n",
       "                          Size  Founded           Ownership_Type  \\\n",
       "index                                                              \n",
       "0       1001 to 5000 employees     1993   Nonprofit Organization   \n",
       "1      5001 to 10000 employees     1968         Company - Public   \n",
       "2       1001 to 5000 employees     1981  Private Practice / Firm   \n",
       "3        501 to 1000 employees     2000         Company - Public   \n",
       "4          51 to 200 employees     1998        Company - Private   \n",
       "\n",
       "                                    Industry                     Revenue  \n",
       "index                                                                     \n",
       "0                         Insurance Carriers    Unknown / Non-Applicable  \n",
       "1                     Research & Development      $1 to $2 billion (USD)  \n",
       "2                                 Consulting  $100 to $500 million (USD)  \n",
       "3      Electrical & Electronic Manufacturing  $100 to $500 million (USD)  \n",
       "4                    Advertising & Marketing    Unknown / Non-Applicable  "
      ]
     },
     "execution_count": 19,
     "metadata": {},
     "output_type": "execute_result"
    }
   ],
   "source": [
    "# Renamed column for good practice\n",
    "df = df.rename(columns= {'Job Title': 'Job_Title',\n",
    "                         'Salary Estimate': 'Salary_Estimate',\n",
    "                         'Job Description': 'Job_Description',\n",
    "                         'Company Name': 'Company_Name',\n",
    "                         'Type of ownership': 'Ownership_Type'}\n",
    "              )\n",
    "df.head()"
   ]
  },
  {
   "cell_type": "code",
   "execution_count": 20,
   "id": "78f2a58c-9b06-4adc-835c-45ad9609f31a",
   "metadata": {},
   "outputs": [
    {
     "data": {
      "text/html": [
       "<div>\n",
       "<style scoped>\n",
       "    .dataframe tbody tr th:only-of-type {\n",
       "        vertical-align: middle;\n",
       "    }\n",
       "\n",
       "    .dataframe tbody tr th {\n",
       "        vertical-align: top;\n",
       "    }\n",
       "\n",
       "    .dataframe thead th {\n",
       "        text-align: right;\n",
       "    }\n",
       "</style>\n",
       "<table border=\"1\" class=\"dataframe\">\n",
       "  <thead>\n",
       "    <tr style=\"text-align: right;\">\n",
       "      <th></th>\n",
       "      <th>Job_Title</th>\n",
       "      <th>Salary_Estimate</th>\n",
       "      <th>Job_Description</th>\n",
       "      <th>Rating</th>\n",
       "      <th>Company_Name</th>\n",
       "      <th>Location</th>\n",
       "      <th>Headquarters</th>\n",
       "      <th>Size</th>\n",
       "      <th>Founded</th>\n",
       "      <th>Ownership_Type</th>\n",
       "      <th>Industry</th>\n",
       "      <th>Revenue</th>\n",
       "    </tr>\n",
       "    <tr>\n",
       "      <th>index</th>\n",
       "      <th></th>\n",
       "      <th></th>\n",
       "      <th></th>\n",
       "      <th></th>\n",
       "      <th></th>\n",
       "      <th></th>\n",
       "      <th></th>\n",
       "      <th></th>\n",
       "      <th></th>\n",
       "      <th></th>\n",
       "      <th></th>\n",
       "      <th></th>\n",
       "    </tr>\n",
       "  </thead>\n",
       "  <tbody>\n",
       "    <tr>\n",
       "      <th>0</th>\n",
       "      <td>Sr Data Scientist</td>\n",
       "      <td>137-171</td>\n",
       "      <td>Description: The Senior Data Scientist is resp...</td>\n",
       "      <td>3.1</td>\n",
       "      <td>Healthfirst</td>\n",
       "      <td>New York, NY</td>\n",
       "      <td>New York, NY</td>\n",
       "      <td>1001 to 5000 employees</td>\n",
       "      <td>1993</td>\n",
       "      <td>Nonprofit Organization</td>\n",
       "      <td>Insurance Carriers</td>\n",
       "      <td>Unknown / Non-Applicable</td>\n",
       "    </tr>\n",
       "    <tr>\n",
       "      <th>1</th>\n",
       "      <td>Data Scientist</td>\n",
       "      <td>137-171</td>\n",
       "      <td>Secure our Nation, Ignite your Future: Join th...</td>\n",
       "      <td>4.2</td>\n",
       "      <td>ManTech</td>\n",
       "      <td>Chantilly, VA</td>\n",
       "      <td>Herndon, VA</td>\n",
       "      <td>5001 to 10000 employees</td>\n",
       "      <td>1968</td>\n",
       "      <td>Company - Public</td>\n",
       "      <td>Research &amp; Development</td>\n",
       "      <td>$1 to $2 billion (USD)</td>\n",
       "    </tr>\n",
       "    <tr>\n",
       "      <th>2</th>\n",
       "      <td>Data Scientist</td>\n",
       "      <td>137-171</td>\n",
       "      <td>Overview: Analysis Group is one of the largest...</td>\n",
       "      <td>3.8</td>\n",
       "      <td>Analysis Group</td>\n",
       "      <td>Boston, MA</td>\n",
       "      <td>Boston, MA</td>\n",
       "      <td>1001 to 5000 employees</td>\n",
       "      <td>1981</td>\n",
       "      <td>Private Practice / Firm</td>\n",
       "      <td>Consulting</td>\n",
       "      <td>$100 to $500 million (USD)</td>\n",
       "    </tr>\n",
       "    <tr>\n",
       "      <th>3</th>\n",
       "      <td>Data Scientist</td>\n",
       "      <td>137-171</td>\n",
       "      <td>JOB DESCRIPTION:  Do you have a passion for Da...</td>\n",
       "      <td>3.5</td>\n",
       "      <td>INFICON</td>\n",
       "      <td>Newton, MA</td>\n",
       "      <td>Bad Ragaz, Switzerland</td>\n",
       "      <td>501 to 1000 employees</td>\n",
       "      <td>2000</td>\n",
       "      <td>Company - Public</td>\n",
       "      <td>Electrical &amp; Electronic Manufacturing</td>\n",
       "      <td>$100 to $500 million (USD)</td>\n",
       "    </tr>\n",
       "    <tr>\n",
       "      <th>4</th>\n",
       "      <td>Data Scientist</td>\n",
       "      <td>137-171</td>\n",
       "      <td>Data Scientist: Affinity Solutions / Marketing...</td>\n",
       "      <td>2.9</td>\n",
       "      <td>Affinity Solutions</td>\n",
       "      <td>New York, NY</td>\n",
       "      <td>New York, NY</td>\n",
       "      <td>51 to 200 employees</td>\n",
       "      <td>1998</td>\n",
       "      <td>Company - Private</td>\n",
       "      <td>Advertising &amp; Marketing</td>\n",
       "      <td>Unknown / Non-Applicable</td>\n",
       "    </tr>\n",
       "  </tbody>\n",
       "</table>\n",
       "</div>"
      ],
      "text/plain": [
       "               Job_Title Salary_Estimate  \\\n",
       "index                                      \n",
       "0      Sr Data Scientist        137-171    \n",
       "1         Data Scientist        137-171    \n",
       "2         Data Scientist        137-171    \n",
       "3         Data Scientist        137-171    \n",
       "4         Data Scientist        137-171    \n",
       "\n",
       "                                         Job_Description  Rating  \\\n",
       "index                                                              \n",
       "0      Description: The Senior Data Scientist is resp...     3.1   \n",
       "1      Secure our Nation, Ignite your Future: Join th...     4.2   \n",
       "2      Overview: Analysis Group is one of the largest...     3.8   \n",
       "3      JOB DESCRIPTION:  Do you have a passion for Da...     3.5   \n",
       "4      Data Scientist: Affinity Solutions / Marketing...     2.9   \n",
       "\n",
       "             Company_Name       Location            Headquarters  \\\n",
       "index                                                              \n",
       "0             Healthfirst   New York, NY            New York, NY   \n",
       "1                 ManTech  Chantilly, VA             Herndon, VA   \n",
       "2          Analysis Group     Boston, MA              Boston, MA   \n",
       "3                 INFICON     Newton, MA  Bad Ragaz, Switzerland   \n",
       "4      Affinity Solutions   New York, NY            New York, NY   \n",
       "\n",
       "                          Size  Founded           Ownership_Type  \\\n",
       "index                                                              \n",
       "0       1001 to 5000 employees     1993   Nonprofit Organization   \n",
       "1      5001 to 10000 employees     1968         Company - Public   \n",
       "2       1001 to 5000 employees     1981  Private Practice / Firm   \n",
       "3        501 to 1000 employees     2000         Company - Public   \n",
       "4          51 to 200 employees     1998        Company - Private   \n",
       "\n",
       "                                    Industry                     Revenue  \n",
       "index                                                                     \n",
       "0                         Insurance Carriers    Unknown / Non-Applicable  \n",
       "1                     Research & Development      $1 to $2 billion (USD)  \n",
       "2                                 Consulting  $100 to $500 million (USD)  \n",
       "3      Electrical & Electronic Manufacturing  $100 to $500 million (USD)  \n",
       "4                    Advertising & Marketing    Unknown / Non-Applicable  "
      ]
     },
     "execution_count": 20,
     "metadata": {},
     "output_type": "execute_result"
    }
   ],
   "source": [
    "mask = df['Company_Name'].str.contains(r'\\d+\\.\\d+')\n",
    "df['Company_Name'] = (np.where(mask, df['Company_Name']\n",
    "                               .str.split('\\n')\n",
    "                               .str[0], df['Company_Name']))\n",
    "df.head()"
   ]
  },
  {
   "cell_type": "code",
   "execution_count": 21,
   "id": "0c3241d3-e638-43f8-9c73-22227dc5ed7d",
   "metadata": {},
   "outputs": [],
   "source": [
    "# Creates copy of dataframe to ensure flexiblity and replace string -1 \n",
    "headq_copy = df[['Headquarters']].copy()\n",
    "headq_copy['Headquarters'] = headq_copy['Headquarters'].replace('-1', pd.NA)\n",
    "df['Headquarters'] = headq_copy['Headquarters']"
   ]
  },
  {
   "cell_type": "code",
   "execution_count": 22,
   "id": "d4ddda4a-09fc-4177-bf26-1b40c5a0e86b",
   "metadata": {},
   "outputs": [
    {
     "data": {
      "text/html": [
       "<div>\n",
       "<style scoped>\n",
       "    .dataframe tbody tr th:only-of-type {\n",
       "        vertical-align: middle;\n",
       "    }\n",
       "\n",
       "    .dataframe tbody tr th {\n",
       "        vertical-align: top;\n",
       "    }\n",
       "\n",
       "    .dataframe thead th {\n",
       "        text-align: right;\n",
       "    }\n",
       "</style>\n",
       "<table border=\"1\" class=\"dataframe\">\n",
       "  <thead>\n",
       "    <tr style=\"text-align: right;\">\n",
       "      <th></th>\n",
       "      <th>Job_Title</th>\n",
       "      <th>Salary_Estimate</th>\n",
       "      <th>Job_Description</th>\n",
       "      <th>Rating</th>\n",
       "      <th>Company_Name</th>\n",
       "      <th>Location</th>\n",
       "      <th>Headquarters</th>\n",
       "      <th>Size</th>\n",
       "      <th>Founded</th>\n",
       "      <th>Ownership_Type</th>\n",
       "      <th>Industry</th>\n",
       "      <th>Revenue</th>\n",
       "    </tr>\n",
       "    <tr>\n",
       "      <th>index</th>\n",
       "      <th></th>\n",
       "      <th></th>\n",
       "      <th></th>\n",
       "      <th></th>\n",
       "      <th></th>\n",
       "      <th></th>\n",
       "      <th></th>\n",
       "      <th></th>\n",
       "      <th></th>\n",
       "      <th></th>\n",
       "      <th></th>\n",
       "      <th></th>\n",
       "    </tr>\n",
       "  </thead>\n",
       "  <tbody>\n",
       "    <tr>\n",
       "      <th>154</th>\n",
       "      <td>ELISA RESEARCH SCIENTIST (CV-15)</td>\n",
       "      <td>90-109</td>\n",
       "      <td>Covaxx, a subsidiary of the UBI Group, has joi...</td>\n",
       "      <td>0.0</td>\n",
       "      <td>Covid-19 Search Partners</td>\n",
       "      <td>Hauppauge, NY</td>\n",
       "      <td>&lt;NA&gt;</td>\n",
       "      <td>-1</td>\n",
       "      <td>-1</td>\n",
       "      <td>-1</td>\n",
       "      <td>-1</td>\n",
       "      <td>-1</td>\n",
       "    </tr>\n",
       "    <tr>\n",
       "      <th>158</th>\n",
       "      <td>Machine Learning Engineer</td>\n",
       "      <td>101-165</td>\n",
       "      <td>Overview: Radical Convergence is a fast-paced ...</td>\n",
       "      <td>0.0</td>\n",
       "      <td>Radical Convergence</td>\n",
       "      <td>Reston, VA</td>\n",
       "      <td>&lt;NA&gt;</td>\n",
       "      <td>-1</td>\n",
       "      <td>-1</td>\n",
       "      <td>-1</td>\n",
       "      <td>-1</td>\n",
       "      <td>-1</td>\n",
       "    </tr>\n",
       "    <tr>\n",
       "      <th>258</th>\n",
       "      <td>Data Scientist</td>\n",
       "      <td>90-124</td>\n",
       "      <td>Full Time Data Scientist: The Drive Media is s...</td>\n",
       "      <td>5.0</td>\n",
       "      <td>The Drive Media, Inc.</td>\n",
       "      <td>New York, NY</td>\n",
       "      <td>&lt;NA&gt;</td>\n",
       "      <td>Unknown</td>\n",
       "      <td>-1</td>\n",
       "      <td>Unknown</td>\n",
       "      <td>-1</td>\n",
       "      <td>Unknown / Non-Applicable</td>\n",
       "    </tr>\n",
       "    <tr>\n",
       "      <th>351</th>\n",
       "      <td>Data Scientist</td>\n",
       "      <td>122-146</td>\n",
       "      <td>About Our AI/ML Team: Our mission is to build ...</td>\n",
       "      <td>0.0</td>\n",
       "      <td>Point72 Ventures</td>\n",
       "      <td>Palo Alto, CA</td>\n",
       "      <td>&lt;NA&gt;</td>\n",
       "      <td>-1</td>\n",
       "      <td>-1</td>\n",
       "      <td>-1</td>\n",
       "      <td>-1</td>\n",
       "      <td>-1</td>\n",
       "    </tr>\n",
       "    <tr>\n",
       "      <th>357</th>\n",
       "      <td>Data Scientist</td>\n",
       "      <td>122-146</td>\n",
       "      <td>Job Overview: The Data Scientist is a key memb...</td>\n",
       "      <td>0.0</td>\n",
       "      <td>Hatch Data Inc</td>\n",
       "      <td>San Francisco, CA</td>\n",
       "      <td>&lt;NA&gt;</td>\n",
       "      <td>-1</td>\n",
       "      <td>-1</td>\n",
       "      <td>-1</td>\n",
       "      <td>-1</td>\n",
       "      <td>-1</td>\n",
       "    </tr>\n",
       "    <tr>\n",
       "      <th>388</th>\n",
       "      <td>Data Scientist</td>\n",
       "      <td>110-163</td>\n",
       "      <td>Job Description: As a Data Scientist, you will...</td>\n",
       "      <td>0.0</td>\n",
       "      <td>HireAi</td>\n",
       "      <td>San Francisco, CA</td>\n",
       "      <td>&lt;NA&gt;</td>\n",
       "      <td>-1</td>\n",
       "      <td>-1</td>\n",
       "      <td>-1</td>\n",
       "      <td>-1</td>\n",
       "      <td>-1</td>\n",
       "    </tr>\n",
       "    <tr>\n",
       "      <th>424</th>\n",
       "      <td>Data Scientist</td>\n",
       "      <td>124-198</td>\n",
       "      <td>Get To Know Voice: At Voice, we are on a missi...</td>\n",
       "      <td>3.4</td>\n",
       "      <td>Voice</td>\n",
       "      <td>Brooklyn, NY</td>\n",
       "      <td>&lt;NA&gt;</td>\n",
       "      <td>Unknown</td>\n",
       "      <td>-1</td>\n",
       "      <td>Company - Private</td>\n",
       "      <td>-1</td>\n",
       "      <td>Unknown / Non-Applicable</td>\n",
       "    </tr>\n",
       "    <tr>\n",
       "      <th>459</th>\n",
       "      <td>Data Scientist</td>\n",
       "      <td>69-116</td>\n",
       "      <td>We are looking for a highly motivated data sci...</td>\n",
       "      <td>0.0</td>\n",
       "      <td>Blue Cloak LLC</td>\n",
       "      <td>Sterling, VA</td>\n",
       "      <td>&lt;NA&gt;</td>\n",
       "      <td>-1</td>\n",
       "      <td>-1</td>\n",
       "      <td>-1</td>\n",
       "      <td>-1</td>\n",
       "      <td>-1</td>\n",
       "    </tr>\n",
       "    <tr>\n",
       "      <th>495</th>\n",
       "      <td>Data Scientist</td>\n",
       "      <td>95-119</td>\n",
       "      <td>Job Overview: The Data Scientist is a key memb...</td>\n",
       "      <td>0.0</td>\n",
       "      <td>Hatch Data Inc</td>\n",
       "      <td>San Francisco, CA</td>\n",
       "      <td>&lt;NA&gt;</td>\n",
       "      <td>-1</td>\n",
       "      <td>-1</td>\n",
       "      <td>-1</td>\n",
       "      <td>-1</td>\n",
       "      <td>-1</td>\n",
       "    </tr>\n",
       "    <tr>\n",
       "      <th>504</th>\n",
       "      <td>Data Scientist</td>\n",
       "      <td>95-119</td>\n",
       "      <td>Job Description: Working at Sophinea: Sophinea...</td>\n",
       "      <td>0.0</td>\n",
       "      <td>Sophinea</td>\n",
       "      <td>Chantilly, VA</td>\n",
       "      <td>&lt;NA&gt;</td>\n",
       "      <td>1 to 50 employees</td>\n",
       "      <td>-1</td>\n",
       "      <td>Unknown</td>\n",
       "      <td>-1</td>\n",
       "      <td>Unknown / Non-Applicable</td>\n",
       "    </tr>\n",
       "    <tr>\n",
       "      <th>519</th>\n",
       "      <td>Scientist / Group Lead, Cancer Biology</td>\n",
       "      <td>212-331</td>\n",
       "      <td>Scientist / Group Lead, Cancer Biology: Locati...</td>\n",
       "      <td>0.0</td>\n",
       "      <td>Monte Rosa Therapeutics</td>\n",
       "      <td>Cambridge, MA</td>\n",
       "      <td>&lt;NA&gt;</td>\n",
       "      <td>-1</td>\n",
       "      <td>-1</td>\n",
       "      <td>-1</td>\n",
       "      <td>-1</td>\n",
       "      <td>-1</td>\n",
       "    </tr>\n",
       "    <tr>\n",
       "      <th>555</th>\n",
       "      <td>Data Scientist</td>\n",
       "      <td>128-201</td>\n",
       "      <td>Job Description: As a Data Scientist, you will...</td>\n",
       "      <td>0.0</td>\n",
       "      <td>HireAi</td>\n",
       "      <td>San Francisco, CA</td>\n",
       "      <td>&lt;NA&gt;</td>\n",
       "      <td>-1</td>\n",
       "      <td>-1</td>\n",
       "      <td>-1</td>\n",
       "      <td>-1</td>\n",
       "      <td>-1</td>\n",
       "    </tr>\n",
       "    <tr>\n",
       "      <th>613</th>\n",
       "      <td>Data Scientist</td>\n",
       "      <td>87-141</td>\n",
       "      <td>DESCRIPTION: GrainBridge is seeking a talented...</td>\n",
       "      <td>0.0</td>\n",
       "      <td>GrainBridge, LLC</td>\n",
       "      <td>Omaha, NE</td>\n",
       "      <td>&lt;NA&gt;</td>\n",
       "      <td>-1</td>\n",
       "      <td>-1</td>\n",
       "      <td>-1</td>\n",
       "      <td>-1</td>\n",
       "      <td>-1</td>\n",
       "    </tr>\n",
       "    <tr>\n",
       "      <th>637</th>\n",
       "      <td>Data Scientist</td>\n",
       "      <td>92-155</td>\n",
       "      <td>Job Description: Working at Sophinea: Sophinea...</td>\n",
       "      <td>0.0</td>\n",
       "      <td>Sophinea</td>\n",
       "      <td>Chantilly, VA</td>\n",
       "      <td>&lt;NA&gt;</td>\n",
       "      <td>1 to 50 employees</td>\n",
       "      <td>-1</td>\n",
       "      <td>Unknown</td>\n",
       "      <td>-1</td>\n",
       "      <td>Unknown / Non-Applicable</td>\n",
       "    </tr>\n",
       "    <tr>\n",
       "      <th>650</th>\n",
       "      <td>Scientist / Group Lead, Cancer Biology</td>\n",
       "      <td>92-155</td>\n",
       "      <td>Scientist / Group Lead, Cancer Biology: Locati...</td>\n",
       "      <td>0.0</td>\n",
       "      <td>Monte Rosa Therapeutics</td>\n",
       "      <td>Cambridge, MA</td>\n",
       "      <td>&lt;NA&gt;</td>\n",
       "      <td>-1</td>\n",
       "      <td>-1</td>\n",
       "      <td>-1</td>\n",
       "      <td>-1</td>\n",
       "      <td>-1</td>\n",
       "    </tr>\n",
       "    <tr>\n",
       "      <th>656</th>\n",
       "      <td>Data Scientist</td>\n",
       "      <td>105-167</td>\n",
       "      <td>Join our team dedicated to developing and exec...</td>\n",
       "      <td>0.0</td>\n",
       "      <td>Berico Technologies</td>\n",
       "      <td>Fort Belvoir, VA</td>\n",
       "      <td>&lt;NA&gt;</td>\n",
       "      <td>-1</td>\n",
       "      <td>-1</td>\n",
       "      <td>-1</td>\n",
       "      <td>-1</td>\n",
       "      <td>-1</td>\n",
       "    </tr>\n",
       "    <tr>\n",
       "      <th>657</th>\n",
       "      <td>Data Scientist</td>\n",
       "      <td>105-167</td>\n",
       "      <td>Overview: Good people, working with good peopl...</td>\n",
       "      <td>0.0</td>\n",
       "      <td>Kehe Food Distributors</td>\n",
       "      <td>Naperville, IL</td>\n",
       "      <td>&lt;NA&gt;</td>\n",
       "      <td>-1</td>\n",
       "      <td>-1</td>\n",
       "      <td>-1</td>\n",
       "      <td>-1</td>\n",
       "      <td>-1</td>\n",
       "    </tr>\n",
       "    <tr>\n",
       "      <th>660</th>\n",
       "      <td>Data Scientist</td>\n",
       "      <td>105-167</td>\n",
       "      <td>Location: Redmond, WA: Client: Microsoft (Un-M...</td>\n",
       "      <td>0.0</td>\n",
       "      <td>Pactera Edge</td>\n",
       "      <td>Redmond, WA</td>\n",
       "      <td>&lt;NA&gt;</td>\n",
       "      <td>-1</td>\n",
       "      <td>-1</td>\n",
       "      <td>-1</td>\n",
       "      <td>-1</td>\n",
       "      <td>-1</td>\n",
       "    </tr>\n",
       "    <tr>\n",
       "      <th>668</th>\n",
       "      <td>Data Scientist</td>\n",
       "      <td>105-167</td>\n",
       "      <td>Job Description: Become a thought leader withi...</td>\n",
       "      <td>0.0</td>\n",
       "      <td>JKGT</td>\n",
       "      <td>San Francisco, CA</td>\n",
       "      <td>&lt;NA&gt;</td>\n",
       "      <td>-1</td>\n",
       "      <td>-1</td>\n",
       "      <td>-1</td>\n",
       "      <td>-1</td>\n",
       "      <td>-1</td>\n",
       "    </tr>\n",
       "    <tr>\n",
       "      <th>669</th>\n",
       "      <td>Data Scientist</td>\n",
       "      <td>105-167</td>\n",
       "      <td>Join a thriving company that is changing the w...</td>\n",
       "      <td>0.0</td>\n",
       "      <td>AccessHope</td>\n",
       "      <td>Irwindale, CA</td>\n",
       "      <td>&lt;NA&gt;</td>\n",
       "      <td>-1</td>\n",
       "      <td>-1</td>\n",
       "      <td>-1</td>\n",
       "      <td>-1</td>\n",
       "      <td>-1</td>\n",
       "    </tr>\n",
       "  </tbody>\n",
       "</table>\n",
       "</div>"
      ],
      "text/plain": [
       "                                    Job_Title Salary_Estimate  \\\n",
       "index                                                           \n",
       "154          ELISA RESEARCH SCIENTIST (CV-15)         90-109    \n",
       "158                 Machine Learning Engineer        101-165    \n",
       "258                            Data Scientist         90-124    \n",
       "351                            Data Scientist        122-146    \n",
       "357                            Data Scientist        122-146    \n",
       "388                            Data Scientist        110-163    \n",
       "424                            Data Scientist        124-198    \n",
       "459                            Data Scientist         69-116    \n",
       "495                            Data Scientist         95-119    \n",
       "504                            Data Scientist         95-119    \n",
       "519    Scientist / Group Lead, Cancer Biology        212-331    \n",
       "555                            Data Scientist        128-201    \n",
       "613                            Data Scientist         87-141    \n",
       "637                            Data Scientist         92-155    \n",
       "650    Scientist / Group Lead, Cancer Biology         92-155    \n",
       "656                            Data Scientist        105-167    \n",
       "657                            Data Scientist        105-167    \n",
       "660                            Data Scientist        105-167    \n",
       "668                            Data Scientist        105-167    \n",
       "669                            Data Scientist        105-167    \n",
       "\n",
       "                                         Job_Description  Rating  \\\n",
       "index                                                              \n",
       "154    Covaxx, a subsidiary of the UBI Group, has joi...     0.0   \n",
       "158    Overview: Radical Convergence is a fast-paced ...     0.0   \n",
       "258    Full Time Data Scientist: The Drive Media is s...     5.0   \n",
       "351    About Our AI/ML Team: Our mission is to build ...     0.0   \n",
       "357    Job Overview: The Data Scientist is a key memb...     0.0   \n",
       "388    Job Description: As a Data Scientist, you will...     0.0   \n",
       "424    Get To Know Voice: At Voice, we are on a missi...     3.4   \n",
       "459    We are looking for a highly motivated data sci...     0.0   \n",
       "495    Job Overview: The Data Scientist is a key memb...     0.0   \n",
       "504    Job Description: Working at Sophinea: Sophinea...     0.0   \n",
       "519    Scientist / Group Lead, Cancer Biology: Locati...     0.0   \n",
       "555    Job Description: As a Data Scientist, you will...     0.0   \n",
       "613    DESCRIPTION: GrainBridge is seeking a talented...     0.0   \n",
       "637    Job Description: Working at Sophinea: Sophinea...     0.0   \n",
       "650    Scientist / Group Lead, Cancer Biology: Locati...     0.0   \n",
       "656    Join our team dedicated to developing and exec...     0.0   \n",
       "657    Overview: Good people, working with good peopl...     0.0   \n",
       "660    Location: Redmond, WA: Client: Microsoft (Un-M...     0.0   \n",
       "668    Job Description: Become a thought leader withi...     0.0   \n",
       "669    Join a thriving company that is changing the w...     0.0   \n",
       "\n",
       "                   Company_Name           Location Headquarters  \\\n",
       "index                                                             \n",
       "154    Covid-19 Search Partners      Hauppauge, NY         <NA>   \n",
       "158         Radical Convergence         Reston, VA         <NA>   \n",
       "258       The Drive Media, Inc.       New York, NY         <NA>   \n",
       "351            Point72 Ventures      Palo Alto, CA         <NA>   \n",
       "357              Hatch Data Inc  San Francisco, CA         <NA>   \n",
       "388                      HireAi  San Francisco, CA         <NA>   \n",
       "424                       Voice       Brooklyn, NY         <NA>   \n",
       "459              Blue Cloak LLC       Sterling, VA         <NA>   \n",
       "495              Hatch Data Inc  San Francisco, CA         <NA>   \n",
       "504                    Sophinea      Chantilly, VA         <NA>   \n",
       "519     Monte Rosa Therapeutics      Cambridge, MA         <NA>   \n",
       "555                      HireAi  San Francisco, CA         <NA>   \n",
       "613            GrainBridge, LLC          Omaha, NE         <NA>   \n",
       "637                    Sophinea      Chantilly, VA         <NA>   \n",
       "650     Monte Rosa Therapeutics      Cambridge, MA         <NA>   \n",
       "656         Berico Technologies   Fort Belvoir, VA         <NA>   \n",
       "657      Kehe Food Distributors     Naperville, IL         <NA>   \n",
       "660                Pactera Edge        Redmond, WA         <NA>   \n",
       "668                        JKGT  San Francisco, CA         <NA>   \n",
       "669                  AccessHope      Irwindale, CA         <NA>   \n",
       "\n",
       "                    Size  Founded     Ownership_Type Industry  \\\n",
       "index                                                           \n",
       "154                   -1       -1                 -1       -1   \n",
       "158                   -1       -1                 -1       -1   \n",
       "258              Unknown       -1            Unknown       -1   \n",
       "351                   -1       -1                 -1       -1   \n",
       "357                   -1       -1                 -1       -1   \n",
       "388                   -1       -1                 -1       -1   \n",
       "424              Unknown       -1  Company - Private       -1   \n",
       "459                   -1       -1                 -1       -1   \n",
       "495                   -1       -1                 -1       -1   \n",
       "504    1 to 50 employees       -1            Unknown       -1   \n",
       "519                   -1       -1                 -1       -1   \n",
       "555                   -1       -1                 -1       -1   \n",
       "613                   -1       -1                 -1       -1   \n",
       "637    1 to 50 employees       -1            Unknown       -1   \n",
       "650                   -1       -1                 -1       -1   \n",
       "656                   -1       -1                 -1       -1   \n",
       "657                   -1       -1                 -1       -1   \n",
       "660                   -1       -1                 -1       -1   \n",
       "668                   -1       -1                 -1       -1   \n",
       "669                   -1       -1                 -1       -1   \n",
       "\n",
       "                        Revenue  \n",
       "index                            \n",
       "154                          -1  \n",
       "158                          -1  \n",
       "258    Unknown / Non-Applicable  \n",
       "351                          -1  \n",
       "357                          -1  \n",
       "388                          -1  \n",
       "424    Unknown / Non-Applicable  \n",
       "459                          -1  \n",
       "495                          -1  \n",
       "504    Unknown / Non-Applicable  \n",
       "519                          -1  \n",
       "555                          -1  \n",
       "613                          -1  \n",
       "637    Unknown / Non-Applicable  \n",
       "650                          -1  \n",
       "656                          -1  \n",
       "657                          -1  \n",
       "660                          -1  \n",
       "668                          -1  \n",
       "669                          -1  "
      ]
     },
     "execution_count": 22,
     "metadata": {},
     "output_type": "execute_result"
    }
   ],
   "source": [
    "# Check for replaced values\n",
    "df[df['Headquarters'].isnull()]"
   ]
  },
  {
   "cell_type": "code",
   "execution_count": 23,
   "id": "508b95e1-6460-442a-b31a-79fd151ead3f",
   "metadata": {},
   "outputs": [
    {
     "data": {
      "text/html": [
       "<div>\n",
       "<style scoped>\n",
       "    .dataframe tbody tr th:only-of-type {\n",
       "        vertical-align: middle;\n",
       "    }\n",
       "\n",
       "    .dataframe tbody tr th {\n",
       "        vertical-align: top;\n",
       "    }\n",
       "\n",
       "    .dataframe thead th {\n",
       "        text-align: right;\n",
       "    }\n",
       "</style>\n",
       "<table border=\"1\" class=\"dataframe\">\n",
       "  <thead>\n",
       "    <tr style=\"text-align: right;\">\n",
       "      <th></th>\n",
       "      <th>Job_Title</th>\n",
       "      <th>Salary_Estimate</th>\n",
       "      <th>Job_Description</th>\n",
       "      <th>Rating</th>\n",
       "      <th>Company_Name</th>\n",
       "      <th>Location</th>\n",
       "      <th>Headquarters</th>\n",
       "      <th>Size</th>\n",
       "      <th>Founded</th>\n",
       "      <th>Ownership_Type</th>\n",
       "      <th>Industry</th>\n",
       "      <th>Revenue</th>\n",
       "    </tr>\n",
       "    <tr>\n",
       "      <th>index</th>\n",
       "      <th></th>\n",
       "      <th></th>\n",
       "      <th></th>\n",
       "      <th></th>\n",
       "      <th></th>\n",
       "      <th></th>\n",
       "      <th></th>\n",
       "      <th></th>\n",
       "      <th></th>\n",
       "      <th></th>\n",
       "      <th></th>\n",
       "      <th></th>\n",
       "    </tr>\n",
       "  </thead>\n",
       "  <tbody>\n",
       "    <tr>\n",
       "      <th>154</th>\n",
       "      <td>ELISA RESEARCH SCIENTIST (CV-15)</td>\n",
       "      <td>90-109</td>\n",
       "      <td>Covaxx, a subsidiary of the UBI Group, has joi...</td>\n",
       "      <td>0.0</td>\n",
       "      <td>Covid-19 Search Partners</td>\n",
       "      <td>Hauppauge, NY</td>\n",
       "      <td>&lt;NA&gt;</td>\n",
       "      <td>&lt;NA&gt;</td>\n",
       "      <td>-1</td>\n",
       "      <td>-1</td>\n",
       "      <td>-1</td>\n",
       "      <td>-1</td>\n",
       "    </tr>\n",
       "    <tr>\n",
       "      <th>158</th>\n",
       "      <td>Machine Learning Engineer</td>\n",
       "      <td>101-165</td>\n",
       "      <td>Overview: Radical Convergence is a fast-paced ...</td>\n",
       "      <td>0.0</td>\n",
       "      <td>Radical Convergence</td>\n",
       "      <td>Reston, VA</td>\n",
       "      <td>&lt;NA&gt;</td>\n",
       "      <td>&lt;NA&gt;</td>\n",
       "      <td>-1</td>\n",
       "      <td>-1</td>\n",
       "      <td>-1</td>\n",
       "      <td>-1</td>\n",
       "    </tr>\n",
       "    <tr>\n",
       "      <th>351</th>\n",
       "      <td>Data Scientist</td>\n",
       "      <td>122-146</td>\n",
       "      <td>About Our AI/ML Team: Our mission is to build ...</td>\n",
       "      <td>0.0</td>\n",
       "      <td>Point72 Ventures</td>\n",
       "      <td>Palo Alto, CA</td>\n",
       "      <td>&lt;NA&gt;</td>\n",
       "      <td>&lt;NA&gt;</td>\n",
       "      <td>-1</td>\n",
       "      <td>-1</td>\n",
       "      <td>-1</td>\n",
       "      <td>-1</td>\n",
       "    </tr>\n",
       "    <tr>\n",
       "      <th>357</th>\n",
       "      <td>Data Scientist</td>\n",
       "      <td>122-146</td>\n",
       "      <td>Job Overview: The Data Scientist is a key memb...</td>\n",
       "      <td>0.0</td>\n",
       "      <td>Hatch Data Inc</td>\n",
       "      <td>San Francisco, CA</td>\n",
       "      <td>&lt;NA&gt;</td>\n",
       "      <td>&lt;NA&gt;</td>\n",
       "      <td>-1</td>\n",
       "      <td>-1</td>\n",
       "      <td>-1</td>\n",
       "      <td>-1</td>\n",
       "    </tr>\n",
       "    <tr>\n",
       "      <th>388</th>\n",
       "      <td>Data Scientist</td>\n",
       "      <td>110-163</td>\n",
       "      <td>Job Description: As a Data Scientist, you will...</td>\n",
       "      <td>0.0</td>\n",
       "      <td>HireAi</td>\n",
       "      <td>San Francisco, CA</td>\n",
       "      <td>&lt;NA&gt;</td>\n",
       "      <td>&lt;NA&gt;</td>\n",
       "      <td>-1</td>\n",
       "      <td>-1</td>\n",
       "      <td>-1</td>\n",
       "      <td>-1</td>\n",
       "    </tr>\n",
       "    <tr>\n",
       "      <th>459</th>\n",
       "      <td>Data Scientist</td>\n",
       "      <td>69-116</td>\n",
       "      <td>We are looking for a highly motivated data sci...</td>\n",
       "      <td>0.0</td>\n",
       "      <td>Blue Cloak LLC</td>\n",
       "      <td>Sterling, VA</td>\n",
       "      <td>&lt;NA&gt;</td>\n",
       "      <td>&lt;NA&gt;</td>\n",
       "      <td>-1</td>\n",
       "      <td>-1</td>\n",
       "      <td>-1</td>\n",
       "      <td>-1</td>\n",
       "    </tr>\n",
       "    <tr>\n",
       "      <th>495</th>\n",
       "      <td>Data Scientist</td>\n",
       "      <td>95-119</td>\n",
       "      <td>Job Overview: The Data Scientist is a key memb...</td>\n",
       "      <td>0.0</td>\n",
       "      <td>Hatch Data Inc</td>\n",
       "      <td>San Francisco, CA</td>\n",
       "      <td>&lt;NA&gt;</td>\n",
       "      <td>&lt;NA&gt;</td>\n",
       "      <td>-1</td>\n",
       "      <td>-1</td>\n",
       "      <td>-1</td>\n",
       "      <td>-1</td>\n",
       "    </tr>\n",
       "    <tr>\n",
       "      <th>519</th>\n",
       "      <td>Scientist / Group Lead, Cancer Biology</td>\n",
       "      <td>212-331</td>\n",
       "      <td>Scientist / Group Lead, Cancer Biology: Locati...</td>\n",
       "      <td>0.0</td>\n",
       "      <td>Monte Rosa Therapeutics</td>\n",
       "      <td>Cambridge, MA</td>\n",
       "      <td>&lt;NA&gt;</td>\n",
       "      <td>&lt;NA&gt;</td>\n",
       "      <td>-1</td>\n",
       "      <td>-1</td>\n",
       "      <td>-1</td>\n",
       "      <td>-1</td>\n",
       "    </tr>\n",
       "    <tr>\n",
       "      <th>555</th>\n",
       "      <td>Data Scientist</td>\n",
       "      <td>128-201</td>\n",
       "      <td>Job Description: As a Data Scientist, you will...</td>\n",
       "      <td>0.0</td>\n",
       "      <td>HireAi</td>\n",
       "      <td>San Francisco, CA</td>\n",
       "      <td>&lt;NA&gt;</td>\n",
       "      <td>&lt;NA&gt;</td>\n",
       "      <td>-1</td>\n",
       "      <td>-1</td>\n",
       "      <td>-1</td>\n",
       "      <td>-1</td>\n",
       "    </tr>\n",
       "    <tr>\n",
       "      <th>613</th>\n",
       "      <td>Data Scientist</td>\n",
       "      <td>87-141</td>\n",
       "      <td>DESCRIPTION: GrainBridge is seeking a talented...</td>\n",
       "      <td>0.0</td>\n",
       "      <td>GrainBridge, LLC</td>\n",
       "      <td>Omaha, NE</td>\n",
       "      <td>&lt;NA&gt;</td>\n",
       "      <td>&lt;NA&gt;</td>\n",
       "      <td>-1</td>\n",
       "      <td>-1</td>\n",
       "      <td>-1</td>\n",
       "      <td>-1</td>\n",
       "    </tr>\n",
       "    <tr>\n",
       "      <th>650</th>\n",
       "      <td>Scientist / Group Lead, Cancer Biology</td>\n",
       "      <td>92-155</td>\n",
       "      <td>Scientist / Group Lead, Cancer Biology: Locati...</td>\n",
       "      <td>0.0</td>\n",
       "      <td>Monte Rosa Therapeutics</td>\n",
       "      <td>Cambridge, MA</td>\n",
       "      <td>&lt;NA&gt;</td>\n",
       "      <td>&lt;NA&gt;</td>\n",
       "      <td>-1</td>\n",
       "      <td>-1</td>\n",
       "      <td>-1</td>\n",
       "      <td>-1</td>\n",
       "    </tr>\n",
       "    <tr>\n",
       "      <th>656</th>\n",
       "      <td>Data Scientist</td>\n",
       "      <td>105-167</td>\n",
       "      <td>Join our team dedicated to developing and exec...</td>\n",
       "      <td>0.0</td>\n",
       "      <td>Berico Technologies</td>\n",
       "      <td>Fort Belvoir, VA</td>\n",
       "      <td>&lt;NA&gt;</td>\n",
       "      <td>&lt;NA&gt;</td>\n",
       "      <td>-1</td>\n",
       "      <td>-1</td>\n",
       "      <td>-1</td>\n",
       "      <td>-1</td>\n",
       "    </tr>\n",
       "    <tr>\n",
       "      <th>657</th>\n",
       "      <td>Data Scientist</td>\n",
       "      <td>105-167</td>\n",
       "      <td>Overview: Good people, working with good peopl...</td>\n",
       "      <td>0.0</td>\n",
       "      <td>Kehe Food Distributors</td>\n",
       "      <td>Naperville, IL</td>\n",
       "      <td>&lt;NA&gt;</td>\n",
       "      <td>&lt;NA&gt;</td>\n",
       "      <td>-1</td>\n",
       "      <td>-1</td>\n",
       "      <td>-1</td>\n",
       "      <td>-1</td>\n",
       "    </tr>\n",
       "    <tr>\n",
       "      <th>660</th>\n",
       "      <td>Data Scientist</td>\n",
       "      <td>105-167</td>\n",
       "      <td>Location: Redmond, WA: Client: Microsoft (Un-M...</td>\n",
       "      <td>0.0</td>\n",
       "      <td>Pactera Edge</td>\n",
       "      <td>Redmond, WA</td>\n",
       "      <td>&lt;NA&gt;</td>\n",
       "      <td>&lt;NA&gt;</td>\n",
       "      <td>-1</td>\n",
       "      <td>-1</td>\n",
       "      <td>-1</td>\n",
       "      <td>-1</td>\n",
       "    </tr>\n",
       "    <tr>\n",
       "      <th>668</th>\n",
       "      <td>Data Scientist</td>\n",
       "      <td>105-167</td>\n",
       "      <td>Job Description: Become a thought leader withi...</td>\n",
       "      <td>0.0</td>\n",
       "      <td>JKGT</td>\n",
       "      <td>San Francisco, CA</td>\n",
       "      <td>&lt;NA&gt;</td>\n",
       "      <td>&lt;NA&gt;</td>\n",
       "      <td>-1</td>\n",
       "      <td>-1</td>\n",
       "      <td>-1</td>\n",
       "      <td>-1</td>\n",
       "    </tr>\n",
       "    <tr>\n",
       "      <th>669</th>\n",
       "      <td>Data Scientist</td>\n",
       "      <td>105-167</td>\n",
       "      <td>Join a thriving company that is changing the w...</td>\n",
       "      <td>0.0</td>\n",
       "      <td>AccessHope</td>\n",
       "      <td>Irwindale, CA</td>\n",
       "      <td>&lt;NA&gt;</td>\n",
       "      <td>&lt;NA&gt;</td>\n",
       "      <td>-1</td>\n",
       "      <td>-1</td>\n",
       "      <td>-1</td>\n",
       "      <td>-1</td>\n",
       "    </tr>\n",
       "  </tbody>\n",
       "</table>\n",
       "</div>"
      ],
      "text/plain": [
       "                                    Job_Title Salary_Estimate  \\\n",
       "index                                                           \n",
       "154          ELISA RESEARCH SCIENTIST (CV-15)         90-109    \n",
       "158                 Machine Learning Engineer        101-165    \n",
       "351                            Data Scientist        122-146    \n",
       "357                            Data Scientist        122-146    \n",
       "388                            Data Scientist        110-163    \n",
       "459                            Data Scientist         69-116    \n",
       "495                            Data Scientist         95-119    \n",
       "519    Scientist / Group Lead, Cancer Biology        212-331    \n",
       "555                            Data Scientist        128-201    \n",
       "613                            Data Scientist         87-141    \n",
       "650    Scientist / Group Lead, Cancer Biology         92-155    \n",
       "656                            Data Scientist        105-167    \n",
       "657                            Data Scientist        105-167    \n",
       "660                            Data Scientist        105-167    \n",
       "668                            Data Scientist        105-167    \n",
       "669                            Data Scientist        105-167    \n",
       "\n",
       "                                         Job_Description  Rating  \\\n",
       "index                                                              \n",
       "154    Covaxx, a subsidiary of the UBI Group, has joi...     0.0   \n",
       "158    Overview: Radical Convergence is a fast-paced ...     0.0   \n",
       "351    About Our AI/ML Team: Our mission is to build ...     0.0   \n",
       "357    Job Overview: The Data Scientist is a key memb...     0.0   \n",
       "388    Job Description: As a Data Scientist, you will...     0.0   \n",
       "459    We are looking for a highly motivated data sci...     0.0   \n",
       "495    Job Overview: The Data Scientist is a key memb...     0.0   \n",
       "519    Scientist / Group Lead, Cancer Biology: Locati...     0.0   \n",
       "555    Job Description: As a Data Scientist, you will...     0.0   \n",
       "613    DESCRIPTION: GrainBridge is seeking a talented...     0.0   \n",
       "650    Scientist / Group Lead, Cancer Biology: Locati...     0.0   \n",
       "656    Join our team dedicated to developing and exec...     0.0   \n",
       "657    Overview: Good people, working with good peopl...     0.0   \n",
       "660    Location: Redmond, WA: Client: Microsoft (Un-M...     0.0   \n",
       "668    Job Description: Become a thought leader withi...     0.0   \n",
       "669    Join a thriving company that is changing the w...     0.0   \n",
       "\n",
       "                   Company_Name           Location Headquarters  Size  \\\n",
       "index                                                                   \n",
       "154    Covid-19 Search Partners      Hauppauge, NY         <NA>  <NA>   \n",
       "158         Radical Convergence         Reston, VA         <NA>  <NA>   \n",
       "351            Point72 Ventures      Palo Alto, CA         <NA>  <NA>   \n",
       "357              Hatch Data Inc  San Francisco, CA         <NA>  <NA>   \n",
       "388                      HireAi  San Francisco, CA         <NA>  <NA>   \n",
       "459              Blue Cloak LLC       Sterling, VA         <NA>  <NA>   \n",
       "495              Hatch Data Inc  San Francisco, CA         <NA>  <NA>   \n",
       "519     Monte Rosa Therapeutics      Cambridge, MA         <NA>  <NA>   \n",
       "555                      HireAi  San Francisco, CA         <NA>  <NA>   \n",
       "613            GrainBridge, LLC          Omaha, NE         <NA>  <NA>   \n",
       "650     Monte Rosa Therapeutics      Cambridge, MA         <NA>  <NA>   \n",
       "656         Berico Technologies   Fort Belvoir, VA         <NA>  <NA>   \n",
       "657      Kehe Food Distributors     Naperville, IL         <NA>  <NA>   \n",
       "660                Pactera Edge        Redmond, WA         <NA>  <NA>   \n",
       "668                        JKGT  San Francisco, CA         <NA>  <NA>   \n",
       "669                  AccessHope      Irwindale, CA         <NA>  <NA>   \n",
       "\n",
       "       Founded Ownership_Type Industry Revenue  \n",
       "index                                           \n",
       "154         -1             -1       -1      -1  \n",
       "158         -1             -1       -1      -1  \n",
       "351         -1             -1       -1      -1  \n",
       "357         -1             -1       -1      -1  \n",
       "388         -1             -1       -1      -1  \n",
       "459         -1             -1       -1      -1  \n",
       "495         -1             -1       -1      -1  \n",
       "519         -1             -1       -1      -1  \n",
       "555         -1             -1       -1      -1  \n",
       "613         -1             -1       -1      -1  \n",
       "650         -1             -1       -1      -1  \n",
       "656         -1             -1       -1      -1  \n",
       "657         -1             -1       -1      -1  \n",
       "660         -1             -1       -1      -1  \n",
       "668         -1             -1       -1      -1  \n",
       "669         -1             -1       -1      -1  "
      ]
     },
     "execution_count": 23,
     "metadata": {},
     "output_type": "execute_result"
    }
   ],
   "source": [
    "# Replace -1 values with Unknown\n",
    "df['Size'] = df['Size'].replace('-1', pd.NA)\n",
    "df[df['Size'].isnull()]"
   ]
  },
  {
   "cell_type": "code",
   "execution_count": 24,
   "id": "a3754b16-9eef-4ad8-bbd0-9de3a9d3f1ae",
   "metadata": {},
   "outputs": [
    {
     "data": {
      "text/html": [
       "<div>\n",
       "<style scoped>\n",
       "    .dataframe tbody tr th:only-of-type {\n",
       "        vertical-align: middle;\n",
       "    }\n",
       "\n",
       "    .dataframe tbody tr th {\n",
       "        vertical-align: top;\n",
       "    }\n",
       "\n",
       "    .dataframe thead th {\n",
       "        text-align: right;\n",
       "    }\n",
       "</style>\n",
       "<table border=\"1\" class=\"dataframe\">\n",
       "  <thead>\n",
       "    <tr style=\"text-align: right;\">\n",
       "      <th></th>\n",
       "      <th>Job_Title</th>\n",
       "      <th>Salary_Estimate</th>\n",
       "      <th>Job_Description</th>\n",
       "      <th>Rating</th>\n",
       "      <th>Company_Name</th>\n",
       "      <th>Location</th>\n",
       "      <th>Headquarters</th>\n",
       "      <th>Size</th>\n",
       "      <th>Founded</th>\n",
       "      <th>Ownership_Type</th>\n",
       "      <th>Industry</th>\n",
       "      <th>Revenue</th>\n",
       "    </tr>\n",
       "    <tr>\n",
       "      <th>index</th>\n",
       "      <th></th>\n",
       "      <th></th>\n",
       "      <th></th>\n",
       "      <th></th>\n",
       "      <th></th>\n",
       "      <th></th>\n",
       "      <th></th>\n",
       "      <th></th>\n",
       "      <th></th>\n",
       "      <th></th>\n",
       "      <th></th>\n",
       "      <th></th>\n",
       "    </tr>\n",
       "  </thead>\n",
       "  <tbody>\n",
       "    <tr>\n",
       "      <th>69</th>\n",
       "      <td>Data Scientist - Machine Learning</td>\n",
       "      <td>79-131</td>\n",
       "      <td>Headquartered in Brisbane, Calif., CareDx, Inc...</td>\n",
       "      <td>2.5</td>\n",
       "      <td>CareDx</td>\n",
       "      <td>Brisbane, CA</td>\n",
       "      <td>Brisbane, CA</td>\n",
       "      <td>1 to 50 employees</td>\n",
       "      <td>&lt;NA&gt;</td>\n",
       "      <td>Company - Private</td>\n",
       "      <td>Biotech &amp; Pharmaceuticals</td>\n",
       "      <td>Unknown / Non-Applicable</td>\n",
       "    </tr>\n",
       "    <tr>\n",
       "      <th>112</th>\n",
       "      <td>Data Scientist (TS/SCI)</td>\n",
       "      <td>99-132</td>\n",
       "      <td>Are you an intelligence analyst looking to fur...</td>\n",
       "      <td>3.5</td>\n",
       "      <td>Maxar Technologies</td>\n",
       "      <td>Herndon, VA</td>\n",
       "      <td>Westminster, CO</td>\n",
       "      <td>5001 to 10000 employees</td>\n",
       "      <td>&lt;NA&gt;</td>\n",
       "      <td>Company - Public</td>\n",
       "      <td>Aerospace &amp; Defense</td>\n",
       "      <td>$2 to $5 billion (USD)</td>\n",
       "    </tr>\n",
       "    <tr>\n",
       "      <th>154</th>\n",
       "      <td>ELISA RESEARCH SCIENTIST (CV-15)</td>\n",
       "      <td>90-109</td>\n",
       "      <td>Covaxx, a subsidiary of the UBI Group, has joi...</td>\n",
       "      <td>0.0</td>\n",
       "      <td>Covid-19 Search Partners</td>\n",
       "      <td>Hauppauge, NY</td>\n",
       "      <td>&lt;NA&gt;</td>\n",
       "      <td>&lt;NA&gt;</td>\n",
       "      <td>&lt;NA&gt;</td>\n",
       "      <td>-1</td>\n",
       "      <td>-1</td>\n",
       "      <td>-1</td>\n",
       "    </tr>\n",
       "    <tr>\n",
       "      <th>158</th>\n",
       "      <td>Machine Learning Engineer</td>\n",
       "      <td>101-165</td>\n",
       "      <td>Overview: Radical Convergence is a fast-paced ...</td>\n",
       "      <td>0.0</td>\n",
       "      <td>Radical Convergence</td>\n",
       "      <td>Reston, VA</td>\n",
       "      <td>&lt;NA&gt;</td>\n",
       "      <td>&lt;NA&gt;</td>\n",
       "      <td>&lt;NA&gt;</td>\n",
       "      <td>-1</td>\n",
       "      <td>-1</td>\n",
       "      <td>-1</td>\n",
       "    </tr>\n",
       "    <tr>\n",
       "      <th>162</th>\n",
       "      <td>Geospatial Data Scientist</td>\n",
       "      <td>101-165</td>\n",
       "      <td>Maxar is seeking a seasoned Geospatial Data Sp...</td>\n",
       "      <td>3.5</td>\n",
       "      <td>Maxar Technologies</td>\n",
       "      <td>Chantilly, VA</td>\n",
       "      <td>Westminster, CO</td>\n",
       "      <td>5001 to 10000 employees</td>\n",
       "      <td>&lt;NA&gt;</td>\n",
       "      <td>Company - Public</td>\n",
       "      <td>Aerospace &amp; Defense</td>\n",
       "      <td>$2 to $5 billion (USD)</td>\n",
       "    </tr>\n",
       "  </tbody>\n",
       "</table>\n",
       "</div>"
      ],
      "text/plain": [
       "                               Job_Title Salary_Estimate  \\\n",
       "index                                                      \n",
       "69     Data Scientist - Machine Learning         79-131    \n",
       "112              Data Scientist (TS/SCI)         99-132    \n",
       "154     ELISA RESEARCH SCIENTIST (CV-15)         90-109    \n",
       "158            Machine Learning Engineer        101-165    \n",
       "162            Geospatial Data Scientist        101-165    \n",
       "\n",
       "                                         Job_Description  Rating  \\\n",
       "index                                                              \n",
       "69     Headquartered in Brisbane, Calif., CareDx, Inc...     2.5   \n",
       "112    Are you an intelligence analyst looking to fur...     3.5   \n",
       "154    Covaxx, a subsidiary of the UBI Group, has joi...     0.0   \n",
       "158    Overview: Radical Convergence is a fast-paced ...     0.0   \n",
       "162    Maxar is seeking a seasoned Geospatial Data Sp...     3.5   \n",
       "\n",
       "                   Company_Name       Location     Headquarters  \\\n",
       "index                                                             \n",
       "69                       CareDx   Brisbane, CA     Brisbane, CA   \n",
       "112          Maxar Technologies    Herndon, VA  Westminster, CO   \n",
       "154    Covid-19 Search Partners  Hauppauge, NY             <NA>   \n",
       "158         Radical Convergence     Reston, VA             <NA>   \n",
       "162          Maxar Technologies  Chantilly, VA  Westminster, CO   \n",
       "\n",
       "                          Size Founded     Ownership_Type  \\\n",
       "index                                                       \n",
       "69           1 to 50 employees    <NA>  Company - Private   \n",
       "112    5001 to 10000 employees    <NA>   Company - Public   \n",
       "154                       <NA>    <NA>                 -1   \n",
       "158                       <NA>    <NA>                 -1   \n",
       "162    5001 to 10000 employees    <NA>   Company - Public   \n",
       "\n",
       "                        Industry                   Revenue  \n",
       "index                                                       \n",
       "69     Biotech & Pharmaceuticals  Unknown / Non-Applicable  \n",
       "112          Aerospace & Defense    $2 to $5 billion (USD)  \n",
       "154                           -1                        -1  \n",
       "158                           -1                        -1  \n",
       "162          Aerospace & Defense    $2 to $5 billion (USD)  "
      ]
     },
     "execution_count": 24,
     "metadata": {},
     "output_type": "execute_result"
    }
   ],
   "source": [
    "# Output NA values \n",
    "df['Founded'] = df['Founded'].replace(to_replace= -1, value = pd.NA)\n",
    "df[df['Founded'].isnull()].head()"
   ]
  },
  {
   "cell_type": "code",
   "execution_count": 25,
   "id": "ca504c74-0c62-44ac-b6fa-4a287e6ce67b",
   "metadata": {},
   "outputs": [
    {
     "data": {
      "text/html": [
       "<div>\n",
       "<style scoped>\n",
       "    .dataframe tbody tr th:only-of-type {\n",
       "        vertical-align: middle;\n",
       "    }\n",
       "\n",
       "    .dataframe tbody tr th {\n",
       "        vertical-align: top;\n",
       "    }\n",
       "\n",
       "    .dataframe thead th {\n",
       "        text-align: right;\n",
       "    }\n",
       "</style>\n",
       "<table border=\"1\" class=\"dataframe\">\n",
       "  <thead>\n",
       "    <tr style=\"text-align: right;\">\n",
       "      <th></th>\n",
       "      <th>Job_Title</th>\n",
       "      <th>Salary_Estimate</th>\n",
       "      <th>Job_Description</th>\n",
       "      <th>Rating</th>\n",
       "      <th>Company_Name</th>\n",
       "      <th>Location</th>\n",
       "      <th>Headquarters</th>\n",
       "      <th>Size</th>\n",
       "      <th>Founded</th>\n",
       "      <th>Ownership_Type</th>\n",
       "      <th>Industry</th>\n",
       "      <th>Revenue</th>\n",
       "    </tr>\n",
       "    <tr>\n",
       "      <th>index</th>\n",
       "      <th></th>\n",
       "      <th></th>\n",
       "      <th></th>\n",
       "      <th></th>\n",
       "      <th></th>\n",
       "      <th></th>\n",
       "      <th></th>\n",
       "      <th></th>\n",
       "      <th></th>\n",
       "      <th></th>\n",
       "      <th></th>\n",
       "      <th></th>\n",
       "    </tr>\n",
       "  </thead>\n",
       "  <tbody>\n",
       "    <tr>\n",
       "      <th>0</th>\n",
       "      <td>Sr Data Scientist</td>\n",
       "      <td>137-171</td>\n",
       "      <td>Description: The Senior Data Scientist is resp...</td>\n",
       "      <td>3.1</td>\n",
       "      <td>Healthfirst</td>\n",
       "      <td>New York, NY</td>\n",
       "      <td>New York, NY</td>\n",
       "      <td>1001 to 5000 employees</td>\n",
       "      <td>1993</td>\n",
       "      <td>Nonprofit Organization</td>\n",
       "      <td>Insurance Carriers</td>\n",
       "      <td>Unknown / Non-Applicable</td>\n",
       "    </tr>\n",
       "    <tr>\n",
       "      <th>1</th>\n",
       "      <td>Data Scientist</td>\n",
       "      <td>137-171</td>\n",
       "      <td>Secure our Nation, Ignite your Future: Join th...</td>\n",
       "      <td>4.2</td>\n",
       "      <td>ManTech</td>\n",
       "      <td>Chantilly, VA</td>\n",
       "      <td>Herndon, VA</td>\n",
       "      <td>5001 to 10000 employees</td>\n",
       "      <td>1968</td>\n",
       "      <td>Company - Public</td>\n",
       "      <td>Research &amp; Development</td>\n",
       "      <td>$1 to $2 billion (USD)</td>\n",
       "    </tr>\n",
       "    <tr>\n",
       "      <th>2</th>\n",
       "      <td>Data Scientist</td>\n",
       "      <td>137-171</td>\n",
       "      <td>Overview: Analysis Group is one of the largest...</td>\n",
       "      <td>3.8</td>\n",
       "      <td>Analysis Group</td>\n",
       "      <td>Boston, MA</td>\n",
       "      <td>Boston, MA</td>\n",
       "      <td>1001 to 5000 employees</td>\n",
       "      <td>1981</td>\n",
       "      <td>Private Practice / Firm</td>\n",
       "      <td>Consulting</td>\n",
       "      <td>$100 to $500 million (USD)</td>\n",
       "    </tr>\n",
       "    <tr>\n",
       "      <th>3</th>\n",
       "      <td>Data Scientist</td>\n",
       "      <td>137-171</td>\n",
       "      <td>JOB DESCRIPTION:  Do you have a passion for Da...</td>\n",
       "      <td>3.5</td>\n",
       "      <td>INFICON</td>\n",
       "      <td>Newton, MA</td>\n",
       "      <td>Bad Ragaz, Switzerland</td>\n",
       "      <td>501 to 1000 employees</td>\n",
       "      <td>2000</td>\n",
       "      <td>Company - Public</td>\n",
       "      <td>Electrical &amp; Electronic Manufacturing</td>\n",
       "      <td>$100 to $500 million (USD)</td>\n",
       "    </tr>\n",
       "    <tr>\n",
       "      <th>4</th>\n",
       "      <td>Data Scientist</td>\n",
       "      <td>137-171</td>\n",
       "      <td>Data Scientist: Affinity Solutions / Marketing...</td>\n",
       "      <td>2.9</td>\n",
       "      <td>Affinity Solutions</td>\n",
       "      <td>New York, NY</td>\n",
       "      <td>New York, NY</td>\n",
       "      <td>51 to 200 employees</td>\n",
       "      <td>1998</td>\n",
       "      <td>Company - Private</td>\n",
       "      <td>Advertising &amp; Marketing</td>\n",
       "      <td>Unknown / Non-Applicable</td>\n",
       "    </tr>\n",
       "  </tbody>\n",
       "</table>\n",
       "</div>"
      ],
      "text/plain": [
       "               Job_Title Salary_Estimate  \\\n",
       "index                                      \n",
       "0      Sr Data Scientist        137-171    \n",
       "1         Data Scientist        137-171    \n",
       "2         Data Scientist        137-171    \n",
       "3         Data Scientist        137-171    \n",
       "4         Data Scientist        137-171    \n",
       "\n",
       "                                         Job_Description  Rating  \\\n",
       "index                                                              \n",
       "0      Description: The Senior Data Scientist is resp...     3.1   \n",
       "1      Secure our Nation, Ignite your Future: Join th...     4.2   \n",
       "2      Overview: Analysis Group is one of the largest...     3.8   \n",
       "3      JOB DESCRIPTION:  Do you have a passion for Da...     3.5   \n",
       "4      Data Scientist: Affinity Solutions / Marketing...     2.9   \n",
       "\n",
       "             Company_Name       Location            Headquarters  \\\n",
       "index                                                              \n",
       "0             Healthfirst   New York, NY            New York, NY   \n",
       "1                 ManTech  Chantilly, VA             Herndon, VA   \n",
       "2          Analysis Group     Boston, MA              Boston, MA   \n",
       "3                 INFICON     Newton, MA  Bad Ragaz, Switzerland   \n",
       "4      Affinity Solutions   New York, NY            New York, NY   \n",
       "\n",
       "                          Size Founded           Ownership_Type  \\\n",
       "index                                                             \n",
       "0       1001 to 5000 employees    1993   Nonprofit Organization   \n",
       "1      5001 to 10000 employees    1968         Company - Public   \n",
       "2       1001 to 5000 employees    1981  Private Practice / Firm   \n",
       "3        501 to 1000 employees    2000         Company - Public   \n",
       "4          51 to 200 employees    1998        Company - Private   \n",
       "\n",
       "                                    Industry                     Revenue  \n",
       "index                                                                     \n",
       "0                         Insurance Carriers    Unknown / Non-Applicable  \n",
       "1                     Research & Development      $1 to $2 billion (USD)  \n",
       "2                                 Consulting  $100 to $500 million (USD)  \n",
       "3      Electrical & Electronic Manufacturing  $100 to $500 million (USD)  \n",
       "4                    Advertising & Marketing    Unknown / Non-Applicable  "
      ]
     },
     "execution_count": 25,
     "metadata": {},
     "output_type": "execute_result"
    }
   ],
   "source": [
    "df.head()"
   ]
  },
  {
   "cell_type": "code",
   "execution_count": 26,
   "id": "d1a84907-ddee-493f-84e1-9f96b2c3a74c",
   "metadata": {},
   "outputs": [
    {
     "data": {
      "text/html": [
       "<div>\n",
       "<style scoped>\n",
       "    .dataframe tbody tr th:only-of-type {\n",
       "        vertical-align: middle;\n",
       "    }\n",
       "\n",
       "    .dataframe tbody tr th {\n",
       "        vertical-align: top;\n",
       "    }\n",
       "\n",
       "    .dataframe thead th {\n",
       "        text-align: right;\n",
       "    }\n",
       "</style>\n",
       "<table border=\"1\" class=\"dataframe\">\n",
       "  <thead>\n",
       "    <tr style=\"text-align: right;\">\n",
       "      <th></th>\n",
       "      <th>Job_Title</th>\n",
       "      <th>Salary_Estimate</th>\n",
       "      <th>Job_Description</th>\n",
       "      <th>Rating</th>\n",
       "      <th>Company_Name</th>\n",
       "      <th>Location</th>\n",
       "      <th>Headquarters</th>\n",
       "      <th>Size</th>\n",
       "      <th>Founded</th>\n",
       "      <th>Ownership_Type</th>\n",
       "      <th>Industry</th>\n",
       "      <th>Revenue</th>\n",
       "    </tr>\n",
       "    <tr>\n",
       "      <th>index</th>\n",
       "      <th></th>\n",
       "      <th></th>\n",
       "      <th></th>\n",
       "      <th></th>\n",
       "      <th></th>\n",
       "      <th></th>\n",
       "      <th></th>\n",
       "      <th></th>\n",
       "      <th></th>\n",
       "      <th></th>\n",
       "      <th></th>\n",
       "      <th></th>\n",
       "    </tr>\n",
       "  </thead>\n",
       "  <tbody>\n",
       "    <tr>\n",
       "      <th>154</th>\n",
       "      <td>ELISA RESEARCH SCIENTIST (CV-15)</td>\n",
       "      <td>90-109</td>\n",
       "      <td>Covaxx, a subsidiary of the UBI Group, has joi...</td>\n",
       "      <td>0.0</td>\n",
       "      <td>Covid-19 Search Partners</td>\n",
       "      <td>Hauppauge, NY</td>\n",
       "      <td>&lt;NA&gt;</td>\n",
       "      <td>&lt;NA&gt;</td>\n",
       "      <td>&lt;NA&gt;</td>\n",
       "      <td>&lt;NA&gt;</td>\n",
       "      <td>&lt;NA&gt;</td>\n",
       "      <td>&lt;NA&gt;</td>\n",
       "    </tr>\n",
       "    <tr>\n",
       "      <th>158</th>\n",
       "      <td>Machine Learning Engineer</td>\n",
       "      <td>101-165</td>\n",
       "      <td>Overview: Radical Convergence is a fast-paced ...</td>\n",
       "      <td>0.0</td>\n",
       "      <td>Radical Convergence</td>\n",
       "      <td>Reston, VA</td>\n",
       "      <td>&lt;NA&gt;</td>\n",
       "      <td>&lt;NA&gt;</td>\n",
       "      <td>&lt;NA&gt;</td>\n",
       "      <td>&lt;NA&gt;</td>\n",
       "      <td>&lt;NA&gt;</td>\n",
       "      <td>&lt;NA&gt;</td>\n",
       "    </tr>\n",
       "    <tr>\n",
       "      <th>351</th>\n",
       "      <td>Data Scientist</td>\n",
       "      <td>122-146</td>\n",
       "      <td>About Our AI/ML Team: Our mission is to build ...</td>\n",
       "      <td>0.0</td>\n",
       "      <td>Point72 Ventures</td>\n",
       "      <td>Palo Alto, CA</td>\n",
       "      <td>&lt;NA&gt;</td>\n",
       "      <td>&lt;NA&gt;</td>\n",
       "      <td>&lt;NA&gt;</td>\n",
       "      <td>&lt;NA&gt;</td>\n",
       "      <td>&lt;NA&gt;</td>\n",
       "      <td>&lt;NA&gt;</td>\n",
       "    </tr>\n",
       "    <tr>\n",
       "      <th>357</th>\n",
       "      <td>Data Scientist</td>\n",
       "      <td>122-146</td>\n",
       "      <td>Job Overview: The Data Scientist is a key memb...</td>\n",
       "      <td>0.0</td>\n",
       "      <td>Hatch Data Inc</td>\n",
       "      <td>San Francisco, CA</td>\n",
       "      <td>&lt;NA&gt;</td>\n",
       "      <td>&lt;NA&gt;</td>\n",
       "      <td>&lt;NA&gt;</td>\n",
       "      <td>&lt;NA&gt;</td>\n",
       "      <td>&lt;NA&gt;</td>\n",
       "      <td>&lt;NA&gt;</td>\n",
       "    </tr>\n",
       "    <tr>\n",
       "      <th>388</th>\n",
       "      <td>Data Scientist</td>\n",
       "      <td>110-163</td>\n",
       "      <td>Job Description: As a Data Scientist, you will...</td>\n",
       "      <td>0.0</td>\n",
       "      <td>HireAi</td>\n",
       "      <td>San Francisco, CA</td>\n",
       "      <td>&lt;NA&gt;</td>\n",
       "      <td>&lt;NA&gt;</td>\n",
       "      <td>&lt;NA&gt;</td>\n",
       "      <td>&lt;NA&gt;</td>\n",
       "      <td>&lt;NA&gt;</td>\n",
       "      <td>&lt;NA&gt;</td>\n",
       "    </tr>\n",
       "  </tbody>\n",
       "</table>\n",
       "</div>"
      ],
      "text/plain": [
       "                              Job_Title Salary_Estimate  \\\n",
       "index                                                     \n",
       "154    ELISA RESEARCH SCIENTIST (CV-15)         90-109    \n",
       "158           Machine Learning Engineer        101-165    \n",
       "351                      Data Scientist        122-146    \n",
       "357                      Data Scientist        122-146    \n",
       "388                      Data Scientist        110-163    \n",
       "\n",
       "                                         Job_Description  Rating  \\\n",
       "index                                                              \n",
       "154    Covaxx, a subsidiary of the UBI Group, has joi...     0.0   \n",
       "158    Overview: Radical Convergence is a fast-paced ...     0.0   \n",
       "351    About Our AI/ML Team: Our mission is to build ...     0.0   \n",
       "357    Job Overview: The Data Scientist is a key memb...     0.0   \n",
       "388    Job Description: As a Data Scientist, you will...     0.0   \n",
       "\n",
       "                   Company_Name           Location Headquarters  Size Founded  \\\n",
       "index                                                                           \n",
       "154    Covid-19 Search Partners      Hauppauge, NY         <NA>  <NA>    <NA>   \n",
       "158         Radical Convergence         Reston, VA         <NA>  <NA>    <NA>   \n",
       "351            Point72 Ventures      Palo Alto, CA         <NA>  <NA>    <NA>   \n",
       "357              Hatch Data Inc  San Francisco, CA         <NA>  <NA>    <NA>   \n",
       "388                      HireAi  San Francisco, CA         <NA>  <NA>    <NA>   \n",
       "\n",
       "      Ownership_Type Industry Revenue  \n",
       "index                                  \n",
       "154             <NA>     <NA>    <NA>  \n",
       "158             <NA>     <NA>    <NA>  \n",
       "351             <NA>     <NA>    <NA>  \n",
       "357             <NA>     <NA>    <NA>  \n",
       "388             <NA>     <NA>    <NA>  "
      ]
     },
     "execution_count": 26,
     "metadata": {},
     "output_type": "execute_result"
    }
   ],
   "source": [
    "# Create function to replace values for remaining columns\n",
    "col_rep = ['Ownership_Type', 'Industry', 'Revenue']\n",
    "def rep_remaining(df):\n",
    "    return df[col_rep].replace('-1', pd.NA)\n",
    "\n",
    "df[col_rep] = rep_remaining(df[col_rep])\n",
    "df[df['Ownership_Type'].isnull()].head()"
   ]
  },
  {
   "cell_type": "code",
   "execution_count": 27,
   "id": "56c94763-0b56-42ef-86f2-1e39b1cc8bb7",
   "metadata": {},
   "outputs": [
    {
     "data": {
      "text/plain": [
       "Ownership_Type    16\n",
       "Industry          60\n",
       "Revenue           16\n",
       "dtype: int64"
      ]
     },
     "execution_count": 27,
     "metadata": {},
     "output_type": "execute_result"
    }
   ],
   "source": [
    "df.loc[:, ['Ownership_Type', 'Industry', 'Revenue']].isna().sum()"
   ]
  },
  {
   "cell_type": "code",
   "execution_count": 28,
   "id": "bb8a0445-99d5-424d-90b7-f1517fdd7b06",
   "metadata": {},
   "outputs": [],
   "source": [
    "# Create new columns to get min and max salaries\n",
    "df[['min_salary', 'max_salary']] = (df['Salary_Estimate']\n",
    "                                    .str.split('-', expand=True)\n",
    "                                    .apply(pd.to_numeric, errors='coerce'))"
   ]
  },
  {
   "cell_type": "code",
   "execution_count": 29,
   "id": "31909d35-8448-4410-911e-0d16e3ab4199",
   "metadata": {},
   "outputs": [
    {
     "data": {
      "text/html": [
       "<div>\n",
       "<style scoped>\n",
       "    .dataframe tbody tr th:only-of-type {\n",
       "        vertical-align: middle;\n",
       "    }\n",
       "\n",
       "    .dataframe tbody tr th {\n",
       "        vertical-align: top;\n",
       "    }\n",
       "\n",
       "    .dataframe thead th {\n",
       "        text-align: right;\n",
       "    }\n",
       "</style>\n",
       "<table border=\"1\" class=\"dataframe\">\n",
       "  <thead>\n",
       "    <tr style=\"text-align: right;\">\n",
       "      <th></th>\n",
       "      <th>Job_Title</th>\n",
       "      <th>Salary_Estimate</th>\n",
       "      <th>Job_Description</th>\n",
       "      <th>Rating</th>\n",
       "      <th>Company_Name</th>\n",
       "      <th>Location</th>\n",
       "      <th>Headquarters</th>\n",
       "      <th>Size</th>\n",
       "      <th>Founded</th>\n",
       "      <th>Ownership_Type</th>\n",
       "      <th>Industry</th>\n",
       "      <th>Revenue</th>\n",
       "      <th>min_salary</th>\n",
       "      <th>max_salary</th>\n",
       "      <th>avg_salary</th>\n",
       "    </tr>\n",
       "    <tr>\n",
       "      <th>index</th>\n",
       "      <th></th>\n",
       "      <th></th>\n",
       "      <th></th>\n",
       "      <th></th>\n",
       "      <th></th>\n",
       "      <th></th>\n",
       "      <th></th>\n",
       "      <th></th>\n",
       "      <th></th>\n",
       "      <th></th>\n",
       "      <th></th>\n",
       "      <th></th>\n",
       "      <th></th>\n",
       "      <th></th>\n",
       "      <th></th>\n",
       "    </tr>\n",
       "  </thead>\n",
       "  <tbody>\n",
       "    <tr>\n",
       "      <th>0</th>\n",
       "      <td>Sr Data Scientist</td>\n",
       "      <td>137-171</td>\n",
       "      <td>Description: The Senior Data Scientist is resp...</td>\n",
       "      <td>3.1</td>\n",
       "      <td>Healthfirst</td>\n",
       "      <td>New York, NY</td>\n",
       "      <td>New York, NY</td>\n",
       "      <td>1001 to 5000 employees</td>\n",
       "      <td>1993</td>\n",
       "      <td>Nonprofit Organization</td>\n",
       "      <td>Insurance Carriers</td>\n",
       "      <td>Unknown / Non-Applicable</td>\n",
       "      <td>137</td>\n",
       "      <td>171</td>\n",
       "      <td>154</td>\n",
       "    </tr>\n",
       "    <tr>\n",
       "      <th>1</th>\n",
       "      <td>Data Scientist</td>\n",
       "      <td>137-171</td>\n",
       "      <td>Secure our Nation, Ignite your Future: Join th...</td>\n",
       "      <td>4.2</td>\n",
       "      <td>ManTech</td>\n",
       "      <td>Chantilly, VA</td>\n",
       "      <td>Herndon, VA</td>\n",
       "      <td>5001 to 10000 employees</td>\n",
       "      <td>1968</td>\n",
       "      <td>Company - Public</td>\n",
       "      <td>Research &amp; Development</td>\n",
       "      <td>$1 to $2 billion (USD)</td>\n",
       "      <td>137</td>\n",
       "      <td>171</td>\n",
       "      <td>154</td>\n",
       "    </tr>\n",
       "    <tr>\n",
       "      <th>2</th>\n",
       "      <td>Data Scientist</td>\n",
       "      <td>137-171</td>\n",
       "      <td>Overview: Analysis Group is one of the largest...</td>\n",
       "      <td>3.8</td>\n",
       "      <td>Analysis Group</td>\n",
       "      <td>Boston, MA</td>\n",
       "      <td>Boston, MA</td>\n",
       "      <td>1001 to 5000 employees</td>\n",
       "      <td>1981</td>\n",
       "      <td>Private Practice / Firm</td>\n",
       "      <td>Consulting</td>\n",
       "      <td>$100 to $500 million (USD)</td>\n",
       "      <td>137</td>\n",
       "      <td>171</td>\n",
       "      <td>154</td>\n",
       "    </tr>\n",
       "    <tr>\n",
       "      <th>3</th>\n",
       "      <td>Data Scientist</td>\n",
       "      <td>137-171</td>\n",
       "      <td>JOB DESCRIPTION:  Do you have a passion for Da...</td>\n",
       "      <td>3.5</td>\n",
       "      <td>INFICON</td>\n",
       "      <td>Newton, MA</td>\n",
       "      <td>Bad Ragaz, Switzerland</td>\n",
       "      <td>501 to 1000 employees</td>\n",
       "      <td>2000</td>\n",
       "      <td>Company - Public</td>\n",
       "      <td>Electrical &amp; Electronic Manufacturing</td>\n",
       "      <td>$100 to $500 million (USD)</td>\n",
       "      <td>137</td>\n",
       "      <td>171</td>\n",
       "      <td>154</td>\n",
       "    </tr>\n",
       "    <tr>\n",
       "      <th>4</th>\n",
       "      <td>Data Scientist</td>\n",
       "      <td>137-171</td>\n",
       "      <td>Data Scientist: Affinity Solutions / Marketing...</td>\n",
       "      <td>2.9</td>\n",
       "      <td>Affinity Solutions</td>\n",
       "      <td>New York, NY</td>\n",
       "      <td>New York, NY</td>\n",
       "      <td>51 to 200 employees</td>\n",
       "      <td>1998</td>\n",
       "      <td>Company - Private</td>\n",
       "      <td>Advertising &amp; Marketing</td>\n",
       "      <td>Unknown / Non-Applicable</td>\n",
       "      <td>137</td>\n",
       "      <td>171</td>\n",
       "      <td>154</td>\n",
       "    </tr>\n",
       "  </tbody>\n",
       "</table>\n",
       "</div>"
      ],
      "text/plain": [
       "               Job_Title Salary_Estimate  \\\n",
       "index                                      \n",
       "0      Sr Data Scientist        137-171    \n",
       "1         Data Scientist        137-171    \n",
       "2         Data Scientist        137-171    \n",
       "3         Data Scientist        137-171    \n",
       "4         Data Scientist        137-171    \n",
       "\n",
       "                                         Job_Description  Rating  \\\n",
       "index                                                              \n",
       "0      Description: The Senior Data Scientist is resp...     3.1   \n",
       "1      Secure our Nation, Ignite your Future: Join th...     4.2   \n",
       "2      Overview: Analysis Group is one of the largest...     3.8   \n",
       "3      JOB DESCRIPTION:  Do you have a passion for Da...     3.5   \n",
       "4      Data Scientist: Affinity Solutions / Marketing...     2.9   \n",
       "\n",
       "             Company_Name       Location            Headquarters  \\\n",
       "index                                                              \n",
       "0             Healthfirst   New York, NY            New York, NY   \n",
       "1                 ManTech  Chantilly, VA             Herndon, VA   \n",
       "2          Analysis Group     Boston, MA              Boston, MA   \n",
       "3                 INFICON     Newton, MA  Bad Ragaz, Switzerland   \n",
       "4      Affinity Solutions   New York, NY            New York, NY   \n",
       "\n",
       "                          Size Founded           Ownership_Type  \\\n",
       "index                                                             \n",
       "0       1001 to 5000 employees    1993   Nonprofit Organization   \n",
       "1      5001 to 10000 employees    1968         Company - Public   \n",
       "2       1001 to 5000 employees    1981  Private Practice / Firm   \n",
       "3        501 to 1000 employees    2000         Company - Public   \n",
       "4          51 to 200 employees    1998        Company - Private   \n",
       "\n",
       "                                    Industry                     Revenue  \\\n",
       "index                                                                      \n",
       "0                         Insurance Carriers    Unknown / Non-Applicable   \n",
       "1                     Research & Development      $1 to $2 billion (USD)   \n",
       "2                                 Consulting  $100 to $500 million (USD)   \n",
       "3      Electrical & Electronic Manufacturing  $100 to $500 million (USD)   \n",
       "4                    Advertising & Marketing    Unknown / Non-Applicable   \n",
       "\n",
       "       min_salary  max_salary  avg_salary  \n",
       "index                                      \n",
       "0             137         171         154  \n",
       "1             137         171         154  \n",
       "2             137         171         154  \n",
       "3             137         171         154  \n",
       "4             137         171         154  "
      ]
     },
     "execution_count": 29,
     "metadata": {},
     "output_type": "execute_result"
    }
   ],
   "source": [
    "# Get average salaries\n",
    "df['avg_salary'] = (df['min_salary'] + df['max_salary']) // 2\n",
    "df.head()"
   ]
  },
  {
   "cell_type": "code",
   "execution_count": 30,
   "id": "05d1250b-6578-44b5-a03a-250edf7621f3",
   "metadata": {},
   "outputs": [
    {
     "data": {
      "text/plain": [
       "min_salary    0\n",
       "max_salary    0\n",
       "avg_salary    0\n",
       "dtype: int64"
      ]
     },
     "execution_count": 30,
     "metadata": {},
     "output_type": "execute_result"
    }
   ],
   "source": [
    "df.loc[:, ['min_salary', 'max_salary', 'avg_salary']].isna().sum()"
   ]
  },
  {
   "cell_type": "code",
   "execution_count": 31,
   "id": "396beffa-9b2d-42ac-aa6a-1e4d594a4c38",
   "metadata": {},
   "outputs": [
    {
     "data": {
      "text/plain": [
       "count    659.000000\n",
       "mean      99.066768\n",
       "std       33.266335\n",
       "min       31.000000\n",
       "25%       79.000000\n",
       "50%       91.000000\n",
       "75%      122.000000\n",
       "max      212.000000\n",
       "Name: min_salary, dtype: float64"
      ]
     },
     "execution_count": 31,
     "metadata": {},
     "output_type": "execute_result"
    }
   ],
   "source": [
    "df['min_salary'].describe()"
   ]
  },
  {
   "cell_type": "code",
   "execution_count": 32,
   "id": "940fe588-072a-424b-889f-fdeb4cedc497",
   "metadata": {},
   "outputs": [
    {
     "data": {
      "text/plain": [
       "count    659.000000\n",
       "mean     148.464340\n",
       "std       48.387744\n",
       "min       56.000000\n",
       "25%      119.000000\n",
       "50%      133.000000\n",
       "75%      165.000000\n",
       "max      331.000000\n",
       "Name: max_salary, dtype: float64"
      ]
     },
     "execution_count": 32,
     "metadata": {},
     "output_type": "execute_result"
    }
   ],
   "source": [
    "df['max_salary'].describe()"
   ]
  },
  {
   "cell_type": "code",
   "execution_count": 33,
   "id": "ddfb2b72-43c1-450c-8e5f-9db4767e251e",
   "metadata": {},
   "outputs": [],
   "source": [
    "# Keywords to search for\n",
    "key = ['python', 'excel', 'hadoop', 'spark', 'tableau', 'aws', 'big data', 'machine learning']\n",
    "# Checks each row for keywords and return series of 1s or 0s\n",
    "def check_keyword(row):\n",
    "    return pd.Series({keyword: int(keyword in row['Job_Description'].lower()) for keyword in key})\n",
    "# Apply to each row and join to original dataframe\n",
    "df = df.join(df.apply(check_keyword, axis=1))"
   ]
  },
  {
   "cell_type": "code",
   "execution_count": 34,
   "id": "358c5f99-7646-409b-84fe-752915235a74",
   "metadata": {},
   "outputs": [
    {
     "data": {
      "text/html": [
       "<div>\n",
       "<style scoped>\n",
       "    .dataframe tbody tr th:only-of-type {\n",
       "        vertical-align: middle;\n",
       "    }\n",
       "\n",
       "    .dataframe tbody tr th {\n",
       "        vertical-align: top;\n",
       "    }\n",
       "\n",
       "    .dataframe thead th {\n",
       "        text-align: right;\n",
       "    }\n",
       "</style>\n",
       "<table border=\"1\" class=\"dataframe\">\n",
       "  <thead>\n",
       "    <tr style=\"text-align: right;\">\n",
       "      <th></th>\n",
       "      <th>python</th>\n",
       "      <th>excel</th>\n",
       "      <th>hadoop</th>\n",
       "      <th>spark</th>\n",
       "      <th>tableau</th>\n",
       "      <th>aws</th>\n",
       "      <th>big_data</th>\n",
       "      <th>machine_learning</th>\n",
       "    </tr>\n",
       "    <tr>\n",
       "      <th>index</th>\n",
       "      <th></th>\n",
       "      <th></th>\n",
       "      <th></th>\n",
       "      <th></th>\n",
       "      <th></th>\n",
       "      <th></th>\n",
       "      <th></th>\n",
       "      <th></th>\n",
       "    </tr>\n",
       "  </thead>\n",
       "  <tbody>\n",
       "    <tr>\n",
       "      <th>0</th>\n",
       "      <td>0</td>\n",
       "      <td>0</td>\n",
       "      <td>0</td>\n",
       "      <td>0</td>\n",
       "      <td>0</td>\n",
       "      <td>1</td>\n",
       "      <td>0</td>\n",
       "      <td>1</td>\n",
       "    </tr>\n",
       "    <tr>\n",
       "      <th>1</th>\n",
       "      <td>0</td>\n",
       "      <td>0</td>\n",
       "      <td>1</td>\n",
       "      <td>0</td>\n",
       "      <td>0</td>\n",
       "      <td>0</td>\n",
       "      <td>1</td>\n",
       "      <td>1</td>\n",
       "    </tr>\n",
       "    <tr>\n",
       "      <th>2</th>\n",
       "      <td>1</td>\n",
       "      <td>1</td>\n",
       "      <td>0</td>\n",
       "      <td>0</td>\n",
       "      <td>0</td>\n",
       "      <td>1</td>\n",
       "      <td>0</td>\n",
       "      <td>1</td>\n",
       "    </tr>\n",
       "    <tr>\n",
       "      <th>3</th>\n",
       "      <td>1</td>\n",
       "      <td>1</td>\n",
       "      <td>0</td>\n",
       "      <td>0</td>\n",
       "      <td>0</td>\n",
       "      <td>1</td>\n",
       "      <td>0</td>\n",
       "      <td>1</td>\n",
       "    </tr>\n",
       "    <tr>\n",
       "      <th>4</th>\n",
       "      <td>1</td>\n",
       "      <td>1</td>\n",
       "      <td>0</td>\n",
       "      <td>0</td>\n",
       "      <td>0</td>\n",
       "      <td>0</td>\n",
       "      <td>0</td>\n",
       "      <td>1</td>\n",
       "    </tr>\n",
       "  </tbody>\n",
       "</table>\n",
       "</div>"
      ],
      "text/plain": [
       "       python  excel  hadoop  spark  tableau  aws  big_data  machine_learning\n",
       "index                                                                        \n",
       "0           0      0       0      0        0    1         0                 1\n",
       "1           0      0       1      0        0    0         1                 1\n",
       "2           1      1       0      0        0    1         0                 1\n",
       "3           1      1       0      0        0    1         0                 1\n",
       "4           1      1       0      0        0    0         0                 1"
      ]
     },
     "execution_count": 34,
     "metadata": {},
     "output_type": "execute_result"
    }
   ],
   "source": [
    "df = df.rename(columns={'big data': 'big_data', 'machine learning': 'machine_learning'})\n",
    "df.loc[:, 'python': 'machine_learning'].head()"
   ]
  },
  {
   "cell_type": "code",
   "execution_count": 35,
   "id": "00f286d1-cfc0-42bc-9155-aeabc1849ec5",
   "metadata": {},
   "outputs": [
    {
     "data": {
      "text/html": [
       "<div>\n",
       "<style scoped>\n",
       "    .dataframe tbody tr th:only-of-type {\n",
       "        vertical-align: middle;\n",
       "    }\n",
       "\n",
       "    .dataframe tbody tr th {\n",
       "        vertical-align: top;\n",
       "    }\n",
       "\n",
       "    .dataframe thead th {\n",
       "        text-align: right;\n",
       "    }\n",
       "</style>\n",
       "<table border=\"1\" class=\"dataframe\">\n",
       "  <thead>\n",
       "    <tr style=\"text-align: right;\">\n",
       "      <th></th>\n",
       "      <th>Job_Title</th>\n",
       "      <th>Salary_Estimate</th>\n",
       "      <th>Job_Description</th>\n",
       "      <th>Rating</th>\n",
       "      <th>Company_Name</th>\n",
       "      <th>Location</th>\n",
       "      <th>Headquarters</th>\n",
       "      <th>Size</th>\n",
       "      <th>Founded</th>\n",
       "      <th>Ownership_Type</th>\n",
       "      <th>Industry</th>\n",
       "      <th>Revenue</th>\n",
       "      <th>min_salary</th>\n",
       "      <th>max_salary</th>\n",
       "      <th>avg_salary</th>\n",
       "      <th>python</th>\n",
       "      <th>excel</th>\n",
       "      <th>hadoop</th>\n",
       "      <th>spark</th>\n",
       "      <th>tableau</th>\n",
       "      <th>aws</th>\n",
       "      <th>big_data</th>\n",
       "      <th>machine_learning</th>\n",
       "    </tr>\n",
       "    <tr>\n",
       "      <th>index</th>\n",
       "      <th></th>\n",
       "      <th></th>\n",
       "      <th></th>\n",
       "      <th></th>\n",
       "      <th></th>\n",
       "      <th></th>\n",
       "      <th></th>\n",
       "      <th></th>\n",
       "      <th></th>\n",
       "      <th></th>\n",
       "      <th></th>\n",
       "      <th></th>\n",
       "      <th></th>\n",
       "      <th></th>\n",
       "      <th></th>\n",
       "      <th></th>\n",
       "      <th></th>\n",
       "      <th></th>\n",
       "      <th></th>\n",
       "      <th></th>\n",
       "      <th></th>\n",
       "      <th></th>\n",
       "      <th></th>\n",
       "    </tr>\n",
       "  </thead>\n",
       "  <tbody>\n",
       "    <tr>\n",
       "      <th>0</th>\n",
       "      <td>Sr Data Scientist</td>\n",
       "      <td>137-171</td>\n",
       "      <td>Description: The Senior Data Scientist is resp...</td>\n",
       "      <td>3.1</td>\n",
       "      <td>Healthfirst</td>\n",
       "      <td>New York, NY</td>\n",
       "      <td>New York, NY</td>\n",
       "      <td>1001 to 5000 employees</td>\n",
       "      <td>1993</td>\n",
       "      <td>Nonprofit Organization</td>\n",
       "      <td>Insurance Carriers</td>\n",
       "      <td>Unknown / Non-Applicable</td>\n",
       "      <td>137</td>\n",
       "      <td>171</td>\n",
       "      <td>154</td>\n",
       "      <td>0</td>\n",
       "      <td>0</td>\n",
       "      <td>0</td>\n",
       "      <td>0</td>\n",
       "      <td>0</td>\n",
       "      <td>1</td>\n",
       "      <td>0</td>\n",
       "      <td>1</td>\n",
       "    </tr>\n",
       "    <tr>\n",
       "      <th>1</th>\n",
       "      <td>Data Scientist</td>\n",
       "      <td>137-171</td>\n",
       "      <td>Secure our Nation, Ignite your Future: Join th...</td>\n",
       "      <td>4.2</td>\n",
       "      <td>ManTech</td>\n",
       "      <td>Chantilly, VA</td>\n",
       "      <td>Herndon, VA</td>\n",
       "      <td>5001 to 10000 employees</td>\n",
       "      <td>1968</td>\n",
       "      <td>Company - Public</td>\n",
       "      <td>Research &amp; Development</td>\n",
       "      <td>$1 to $2 billion (USD)</td>\n",
       "      <td>137</td>\n",
       "      <td>171</td>\n",
       "      <td>154</td>\n",
       "      <td>0</td>\n",
       "      <td>0</td>\n",
       "      <td>1</td>\n",
       "      <td>0</td>\n",
       "      <td>0</td>\n",
       "      <td>0</td>\n",
       "      <td>1</td>\n",
       "      <td>1</td>\n",
       "    </tr>\n",
       "    <tr>\n",
       "      <th>2</th>\n",
       "      <td>Data Scientist</td>\n",
       "      <td>137-171</td>\n",
       "      <td>Overview: Analysis Group is one of the largest...</td>\n",
       "      <td>3.8</td>\n",
       "      <td>Analysis Group</td>\n",
       "      <td>Boston, MA</td>\n",
       "      <td>Boston, MA</td>\n",
       "      <td>1001 to 5000 employees</td>\n",
       "      <td>1981</td>\n",
       "      <td>Private Practice / Firm</td>\n",
       "      <td>Consulting</td>\n",
       "      <td>$100 to $500 million (USD)</td>\n",
       "      <td>137</td>\n",
       "      <td>171</td>\n",
       "      <td>154</td>\n",
       "      <td>1</td>\n",
       "      <td>1</td>\n",
       "      <td>0</td>\n",
       "      <td>0</td>\n",
       "      <td>0</td>\n",
       "      <td>1</td>\n",
       "      <td>0</td>\n",
       "      <td>1</td>\n",
       "    </tr>\n",
       "    <tr>\n",
       "      <th>3</th>\n",
       "      <td>Data Scientist</td>\n",
       "      <td>137-171</td>\n",
       "      <td>JOB DESCRIPTION:  Do you have a passion for Da...</td>\n",
       "      <td>3.5</td>\n",
       "      <td>INFICON</td>\n",
       "      <td>Newton, MA</td>\n",
       "      <td>Bad Ragaz, Switzerland</td>\n",
       "      <td>501 to 1000 employees</td>\n",
       "      <td>2000</td>\n",
       "      <td>Company - Public</td>\n",
       "      <td>Electrical &amp; Electronic Manufacturing</td>\n",
       "      <td>$100 to $500 million (USD)</td>\n",
       "      <td>137</td>\n",
       "      <td>171</td>\n",
       "      <td>154</td>\n",
       "      <td>1</td>\n",
       "      <td>1</td>\n",
       "      <td>0</td>\n",
       "      <td>0</td>\n",
       "      <td>0</td>\n",
       "      <td>1</td>\n",
       "      <td>0</td>\n",
       "      <td>1</td>\n",
       "    </tr>\n",
       "    <tr>\n",
       "      <th>4</th>\n",
       "      <td>Data Scientist</td>\n",
       "      <td>137-171</td>\n",
       "      <td>Data Scientist: Affinity Solutions / Marketing...</td>\n",
       "      <td>2.9</td>\n",
       "      <td>Affinity Solutions</td>\n",
       "      <td>New York, NY</td>\n",
       "      <td>New York, NY</td>\n",
       "      <td>51 to 200 employees</td>\n",
       "      <td>1998</td>\n",
       "      <td>Company - Private</td>\n",
       "      <td>Advertising &amp; Marketing</td>\n",
       "      <td>Unknown / Non-Applicable</td>\n",
       "      <td>137</td>\n",
       "      <td>171</td>\n",
       "      <td>154</td>\n",
       "      <td>1</td>\n",
       "      <td>1</td>\n",
       "      <td>0</td>\n",
       "      <td>0</td>\n",
       "      <td>0</td>\n",
       "      <td>0</td>\n",
       "      <td>0</td>\n",
       "      <td>1</td>\n",
       "    </tr>\n",
       "  </tbody>\n",
       "</table>\n",
       "</div>"
      ],
      "text/plain": [
       "               Job_Title Salary_Estimate  \\\n",
       "index                                      \n",
       "0      Sr Data Scientist        137-171    \n",
       "1         Data Scientist        137-171    \n",
       "2         Data Scientist        137-171    \n",
       "3         Data Scientist        137-171    \n",
       "4         Data Scientist        137-171    \n",
       "\n",
       "                                         Job_Description  Rating  \\\n",
       "index                                                              \n",
       "0      Description: The Senior Data Scientist is resp...     3.1   \n",
       "1      Secure our Nation, Ignite your Future: Join th...     4.2   \n",
       "2      Overview: Analysis Group is one of the largest...     3.8   \n",
       "3      JOB DESCRIPTION:  Do you have a passion for Da...     3.5   \n",
       "4      Data Scientist: Affinity Solutions / Marketing...     2.9   \n",
       "\n",
       "             Company_Name       Location            Headquarters  \\\n",
       "index                                                              \n",
       "0             Healthfirst   New York, NY            New York, NY   \n",
       "1                 ManTech  Chantilly, VA             Herndon, VA   \n",
       "2          Analysis Group     Boston, MA              Boston, MA   \n",
       "3                 INFICON     Newton, MA  Bad Ragaz, Switzerland   \n",
       "4      Affinity Solutions   New York, NY            New York, NY   \n",
       "\n",
       "                          Size Founded           Ownership_Type  \\\n",
       "index                                                             \n",
       "0       1001 to 5000 employees    1993   Nonprofit Organization   \n",
       "1      5001 to 10000 employees    1968         Company - Public   \n",
       "2       1001 to 5000 employees    1981  Private Practice / Firm   \n",
       "3        501 to 1000 employees    2000         Company - Public   \n",
       "4          51 to 200 employees    1998        Company - Private   \n",
       "\n",
       "                                    Industry                     Revenue  \\\n",
       "index                                                                      \n",
       "0                         Insurance Carriers    Unknown / Non-Applicable   \n",
       "1                     Research & Development      $1 to $2 billion (USD)   \n",
       "2                                 Consulting  $100 to $500 million (USD)   \n",
       "3      Electrical & Electronic Manufacturing  $100 to $500 million (USD)   \n",
       "4                    Advertising & Marketing    Unknown / Non-Applicable   \n",
       "\n",
       "       min_salary  max_salary  avg_salary  python  excel  hadoop  spark  \\\n",
       "index                                                                     \n",
       "0             137         171         154       0      0       0      0   \n",
       "1             137         171         154       0      0       1      0   \n",
       "2             137         171         154       1      1       0      0   \n",
       "3             137         171         154       1      1       0      0   \n",
       "4             137         171         154       1      1       0      0   \n",
       "\n",
       "       tableau  aws  big_data  machine_learning  \n",
       "index                                            \n",
       "0            0    1         0                 1  \n",
       "1            0    0         1                 1  \n",
       "2            0    1         0                 1  \n",
       "3            0    1         0                 1  \n",
       "4            0    0         0                 1  "
      ]
     },
     "execution_count": 35,
     "metadata": {},
     "output_type": "execute_result"
    }
   ],
   "source": [
    "df.head()"
   ]
  },
  {
   "cell_type": "code",
   "execution_count": 36,
   "id": "ea1c32ec-9b65-41c3-a5ec-0d56f0bfa9ef",
   "metadata": {},
   "outputs": [
    {
     "data": {
      "text/html": [
       "<div>\n",
       "<style scoped>\n",
       "    .dataframe tbody tr th:only-of-type {\n",
       "        vertical-align: middle;\n",
       "    }\n",
       "\n",
       "    .dataframe tbody tr th {\n",
       "        vertical-align: top;\n",
       "    }\n",
       "\n",
       "    .dataframe thead th {\n",
       "        text-align: right;\n",
       "    }\n",
       "</style>\n",
       "<table border=\"1\" class=\"dataframe\">\n",
       "  <thead>\n",
       "    <tr style=\"text-align: right;\">\n",
       "      <th></th>\n",
       "      <th>Rating</th>\n",
       "      <th>min_salary</th>\n",
       "      <th>max_salary</th>\n",
       "      <th>avg_salary</th>\n",
       "      <th>python</th>\n",
       "      <th>excel</th>\n",
       "      <th>hadoop</th>\n",
       "      <th>spark</th>\n",
       "      <th>tableau</th>\n",
       "      <th>aws</th>\n",
       "      <th>big_data</th>\n",
       "      <th>machine_learning</th>\n",
       "    </tr>\n",
       "  </thead>\n",
       "  <tbody>\n",
       "    <tr>\n",
       "      <th>count</th>\n",
       "      <td>659.000000</td>\n",
       "      <td>659.000000</td>\n",
       "      <td>659.000000</td>\n",
       "      <td>659.000000</td>\n",
       "      <td>659.000000</td>\n",
       "      <td>659.000000</td>\n",
       "      <td>659.000000</td>\n",
       "      <td>659.000000</td>\n",
       "      <td>659.000000</td>\n",
       "      <td>659.000000</td>\n",
       "      <td>659.000000</td>\n",
       "      <td>659.000000</td>\n",
       "    </tr>\n",
       "    <tr>\n",
       "      <th>mean</th>\n",
       "      <td>3.651593</td>\n",
       "      <td>99.066768</td>\n",
       "      <td>148.464340</td>\n",
       "      <td>123.576631</td>\n",
       "      <td>0.726859</td>\n",
       "      <td>0.447648</td>\n",
       "      <td>0.215478</td>\n",
       "      <td>0.268589</td>\n",
       "      <td>0.185129</td>\n",
       "      <td>0.247344</td>\n",
       "      <td>0.209408</td>\n",
       "      <td>0.613050</td>\n",
       "    </tr>\n",
       "    <tr>\n",
       "      <th>std</th>\n",
       "      <td>1.090806</td>\n",
       "      <td>33.266335</td>\n",
       "      <td>48.387744</td>\n",
       "      <td>39.923157</td>\n",
       "      <td>0.445911</td>\n",
       "      <td>0.497629</td>\n",
       "      <td>0.411466</td>\n",
       "      <td>0.443562</td>\n",
       "      <td>0.388697</td>\n",
       "      <td>0.431796</td>\n",
       "      <td>0.407195</td>\n",
       "      <td>0.487422</td>\n",
       "    </tr>\n",
       "    <tr>\n",
       "      <th>min</th>\n",
       "      <td>0.000000</td>\n",
       "      <td>31.000000</td>\n",
       "      <td>56.000000</td>\n",
       "      <td>43.000000</td>\n",
       "      <td>0.000000</td>\n",
       "      <td>0.000000</td>\n",
       "      <td>0.000000</td>\n",
       "      <td>0.000000</td>\n",
       "      <td>0.000000</td>\n",
       "      <td>0.000000</td>\n",
       "      <td>0.000000</td>\n",
       "      <td>0.000000</td>\n",
       "    </tr>\n",
       "    <tr>\n",
       "      <th>25%</th>\n",
       "      <td>3.400000</td>\n",
       "      <td>79.000000</td>\n",
       "      <td>119.000000</td>\n",
       "      <td>103.000000</td>\n",
       "      <td>0.000000</td>\n",
       "      <td>0.000000</td>\n",
       "      <td>0.000000</td>\n",
       "      <td>0.000000</td>\n",
       "      <td>0.000000</td>\n",
       "      <td>0.000000</td>\n",
       "      <td>0.000000</td>\n",
       "      <td>0.000000</td>\n",
       "    </tr>\n",
       "    <tr>\n",
       "      <th>50%</th>\n",
       "      <td>3.800000</td>\n",
       "      <td>91.000000</td>\n",
       "      <td>133.000000</td>\n",
       "      <td>114.000000</td>\n",
       "      <td>1.000000</td>\n",
       "      <td>0.000000</td>\n",
       "      <td>0.000000</td>\n",
       "      <td>0.000000</td>\n",
       "      <td>0.000000</td>\n",
       "      <td>0.000000</td>\n",
       "      <td>0.000000</td>\n",
       "      <td>1.000000</td>\n",
       "    </tr>\n",
       "    <tr>\n",
       "      <th>75%</th>\n",
       "      <td>4.300000</td>\n",
       "      <td>122.000000</td>\n",
       "      <td>165.000000</td>\n",
       "      <td>136.000000</td>\n",
       "      <td>1.000000</td>\n",
       "      <td>1.000000</td>\n",
       "      <td>0.000000</td>\n",
       "      <td>1.000000</td>\n",
       "      <td>0.000000</td>\n",
       "      <td>0.000000</td>\n",
       "      <td>0.000000</td>\n",
       "      <td>1.000000</td>\n",
       "    </tr>\n",
       "    <tr>\n",
       "      <th>max</th>\n",
       "      <td>5.000000</td>\n",
       "      <td>212.000000</td>\n",
       "      <td>331.000000</td>\n",
       "      <td>271.000000</td>\n",
       "      <td>1.000000</td>\n",
       "      <td>1.000000</td>\n",
       "      <td>1.000000</td>\n",
       "      <td>1.000000</td>\n",
       "      <td>1.000000</td>\n",
       "      <td>1.000000</td>\n",
       "      <td>1.000000</td>\n",
       "      <td>1.000000</td>\n",
       "    </tr>\n",
       "  </tbody>\n",
       "</table>\n",
       "</div>"
      ],
      "text/plain": [
       "           Rating  min_salary  max_salary  avg_salary      python       excel  \\\n",
       "count  659.000000  659.000000  659.000000  659.000000  659.000000  659.000000   \n",
       "mean     3.651593   99.066768  148.464340  123.576631    0.726859    0.447648   \n",
       "std      1.090806   33.266335   48.387744   39.923157    0.445911    0.497629   \n",
       "min      0.000000   31.000000   56.000000   43.000000    0.000000    0.000000   \n",
       "25%      3.400000   79.000000  119.000000  103.000000    0.000000    0.000000   \n",
       "50%      3.800000   91.000000  133.000000  114.000000    1.000000    0.000000   \n",
       "75%      4.300000  122.000000  165.000000  136.000000    1.000000    1.000000   \n",
       "max      5.000000  212.000000  331.000000  271.000000    1.000000    1.000000   \n",
       "\n",
       "           hadoop       spark     tableau         aws    big_data  \\\n",
       "count  659.000000  659.000000  659.000000  659.000000  659.000000   \n",
       "mean     0.215478    0.268589    0.185129    0.247344    0.209408   \n",
       "std      0.411466    0.443562    0.388697    0.431796    0.407195   \n",
       "min      0.000000    0.000000    0.000000    0.000000    0.000000   \n",
       "25%      0.000000    0.000000    0.000000    0.000000    0.000000   \n",
       "50%      0.000000    0.000000    0.000000    0.000000    0.000000   \n",
       "75%      0.000000    1.000000    0.000000    0.000000    0.000000   \n",
       "max      1.000000    1.000000    1.000000    1.000000    1.000000   \n",
       "\n",
       "       machine_learning  \n",
       "count        659.000000  \n",
       "mean           0.613050  \n",
       "std            0.487422  \n",
       "min            0.000000  \n",
       "25%            0.000000  \n",
       "50%            1.000000  \n",
       "75%            1.000000  \n",
       "max            1.000000  "
      ]
     },
     "execution_count": 36,
     "metadata": {},
     "output_type": "execute_result"
    }
   ],
   "source": [
    "df.describe()"
   ]
  },
  {
   "cell_type": "markdown",
   "id": "72704ea7-51ed-494e-b161-d7cd0f0f2735",
   "metadata": {},
   "source": [
    "## Cleaning up rows with NaN values\n",
    "Removing NaN/Null values from rows are the best way to maintain clean data especially when we get into the visualizations"
   ]
  },
  {
   "cell_type": "code",
   "execution_count": 37,
   "id": "bd692e3b-07ee-4284-b952-3c72f1573a66",
   "metadata": {},
   "outputs": [
    {
     "data": {
      "text/plain": [
       "Job_Title             0\n",
       "Salary_Estimate       0\n",
       "Job_Description       0\n",
       "Rating                0\n",
       "Company_Name          0\n",
       "Location              0\n",
       "Headquarters         20\n",
       "Size                 16\n",
       "Founded             107\n",
       "Ownership_Type       16\n",
       "Industry             60\n",
       "Revenue              16\n",
       "min_salary            0\n",
       "max_salary            0\n",
       "avg_salary            0\n",
       "python                0\n",
       "excel                 0\n",
       "hadoop                0\n",
       "spark                 0\n",
       "tableau               0\n",
       "aws                   0\n",
       "big_data              0\n",
       "machine_learning      0\n",
       "dtype: int64"
      ]
     },
     "execution_count": 37,
     "metadata": {},
     "output_type": "execute_result"
    }
   ],
   "source": [
    "df.isnull().sum()"
   ]
  },
  {
   "cell_type": "code",
   "execution_count": 38,
   "id": "85e93177-650b-4fed-b583-3b67b39578f9",
   "metadata": {},
   "outputs": [],
   "source": [
    "df = df.dropna(subset=['Industry', 'Revenue', 'Ownership_Type', 'Founded', 'Size', 'Headquarters'])"
   ]
  },
  {
   "cell_type": "code",
   "execution_count": 39,
   "id": "89312cf9-2054-4540-a4d9-e553f60cb85c",
   "metadata": {},
   "outputs": [
    {
     "data": {
      "text/plain": [
       "Job_Title           0\n",
       "Salary_Estimate     0\n",
       "Job_Description     0\n",
       "Rating              0\n",
       "Company_Name        0\n",
       "Location            0\n",
       "Headquarters        0\n",
       "Size                0\n",
       "Founded             0\n",
       "Ownership_Type      0\n",
       "Industry            0\n",
       "Revenue             0\n",
       "min_salary          0\n",
       "max_salary          0\n",
       "avg_salary          0\n",
       "python              0\n",
       "excel               0\n",
       "hadoop              0\n",
       "spark               0\n",
       "tableau             0\n",
       "aws                 0\n",
       "big_data            0\n",
       "machine_learning    0\n",
       "dtype: int64"
      ]
     },
     "execution_count": 39,
     "metadata": {},
     "output_type": "execute_result"
    }
   ],
   "source": [
    "# Check\n",
    "df.isnull().sum()"
   ]
  },
  {
   "cell_type": "markdown",
   "id": "a27569ee-27cc-421a-80e7-9a7e9015b9f0",
   "metadata": {},
   "source": [
    "## Visualizations\n",
    "Visualizations are useful for data cleaning, detecting outliers, identifying trends and clusters, and spottling local patterns. In this sections, we will derive insights that gives us a better understanding of large datasets and complex relationships."
   ]
  },
  {
   "cell_type": "markdown",
   "id": "ece8b8c2-7e6a-4008-971c-91d3033a5c47",
   "metadata": {},
   "source": [
    "## Industry Distribution\n",
    "The pie chart below illustrates the proportion of job listings across the top 10 industries in 2021. We can denote that the Biotech and Pharmaceuticals sector represents the largest share with 15.57%, followed by IT services and Computer Hardware & Software. This gives us an understanding which sectors were actively hiring and potentially deduce the job market trends of the period."
   ]
  },
  {
   "cell_type": "code",
   "execution_count": 40,
   "id": "56e9b722-4767-45e4-87cc-75aeca5c06fa",
   "metadata": {},
   "outputs": [
    {
     "data": {
      "text/plain": [
       "Text(0.5, 1.0, 'Top 10 Industries')"
      ]
     },
     "execution_count": 40,
     "metadata": {},
     "output_type": "execute_result"
    },
    {
     "data": {
      "image/png": "[encoded data removed]",
      "text/plain": [
       "<Figure size 500x700 with 1 Axes>"
      ]
     },
     "metadata": {},
     "output_type": "display_data"
    }
   ],
   "source": [
    "# Get total value of the top ten industries\n",
    "top_ten = df['Industry'].value_counts().head(10)\n",
    "\n",
    "plt.figure(figsize=(5,7))\n",
    "myexplode = [0.2, 0, 0, 0, 0, 0, 0, 0, 0, 0]\n",
    "plt.pie(top_ten, labels=top_ten.index, shadow=True, autopct=\"%.2f%%\",\n",
    "        explode=myexplode, colors=sns.color_palette('Paired'))\n",
    "plt.title('Top 10 Industries')"
   ]
  },
  {
   "cell_type": "code",
   "execution_count": 41,
   "id": "ffe196d5-a9f6-4a7a-9ab9-aaaa08fc1f75",
   "metadata": {},
   "outputs": [
    {
     "data": {
      "image/png": "[encoded data removed]",
      "text/plain": [
       "<Figure size 850x500 with 2 Axes>"
      ]
     },
     "metadata": {},
     "output_type": "display_data"
    }
   ],
   "source": [
    "# Plotting to see relationship:\n",
    "# Positive correlation between min and max salaries\n",
    "# Outliers are presented to show significantly higher values\n",
    "\n",
    "def attributes(ax, ylabel, title, yticks):\n",
    "    sal_ticks_labels = [f\"${x}k\" for x in yticks]\n",
    "    ax.set_ylabel(ylabel)\n",
    "    ax.set_title(title)\n",
    "    ax.set_yticks(yticks)\n",
    "    ax.set_yticklabels(sal_ticks_labels)\n",
    "\n",
    "sal_ticks = list(range(50, 400, 50))\n",
    "plt.style.use('ggplot')\n",
    "fig, ax = plt.subplots(nrows=1, ncols=2, figsize=(8.5,5))\n",
    "\n",
    "ax[0].plot([0,1], [0,1], color='red', transform=ax[0].transAxes)\n",
    "\n",
    "ax[0].set_xlabel('Minimum salaries')\n",
    "ax[0].set_ylabel('Maximum salaries')\n",
    "locator = FixedLocator(sal_ticks)\n",
    "\n",
    "ax[0].set_xticks(sal_ticks, [f\"${y}k\" for y in sal_ticks])\n",
    "ax[0].scatter(df['min_salary'], df['max_salary'], c='b', alpha=0.5)\n",
    "attributes(ax[0], 'Maximum Salaries', 'Min vs Max salaries', sal_ticks)\n",
    "\n",
    "ax[1].boxplot([df['min_salary'], df['max_salary']], labels=['Minimum Salary', 'Maximum Salary'])\n",
    "attributes(ax[1], 'Salary Range', '', sal_ticks)\n",
    "\n",
    "plt.subplots_adjust(right=1.2)"
   ]
  },
  {
   "cell_type": "markdown",
   "id": "8f1e6881-7f07-465f-90f5-313539c2a486",
   "metadata": {},
   "source": [
    "The scatter plot on the left shows the relationship betweeen minimum salaries (horizontal axis) and maximum salaries (vertical axis) for various roles (dots). A line of best fit (shown in red) indicates a positive correlation: As the minimum salary increases, so does the maximum salary. This suggests that roles with higher entry requirements tend to offer greater earning potential. \n",
    "\n",
    "The box plot provides a summary of the salary ranges for minimum and maximum salaries, highlighting the interquartile range and outliers. We are able to understand the salary structures and could help candidates negotiate salaries based on financial goals."
   ]
  },
  {
   "cell_type": "code",
   "execution_count": 42,
   "id": "4ca03e72-dfce-4cba-80de-712e22c8d821",
   "metadata": {},
   "outputs": [
    {
     "data": {
      "application/vnd.plotly.v1+json": {
       "config": {
        "plotlyServerURL": "https://plot.ly"
       },
       "data": [
        {
         "hovertemplate": "Industry=Insurance Carriers<br>min_salary=%{marker.size}<br>max_salary=%{y}<br>avg_salary=%{z}<extra></extra>",
         "legendgroup": "Insurance Carriers",
         "marker": {
          "color": "#636efa",
          "size": [
           137,
           137,
           75,
           75,
           79,
           79,
           90,
           101,
           56,
           56,
           79,
           71,
           71,
           90,
           90,
           90,
           145,
           79,
           112,
           112,
           110,
           69,
           66,
           66,
           128,
           87,
           92,
           92
          ],
          "sizemode": "area",
          "sizeref": 0.53,
          "symbol": "circle"
         },
         "mode": "markers",
         "name": "Insurance Carriers",
         "scene": "scene",
         "showlegend": true,
         "type": "scatter3d",
         "x": [
          137,
          137,
          75,
          75,
          79,
          79,
          90,
          101,
          56,
          56,
          79,
          71,
          71,
          90,
          90,
          90,
          145,
          79,
          112,
          112,
          110,
          69,
          66,
          66,
          128,
          87,
          92,
          92
         ],
         "y": [
          171,
          171,
          131,
          131,
          131,
          131,
          109,
          165,
          97,
          97,
          106,
          123,
          123,
          124,
          124,
          124,
          225,
          147,
          116,
          116,
          163,
          116,
          112,
          112,
          201,
          141,
          155,
          155
         ],
         "z": [
          154,
          154,
          103,
          103,
          105,
          105,
          99,
          133,
          76,
          76,
          92,
          97,
          97,
          107,
          107,
          107,
          185,
          113,
          114,
          114,
          136,
          92,
          89,
          89,
          164,
          114,
          123,
          123
         ]
        },
        {
         "hovertemplate": "Industry=Research & Development<br>min_salary=%{marker.size}<br>max_salary=%{y}<br>avg_salary=%{z}<extra></extra>",
         "legendgroup": "Research & Development",
         "marker": {
          "color": "#EF553B",
          "size": [
           137,
           79,
           101,
           79,
           79,
           90,
           79,
           112,
           112,
           79,
           31,
           212,
           212,
           212,
           66,
           87,
           92
          ],
          "sizemode": "area",
          "sizeref": 0.53,
          "symbol": "circle"
         },
         "mode": "markers",
         "name": "Research & Development",
         "scene": "scene",
         "showlegend": true,
         "type": "scatter3d",
         "x": [
          137,
          79,
          101,
          79,
          79,
          90,
          79,
          112,
          112,
          79,
          31,
          212,
          212,
          212,
          66,
          87,
          92
         ],
         "y": [
          171,
          131,
          165,
          106,
          106,
          124,
          147,
          116,
          116,
          133,
          56,
          331,
          331,
          331,
          112,
          141,
          155
         ],
         "z": [
          154,
          105,
          133,
          92,
          92,
          107,
          113,
          114,
          114,
          106,
          43,
          271,
          271,
          271,
          89,
          114,
          123
         ]
        },
        {
         "hovertemplate": "Industry=Consulting<br>min_salary=%{marker.size}<br>max_salary=%{y}<br>avg_salary=%{z}<extra></extra>",
         "legendgroup": "Consulting",
         "marker": {
          "color": "#00cc96",
          "size": [
           137,
           137,
           137,
           75,
           79,
           99,
           99,
           99,
           79,
           90,
           91,
           91,
           122,
           122,
           112,
           124,
           124,
           69,
           69,
           95,
           95,
           212,
           128,
           128,
           80,
           87,
           87,
           87,
           92,
           92
          ],
          "sizemode": "area",
          "sizeref": 0.53,
          "symbol": "circle"
         },
         "mode": "markers",
         "name": "Consulting",
         "scene": "scene",
         "showlegend": true,
         "type": "scatter3d",
         "x": [
          137,
          137,
          137,
          75,
          79,
          99,
          99,
          99,
          79,
          90,
          91,
          91,
          122,
          122,
          112,
          124,
          124,
          69,
          69,
          95,
          95,
          212,
          128,
          128,
          80,
          87,
          87,
          87,
          92,
          92
         ],
         "y": [
          171,
          171,
          171,
          131,
          131,
          132,
          132,
          132,
          106,
          124,
          150,
          150,
          146,
          146,
          116,
          198,
          198,
          116,
          116,
          119,
          119,
          331,
          201,
          201,
          132,
          141,
          141,
          141,
          155,
          155
         ],
         "z": [
          154,
          154,
          154,
          103,
          105,
          115,
          115,
          115,
          92,
          107,
          120,
          120,
          134,
          134,
          114,
          161,
          161,
          92,
          92,
          107,
          107,
          271,
          164,
          164,
          106,
          114,
          114,
          114,
          123,
          123
         ]
        },
        {
         "hovertemplate": "Industry=Electrical & Electronic Manufacturing<br>min_salary=%{marker.size}<br>max_salary=%{y}<br>avg_salary=%{z}<extra></extra>",
         "legendgroup": "Electrical & Electronic Manufacturing",
         "marker": {
          "color": "#ab63fa",
          "size": [
           137,
           90,
           141
          ],
          "sizemode": "area",
          "sizeref": 0.53,
          "symbol": "circle"
         },
         "mode": "markers",
         "name": "Electrical & Electronic Manufacturing",
         "scene": "scene",
         "showlegend": true,
         "type": "scatter3d",
         "x": [
          137,
          90,
          141
         ],
         "y": [
          171,
          109,
          225
         ],
         "z": [
          154,
          99,
          183
         ]
        },
        {
         "hovertemplate": "Industry=Advertising & Marketing<br>min_salary=%{marker.size}<br>max_salary=%{y}<br>avg_salary=%{z}<extra></extra>",
         "legendgroup": "Advertising & Marketing",
         "marker": {
          "color": "#FFA15A",
          "size": [
           137,
           137,
           75,
           79,
           99,
           99,
           90,
           90,
           90,
           56,
           56,
           79,
           90,
           90,
           110,
           69,
           138,
           138,
           80,
           105,
           105
          ],
          "sizemode": "area",
          "sizeref": 0.53,
          "symbol": "circle"
         },
         "mode": "markers",
         "name": "Advertising & Marketing",
         "scene": "scene",
         "showlegend": true,
         "type": "scatter3d",
         "x": [
          137,
          137,
          75,
          79,
          99,
          99,
          90,
          90,
          90,
          56,
          56,
          79,
          90,
          90,
          110,
          69,
          138,
          138,
          80,
          105,
          105
         ],
         "y": [
          171,
          171,
          131,
          131,
          132,
          132,
          109,
          109,
          109,
          97,
          97,
          106,
          124,
          124,
          163,
          116,
          158,
          158,
          132,
          167,
          167
         ],
         "z": [
          154,
          154,
          103,
          105,
          115,
          115,
          99,
          99,
          99,
          76,
          76,
          92,
          107,
          107,
          136,
          92,
          148,
          148,
          106,
          136,
          136
         ]
        },
        {
         "hovertemplate": "Industry=Computer Hardware & Software<br>min_salary=%{marker.size}<br>max_salary=%{y}<br>avg_salary=%{z}<extra></extra>",
         "legendgroup": "Computer Hardware & Software",
         "marker": {
          "color": "#19d3f3",
          "size": [
           137,
           137,
           137,
           137,
           75,
           79,
           79,
           79,
           79,
           79,
           99,
           99,
           99,
           99,
           99,
           99,
           90,
           90,
           90,
           101,
           101,
           56,
           79,
           79,
           90,
           90,
           90,
           91,
           141,
           145,
           79,
           79,
           79,
           122,
           122,
           112,
           112,
           110,
           110,
           79,
           69,
           31,
           31,
           95,
           212,
           66,
           128,
           128,
           128,
           138,
           80,
           87,
           87,
           92,
           92
          ],
          "sizemode": "area",
          "sizeref": 0.53,
          "symbol": "circle"
         },
         "mode": "markers",
         "name": "Computer Hardware & Software",
         "scene": "scene",
         "showlegend": true,
         "type": "scatter3d",
         "x": [
          137,
          137,
          137,
          137,
          75,
          79,
          79,
          79,
          79,
          79,
          99,
          99,
          99,
          99,
          99,
          99,
          90,
          90,
          90,
          101,
          101,
          56,
          79,
          79,
          90,
          90,
          90,
          91,
          141,
          145,
          79,
          79,
          79,
          122,
          122,
          112,
          112,
          110,
          110,
          79,
          69,
          31,
          31,
          95,
          212,
          66,
          128,
          128,
          128,
          138,
          80,
          87,
          87,
          92,
          92
         ],
         "y": [
          171,
          171,
          171,
          171,
          131,
          131,
          131,
          131,
          131,
          131,
          132,
          132,
          132,
          132,
          132,
          132,
          109,
          109,
          109,
          165,
          165,
          97,
          106,
          106,
          124,
          124,
          124,
          150,
          225,
          225,
          147,
          147,
          147,
          146,
          146,
          116,
          116,
          163,
          163,
          133,
          116,
          56,
          56,
          119,
          331,
          112,
          201,
          201,
          201,
          158,
          132,
          141,
          141,
          155,
          155
         ],
         "z": [
          154,
          154,
          154,
          154,
          103,
          105,
          105,
          105,
          105,
          105,
          115,
          115,
          115,
          115,
          115,
          115,
          99,
          99,
          99,
          133,
          133,
          76,
          92,
          92,
          107,
          107,
          107,
          120,
          183,
          185,
          113,
          113,
          113,
          134,
          134,
          114,
          114,
          136,
          136,
          106,
          92,
          43,
          43,
          107,
          271,
          89,
          164,
          164,
          164,
          148,
          106,
          114,
          114,
          123,
          123
         ]
        },
        {
         "hovertemplate": "Industry=Biotech & Pharmaceuticals<br>min_salary=%{marker.size}<br>max_salary=%{y}<br>avg_salary=%{z}<extra></extra>",
         "legendgroup": "Biotech & Pharmaceuticals",
         "marker": {
          "color": "#FF6692",
          "size": [
           137,
           75,
           75,
           75,
           75,
           75,
           79,
           79,
           79,
           79,
           79,
           79,
           99,
           99,
           90,
           90,
           90,
           90,
           90,
           90,
           101,
           101,
           101,
           56,
           56,
           56,
           56,
           56,
           56,
           79,
           79,
           79,
           71,
           90,
           90,
           91,
           91,
           141,
           145,
           145,
           79,
           112,
           112,
           110,
           110,
           110,
           124,
           79,
           69,
           31,
           95,
           212,
           212,
           212,
           128,
           128,
           128,
           128,
           138,
           80,
           80,
           92,
           105
          ],
          "sizemode": "area",
          "sizeref": 0.53,
          "symbol": "circle"
         },
         "mode": "markers",
         "name": "Biotech & Pharmaceuticals",
         "scene": "scene",
         "showlegend": true,
         "type": "scatter3d",
         "x": [
          137,
          75,
          75,
          75,
          75,
          75,
          79,
          79,
          79,
          79,
          79,
          79,
          99,
          99,
          90,
          90,
          90,
          90,
          90,
          90,
          101,
          101,
          101,
          56,
          56,
          56,
          56,
          56,
          56,
          79,
          79,
          79,
          71,
          90,
          90,
          91,
          91,
          141,
          145,
          145,
          79,
          112,
          112,
          110,
          110,
          110,
          124,
          79,
          69,
          31,
          95,
          212,
          212,
          212,
          128,
          128,
          128,
          128,
          138,
          80,
          80,
          92,
          105
         ],
         "y": [
          171,
          131,
          131,
          131,
          131,
          131,
          131,
          131,
          131,
          131,
          131,
          131,
          132,
          132,
          109,
          109,
          109,
          109,
          109,
          109,
          165,
          165,
          165,
          97,
          97,
          97,
          97,
          97,
          97,
          106,
          106,
          106,
          123,
          124,
          124,
          150,
          150,
          225,
          225,
          225,
          147,
          116,
          116,
          163,
          163,
          163,
          198,
          133,
          116,
          56,
          119,
          331,
          331,
          331,
          201,
          201,
          201,
          201,
          158,
          132,
          132,
          155,
          167
         ],
         "z": [
          154,
          103,
          103,
          103,
          103,
          103,
          105,
          105,
          105,
          105,
          105,
          105,
          115,
          115,
          99,
          99,
          99,
          99,
          99,
          99,
          133,
          133,
          133,
          76,
          76,
          76,
          76,
          76,
          76,
          92,
          92,
          92,
          97,
          107,
          107,
          120,
          120,
          183,
          185,
          185,
          113,
          114,
          114,
          136,
          136,
          136,
          161,
          106,
          92,
          43,
          107,
          271,
          271,
          271,
          164,
          164,
          164,
          164,
          148,
          106,
          106,
          123,
          136
         ]
        },
        {
         "hovertemplate": "Industry=Consumer Electronics & Appliances Stores<br>min_salary=%{marker.size}<br>max_salary=%{y}<br>avg_salary=%{z}<extra></extra>",
         "legendgroup": "Consumer Electronics & Appliances Stores",
         "marker": {
          "color": "#B6E880",
          "size": [
           137,
           79
          ],
          "sizemode": "area",
          "sizeref": 0.53,
          "symbol": "circle"
         },
         "mode": "markers",
         "name": "Consumer Electronics & Appliances Stores",
         "scene": "scene",
         "showlegend": true,
         "type": "scatter3d",
         "x": [
          137,
          79
         ],
         "y": [
          171,
          131
         ],
         "z": [
          154,
          105
         ]
        },
        {
         "hovertemplate": "Industry=Enterprise Software & Network Solutions<br>min_salary=%{marker.size}<br>max_salary=%{y}<br>avg_salary=%{z}<extra></extra>",
         "legendgroup": "Enterprise Software & Network Solutions",
         "marker": {
          "color": "#FF97FF",
          "size": [
           137,
           137,
           137,
           137,
           75,
           75,
           75,
           75,
           75,
           75,
           75,
           79,
           99,
           99,
           99,
           99,
           90,
           90,
           90,
           101,
           101,
           101,
           79,
           90,
           91,
           145,
           122,
           122,
           122,
           112,
           110,
           110,
           124,
           31,
           31,
           66,
           138,
           138,
           80,
           87,
           92,
           92
          ],
          "sizemode": "area",
          "sizeref": 0.53,
          "symbol": "circle"
         },
         "mode": "markers",
         "name": "Enterprise Software & Network Solutions",
         "scene": "scene",
         "showlegend": true,
         "type": "scatter3d",
         "x": [
          137,
          137,
          137,
          137,
          75,
          75,
          75,
          75,
          75,
          75,
          75,
          79,
          99,
          99,
          99,
          99,
          90,
          90,
          90,
          101,
          101,
          101,
          79,
          90,
          91,
          145,
          122,
          122,
          122,
          112,
          110,
          110,
          124,
          31,
          31,
          66,
          138,
          138,
          80,
          87,
          92,
          92
         ],
         "y": [
          171,
          171,
          171,
          171,
          131,
          131,
          131,
          131,
          131,
          131,
          131,
          131,
          132,
          132,
          132,
          132,
          109,
          109,
          109,
          165,
          165,
          165,
          106,
          124,
          150,
          225,
          146,
          146,
          146,
          116,
          163,
          163,
          198,
          56,
          56,
          112,
          158,
          158,
          132,
          141,
          155,
          155
         ],
         "z": [
          154,
          154,
          154,
          154,
          103,
          103,
          103,
          103,
          103,
          103,
          103,
          105,
          115,
          115,
          115,
          115,
          99,
          99,
          99,
          133,
          133,
          133,
          92,
          107,
          120,
          185,
          134,
          134,
          134,
          114,
          136,
          136,
          161,
          43,
          43,
          89,
          148,
          148,
          106,
          114,
          123,
          123
         ]
        },
        {
         "hovertemplate": "Industry=IT Services<br>min_salary=%{marker.size}<br>max_salary=%{y}<br>avg_salary=%{z}<extra></extra>",
         "legendgroup": "IT Services",
         "marker": {
          "color": "#FECB52",
          "size": [
           137,
           75,
           75,
           79,
           79,
           90,
           101,
           56,
           56,
           79,
           79,
           79,
           71,
           71,
           90,
           90,
           91,
           91,
           91,
           141,
           141,
           145,
           145,
           79,
           79,
           122,
           112,
           110,
           124,
           124,
           79,
           69,
           69,
           69,
           31,
           31,
           95,
           212,
           66,
           66,
           66,
           66,
           66,
           66,
           80,
           80,
           80,
           87,
           87,
           92,
           105,
           105
          ],
          "sizemode": "area",
          "sizeref": 0.53,
          "symbol": "circle"
         },
         "mode": "markers",
         "name": "IT Services",
         "scene": "scene",
         "showlegend": true,
         "type": "scatter3d",
         "x": [
          137,
          75,
          75,
          79,
          79,
          90,
          101,
          56,
          56,
          79,
          79,
          79,
          71,
          71,
          90,
          90,
          91,
          91,
          91,
          141,
          141,
          145,
          145,
          79,
          79,
          122,
          112,
          110,
          124,
          124,
          79,
          69,
          69,
          69,
          31,
          31,
          95,
          212,
          66,
          66,
          66,
          66,
          66,
          66,
          80,
          80,
          80,
          87,
          87,
          92,
          105,
          105
         ],
         "y": [
          171,
          131,
          131,
          131,
          131,
          109,
          165,
          97,
          97,
          106,
          106,
          106,
          123,
          123,
          124,
          124,
          150,
          150,
          150,
          225,
          225,
          225,
          225,
          147,
          147,
          146,
          116,
          163,
          198,
          198,
          133,
          116,
          116,
          116,
          56,
          56,
          119,
          331,
          112,
          112,
          112,
          112,
          112,
          112,
          132,
          132,
          132,
          141,
          141,
          155,
          167,
          167
         ],
         "z": [
          154,
          103,
          103,
          105,
          105,
          99,
          133,
          76,
          76,
          92,
          92,
          92,
          97,
          97,
          107,
          107,
          120,
          120,
          120,
          183,
          183,
          185,
          185,
          113,
          113,
          134,
          114,
          136,
          161,
          161,
          106,
          92,
          92,
          92,
          43,
          43,
          107,
          271,
          89,
          89,
          89,
          89,
          89,
          89,
          106,
          106,
          106,
          114,
          114,
          123,
          136,
          136
         ]
        },
        {
         "hovertemplate": "Industry=Energy<br>min_salary=%{marker.size}<br>max_salary=%{y}<br>avg_salary=%{z}<extra></extra>",
         "legendgroup": "Energy",
         "marker": {
          "color": "#636efa",
          "size": [
           137,
           56,
           91,
           112,
           66
          ],
          "sizemode": "area",
          "sizeref": 0.53,
          "symbol": "circle"
         },
         "mode": "markers",
         "name": "Energy",
         "scene": "scene",
         "showlegend": true,
         "type": "scatter3d",
         "x": [
          137,
          56,
          91,
          112,
          66
         ],
         "y": [
          171,
          97,
          150,
          116,
          112
         ],
         "z": [
          154,
          76,
          120,
          114,
          89
         ]
        },
        {
         "hovertemplate": "Industry=Chemical Manufacturing<br>min_salary=%{marker.size}<br>max_salary=%{y}<br>avg_salary=%{z}<extra></extra>",
         "legendgroup": "Chemical Manufacturing",
         "marker": {
          "color": "#EF553B",
          "size": [
           137,
           137,
           56
          ],
          "sizemode": "area",
          "sizeref": 0.53,
          "symbol": "circle"
         },
         "mode": "markers",
         "name": "Chemical Manufacturing",
         "scene": "scene",
         "showlegend": true,
         "type": "scatter3d",
         "x": [
          137,
          137,
          56
         ],
         "y": [
          171,
          171,
          97
         ],
         "z": [
          154,
          154,
          76
         ]
        },
        {
         "hovertemplate": "Industry=Federal Agencies<br>min_salary=%{marker.size}<br>max_salary=%{y}<br>avg_salary=%{z}<extra></extra>",
         "legendgroup": "Federal Agencies",
         "marker": {
          "color": "#00cc96",
          "size": [
           137,
           137,
           75,
           90,
           101,
           56,
           71,
           91,
           145,
           79,
           110,
           128,
           128,
           138,
           138,
           80
          ],
          "sizemode": "area",
          "sizeref": 0.53,
          "symbol": "circle"
         },
         "mode": "markers",
         "name": "Federal Agencies",
         "scene": "scene",
         "showlegend": true,
         "type": "scatter3d",
         "x": [
          137,
          137,
          75,
          90,
          101,
          56,
          71,
          91,
          145,
          79,
          110,
          128,
          128,
          138,
          138,
          80
         ],
         "y": [
          171,
          171,
          131,
          109,
          165,
          97,
          123,
          150,
          225,
          147,
          163,
          201,
          201,
          158,
          158,
          132
         ],
         "z": [
          154,
          154,
          103,
          99,
          133,
          76,
          97,
          120,
          185,
          113,
          136,
          164,
          164,
          148,
          148,
          106
         ]
        },
        {
         "hovertemplate": "Industry=Internet<br>min_salary=%{marker.size}<br>max_salary=%{y}<br>avg_salary=%{z}<extra></extra>",
         "legendgroup": "Internet",
         "marker": {
          "color": "#ab63fa",
          "size": [
           137,
           137,
           75,
           75,
           79,
           79,
           79,
           99,
           99,
           56,
           79,
           71,
           71,
           71,
           91,
           141,
           145,
           112,
           124,
           124,
           79,
           69,
           95,
           66,
           128,
           128,
           80
          ],
          "sizemode": "area",
          "sizeref": 0.53,
          "symbol": "circle"
         },
         "mode": "markers",
         "name": "Internet",
         "scene": "scene",
         "showlegend": true,
         "type": "scatter3d",
         "x": [
          137,
          137,
          75,
          75,
          79,
          79,
          79,
          99,
          99,
          56,
          79,
          71,
          71,
          71,
          91,
          141,
          145,
          112,
          124,
          124,
          79,
          69,
          95,
          66,
          128,
          128,
          80
         ],
         "y": [
          171,
          171,
          131,
          131,
          131,
          131,
          131,
          132,
          132,
          97,
          106,
          123,
          123,
          123,
          150,
          225,
          225,
          116,
          198,
          198,
          133,
          116,
          119,
          112,
          201,
          201,
          132
         ],
         "z": [
          154,
          154,
          103,
          103,
          105,
          105,
          105,
          115,
          115,
          76,
          92,
          97,
          97,
          97,
          120,
          183,
          185,
          114,
          161,
          161,
          106,
          92,
          107,
          89,
          164,
          164,
          106
         ]
        },
        {
         "hovertemplate": "Industry=Health Care Services & Hospitals<br>min_salary=%{marker.size}<br>max_salary=%{y}<br>avg_salary=%{z}<extra></extra>",
         "legendgroup": "Health Care Services & Hospitals",
         "marker": {
          "color": "#FFA15A",
          "size": [
           137,
           75,
           75,
           79,
           99,
           99,
           99,
           56,
           79,
           145,
           112,
           110,
           110,
           95,
           138,
           80,
           80,
           87
          ],
          "sizemode": "area",
          "sizeref": 0.53,
          "symbol": "circle"
         },
         "mode": "markers",
         "name": "Health Care Services & Hospitals",
         "scene": "scene",
         "showlegend": true,
         "type": "scatter3d",
         "x": [
          137,
          75,
          75,
          79,
          99,
          99,
          99,
          56,
          79,
          145,
          112,
          110,
          110,
          95,
          138,
          80,
          80,
          87
         ],
         "y": [
          171,
          131,
          131,
          131,
          132,
          132,
          132,
          97,
          106,
          225,
          116,
          163,
          163,
          119,
          158,
          132,
          132,
          141
         ],
         "z": [
          154,
          103,
          103,
          105,
          115,
          115,
          115,
          76,
          92,
          185,
          114,
          136,
          136,
          107,
          148,
          106,
          106,
          114
         ]
        },
        {
         "hovertemplate": "Industry=Investment Banking & Asset Management<br>min_salary=%{marker.size}<br>max_salary=%{y}<br>avg_salary=%{z}<extra></extra>",
         "legendgroup": "Investment Banking & Asset Management",
         "marker": {
          "color": "#19d3f3",
          "size": [
           137,
           75,
           75,
           79,
           99,
           99,
           71,
           71,
           79,
           79,
           79,
           31,
           128
          ],
          "sizemode": "area",
          "sizeref": 0.53,
          "symbol": "circle"
         },
         "mode": "markers",
         "name": "Investment Banking & Asset Management",
         "scene": "scene",
         "showlegend": true,
         "type": "scatter3d",
         "x": [
          137,
          75,
          75,
          79,
          99,
          99,
          71,
          71,
          79,
          79,
          79,
          31,
          128
         ],
         "y": [
          171,
          131,
          131,
          131,
          132,
          132,
          123,
          123,
          147,
          147,
          133,
          56,
          201
         ],
         "z": [
          154,
          103,
          103,
          105,
          115,
          115,
          97,
          97,
          113,
          113,
          106,
          43,
          164
         ]
        },
        {
         "hovertemplate": "Industry=Aerospace & Defense<br>min_salary=%{marker.size}<br>max_salary=%{y}<br>avg_salary=%{z}<extra></extra>",
         "legendgroup": "Aerospace & Defense",
         "marker": {
          "color": "#FF6692",
          "size": [
           137,
           75,
           99,
           99,
           90,
           101,
           56,
           79,
           71,
           90,
           91,
           141,
           145,
           79,
           79,
           122,
           112,
           110,
           110,
           124,
           31,
           31,
           212,
           128,
           138,
           138,
           138,
           80,
           80,
           87,
           87,
           92,
           105,
           105
          ],
          "sizemode": "area",
          "sizeref": 0.53,
          "symbol": "circle"
         },
         "mode": "markers",
         "name": "Aerospace & Defense",
         "scene": "scene",
         "showlegend": true,
         "type": "scatter3d",
         "x": [
          137,
          75,
          99,
          99,
          90,
          101,
          56,
          79,
          71,
          90,
          91,
          141,
          145,
          79,
          79,
          122,
          112,
          110,
          110,
          124,
          31,
          31,
          212,
          128,
          138,
          138,
          138,
          80,
          80,
          87,
          87,
          92,
          105,
          105
         ],
         "y": [
          171,
          131,
          132,
          132,
          109,
          165,
          97,
          106,
          123,
          124,
          150,
          225,
          225,
          147,
          147,
          146,
          116,
          163,
          163,
          198,
          56,
          56,
          331,
          201,
          158,
          158,
          158,
          132,
          132,
          141,
          141,
          155,
          167,
          167
         ],
         "z": [
          154,
          103,
          115,
          115,
          99,
          133,
          76,
          92,
          97,
          107,
          120,
          183,
          185,
          113,
          113,
          134,
          114,
          136,
          136,
          161,
          43,
          43,
          271,
          164,
          148,
          148,
          148,
          106,
          106,
          114,
          114,
          123,
          136,
          136
         ]
        },
        {
         "hovertemplate": "Industry=Utilities<br>min_salary=%{marker.size}<br>max_salary=%{y}<br>avg_salary=%{z}<extra></extra>",
         "legendgroup": "Utilities",
         "marker": {
          "color": "#B6E880",
          "size": [
           75,
           90,
           91
          ],
          "sizemode": "area",
          "sizeref": 0.53,
          "symbol": "circle"
         },
         "mode": "markers",
         "name": "Utilities",
         "scene": "scene",
         "showlegend": true,
         "type": "scatter3d",
         "x": [
          75,
          90,
          91
         ],
         "y": [
          131,
          109,
          150
         ],
         "z": [
          103,
          99,
          120
         ]
        },
        {
         "hovertemplate": "Industry=Express Delivery Services<br>min_salary=%{marker.size}<br>max_salary=%{y}<br>avg_salary=%{z}<extra></extra>",
         "legendgroup": "Express Delivery Services",
         "marker": {
          "color": "#FF97FF",
          "size": [
           75,
           124
          ],
          "sizemode": "area",
          "sizeref": 0.53,
          "symbol": "circle"
         },
         "mode": "markers",
         "name": "Express Delivery Services",
         "scene": "scene",
         "showlegend": true,
         "type": "scatter3d",
         "x": [
          75,
          124
         ],
         "y": [
          131,
          198
         ],
         "z": [
          103,
          161
         ]
        },
        {
         "hovertemplate": "Industry=Staffing & Outsourcing<br>min_salary=%{marker.size}<br>max_salary=%{y}<br>avg_salary=%{z}<extra></extra>",
         "legendgroup": "Staffing & Outsourcing",
         "marker": {
          "color": "#FECB52",
          "size": [
           75,
           79,
           90,
           101,
           79,
           91,
           141,
           145,
           79,
           122,
           112,
           112,
           112,
           124,
           124,
           79,
           69,
           69,
           69,
           31,
           95,
           95,
           95,
           212,
           212,
           212,
           66,
           66,
           66,
           128,
           87,
           87,
           92,
           105
          ],
          "sizemode": "area",
          "sizeref": 0.53,
          "symbol": "circle"
         },
         "mode": "markers",
         "name": "Staffing & Outsourcing",
         "scene": "scene",
         "showlegend": true,
         "type": "scatter3d",
         "x": [
          75,
          79,
          90,
          101,
          79,
          91,
          141,
          145,
          79,
          122,
          112,
          112,
          112,
          124,
          124,
          79,
          69,
          69,
          69,
          31,
          95,
          95,
          95,
          212,
          212,
          212,
          66,
          66,
          66,
          128,
          87,
          87,
          92,
          105
         ],
         "y": [
          131,
          131,
          109,
          165,
          106,
          150,
          225,
          225,
          147,
          146,
          116,
          116,
          116,
          198,
          198,
          133,
          116,
          116,
          116,
          56,
          119,
          119,
          119,
          331,
          331,
          331,
          112,
          112,
          112,
          201,
          141,
          141,
          155,
          167
         ],
         "z": [
          103,
          105,
          99,
          133,
          92,
          120,
          183,
          185,
          113,
          134,
          114,
          114,
          114,
          161,
          161,
          106,
          92,
          92,
          92,
          43,
          107,
          107,
          107,
          271,
          271,
          271,
          89,
          89,
          89,
          164,
          114,
          114,
          123,
          136
         ]
        },
        {
         "hovertemplate": "Industry=Insurance Agencies & Brokerages<br>min_salary=%{marker.size}<br>max_salary=%{y}<br>avg_salary=%{z}<extra></extra>",
         "legendgroup": "Insurance Agencies & Brokerages",
         "marker": {
          "color": "#636efa",
          "size": [
           75,
           79,
           122,
           31
          ],
          "sizemode": "area",
          "sizeref": 0.53,
          "symbol": "circle"
         },
         "mode": "markers",
         "name": "Insurance Agencies & Brokerages",
         "scene": "scene",
         "showlegend": true,
         "type": "scatter3d",
         "x": [
          75,
          79,
          122,
          31
         ],
         "y": [
          131,
          131,
          146,
          56
         ],
         "z": [
          103,
          105,
          134,
          43
         ]
        },
        {
         "hovertemplate": "Industry=Consumer Products Manufacturing<br>min_salary=%{marker.size}<br>max_salary=%{y}<br>avg_salary=%{z}<extra></extra>",
         "legendgroup": "Consumer Products Manufacturing",
         "marker": {
          "color": "#EF553B",
          "size": [
           79,
           79,
           110,
           69,
           138
          ],
          "sizemode": "area",
          "sizeref": 0.53,
          "symbol": "circle"
         },
         "mode": "markers",
         "name": "Consumer Products Manufacturing",
         "scene": "scene",
         "showlegend": true,
         "type": "scatter3d",
         "x": [
          79,
          79,
          110,
          69,
          138
         ],
         "y": [
          131,
          147,
          163,
          116,
          158
         ],
         "z": [
          105,
          113,
          136,
          92,
          148
         ]
        },
        {
         "hovertemplate": "Industry=Industrial Manufacturing<br>min_salary=%{marker.size}<br>max_salary=%{y}<br>avg_salary=%{z}<extra></extra>",
         "legendgroup": "Industrial Manufacturing",
         "marker": {
          "color": "#00cc96",
          "size": [
           79,
           90,
           128
          ],
          "sizemode": "area",
          "sizeref": 0.53,
          "symbol": "circle"
         },
         "mode": "markers",
         "name": "Industrial Manufacturing",
         "scene": "scene",
         "showlegend": true,
         "type": "scatter3d",
         "x": [
          79,
          90,
          128
         ],
         "y": [
          131,
          124,
          201
         ],
         "z": [
          105,
          107,
          164
         ]
        },
        {
         "hovertemplate": "Industry=Food & Beverage Manufacturing<br>min_salary=%{marker.size}<br>max_salary=%{y}<br>avg_salary=%{z}<extra></extra>",
         "legendgroup": "Food & Beverage Manufacturing",
         "marker": {
          "color": "#ab63fa",
          "size": [
           79,
           99,
           138,
           92
          ],
          "sizemode": "area",
          "sizeref": 0.53,
          "symbol": "circle"
         },
         "mode": "markers",
         "name": "Food & Beverage Manufacturing",
         "scene": "scene",
         "showlegend": true,
         "type": "scatter3d",
         "x": [
          79,
          99,
          138,
          92
         ],
         "y": [
          131,
          132,
          158,
          155
         ],
         "z": [
          105,
          115,
          148,
          123
         ]
        },
        {
         "hovertemplate": "Industry=Banks & Credit Unions<br>min_salary=%{marker.size}<br>max_salary=%{y}<br>avg_salary=%{z}<extra></extra>",
         "legendgroup": "Banks & Credit Unions",
         "marker": {
          "color": "#FFA15A",
          "size": [
           79,
           99,
           101,
           91,
           110,
           138,
           138,
           87
          ],
          "sizemode": "area",
          "sizeref": 0.53,
          "symbol": "circle"
         },
         "mode": "markers",
         "name": "Banks & Credit Unions",
         "scene": "scene",
         "showlegend": true,
         "type": "scatter3d",
         "x": [
          79,
          99,
          101,
          91,
          110,
          138,
          138,
          87
         ],
         "y": [
          131,
          132,
          165,
          150,
          163,
          158,
          158,
          141
         ],
         "z": [
          105,
          115,
          133,
          120,
          136,
          148,
          148,
          114
         ]
        },
        {
         "hovertemplate": "Industry=Video Games<br>min_salary=%{marker.size}<br>max_salary=%{y}<br>avg_salary=%{z}<extra></extra>",
         "legendgroup": "Video Games",
         "marker": {
          "color": "#19d3f3",
          "size": [
           99,
           90,
           141
          ],
          "sizemode": "area",
          "sizeref": 0.53,
          "symbol": "circle"
         },
         "mode": "markers",
         "name": "Video Games",
         "scene": "scene",
         "showlegend": true,
         "type": "scatter3d",
         "x": [
          99,
          90,
          141
         ],
         "y": [
          132,
          109,
          225
         ],
         "z": [
          115,
          99,
          183
         ]
        },
        {
         "hovertemplate": "Industry=Shipping<br>min_salary=%{marker.size}<br>max_salary=%{y}<br>avg_salary=%{z}<extra></extra>",
         "legendgroup": "Shipping",
         "marker": {
          "color": "#FF6692",
          "size": [
           99
          ],
          "sizemode": "area",
          "sizeref": 0.53,
          "symbol": "circle"
         },
         "mode": "markers",
         "name": "Shipping",
         "scene": "scene",
         "showlegend": true,
         "type": "scatter3d",
         "x": [
          99
         ],
         "y": [
          132
         ],
         "z": [
          115
         ]
        },
        {
         "hovertemplate": "Industry=Telecommunications Services<br>min_salary=%{marker.size}<br>max_salary=%{y}<br>avg_salary=%{z}<extra></extra>",
         "legendgroup": "Telecommunications Services",
         "marker": {
          "color": "#B6E880",
          "size": [
           99,
           90,
           101,
           79,
           105
          ],
          "sizemode": "area",
          "sizeref": 0.53,
          "symbol": "circle"
         },
         "mode": "markers",
         "name": "Telecommunications Services",
         "scene": "scene",
         "showlegend": true,
         "type": "scatter3d",
         "x": [
          99,
          90,
          101,
          79,
          105
         ],
         "y": [
          132,
          109,
          165,
          133,
          167
         ],
         "z": [
          115,
          99,
          133,
          106,
          136
         ]
        },
        {
         "hovertemplate": "Industry=Lending<br>min_salary=%{marker.size}<br>max_salary=%{y}<br>avg_salary=%{z}<extra></extra>",
         "legendgroup": "Lending",
         "marker": {
          "color": "#FF97FF",
          "size": [
           90,
           90,
           56,
           79,
           145,
           124,
           66
          ],
          "sizemode": "area",
          "sizeref": 0.53,
          "symbol": "circle"
         },
         "mode": "markers",
         "name": "Lending",
         "scene": "scene",
         "showlegend": true,
         "type": "scatter3d",
         "x": [
          90,
          90,
          56,
          79,
          145,
          124,
          66
         ],
         "y": [
          109,
          109,
          97,
          106,
          225,
          198,
          112
         ],
         "z": [
          99,
          99,
          76,
          92,
          185,
          161,
          89
         ]
        },
        {
         "hovertemplate": "Industry=Cable, Internet & Telephone Providers<br>min_salary=%{marker.size}<br>max_salary=%{y}<br>avg_salary=%{z}<extra></extra>",
         "legendgroup": "Cable, Internet & Telephone Providers",
         "marker": {
          "color": "#FECB52",
          "size": [
           90
          ],
          "sizemode": "area",
          "sizeref": 0.53,
          "symbol": "circle"
         },
         "mode": "markers",
         "name": "Cable, Internet & Telephone Providers",
         "scene": "scene",
         "showlegend": true,
         "type": "scatter3d",
         "x": [
          90
         ],
         "y": [
          109
         ],
         "z": [
          99
         ]
        },
        {
         "hovertemplate": "Industry=Real Estate<br>min_salary=%{marker.size}<br>max_salary=%{y}<br>avg_salary=%{z}<extra></extra>",
         "legendgroup": "Real Estate",
         "marker": {
          "color": "#636efa",
          "size": [
           101,
           71,
           91
          ],
          "sizemode": "area",
          "sizeref": 0.53,
          "symbol": "circle"
         },
         "mode": "markers",
         "name": "Real Estate",
         "scene": "scene",
         "showlegend": true,
         "type": "scatter3d",
         "x": [
          101,
          71,
          91
         ],
         "y": [
          165,
          123,
          150
         ],
         "z": [
          133,
          97,
          120
         ]
        },
        {
         "hovertemplate": "Industry=Venture Capital & Private Equity<br>min_salary=%{marker.size}<br>max_salary=%{y}<br>avg_salary=%{z}<extra></extra>",
         "legendgroup": "Venture Capital & Private Equity",
         "marker": {
          "color": "#EF553B",
          "size": [
           101,
           71
          ],
          "sizemode": "area",
          "sizeref": 0.53,
          "symbol": "circle"
         },
         "mode": "markers",
         "name": "Venture Capital & Private Equity",
         "scene": "scene",
         "showlegend": true,
         "type": "scatter3d",
         "x": [
          101,
          71
         ],
         "y": [
          165,
          123
         ],
         "z": [
          133,
          97
         ]
        },
        {
         "hovertemplate": "Industry=Miscellaneous Manufacturing<br>min_salary=%{marker.size}<br>max_salary=%{y}<br>avg_salary=%{z}<extra></extra>",
         "legendgroup": "Miscellaneous Manufacturing",
         "marker": {
          "color": "#00cc96",
          "size": [
           79,
           122,
           31
          ],
          "sizemode": "area",
          "sizeref": 0.53,
          "symbol": "circle"
         },
         "mode": "markers",
         "name": "Miscellaneous Manufacturing",
         "scene": "scene",
         "showlegend": true,
         "type": "scatter3d",
         "x": [
          79,
          122,
          31
         ],
         "y": [
          106,
          146,
          56
         ],
         "z": [
          92,
          134,
          43
         ]
        },
        {
         "hovertemplate": "Industry=Oil & Gas Services<br>min_salary=%{marker.size}<br>max_salary=%{y}<br>avg_salary=%{z}<extra></extra>",
         "legendgroup": "Oil & Gas Services",
         "marker": {
          "color": "#ab63fa",
          "size": [
           79,
           31
          ],
          "sizemode": "area",
          "sizeref": 0.53,
          "symbol": "circle"
         },
         "mode": "markers",
         "name": "Oil & Gas Services",
         "scene": "scene",
         "showlegend": true,
         "type": "scatter3d",
         "x": [
          79,
          31
         ],
         "y": [
          106,
          56
         ],
         "z": [
          92,
          43
         ]
        },
        {
         "hovertemplate": "Industry=Transportation Equipment Manufacturing<br>min_salary=%{marker.size}<br>max_salary=%{y}<br>avg_salary=%{z}<extra></extra>",
         "legendgroup": "Transportation Equipment Manufacturing",
         "marker": {
          "color": "#FFA15A",
          "size": [
           71,
           141
          ],
          "sizemode": "area",
          "sizeref": 0.53,
          "symbol": "circle"
         },
         "mode": "markers",
         "name": "Transportation Equipment Manufacturing",
         "scene": "scene",
         "showlegend": true,
         "type": "scatter3d",
         "x": [
          71,
          141
         ],
         "y": [
          123,
          225
         ],
         "z": [
          97,
          183
         ]
        },
        {
         "hovertemplate": "Industry=Telecommunications Manufacturing<br>min_salary=%{marker.size}<br>max_salary=%{y}<br>avg_salary=%{z}<extra></extra>",
         "legendgroup": "Telecommunications Manufacturing",
         "marker": {
          "color": "#19d3f3",
          "size": [
           71
          ],
          "sizemode": "area",
          "sizeref": 0.53,
          "symbol": "circle"
         },
         "mode": "markers",
         "name": "Telecommunications Manufacturing",
         "scene": "scene",
         "showlegend": true,
         "type": "scatter3d",
         "x": [
          71
         ],
         "y": [
          123
         ],
         "z": [
          97
         ]
        },
        {
         "hovertemplate": "Industry=Transportation Management<br>min_salary=%{marker.size}<br>max_salary=%{y}<br>avg_salary=%{z}<extra></extra>",
         "legendgroup": "Transportation Management",
         "marker": {
          "color": "#FF6692",
          "size": [
           90
          ],
          "sizemode": "area",
          "sizeref": 0.53,
          "symbol": "circle"
         },
         "mode": "markers",
         "name": "Transportation Management",
         "scene": "scene",
         "showlegend": true,
         "type": "scatter3d",
         "x": [
          90
         ],
         "y": [
          124
         ],
         "z": [
          107
         ]
        },
        {
         "hovertemplate": "Industry=News Outlet<br>min_salary=%{marker.size}<br>max_salary=%{y}<br>avg_salary=%{z}<extra></extra>",
         "legendgroup": "News Outlet",
         "marker": {
          "color": "#B6E880",
          "size": [
           90
          ],
          "sizemode": "area",
          "sizeref": 0.53,
          "symbol": "circle"
         },
         "mode": "markers",
         "name": "News Outlet",
         "scene": "scene",
         "showlegend": true,
         "type": "scatter3d",
         "x": [
          90
         ],
         "y": [
          124
         ],
         "z": [
          107
         ]
        },
        {
         "hovertemplate": "Industry=Architectural & Engineering Services<br>min_salary=%{marker.size}<br>max_salary=%{y}<br>avg_salary=%{z}<extra></extra>",
         "legendgroup": "Architectural & Engineering Services",
         "marker": {
          "color": "#FF97FF",
          "size": [
           91,
           141,
           124
          ],
          "sizemode": "area",
          "sizeref": 0.53,
          "symbol": "circle"
         },
         "mode": "markers",
         "name": "Architectural & Engineering Services",
         "scene": "scene",
         "showlegend": true,
         "type": "scatter3d",
         "x": [
          91,
          141,
          124
         ],
         "y": [
          150,
          225,
          198
         ],
         "z": [
          120,
          183,
          161
         ]
        },
        {
         "hovertemplate": "Industry=Other Retail Stores<br>min_salary=%{marker.size}<br>max_salary=%{y}<br>avg_salary=%{z}<extra></extra>",
         "legendgroup": "Other Retail Stores",
         "marker": {
          "color": "#FECB52",
          "size": [
           141,
           141
          ],
          "sizemode": "area",
          "sizeref": 0.53,
          "symbol": "circle"
         },
         "mode": "markers",
         "name": "Other Retail Stores",
         "scene": "scene",
         "showlegend": true,
         "type": "scatter3d",
         "x": [
          141,
          141
         ],
         "y": [
          225,
          225
         ],
         "z": [
          183,
          183
         ]
        },
        {
         "hovertemplate": "Industry=Hotels, Motels, & Resorts<br>min_salary=%{marker.size}<br>max_salary=%{y}<br>avg_salary=%{z}<extra></extra>",
         "legendgroup": "Hotels, Motels, & Resorts",
         "marker": {
          "color": "#636efa",
          "size": [
           141
          ],
          "sizemode": "area",
          "sizeref": 0.53,
          "symbol": "circle"
         },
         "mode": "markers",
         "name": "Hotels, Motels, & Resorts",
         "scene": "scene",
         "showlegend": true,
         "type": "scatter3d",
         "x": [
          141
         ],
         "y": [
          225
         ],
         "z": [
          183
         ]
        },
        {
         "hovertemplate": "Industry=State & Regional Agencies<br>min_salary=%{marker.size}<br>max_salary=%{y}<br>avg_salary=%{z}<extra></extra>",
         "legendgroup": "State & Regional Agencies",
         "marker": {
          "color": "#EF553B",
          "size": [
           141
          ],
          "sizemode": "area",
          "sizeref": 0.53,
          "symbol": "circle"
         },
         "mode": "markers",
         "name": "State & Regional Agencies",
         "scene": "scene",
         "showlegend": true,
         "type": "scatter3d",
         "x": [
          141
         ],
         "y": [
          225
         ],
         "z": [
          183
         ]
        },
        {
         "hovertemplate": "Industry=Financial Transaction Processing<br>min_salary=%{marker.size}<br>max_salary=%{y}<br>avg_salary=%{z}<extra></extra>",
         "legendgroup": "Financial Transaction Processing",
         "marker": {
          "color": "#00cc96",
          "size": [
           145,
           31
          ],
          "sizemode": "area",
          "sizeref": 0.53,
          "symbol": "circle"
         },
         "mode": "markers",
         "name": "Financial Transaction Processing",
         "scene": "scene",
         "showlegend": true,
         "type": "scatter3d",
         "x": [
          145,
          31
         ],
         "y": [
          225,
          56
         ],
         "z": [
          185,
          43
         ]
        },
        {
         "hovertemplate": "Industry=Timber Operations<br>min_salary=%{marker.size}<br>max_salary=%{y}<br>avg_salary=%{z}<extra></extra>",
         "legendgroup": "Timber Operations",
         "marker": {
          "color": "#ab63fa",
          "size": [
           79,
           69
          ],
          "sizemode": "area",
          "sizeref": 0.53,
          "symbol": "circle"
         },
         "mode": "markers",
         "name": "Timber Operations",
         "scene": "scene",
         "showlegend": true,
         "type": "scatter3d",
         "x": [
          79,
          69
         ],
         "y": [
          147,
          116
         ],
         "z": [
          113,
          92
         ]
        },
        {
         "hovertemplate": "Industry=Colleges & Universities<br>min_salary=%{marker.size}<br>max_salary=%{y}<br>avg_salary=%{z}<extra></extra>",
         "legendgroup": "Colleges & Universities",
         "marker": {
          "color": "#FFA15A",
          "size": [
           79,
           69
          ],
          "sizemode": "area",
          "sizeref": 0.53,
          "symbol": "circle"
         },
         "mode": "markers",
         "name": "Colleges & Universities",
         "scene": "scene",
         "showlegend": true,
         "type": "scatter3d",
         "x": [
          79,
          69
         ],
         "y": [
          147,
          116
         ],
         "z": [
          113,
          92
         ]
        },
        {
         "hovertemplate": "Industry=Travel Agencies<br>min_salary=%{marker.size}<br>max_salary=%{y}<br>avg_salary=%{z}<extra></extra>",
         "legendgroup": "Travel Agencies",
         "marker": {
          "color": "#19d3f3",
          "size": [
           112,
           66
          ],
          "sizemode": "area",
          "sizeref": 0.53,
          "symbol": "circle"
         },
         "mode": "markers",
         "name": "Travel Agencies",
         "scene": "scene",
         "showlegend": true,
         "type": "scatter3d",
         "x": [
          112,
          66
         ],
         "y": [
          116,
          112
         ],
         "z": [
          114,
          89
         ]
        },
        {
         "hovertemplate": "Industry=Logistics & Supply Chain<br>min_salary=%{marker.size}<br>max_salary=%{y}<br>avg_salary=%{z}<extra></extra>",
         "legendgroup": "Logistics & Supply Chain",
         "marker": {
          "color": "#FF6692",
          "size": [
           79
          ],
          "sizemode": "area",
          "sizeref": 0.53,
          "symbol": "circle"
         },
         "mode": "markers",
         "name": "Logistics & Supply Chain",
         "scene": "scene",
         "showlegend": true,
         "type": "scatter3d",
         "x": [
          79
         ],
         "y": [
          133
         ],
         "z": [
          106
         ]
        },
        {
         "hovertemplate": "Industry=Farm Support Services<br>min_salary=%{marker.size}<br>max_salary=%{y}<br>avg_salary=%{z}<extra></extra>",
         "legendgroup": "Farm Support Services",
         "marker": {
          "color": "#B6E880",
          "size": [
           79
          ],
          "sizemode": "area",
          "sizeref": 0.53,
          "symbol": "circle"
         },
         "mode": "markers",
         "name": "Farm Support Services",
         "scene": "scene",
         "showlegend": true,
         "type": "scatter3d",
         "x": [
          79
         ],
         "y": [
          133
         ],
         "z": [
          106
         ]
        },
        {
         "hovertemplate": "Industry=Social Assistance<br>min_salary=%{marker.size}<br>max_salary=%{y}<br>avg_salary=%{z}<extra></extra>",
         "legendgroup": "Social Assistance",
         "marker": {
          "color": "#FF97FF",
          "size": [
           31
          ],
          "sizemode": "area",
          "sizeref": 0.53,
          "symbol": "circle"
         },
         "mode": "markers",
         "name": "Social Assistance",
         "scene": "scene",
         "showlegend": true,
         "type": "scatter3d",
         "x": [
          31
         ],
         "y": [
          56
         ],
         "z": [
          43
         ]
        },
        {
         "hovertemplate": "Industry=Construction<br>min_salary=%{marker.size}<br>max_salary=%{y}<br>avg_salary=%{z}<extra></extra>",
         "legendgroup": "Construction",
         "marker": {
          "color": "#FECB52",
          "size": [
           31,
           80
          ],
          "sizemode": "area",
          "sizeref": 0.53,
          "symbol": "circle"
         },
         "mode": "markers",
         "name": "Construction",
         "scene": "scene",
         "showlegend": true,
         "type": "scatter3d",
         "x": [
          31,
          80
         ],
         "y": [
          56,
          132
         ],
         "z": [
          43,
          106
         ]
        },
        {
         "hovertemplate": "Industry=Department, Clothing, & Shoe Stores<br>min_salary=%{marker.size}<br>max_salary=%{y}<br>avg_salary=%{z}<extra></extra>",
         "legendgroup": "Department, Clothing, & Shoe Stores",
         "marker": {
          "color": "#636efa",
          "size": [
           95
          ],
          "sizemode": "area",
          "sizeref": 0.53,
          "symbol": "circle"
         },
         "mode": "markers",
         "name": "Department, Clothing, & Shoe Stores",
         "scene": "scene",
         "showlegend": true,
         "type": "scatter3d",
         "x": [
          95
         ],
         "y": [
          119
         ],
         "z": [
          107
         ]
        },
        {
         "hovertemplate": "Industry=Wholesale<br>min_salary=%{marker.size}<br>max_salary=%{y}<br>avg_salary=%{z}<extra></extra>",
         "legendgroup": "Wholesale",
         "marker": {
          "color": "#EF553B",
          "size": [
           212,
           92,
           105
          ],
          "sizemode": "area",
          "sizeref": 0.53,
          "symbol": "circle"
         },
         "mode": "markers",
         "name": "Wholesale",
         "scene": "scene",
         "showlegend": true,
         "type": "scatter3d",
         "x": [
          212,
          92,
          105
         ],
         "y": [
          331,
          155,
          167
         ],
         "z": [
          271,
          123,
          136
         ]
        },
        {
         "hovertemplate": "Industry=Rail<br>min_salary=%{marker.size}<br>max_salary=%{y}<br>avg_salary=%{z}<extra></extra>",
         "legendgroup": "Rail",
         "marker": {
          "color": "#00cc96",
          "size": [
           87
          ],
          "sizemode": "area",
          "sizeref": 0.53,
          "symbol": "circle"
         },
         "mode": "markers",
         "name": "Rail",
         "scene": "scene",
         "showlegend": true,
         "type": "scatter3d",
         "x": [
          87
         ],
         "y": [
          141
         ],
         "z": [
          114
         ]
        }
       ],
       "layout": {
        "height": 800,
        "legend": {
         "itemsizing": "constant",
         "title": {
          "text": "Industry"
         },
         "tracegroupgap": 0
        },
        "scene": {
         "aspectmode": "auto",
         "aspectratio": {
          "x": 0.8054338349217036,
          "y": 1.2237254397981685,
          "z": 1.014579637359936
         },
         "domain": {
          "x": [
           0,
           1
          ],
          "y": [
           0,
           1
          ]
         },
         "xaxis": {
          "title": {
           "text": "min_salary"
          },
          "type": "linear"
         },
         "yaxis": {
          "title": {
           "text": "max_salary"
          },
          "type": "linear"
         },
         "zaxis": {
          "title": {
           "text": "avg_salary"
          },
          "type": "linear"
         }
        },
        "template": {
         "data": {
          "bar": [
           {
            "error_x": {
             "color": "#2a3f5f"
            },
            "error_y": {
             "color": "#2a3f5f"
            },
            "marker": {
             "line": {
              "color": "#E5ECF6",
              "width": 0.5
             },
             "pattern": {
              "fillmode": "overlay",
              "size": 10,
              "solidity": 0.2
             }
            },
            "type": "bar"
           }
          ],
          "barpolar": [
           {
            "marker": {
             "line": {
              "color": "#E5ECF6",
              "width": 0.5
             },
             "pattern": {
              "fillmode": "overlay",
              "size": 10,
              "solidity": 0.2
             }
            },
            "type": "barpolar"
           }
          ],
          "carpet": [
           {
            "aaxis": {
             "endlinecolor": "#2a3f5f",
             "gridcolor": "white",
             "linecolor": "white",
             "minorgridcolor": "white",
             "startlinecolor": "#2a3f5f"
            },
            "baxis": {
             "endlinecolor": "#2a3f5f",
             "gridcolor": "white",
             "linecolor": "white",
             "minorgridcolor": "white",
             "startlinecolor": "#2a3f5f"
            },
            "type": "carpet"
           }
          ],
          "choropleth": [
           {
            "colorbar": {
             "outlinewidth": 0,
             "ticks": ""
            },
            "type": "choropleth"
           }
          ],
          "contour": [
           {
            "colorbar": {
             "outlinewidth": 0,
             "ticks": ""
            },
            "colorscale": [
             [
              0,
              "#0d0887"
             ],
             [
              0.1111111111111111,
              "#46039f"
             ],
             [
              0.2222222222222222,
              "#7201a8"
             ],
             [
              0.3333333333333333,
              "#9c179e"
             ],
             [
              0.4444444444444444,
              "#bd3786"
             ],
             [
              0.5555555555555556,
              "#d8576b"
             ],
             [
              0.6666666666666666,
              "#ed7953"
             ],
             [
              0.7777777777777778,
              "#fb9f3a"
             ],
             [
              0.8888888888888888,
              "#fdca26"
             ],
             [
              1,
              "#f0f921"
             ]
            ],
            "type": "contour"
           }
          ],
          "contourcarpet": [
           {
            "colorbar": {
             "outlinewidth": 0,
             "ticks": ""
            },
            "type": "contourcarpet"
           }
          ],
          "heatmap": [
           {
            "colorbar": {
             "outlinewidth": 0,
             "ticks": ""
            },
            "colorscale": [
             [
              0,
              "#0d0887"
             ],
             [
              0.1111111111111111,
              "#46039f"
             ],
             [
              0.2222222222222222,
              "#7201a8"
             ],
             [
              0.3333333333333333,
              "#9c179e"
             ],
             [
              0.4444444444444444,
              "#bd3786"
             ],
             [
              0.5555555555555556,
              "#d8576b"
             ],
             [
              0.6666666666666666,
              "#ed7953"
             ],
             [
              0.7777777777777778,
              "#fb9f3a"
             ],
             [
              0.8888888888888888,
              "#fdca26"
             ],
             [
              1,
              "#f0f921"
             ]
            ],
            "type": "heatmap"
           }
          ],
          "heatmapgl": [
           {
            "colorbar": {
             "outlinewidth": 0,
             "ticks": ""
            },
            "colorscale": [
             [
              0,
              "#0d0887"
             ],
             [
              0.1111111111111111,
              "#46039f"
             ],
             [
              0.2222222222222222,
              "#7201a8"
             ],
             [
              0.3333333333333333,
              "#9c179e"
             ],
             [
              0.4444444444444444,
              "#bd3786"
             ],
             [
              0.5555555555555556,
              "#d8576b"
             ],
             [
              0.6666666666666666,
              "#ed7953"
             ],
             [
              0.7777777777777778,
              "#fb9f3a"
             ],
             [
              0.8888888888888888,
              "#fdca26"
             ],
             [
              1,
              "#f0f921"
             ]
            ],
            "type": "heatmapgl"
           }
          ],
          "histogram": [
           {
            "marker": {
             "pattern": {
              "fillmode": "overlay",
              "size": 10,
              "solidity": 0.2
             }
            },
            "type": "histogram"
           }
          ],
          "histogram2d": [
           {
            "colorbar": {
             "outlinewidth": 0,
             "ticks": ""
            },
            "colorscale": [
             [
              0,
              "#0d0887"
             ],
             [
              0.1111111111111111,
              "#46039f"
             ],
             [
              0.2222222222222222,
              "#7201a8"
             ],
             [
              0.3333333333333333,
              "#9c179e"
             ],
             [
              0.4444444444444444,
              "#bd3786"
             ],
             [
              0.5555555555555556,
              "#d8576b"
             ],
             [
              0.6666666666666666,
              "#ed7953"
             ],
             [
              0.7777777777777778,
              "#fb9f3a"
             ],
             [
              0.8888888888888888,
              "#fdca26"
             ],
             [
              1,
              "#f0f921"
             ]
            ],
            "type": "histogram2d"
           }
          ],
          "histogram2dcontour": [
           {
            "colorbar": {
             "outlinewidth": 0,
             "ticks": ""
            },
            "colorscale": [
             [
              0,
              "#0d0887"
             ],
             [
              0.1111111111111111,
              "#46039f"
             ],
             [
              0.2222222222222222,
              "#7201a8"
             ],
             [
              0.3333333333333333,
              "#9c179e"
             ],
             [
              0.4444444444444444,
              "#bd3786"
             ],
             [
              0.5555555555555556,
              "#d8576b"
             ],
             [
              0.6666666666666666,
              "#ed7953"
             ],
             [
              0.7777777777777778,
              "#fb9f3a"
             ],
             [
              0.8888888888888888,
              "#fdca26"
             ],
             [
              1,
              "#f0f921"
             ]
            ],
            "type": "histogram2dcontour"
           }
          ],
          "mesh3d": [
           {
            "colorbar": {
             "outlinewidth": 0,
             "ticks": ""
            },
            "type": "mesh3d"
           }
          ],
          "parcoords": [
           {
            "line": {
             "colorbar": {
              "outlinewidth": 0,
              "ticks": ""
             }
            },
            "type": "parcoords"
           }
          ],
          "pie": [
           {
            "automargin": true,
            "type": "pie"
           }
          ],
          "scatter": [
           {
            "fillpattern": {
             "fillmode": "overlay",
             "size": 10,
             "solidity": 0.2
            },
            "type": "scatter"
           }
          ],
          "scatter3d": [
           {
            "line": {
             "colorbar": {
              "outlinewidth": 0,
              "ticks": ""
             }
            },
            "marker": {
             "colorbar": {
              "outlinewidth": 0,
              "ticks": ""
             }
            },
            "type": "scatter3d"
           }
          ],
          "scattercarpet": [
           {
            "marker": {
             "colorbar": {
              "outlinewidth": 0,
              "ticks": ""
             }
            },
            "type": "scattercarpet"
           }
          ],
          "scattergeo": [
           {
            "marker": {
             "colorbar": {
              "outlinewidth": 0,
              "ticks": ""
             }
            },
            "type": "scattergeo"
           }
          ],
          "scattergl": [
           {
            "marker": {
             "colorbar": {
              "outlinewidth": 0,
              "ticks": ""
             }
            },
            "type": "scattergl"
           }
          ],
          "scattermapbox": [
           {
            "marker": {
             "colorbar": {
              "outlinewidth": 0,
              "ticks": ""
             }
            },
            "type": "scattermapbox"
           }
          ],
          "scatterpolar": [
           {
            "marker": {
             "colorbar": {
              "outlinewidth": 0,
              "ticks": ""
             }
            },
            "type": "scatterpolar"
           }
          ],
          "scatterpolargl": [
           {
            "marker": {
             "colorbar": {
              "outlinewidth": 0,
              "ticks": ""
             }
            },
            "type": "scatterpolargl"
           }
          ],
          "scatterternary": [
           {
            "marker": {
             "colorbar": {
              "outlinewidth": 0,
              "ticks": ""
             }
            },
            "type": "scatterternary"
           }
          ],
          "surface": [
           {
            "colorbar": {
             "outlinewidth": 0,
             "ticks": ""
            },
            "colorscale": [
             [
              0,
              "#0d0887"
             ],
             [
              0.1111111111111111,
              "#46039f"
             ],
             [
              0.2222222222222222,
              "#7201a8"
             ],
             [
              0.3333333333333333,
              "#9c179e"
             ],
             [
              0.4444444444444444,
              "#bd3786"
             ],
             [
              0.5555555555555556,
              "#d8576b"
             ],
             [
              0.6666666666666666,
              "#ed7953"
             ],
             [
              0.7777777777777778,
              "#fb9f3a"
             ],
             [
              0.8888888888888888,
              "#fdca26"
             ],
             [
              1,
              "#f0f921"
             ]
            ],
            "type": "surface"
           }
          ],
          "table": [
           {
            "cells": {
             "fill": {
              "color": "#EBF0F8"
             },
             "line": {
              "color": "white"
             }
            },
            "header": {
             "fill": {
              "color": "#C8D4E3"
             },
             "line": {
              "color": "white"
             }
            },
            "type": "table"
           }
          ]
         },
         "layout": {
          "annotationdefaults": {
           "arrowcolor": "#2a3f5f",
           "arrowhead": 0,
           "arrowwidth": 1
          },
          "autotypenumbers": "strict",
          "coloraxis": {
           "colorbar": {
            "outlinewidth": 0,
            "ticks": ""
           }
          },
          "colorscale": {
           "diverging": [
            [
             0,
             "#8e0152"
            ],
            [
             0.1,
             "#c51b7d"
            ],
            [
             0.2,
             "#de77ae"
            ],
            [
             0.3,
             "#f1b6da"
            ],
            [
             0.4,
             "#fde0ef"
            ],
            [
             0.5,
             "#f7f7f7"
            ],
            [
             0.6,
             "#e6f5d0"
            ],
            [
             0.7,
             "#b8e186"
            ],
            [
             0.8,
             "#7fbc41"
            ],
            [
             0.9,
             "#4d9221"
            ],
            [
             1,
             "#276419"
            ]
           ],
           "sequential": [
            [
             0,
             "#0d0887"
            ],
            [
             0.1111111111111111,
             "#46039f"
            ],
            [
             0.2222222222222222,
             "#7201a8"
            ],
            [
             0.3333333333333333,
             "#9c179e"
            ],
            [
             0.4444444444444444,
             "#bd3786"
            ],
            [
             0.5555555555555556,
             "#d8576b"
            ],
            [
             0.6666666666666666,
             "#ed7953"
            ],
            [
             0.7777777777777778,
             "#fb9f3a"
            ],
            [
             0.8888888888888888,
             "#fdca26"
            ],
            [
             1,
             "#f0f921"
            ]
           ],
           "sequentialminus": [
            [
             0,
             "#0d0887"
            ],
            [
             0.1111111111111111,
             "#46039f"
            ],
            [
             0.2222222222222222,
             "#7201a8"
            ],
            [
             0.3333333333333333,
             "#9c179e"
            ],
            [
             0.4444444444444444,
             "#bd3786"
            ],
            [
             0.5555555555555556,
             "#d8576b"
            ],
            [
             0.6666666666666666,
             "#ed7953"
            ],
            [
             0.7777777777777778,
             "#fb9f3a"
            ],
            [
             0.8888888888888888,
             "#fdca26"
            ],
            [
             1,
             "#f0f921"
            ]
           ]
          },
          "colorway": [
           "#636efa",
           "#EF553B",
           "#00cc96",
           "#ab63fa",
           "#FFA15A",
           "#19d3f3",
           "#FF6692",
           "#B6E880",
           "#FF97FF",
           "#FECB52"
          ],
          "font": {
           "color": "#2a3f5f"
          },
          "geo": {
           "bgcolor": "white",
           "lakecolor": "white",
           "landcolor": "#E5ECF6",
           "showlakes": true,
           "showland": true,
           "subunitcolor": "white"
          },
          "hoverlabel": {
           "align": "left"
          },
          "hovermode": "closest",
          "mapbox": {
           "style": "light"
          },
          "paper_bgcolor": "white",
          "plot_bgcolor": "#E5ECF6",
          "polar": {
           "angularaxis": {
            "gridcolor": "white",
            "linecolor": "white",
            "ticks": ""
           },
           "bgcolor": "#E5ECF6",
           "radialaxis": {
            "gridcolor": "white",
            "linecolor": "white",
            "ticks": ""
           }
          },
          "scene": {
           "xaxis": {
            "backgroundcolor": "#E5ECF6",
            "gridcolor": "white",
            "gridwidth": 2,
            "linecolor": "white",
            "showbackground": true,
            "ticks": "",
            "zerolinecolor": "white"
           },
           "yaxis": {
            "backgroundcolor": "#E5ECF6",
            "gridcolor": "white",
            "gridwidth": 2,
            "linecolor": "white",
            "showbackground": true,
            "ticks": "",
            "zerolinecolor": "white"
           },
           "zaxis": {
            "backgroundcolor": "#E5ECF6",
            "gridcolor": "white",
            "gridwidth": 2,
            "linecolor": "white",
            "showbackground": true,
            "ticks": "",
            "zerolinecolor": "white"
           }
          },
          "shapedefaults": {
           "line": {
            "color": "#2a3f5f"
           }
          },
          "ternary": {
           "aaxis": {
            "gridcolor": "white",
            "linecolor": "white",
            "ticks": ""
           },
           "baxis": {
            "gridcolor": "white",
            "linecolor": "white",
            "ticks": ""
           },
           "bgcolor": "#E5ECF6",
           "caxis": {
            "gridcolor": "white",
            "linecolor": "white",
            "ticks": ""
           }
          },
          "title": {
           "x": 0.05
          },
          "xaxis": {
           "automargin": true,
           "gridcolor": "white",
           "linecolor": "white",
           "ticks": "",
           "title": {
            "standoff": 15
           },
           "zerolinecolor": "white",
           "zerolinewidth": 2
          },
          "yaxis": {
           "automargin": true,
           "gridcolor": "white",
           "linecolor": "white",
           "ticks": "",
           "title": {
            "standoff": 15
           },
           "zerolinecolor": "white",
           "zerolinewidth": 2
          }
         }
        },
        "title": {
         "text": "3d plot for salary distributions"
        },
        "width": 1000
       }
      },
      "image/png": "[encoded data removed]",
      "text/html": [
       "<div>                            <div id=\"bd4dd61f-b319-448f-a3e3-3d8b88f1eddf\" class=\"plotly-graph-div\" style=\"height:800px; width:1000px;\"></div>            <script type=\"text/javascript\">                require([\"plotly\"], function(Plotly) {                    window.PLOTLYENV=window.PLOTLYENV || {};                                    if (document.getElementById(\"bd4dd61f-b319-448f-a3e3-3d8b88f1eddf\")) {                    Plotly.newPlot(                        \"bd4dd61f-b319-448f-a3e3-3d8b88f1eddf\",                        [{\"hovertemplate\":\"Industry=Insurance Carriers\\u003cbr\\u003emin_salary=%{marker.size}\\u003cbr\\u003emax_salary=%{y}\\u003cbr\\u003eavg_salary=%{z}\\u003cextra\\u003e\\u003c\\u002fextra\\u003e\",\"legendgroup\":\"Insurance Carriers\",\"marker\":{\"color\":\"#636efa\",\"size\":[137,137,75,75,79,79,90,101,56,56,79,71,71,90,90,90,145,79,112,112,110,69,66,66,128,87,92,92],\"sizemode\":\"area\",\"sizeref\":0.53,\"symbol\":\"circle\"},\"mode\":\"markers\",\"name\":\"Insurance Carriers\",\"scene\":\"scene\",\"showlegend\":true,\"x\":[137,137,75,75,79,79,90,101,56,56,79,71,71,90,90,90,145,79,112,112,110,69,66,66,128,87,92,92],\"y\":[171,171,131,131,131,131,109,165,97,97,106,123,123,124,124,124,225,147,116,116,163,116,112,112,201,141,155,155],\"z\":[154,154,103,103,105,105,99,133,76,76,92,97,97,107,107,107,185,113,114,114,136,92,89,89,164,114,123,123],\"type\":\"scatter3d\"},{\"hovertemplate\":\"Industry=Research & Development\\u003cbr\\u003emin_salary=%{marker.size}\\u003cbr\\u003emax_salary=%{y}\\u003cbr\\u003eavg_salary=%{z}\\u003cextra\\u003e\\u003c\\u002fextra\\u003e\",\"legendgroup\":\"Research & Development\",\"marker\":{\"color\":\"#EF553B\",\"size\":[137,79,101,79,79,90,79,112,112,79,31,212,212,212,66,87,92],\"sizemode\":\"area\",\"sizeref\":0.53,\"symbol\":\"circle\"},\"mode\":\"markers\",\"name\":\"Research & Development\",\"scene\":\"scene\",\"showlegend\":true,\"x\":[137,79,101,79,79,90,79,112,112,79,31,212,212,212,66,87,92],\"y\":[171,131,165,106,106,124,147,116,116,133,56,331,331,331,112,141,155],\"z\":[154,105,133,92,92,107,113,114,114,106,43,271,271,271,89,114,123],\"type\":\"scatter3d\"},{\"hovertemplate\":\"Industry=Consulting\\u003cbr\\u003emin_salary=%{marker.size}\\u003cbr\\u003emax_salary=%{y}\\u003cbr\\u003eavg_salary=%{z}\\u003cextra\\u003e\\u003c\\u002fextra\\u003e\",\"legendgroup\":\"Consulting\",\"marker\":{\"color\":\"#00cc96\",\"size\":[137,137,137,75,79,99,99,99,79,90,91,91,122,122,112,124,124,69,69,95,95,212,128,128,80,87,87,87,92,92],\"sizemode\":\"area\",\"sizeref\":0.53,\"symbol\":\"circle\"},\"mode\":\"markers\",\"name\":\"Consulting\",\"scene\":\"scene\",\"showlegend\":true,\"x\":[137,137,137,75,79,99,99,99,79,90,91,91,122,122,112,124,124,69,69,95,95,212,128,128,80,87,87,87,92,92],\"y\":[171,171,171,131,131,132,132,132,106,124,150,150,146,146,116,198,198,116,116,119,119,331,201,201,132,141,141,141,155,155],\"z\":[154,154,154,103,105,115,115,115,92,107,120,120,134,134,114,161,161,92,92,107,107,271,164,164,106,114,114,114,123,123],\"type\":\"scatter3d\"},{\"hovertemplate\":\"Industry=Electrical & Electronic Manufacturing\\u003cbr\\u003emin_salary=%{marker.size}\\u003cbr\\u003emax_salary=%{y}\\u003cbr\\u003eavg_salary=%{z}\\u003cextra\\u003e\\u003c\\u002fextra\\u003e\",\"legendgroup\":\"Electrical & Electronic Manufacturing\",\"marker\":{\"color\":\"#ab63fa\",\"size\":[137,90,141],\"sizemode\":\"area\",\"sizeref\":0.53,\"symbol\":\"circle\"},\"mode\":\"markers\",\"name\":\"Electrical & Electronic Manufacturing\",\"scene\":\"scene\",\"showlegend\":true,\"x\":[137,90,141],\"y\":[171,109,225],\"z\":[154,99,183],\"type\":\"scatter3d\"},{\"hovertemplate\":\"Industry=Advertising & Marketing\\u003cbr\\u003emin_salary=%{marker.size}\\u003cbr\\u003emax_salary=%{y}\\u003cbr\\u003eavg_salary=%{z}\\u003cextra\\u003e\\u003c\\u002fextra\\u003e\",\"legendgroup\":\"Advertising & Marketing\",\"marker\":{\"color\":\"#FFA15A\",\"size\":[137,137,75,79,99,99,90,90,90,56,56,79,90,90,110,69,138,138,80,105,105],\"sizemode\":\"area\",\"sizeref\":0.53,\"symbol\":\"circle\"},\"mode\":\"markers\",\"name\":\"Advertising & Marketing\",\"scene\":\"scene\",\"showlegend\":true,\"x\":[137,137,75,79,99,99,90,90,90,56,56,79,90,90,110,69,138,138,80,105,105],\"y\":[171,171,131,131,132,132,109,109,109,97,97,106,124,124,163,116,158,158,132,167,167],\"z\":[154,154,103,105,115,115,99,99,99,76,76,92,107,107,136,92,148,148,106,136,136],\"type\":\"scatter3d\"},{\"hovertemplate\":\"Industry=Computer Hardware & Software\\u003cbr\\u003emin_salary=%{marker.size}\\u003cbr\\u003emax_salary=%{y}\\u003cbr\\u003eavg_salary=%{z}\\u003cextra\\u003e\\u003c\\u002fextra\\u003e\",\"legendgroup\":\"Computer Hardware & Software\",\"marker\":{\"color\":\"#19d3f3\",\"size\":[137,137,137,137,75,79,79,79,79,79,99,99,99,99,99,99,90,90,90,101,101,56,79,79,90,90,90,91,141,145,79,79,79,122,122,112,112,110,110,79,69,31,31,95,212,66,128,128,128,138,80,87,87,92,92],\"sizemode\":\"area\",\"sizeref\":0.53,\"symbol\":\"circle\"},\"mode\":\"markers\",\"name\":\"Computer Hardware & Software\",\"scene\":\"scene\",\"showlegend\":true,\"x\":[137,137,137,137,75,79,79,79,79,79,99,99,99,99,99,99,90,90,90,101,101,56,79,79,90,90,90,91,141,145,79,79,79,122,122,112,112,110,110,79,69,31,31,95,212,66,128,128,128,138,80,87,87,92,92],\"y\":[171,171,171,171,131,131,131,131,131,131,132,132,132,132,132,132,109,109,109,165,165,97,106,106,124,124,124,150,225,225,147,147,147,146,146,116,116,163,163,133,116,56,56,119,331,112,201,201,201,158,132,141,141,155,155],\"z\":[154,154,154,154,103,105,105,105,105,105,115,115,115,115,115,115,99,99,99,133,133,76,92,92,107,107,107,120,183,185,113,113,113,134,134,114,114,136,136,106,92,43,43,107,271,89,164,164,164,148,106,114,114,123,123],\"type\":\"scatter3d\"},{\"hovertemplate\":\"Industry=Biotech & Pharmaceuticals\\u003cbr\\u003emin_salary=%{marker.size}\\u003cbr\\u003emax_salary=%{y}\\u003cbr\\u003eavg_salary=%{z}\\u003cextra\\u003e\\u003c\\u002fextra\\u003e\",\"legendgroup\":\"Biotech & Pharmaceuticals\",\"marker\":{\"color\":\"#FF6692\",\"size\":[137,75,75,75,75,75,79,79,79,79,79,79,99,99,90,90,90,90,90,90,101,101,101,56,56,56,56,56,56,79,79,79,71,90,90,91,91,141,145,145,79,112,112,110,110,110,124,79,69,31,95,212,212,212,128,128,128,128,138,80,80,92,105],\"sizemode\":\"area\",\"sizeref\":0.53,\"symbol\":\"circle\"},\"mode\":\"markers\",\"name\":\"Biotech & Pharmaceuticals\",\"scene\":\"scene\",\"showlegend\":true,\"x\":[137,75,75,75,75,75,79,79,79,79,79,79,99,99,90,90,90,90,90,90,101,101,101,56,56,56,56,56,56,79,79,79,71,90,90,91,91,141,145,145,79,112,112,110,110,110,124,79,69,31,95,212,212,212,128,128,128,128,138,80,80,92,105],\"y\":[171,131,131,131,131,131,131,131,131,131,131,131,132,132,109,109,109,109,109,109,165,165,165,97,97,97,97,97,97,106,106,106,123,124,124,150,150,225,225,225,147,116,116,163,163,163,198,133,116,56,119,331,331,331,201,201,201,201,158,132,132,155,167],\"z\":[154,103,103,103,103,103,105,105,105,105,105,105,115,115,99,99,99,99,99,99,133,133,133,76,76,76,76,76,76,92,92,92,97,107,107,120,120,183,185,185,113,114,114,136,136,136,161,106,92,43,107,271,271,271,164,164,164,164,148,106,106,123,136],\"type\":\"scatter3d\"},{\"hovertemplate\":\"Industry=Consumer Electronics & Appliances Stores\\u003cbr\\u003emin_salary=%{marker.size}\\u003cbr\\u003emax_salary=%{y}\\u003cbr\\u003eavg_salary=%{z}\\u003cextra\\u003e\\u003c\\u002fextra\\u003e\",\"legendgroup\":\"Consumer Electronics & Appliances Stores\",\"marker\":{\"color\":\"#B6E880\",\"size\":[137,79],\"sizemode\":\"area\",\"sizeref\":0.53,\"symbol\":\"circle\"},\"mode\":\"markers\",\"name\":\"Consumer Electronics & Appliances Stores\",\"scene\":\"scene\",\"showlegend\":true,\"x\":[137,79],\"y\":[171,131],\"z\":[154,105],\"type\":\"scatter3d\"},{\"hovertemplate\":\"Industry=Enterprise Software & Network Solutions\\u003cbr\\u003emin_salary=%{marker.size}\\u003cbr\\u003emax_salary=%{y}\\u003cbr\\u003eavg_salary=%{z}\\u003cextra\\u003e\\u003c\\u002fextra\\u003e\",\"legendgroup\":\"Enterprise Software & Network Solutions\",\"marker\":{\"color\":\"#FF97FF\",\"size\":[137,137,137,137,75,75,75,75,75,75,75,79,99,99,99,99,90,90,90,101,101,101,79,90,91,145,122,122,122,112,110,110,124,31,31,66,138,138,80,87,92,92],\"sizemode\":\"area\",\"sizeref\":0.53,\"symbol\":\"circle\"},\"mode\":\"markers\",\"name\":\"Enterprise Software & Network Solutions\",\"scene\":\"scene\",\"showlegend\":true,\"x\":[137,137,137,137,75,75,75,75,75,75,75,79,99,99,99,99,90,90,90,101,101,101,79,90,91,145,122,122,122,112,110,110,124,31,31,66,138,138,80,87,92,92],\"y\":[171,171,171,171,131,131,131,131,131,131,131,131,132,132,132,132,109,109,109,165,165,165,106,124,150,225,146,146,146,116,163,163,198,56,56,112,158,158,132,141,155,155],\"z\":[154,154,154,154,103,103,103,103,103,103,103,105,115,115,115,115,99,99,99,133,133,133,92,107,120,185,134,134,134,114,136,136,161,43,43,89,148,148,106,114,123,123],\"type\":\"scatter3d\"},{\"hovertemplate\":\"Industry=IT Services\\u003cbr\\u003emin_salary=%{marker.size}\\u003cbr\\u003emax_salary=%{y}\\u003cbr\\u003eavg_salary=%{z}\\u003cextra\\u003e\\u003c\\u002fextra\\u003e\",\"legendgroup\":\"IT Services\",\"marker\":{\"color\":\"#FECB52\",\"size\":[137,75,75,79,79,90,101,56,56,79,79,79,71,71,90,90,91,91,91,141,141,145,145,79,79,122,112,110,124,124,79,69,69,69,31,31,95,212,66,66,66,66,66,66,80,80,80,87,87,92,105,105],\"sizemode\":\"area\",\"sizeref\":0.53,\"symbol\":\"circle\"},\"mode\":\"markers\",\"name\":\"IT Services\",\"scene\":\"scene\",\"showlegend\":true,\"x\":[137,75,75,79,79,90,101,56,56,79,79,79,71,71,90,90,91,91,91,141,141,145,145,79,79,122,112,110,124,124,79,69,69,69,31,31,95,212,66,66,66,66,66,66,80,80,80,87,87,92,105,105],\"y\":[171,131,131,131,131,109,165,97,97,106,106,106,123,123,124,124,150,150,150,225,225,225,225,147,147,146,116,163,198,198,133,116,116,116,56,56,119,331,112,112,112,112,112,112,132,132,132,141,141,155,167,167],\"z\":[154,103,103,105,105,99,133,76,76,92,92,92,97,97,107,107,120,120,120,183,183,185,185,113,113,134,114,136,161,161,106,92,92,92,43,43,107,271,89,89,89,89,89,89,106,106,106,114,114,123,136,136],\"type\":\"scatter3d\"},{\"hovertemplate\":\"Industry=Energy\\u003cbr\\u003emin_salary=%{marker.size}\\u003cbr\\u003emax_salary=%{y}\\u003cbr\\u003eavg_salary=%{z}\\u003cextra\\u003e\\u003c\\u002fextra\\u003e\",\"legendgroup\":\"Energy\",\"marker\":{\"color\":\"#636efa\",\"size\":[137,56,91,112,66],\"sizemode\":\"area\",\"sizeref\":0.53,\"symbol\":\"circle\"},\"mode\":\"markers\",\"name\":\"Energy\",\"scene\":\"scene\",\"showlegend\":true,\"x\":[137,56,91,112,66],\"y\":[171,97,150,116,112],\"z\":[154,76,120,114,89],\"type\":\"scatter3d\"},{\"hovertemplate\":\"Industry=Chemical Manufacturing\\u003cbr\\u003emin_salary=%{marker.size}\\u003cbr\\u003emax_salary=%{y}\\u003cbr\\u003eavg_salary=%{z}\\u003cextra\\u003e\\u003c\\u002fextra\\u003e\",\"legendgroup\":\"Chemical Manufacturing\",\"marker\":{\"color\":\"#EF553B\",\"size\":[137,137,56],\"sizemode\":\"area\",\"sizeref\":0.53,\"symbol\":\"circle\"},\"mode\":\"markers\",\"name\":\"Chemical Manufacturing\",\"scene\":\"scene\",\"showlegend\":true,\"x\":[137,137,56],\"y\":[171,171,97],\"z\":[154,154,76],\"type\":\"scatter3d\"},{\"hovertemplate\":\"Industry=Federal Agencies\\u003cbr\\u003emin_salary=%{marker.size}\\u003cbr\\u003emax_salary=%{y}\\u003cbr\\u003eavg_salary=%{z}\\u003cextra\\u003e\\u003c\\u002fextra\\u003e\",\"legendgroup\":\"Federal Agencies\",\"marker\":{\"color\":\"#00cc96\",\"size\":[137,137,75,90,101,56,71,91,145,79,110,128,128,138,138,80],\"sizemode\":\"area\",\"sizeref\":0.53,\"symbol\":\"circle\"},\"mode\":\"markers\",\"name\":\"Federal Agencies\",\"scene\":\"scene\",\"showlegend\":true,\"x\":[137,137,75,90,101,56,71,91,145,79,110,128,128,138,138,80],\"y\":[171,171,131,109,165,97,123,150,225,147,163,201,201,158,158,132],\"z\":[154,154,103,99,133,76,97,120,185,113,136,164,164,148,148,106],\"type\":\"scatter3d\"},{\"hovertemplate\":\"Industry=Internet\\u003cbr\\u003emin_salary=%{marker.size}\\u003cbr\\u003emax_salary=%{y}\\u003cbr\\u003eavg_salary=%{z}\\u003cextra\\u003e\\u003c\\u002fextra\\u003e\",\"legendgroup\":\"Internet\",\"marker\":{\"color\":\"#ab63fa\",\"size\":[137,137,75,75,79,79,79,99,99,56,79,71,71,71,91,141,145,112,124,124,79,69,95,66,128,128,80],\"sizemode\":\"area\",\"sizeref\":0.53,\"symbol\":\"circle\"},\"mode\":\"markers\",\"name\":\"Internet\",\"scene\":\"scene\",\"showlegend\":true,\"x\":[137,137,75,75,79,79,79,99,99,56,79,71,71,71,91,141,145,112,124,124,79,69,95,66,128,128,80],\"y\":[171,171,131,131,131,131,131,132,132,97,106,123,123,123,150,225,225,116,198,198,133,116,119,112,201,201,132],\"z\":[154,154,103,103,105,105,105,115,115,76,92,97,97,97,120,183,185,114,161,161,106,92,107,89,164,164,106],\"type\":\"scatter3d\"},{\"hovertemplate\":\"Industry=Health Care Services & Hospitals\\u003cbr\\u003emin_salary=%{marker.size}\\u003cbr\\u003emax_salary=%{y}\\u003cbr\\u003eavg_salary=%{z}\\u003cextra\\u003e\\u003c\\u002fextra\\u003e\",\"legendgroup\":\"Health Care Services & Hospitals\",\"marker\":{\"color\":\"#FFA15A\",\"size\":[137,75,75,79,99,99,99,56,79,145,112,110,110,95,138,80,80,87],\"sizemode\":\"area\",\"sizeref\":0.53,\"symbol\":\"circle\"},\"mode\":\"markers\",\"name\":\"Health Care Services & Hospitals\",\"scene\":\"scene\",\"showlegend\":true,\"x\":[137,75,75,79,99,99,99,56,79,145,112,110,110,95,138,80,80,87],\"y\":[171,131,131,131,132,132,132,97,106,225,116,163,163,119,158,132,132,141],\"z\":[154,103,103,105,115,115,115,76,92,185,114,136,136,107,148,106,106,114],\"type\":\"scatter3d\"},{\"hovertemplate\":\"Industry=Investment Banking & Asset Management\\u003cbr\\u003emin_salary=%{marker.size}\\u003cbr\\u003emax_salary=%{y}\\u003cbr\\u003eavg_salary=%{z}\\u003cextra\\u003e\\u003c\\u002fextra\\u003e\",\"legendgroup\":\"Investment Banking & Asset Management\",\"marker\":{\"color\":\"#19d3f3\",\"size\":[137,75,75,79,99,99,71,71,79,79,79,31,128],\"sizemode\":\"area\",\"sizeref\":0.53,\"symbol\":\"circle\"},\"mode\":\"markers\",\"name\":\"Investment Banking & Asset Management\",\"scene\":\"scene\",\"showlegend\":true,\"x\":[137,75,75,79,99,99,71,71,79,79,79,31,128],\"y\":[171,131,131,131,132,132,123,123,147,147,133,56,201],\"z\":[154,103,103,105,115,115,97,97,113,113,106,43,164],\"type\":\"scatter3d\"},{\"hovertemplate\":\"Industry=Aerospace & Defense\\u003cbr\\u003emin_salary=%{marker.size}\\u003cbr\\u003emax_salary=%{y}\\u003cbr\\u003eavg_salary=%{z}\\u003cextra\\u003e\\u003c\\u002fextra\\u003e\",\"legendgroup\":\"Aerospace & Defense\",\"marker\":{\"color\":\"#FF6692\",\"size\":[137,75,99,99,90,101,56,79,71,90,91,141,145,79,79,122,112,110,110,124,31,31,212,128,138,138,138,80,80,87,87,92,105,105],\"sizemode\":\"area\",\"sizeref\":0.53,\"symbol\":\"circle\"},\"mode\":\"markers\",\"name\":\"Aerospace & Defense\",\"scene\":\"scene\",\"showlegend\":true,\"x\":[137,75,99,99,90,101,56,79,71,90,91,141,145,79,79,122,112,110,110,124,31,31,212,128,138,138,138,80,80,87,87,92,105,105],\"y\":[171,131,132,132,109,165,97,106,123,124,150,225,225,147,147,146,116,163,163,198,56,56,331,201,158,158,158,132,132,141,141,155,167,167],\"z\":[154,103,115,115,99,133,76,92,97,107,120,183,185,113,113,134,114,136,136,161,43,43,271,164,148,148,148,106,106,114,114,123,136,136],\"type\":\"scatter3d\"},{\"hovertemplate\":\"Industry=Utilities\\u003cbr\\u003emin_salary=%{marker.size}\\u003cbr\\u003emax_salary=%{y}\\u003cbr\\u003eavg_salary=%{z}\\u003cextra\\u003e\\u003c\\u002fextra\\u003e\",\"legendgroup\":\"Utilities\",\"marker\":{\"color\":\"#B6E880\",\"size\":[75,90,91],\"sizemode\":\"area\",\"sizeref\":0.53,\"symbol\":\"circle\"},\"mode\":\"markers\",\"name\":\"Utilities\",\"scene\":\"scene\",\"showlegend\":true,\"x\":[75,90,91],\"y\":[131,109,150],\"z\":[103,99,120],\"type\":\"scatter3d\"},{\"hovertemplate\":\"Industry=Express Delivery Services\\u003cbr\\u003emin_salary=%{marker.size}\\u003cbr\\u003emax_salary=%{y}\\u003cbr\\u003eavg_salary=%{z}\\u003cextra\\u003e\\u003c\\u002fextra\\u003e\",\"legendgroup\":\"Express Delivery Services\",\"marker\":{\"color\":\"#FF97FF\",\"size\":[75,124],\"sizemode\":\"area\",\"sizeref\":0.53,\"symbol\":\"circle\"},\"mode\":\"markers\",\"name\":\"Express Delivery Services\",\"scene\":\"scene\",\"showlegend\":true,\"x\":[75,124],\"y\":[131,198],\"z\":[103,161],\"type\":\"scatter3d\"},{\"hovertemplate\":\"Industry=Staffing & Outsourcing\\u003cbr\\u003emin_salary=%{marker.size}\\u003cbr\\u003emax_salary=%{y}\\u003cbr\\u003eavg_salary=%{z}\\u003cextra\\u003e\\u003c\\u002fextra\\u003e\",\"legendgroup\":\"Staffing & Outsourcing\",\"marker\":{\"color\":\"#FECB52\",\"size\":[75,79,90,101,79,91,141,145,79,122,112,112,112,124,124,79,69,69,69,31,95,95,95,212,212,212,66,66,66,128,87,87,92,105],\"sizemode\":\"area\",\"sizeref\":0.53,\"symbol\":\"circle\"},\"mode\":\"markers\",\"name\":\"Staffing & Outsourcing\",\"scene\":\"scene\",\"showlegend\":true,\"x\":[75,79,90,101,79,91,141,145,79,122,112,112,112,124,124,79,69,69,69,31,95,95,95,212,212,212,66,66,66,128,87,87,92,105],\"y\":[131,131,109,165,106,150,225,225,147,146,116,116,116,198,198,133,116,116,116,56,119,119,119,331,331,331,112,112,112,201,141,141,155,167],\"z\":[103,105,99,133,92,120,183,185,113,134,114,114,114,161,161,106,92,92,92,43,107,107,107,271,271,271,89,89,89,164,114,114,123,136],\"type\":\"scatter3d\"},{\"hovertemplate\":\"Industry=Insurance Agencies & Brokerages\\u003cbr\\u003emin_salary=%{marker.size}\\u003cbr\\u003emax_salary=%{y}\\u003cbr\\u003eavg_salary=%{z}\\u003cextra\\u003e\\u003c\\u002fextra\\u003e\",\"legendgroup\":\"Insurance Agencies & Brokerages\",\"marker\":{\"color\":\"#636efa\",\"size\":[75,79,122,31],\"sizemode\":\"area\",\"sizeref\":0.53,\"symbol\":\"circle\"},\"mode\":\"markers\",\"name\":\"Insurance Agencies & Brokerages\",\"scene\":\"scene\",\"showlegend\":true,\"x\":[75,79,122,31],\"y\":[131,131,146,56],\"z\":[103,105,134,43],\"type\":\"scatter3d\"},{\"hovertemplate\":\"Industry=Consumer Products Manufacturing\\u003cbr\\u003emin_salary=%{marker.size}\\u003cbr\\u003emax_salary=%{y}\\u003cbr\\u003eavg_salary=%{z}\\u003cextra\\u003e\\u003c\\u002fextra\\u003e\",\"legendgroup\":\"Consumer Products Manufacturing\",\"marker\":{\"color\":\"#EF553B\",\"size\":[79,79,110,69,138],\"sizemode\":\"area\",\"sizeref\":0.53,\"symbol\":\"circle\"},\"mode\":\"markers\",\"name\":\"Consumer Products Manufacturing\",\"scene\":\"scene\",\"showlegend\":true,\"x\":[79,79,110,69,138],\"y\":[131,147,163,116,158],\"z\":[105,113,136,92,148],\"type\":\"scatter3d\"},{\"hovertemplate\":\"Industry=Industrial Manufacturing\\u003cbr\\u003emin_salary=%{marker.size}\\u003cbr\\u003emax_salary=%{y}\\u003cbr\\u003eavg_salary=%{z}\\u003cextra\\u003e\\u003c\\u002fextra\\u003e\",\"legendgroup\":\"Industrial Manufacturing\",\"marker\":{\"color\":\"#00cc96\",\"size\":[79,90,128],\"sizemode\":\"area\",\"sizeref\":0.53,\"symbol\":\"circle\"},\"mode\":\"markers\",\"name\":\"Industrial Manufacturing\",\"scene\":\"scene\",\"showlegend\":true,\"x\":[79,90,128],\"y\":[131,124,201],\"z\":[105,107,164],\"type\":\"scatter3d\"},{\"hovertemplate\":\"Industry=Food & Beverage Manufacturing\\u003cbr\\u003emin_salary=%{marker.size}\\u003cbr\\u003emax_salary=%{y}\\u003cbr\\u003eavg_salary=%{z}\\u003cextra\\u003e\\u003c\\u002fextra\\u003e\",\"legendgroup\":\"Food & Beverage Manufacturing\",\"marker\":{\"color\":\"#ab63fa\",\"size\":[79,99,138,92],\"sizemode\":\"area\",\"sizeref\":0.53,\"symbol\":\"circle\"},\"mode\":\"markers\",\"name\":\"Food & Beverage Manufacturing\",\"scene\":\"scene\",\"showlegend\":true,\"x\":[79,99,138,92],\"y\":[131,132,158,155],\"z\":[105,115,148,123],\"type\":\"scatter3d\"},{\"hovertemplate\":\"Industry=Banks & Credit Unions\\u003cbr\\u003emin_salary=%{marker.size}\\u003cbr\\u003emax_salary=%{y}\\u003cbr\\u003eavg_salary=%{z}\\u003cextra\\u003e\\u003c\\u002fextra\\u003e\",\"legendgroup\":\"Banks & Credit Unions\",\"marker\":{\"color\":\"#FFA15A\",\"size\":[79,99,101,91,110,138,138,87],\"sizemode\":\"area\",\"sizeref\":0.53,\"symbol\":\"circle\"},\"mode\":\"markers\",\"name\":\"Banks & Credit Unions\",\"scene\":\"scene\",\"showlegend\":true,\"x\":[79,99,101,91,110,138,138,87],\"y\":[131,132,165,150,163,158,158,141],\"z\":[105,115,133,120,136,148,148,114],\"type\":\"scatter3d\"},{\"hovertemplate\":\"Industry=Video Games\\u003cbr\\u003emin_salary=%{marker.size}\\u003cbr\\u003emax_salary=%{y}\\u003cbr\\u003eavg_salary=%{z}\\u003cextra\\u003e\\u003c\\u002fextra\\u003e\",\"legendgroup\":\"Video Games\",\"marker\":{\"color\":\"#19d3f3\",\"size\":[99,90,141],\"sizemode\":\"area\",\"sizeref\":0.53,\"symbol\":\"circle\"},\"mode\":\"markers\",\"name\":\"Video Games\",\"scene\":\"scene\",\"showlegend\":true,\"x\":[99,90,141],\"y\":[132,109,225],\"z\":[115,99,183],\"type\":\"scatter3d\"},{\"hovertemplate\":\"Industry=Shipping\\u003cbr\\u003emin_salary=%{marker.size}\\u003cbr\\u003emax_salary=%{y}\\u003cbr\\u003eavg_salary=%{z}\\u003cextra\\u003e\\u003c\\u002fextra\\u003e\",\"legendgroup\":\"Shipping\",\"marker\":{\"color\":\"#FF6692\",\"size\":[99],\"sizemode\":\"area\",\"sizeref\":0.53,\"symbol\":\"circle\"},\"mode\":\"markers\",\"name\":\"Shipping\",\"scene\":\"scene\",\"showlegend\":true,\"x\":[99],\"y\":[132],\"z\":[115],\"type\":\"scatter3d\"},{\"hovertemplate\":\"Industry=Telecommunications Services\\u003cbr\\u003emin_salary=%{marker.size}\\u003cbr\\u003emax_salary=%{y}\\u003cbr\\u003eavg_salary=%{z}\\u003cextra\\u003e\\u003c\\u002fextra\\u003e\",\"legendgroup\":\"Telecommunications Services\",\"marker\":{\"color\":\"#B6E880\",\"size\":[99,90,101,79,105],\"sizemode\":\"area\",\"sizeref\":0.53,\"symbol\":\"circle\"},\"mode\":\"markers\",\"name\":\"Telecommunications Services\",\"scene\":\"scene\",\"showlegend\":true,\"x\":[99,90,101,79,105],\"y\":[132,109,165,133,167],\"z\":[115,99,133,106,136],\"type\":\"scatter3d\"},{\"hovertemplate\":\"Industry=Lending\\u003cbr\\u003emin_salary=%{marker.size}\\u003cbr\\u003emax_salary=%{y}\\u003cbr\\u003eavg_salary=%{z}\\u003cextra\\u003e\\u003c\\u002fextra\\u003e\",\"legendgroup\":\"Lending\",\"marker\":{\"color\":\"#FF97FF\",\"size\":[90,90,56,79,145,124,66],\"sizemode\":\"area\",\"sizeref\":0.53,\"symbol\":\"circle\"},\"mode\":\"markers\",\"name\":\"Lending\",\"scene\":\"scene\",\"showlegend\":true,\"x\":[90,90,56,79,145,124,66],\"y\":[109,109,97,106,225,198,112],\"z\":[99,99,76,92,185,161,89],\"type\":\"scatter3d\"},{\"hovertemplate\":\"Industry=Cable, Internet & Telephone Providers\\u003cbr\\u003emin_salary=%{marker.size}\\u003cbr\\u003emax_salary=%{y}\\u003cbr\\u003eavg_salary=%{z}\\u003cextra\\u003e\\u003c\\u002fextra\\u003e\",\"legendgroup\":\"Cable, Internet & Telephone Providers\",\"marker\":{\"color\":\"#FECB52\",\"size\":[90],\"sizemode\":\"area\",\"sizeref\":0.53,\"symbol\":\"circle\"},\"mode\":\"markers\",\"name\":\"Cable, Internet & Telephone Providers\",\"scene\":\"scene\",\"showlegend\":true,\"x\":[90],\"y\":[109],\"z\":[99],\"type\":\"scatter3d\"},{\"hovertemplate\":\"Industry=Real Estate\\u003cbr\\u003emin_salary=%{marker.size}\\u003cbr\\u003emax_salary=%{y}\\u003cbr\\u003eavg_salary=%{z}\\u003cextra\\u003e\\u003c\\u002fextra\\u003e\",\"legendgroup\":\"Real Estate\",\"marker\":{\"color\":\"#636efa\",\"size\":[101,71,91],\"sizemode\":\"area\",\"sizeref\":0.53,\"symbol\":\"circle\"},\"mode\":\"markers\",\"name\":\"Real Estate\",\"scene\":\"scene\",\"showlegend\":true,\"x\":[101,71,91],\"y\":[165,123,150],\"z\":[133,97,120],\"type\":\"scatter3d\"},{\"hovertemplate\":\"Industry=Venture Capital & Private Equity\\u003cbr\\u003emin_salary=%{marker.size}\\u003cbr\\u003emax_salary=%{y}\\u003cbr\\u003eavg_salary=%{z}\\u003cextra\\u003e\\u003c\\u002fextra\\u003e\",\"legendgroup\":\"Venture Capital & Private Equity\",\"marker\":{\"color\":\"#EF553B\",\"size\":[101,71],\"sizemode\":\"area\",\"sizeref\":0.53,\"symbol\":\"circle\"},\"mode\":\"markers\",\"name\":\"Venture Capital & Private Equity\",\"scene\":\"scene\",\"showlegend\":true,\"x\":[101,71],\"y\":[165,123],\"z\":[133,97],\"type\":\"scatter3d\"},{\"hovertemplate\":\"Industry=Miscellaneous Manufacturing\\u003cbr\\u003emin_salary=%{marker.size}\\u003cbr\\u003emax_salary=%{y}\\u003cbr\\u003eavg_salary=%{z}\\u003cextra\\u003e\\u003c\\u002fextra\\u003e\",\"legendgroup\":\"Miscellaneous Manufacturing\",\"marker\":{\"color\":\"#00cc96\",\"size\":[79,122,31],\"sizemode\":\"area\",\"sizeref\":0.53,\"symbol\":\"circle\"},\"mode\":\"markers\",\"name\":\"Miscellaneous Manufacturing\",\"scene\":\"scene\",\"showlegend\":true,\"x\":[79,122,31],\"y\":[106,146,56],\"z\":[92,134,43],\"type\":\"scatter3d\"},{\"hovertemplate\":\"Industry=Oil & Gas Services\\u003cbr\\u003emin_salary=%{marker.size}\\u003cbr\\u003emax_salary=%{y}\\u003cbr\\u003eavg_salary=%{z}\\u003cextra\\u003e\\u003c\\u002fextra\\u003e\",\"legendgroup\":\"Oil & Gas Services\",\"marker\":{\"color\":\"#ab63fa\",\"size\":[79,31],\"sizemode\":\"area\",\"sizeref\":0.53,\"symbol\":\"circle\"},\"mode\":\"markers\",\"name\":\"Oil & Gas Services\",\"scene\":\"scene\",\"showlegend\":true,\"x\":[79,31],\"y\":[106,56],\"z\":[92,43],\"type\":\"scatter3d\"},{\"hovertemplate\":\"Industry=Transportation Equipment Manufacturing\\u003cbr\\u003emin_salary=%{marker.size}\\u003cbr\\u003emax_salary=%{y}\\u003cbr\\u003eavg_salary=%{z}\\u003cextra\\u003e\\u003c\\u002fextra\\u003e\",\"legendgroup\":\"Transportation Equipment Manufacturing\",\"marker\":{\"color\":\"#FFA15A\",\"size\":[71,141],\"sizemode\":\"area\",\"sizeref\":0.53,\"symbol\":\"circle\"},\"mode\":\"markers\",\"name\":\"Transportation Equipment Manufacturing\",\"scene\":\"scene\",\"showlegend\":true,\"x\":[71,141],\"y\":[123,225],\"z\":[97,183],\"type\":\"scatter3d\"},{\"hovertemplate\":\"Industry=Telecommunications Manufacturing\\u003cbr\\u003emin_salary=%{marker.size}\\u003cbr\\u003emax_salary=%{y}\\u003cbr\\u003eavg_salary=%{z}\\u003cextra\\u003e\\u003c\\u002fextra\\u003e\",\"legendgroup\":\"Telecommunications Manufacturing\",\"marker\":{\"color\":\"#19d3f3\",\"size\":[71],\"sizemode\":\"area\",\"sizeref\":0.53,\"symbol\":\"circle\"},\"mode\":\"markers\",\"name\":\"Telecommunications Manufacturing\",\"scene\":\"scene\",\"showlegend\":true,\"x\":[71],\"y\":[123],\"z\":[97],\"type\":\"scatter3d\"},{\"hovertemplate\":\"Industry=Transportation Management\\u003cbr\\u003emin_salary=%{marker.size}\\u003cbr\\u003emax_salary=%{y}\\u003cbr\\u003eavg_salary=%{z}\\u003cextra\\u003e\\u003c\\u002fextra\\u003e\",\"legendgroup\":\"Transportation Management\",\"marker\":{\"color\":\"#FF6692\",\"size\":[90],\"sizemode\":\"area\",\"sizeref\":0.53,\"symbol\":\"circle\"},\"mode\":\"markers\",\"name\":\"Transportation Management\",\"scene\":\"scene\",\"showlegend\":true,\"x\":[90],\"y\":[124],\"z\":[107],\"type\":\"scatter3d\"},{\"hovertemplate\":\"Industry=News Outlet\\u003cbr\\u003emin_salary=%{marker.size}\\u003cbr\\u003emax_salary=%{y}\\u003cbr\\u003eavg_salary=%{z}\\u003cextra\\u003e\\u003c\\u002fextra\\u003e\",\"legendgroup\":\"News Outlet\",\"marker\":{\"color\":\"#B6E880\",\"size\":[90],\"sizemode\":\"area\",\"sizeref\":0.53,\"symbol\":\"circle\"},\"mode\":\"markers\",\"name\":\"News Outlet\",\"scene\":\"scene\",\"showlegend\":true,\"x\":[90],\"y\":[124],\"z\":[107],\"type\":\"scatter3d\"},{\"hovertemplate\":\"Industry=Architectural & Engineering Services\\u003cbr\\u003emin_salary=%{marker.size}\\u003cbr\\u003emax_salary=%{y}\\u003cbr\\u003eavg_salary=%{z}\\u003cextra\\u003e\\u003c\\u002fextra\\u003e\",\"legendgroup\":\"Architectural & Engineering Services\",\"marker\":{\"color\":\"#FF97FF\",\"size\":[91,141,124],\"sizemode\":\"area\",\"sizeref\":0.53,\"symbol\":\"circle\"},\"mode\":\"markers\",\"name\":\"Architectural & Engineering Services\",\"scene\":\"scene\",\"showlegend\":true,\"x\":[91,141,124],\"y\":[150,225,198],\"z\":[120,183,161],\"type\":\"scatter3d\"},{\"hovertemplate\":\"Industry=Other Retail Stores\\u003cbr\\u003emin_salary=%{marker.size}\\u003cbr\\u003emax_salary=%{y}\\u003cbr\\u003eavg_salary=%{z}\\u003cextra\\u003e\\u003c\\u002fextra\\u003e\",\"legendgroup\":\"Other Retail Stores\",\"marker\":{\"color\":\"#FECB52\",\"size\":[141,141],\"sizemode\":\"area\",\"sizeref\":0.53,\"symbol\":\"circle\"},\"mode\":\"markers\",\"name\":\"Other Retail Stores\",\"scene\":\"scene\",\"showlegend\":true,\"x\":[141,141],\"y\":[225,225],\"z\":[183,183],\"type\":\"scatter3d\"},{\"hovertemplate\":\"Industry=Hotels, Motels, & Resorts\\u003cbr\\u003emin_salary=%{marker.size}\\u003cbr\\u003emax_salary=%{y}\\u003cbr\\u003eavg_salary=%{z}\\u003cextra\\u003e\\u003c\\u002fextra\\u003e\",\"legendgroup\":\"Hotels, Motels, & Resorts\",\"marker\":{\"color\":\"#636efa\",\"size\":[141],\"sizemode\":\"area\",\"sizeref\":0.53,\"symbol\":\"circle\"},\"mode\":\"markers\",\"name\":\"Hotels, Motels, & Resorts\",\"scene\":\"scene\",\"showlegend\":true,\"x\":[141],\"y\":[225],\"z\":[183],\"type\":\"scatter3d\"},{\"hovertemplate\":\"Industry=State & Regional Agencies\\u003cbr\\u003emin_salary=%{marker.size}\\u003cbr\\u003emax_salary=%{y}\\u003cbr\\u003eavg_salary=%{z}\\u003cextra\\u003e\\u003c\\u002fextra\\u003e\",\"legendgroup\":\"State & Regional Agencies\",\"marker\":{\"color\":\"#EF553B\",\"size\":[141],\"sizemode\":\"area\",\"sizeref\":0.53,\"symbol\":\"circle\"},\"mode\":\"markers\",\"name\":\"State & Regional Agencies\",\"scene\":\"scene\",\"showlegend\":true,\"x\":[141],\"y\":[225],\"z\":[183],\"type\":\"scatter3d\"},{\"hovertemplate\":\"Industry=Financial Transaction Processing\\u003cbr\\u003emin_salary=%{marker.size}\\u003cbr\\u003emax_salary=%{y}\\u003cbr\\u003eavg_salary=%{z}\\u003cextra\\u003e\\u003c\\u002fextra\\u003e\",\"legendgroup\":\"Financial Transaction Processing\",\"marker\":{\"color\":\"#00cc96\",\"size\":[145,31],\"sizemode\":\"area\",\"sizeref\":0.53,\"symbol\":\"circle\"},\"mode\":\"markers\",\"name\":\"Financial Transaction Processing\",\"scene\":\"scene\",\"showlegend\":true,\"x\":[145,31],\"y\":[225,56],\"z\":[185,43],\"type\":\"scatter3d\"},{\"hovertemplate\":\"Industry=Timber Operations\\u003cbr\\u003emin_salary=%{marker.size}\\u003cbr\\u003emax_salary=%{y}\\u003cbr\\u003eavg_salary=%{z}\\u003cextra\\u003e\\u003c\\u002fextra\\u003e\",\"legendgroup\":\"Timber Operations\",\"marker\":{\"color\":\"#ab63fa\",\"size\":[79,69],\"sizemode\":\"area\",\"sizeref\":0.53,\"symbol\":\"circle\"},\"mode\":\"markers\",\"name\":\"Timber Operations\",\"scene\":\"scene\",\"showlegend\":true,\"x\":[79,69],\"y\":[147,116],\"z\":[113,92],\"type\":\"scatter3d\"},{\"hovertemplate\":\"Industry=Colleges & Universities\\u003cbr\\u003emin_salary=%{marker.size}\\u003cbr\\u003emax_salary=%{y}\\u003cbr\\u003eavg_salary=%{z}\\u003cextra\\u003e\\u003c\\u002fextra\\u003e\",\"legendgroup\":\"Colleges & Universities\",\"marker\":{\"color\":\"#FFA15A\",\"size\":[79,69],\"sizemode\":\"area\",\"sizeref\":0.53,\"symbol\":\"circle\"},\"mode\":\"markers\",\"name\":\"Colleges & Universities\",\"scene\":\"scene\",\"showlegend\":true,\"x\":[79,69],\"y\":[147,116],\"z\":[113,92],\"type\":\"scatter3d\"},{\"hovertemplate\":\"Industry=Travel Agencies\\u003cbr\\u003emin_salary=%{marker.size}\\u003cbr\\u003emax_salary=%{y}\\u003cbr\\u003eavg_salary=%{z}\\u003cextra\\u003e\\u003c\\u002fextra\\u003e\",\"legendgroup\":\"Travel Agencies\",\"marker\":{\"color\":\"#19d3f3\",\"size\":[112,66],\"sizemode\":\"area\",\"sizeref\":0.53,\"symbol\":\"circle\"},\"mode\":\"markers\",\"name\":\"Travel Agencies\",\"scene\":\"scene\",\"showlegend\":true,\"x\":[112,66],\"y\":[116,112],\"z\":[114,89],\"type\":\"scatter3d\"},{\"hovertemplate\":\"Industry=Logistics & Supply Chain\\u003cbr\\u003emin_salary=%{marker.size}\\u003cbr\\u003emax_salary=%{y}\\u003cbr\\u003eavg_salary=%{z}\\u003cextra\\u003e\\u003c\\u002fextra\\u003e\",\"legendgroup\":\"Logistics & Supply Chain\",\"marker\":{\"color\":\"#FF6692\",\"size\":[79],\"sizemode\":\"area\",\"sizeref\":0.53,\"symbol\":\"circle\"},\"mode\":\"markers\",\"name\":\"Logistics & Supply Chain\",\"scene\":\"scene\",\"showlegend\":true,\"x\":[79],\"y\":[133],\"z\":[106],\"type\":\"scatter3d\"},{\"hovertemplate\":\"Industry=Farm Support Services\\u003cbr\\u003emin_salary=%{marker.size}\\u003cbr\\u003emax_salary=%{y}\\u003cbr\\u003eavg_salary=%{z}\\u003cextra\\u003e\\u003c\\u002fextra\\u003e\",\"legendgroup\":\"Farm Support Services\",\"marker\":{\"color\":\"#B6E880\",\"size\":[79],\"sizemode\":\"area\",\"sizeref\":0.53,\"symbol\":\"circle\"},\"mode\":\"markers\",\"name\":\"Farm Support Services\",\"scene\":\"scene\",\"showlegend\":true,\"x\":[79],\"y\":[133],\"z\":[106],\"type\":\"scatter3d\"},{\"hovertemplate\":\"Industry=Social Assistance\\u003cbr\\u003emin_salary=%{marker.size}\\u003cbr\\u003emax_salary=%{y}\\u003cbr\\u003eavg_salary=%{z}\\u003cextra\\u003e\\u003c\\u002fextra\\u003e\",\"legendgroup\":\"Social Assistance\",\"marker\":{\"color\":\"#FF97FF\",\"size\":[31],\"sizemode\":\"area\",\"sizeref\":0.53,\"symbol\":\"circle\"},\"mode\":\"markers\",\"name\":\"Social Assistance\",\"scene\":\"scene\",\"showlegend\":true,\"x\":[31],\"y\":[56],\"z\":[43],\"type\":\"scatter3d\"},{\"hovertemplate\":\"Industry=Construction\\u003cbr\\u003emin_salary=%{marker.size}\\u003cbr\\u003emax_salary=%{y}\\u003cbr\\u003eavg_salary=%{z}\\u003cextra\\u003e\\u003c\\u002fextra\\u003e\",\"legendgroup\":\"Construction\",\"marker\":{\"color\":\"#FECB52\",\"size\":[31,80],\"sizemode\":\"area\",\"sizeref\":0.53,\"symbol\":\"circle\"},\"mode\":\"markers\",\"name\":\"Construction\",\"scene\":\"scene\",\"showlegend\":true,\"x\":[31,80],\"y\":[56,132],\"z\":[43,106],\"type\":\"scatter3d\"},{\"hovertemplate\":\"Industry=Department, Clothing, & Shoe Stores\\u003cbr\\u003emin_salary=%{marker.size}\\u003cbr\\u003emax_salary=%{y}\\u003cbr\\u003eavg_salary=%{z}\\u003cextra\\u003e\\u003c\\u002fextra\\u003e\",\"legendgroup\":\"Department, Clothing, & Shoe Stores\",\"marker\":{\"color\":\"#636efa\",\"size\":[95],\"sizemode\":\"area\",\"sizeref\":0.53,\"symbol\":\"circle\"},\"mode\":\"markers\",\"name\":\"Department, Clothing, & Shoe Stores\",\"scene\":\"scene\",\"showlegend\":true,\"x\":[95],\"y\":[119],\"z\":[107],\"type\":\"scatter3d\"},{\"hovertemplate\":\"Industry=Wholesale\\u003cbr\\u003emin_salary=%{marker.size}\\u003cbr\\u003emax_salary=%{y}\\u003cbr\\u003eavg_salary=%{z}\\u003cextra\\u003e\\u003c\\u002fextra\\u003e\",\"legendgroup\":\"Wholesale\",\"marker\":{\"color\":\"#EF553B\",\"size\":[212,92,105],\"sizemode\":\"area\",\"sizeref\":0.53,\"symbol\":\"circle\"},\"mode\":\"markers\",\"name\":\"Wholesale\",\"scene\":\"scene\",\"showlegend\":true,\"x\":[212,92,105],\"y\":[331,155,167],\"z\":[271,123,136],\"type\":\"scatter3d\"},{\"hovertemplate\":\"Industry=Rail\\u003cbr\\u003emin_salary=%{marker.size}\\u003cbr\\u003emax_salary=%{y}\\u003cbr\\u003eavg_salary=%{z}\\u003cextra\\u003e\\u003c\\u002fextra\\u003e\",\"legendgroup\":\"Rail\",\"marker\":{\"color\":\"#00cc96\",\"size\":[87],\"sizemode\":\"area\",\"sizeref\":0.53,\"symbol\":\"circle\"},\"mode\":\"markers\",\"name\":\"Rail\",\"scene\":\"scene\",\"showlegend\":true,\"x\":[87],\"y\":[141],\"z\":[114],\"type\":\"scatter3d\"}],                        {\"template\":{\"data\":{\"histogram2dcontour\":[{\"type\":\"histogram2dcontour\",\"colorbar\":{\"outlinewidth\":0,\"ticks\":\"\"},\"colorscale\":[[0.0,\"#0d0887\"],[0.1111111111111111,\"#46039f\"],[0.2222222222222222,\"#7201a8\"],[0.3333333333333333,\"#9c179e\"],[0.4444444444444444,\"#bd3786\"],[0.5555555555555556,\"#d8576b\"],[0.6666666666666666,\"#ed7953\"],[0.7777777777777778,\"#fb9f3a\"],[0.8888888888888888,\"#fdca26\"],[1.0,\"#f0f921\"]]}],\"choropleth\":[{\"type\":\"choropleth\",\"colorbar\":{\"outlinewidth\":0,\"ticks\":\"\"}}],\"histogram2d\":[{\"type\":\"histogram2d\",\"colorbar\":{\"outlinewidth\":0,\"ticks\":\"\"},\"colorscale\":[[0.0,\"#0d0887\"],[0.1111111111111111,\"#46039f\"],[0.2222222222222222,\"#7201a8\"],[0.3333333333333333,\"#9c179e\"],[0.4444444444444444,\"#bd3786\"],[0.5555555555555556,\"#d8576b\"],[0.6666666666666666,\"#ed7953\"],[0.7777777777777778,\"#fb9f3a\"],[0.8888888888888888,\"#fdca26\"],[1.0,\"#f0f921\"]]}],\"heatmap\":[{\"type\":\"heatmap\",\"colorbar\":{\"outlinewidth\":0,\"ticks\":\"\"},\"colorscale\":[[0.0,\"#0d0887\"],[0.1111111111111111,\"#46039f\"],[0.2222222222222222,\"#7201a8\"],[0.3333333333333333,\"#9c179e\"],[0.4444444444444444,\"#bd3786\"],[0.5555555555555556,\"#d8576b\"],[0.6666666666666666,\"#ed7953\"],[0.7777777777777778,\"#fb9f3a\"],[0.8888888888888888,\"#fdca26\"],[1.0,\"#f0f921\"]]}],\"heatmapgl\":[{\"type\":\"heatmapgl\",\"colorbar\":{\"outlinewidth\":0,\"ticks\":\"\"},\"colorscale\":[[0.0,\"#0d0887\"],[0.1111111111111111,\"#46039f\"],[0.2222222222222222,\"#7201a8\"],[0.3333333333333333,\"#9c179e\"],[0.4444444444444444,\"#bd3786\"],[0.5555555555555556,\"#d8576b\"],[0.6666666666666666,\"#ed7953\"],[0.7777777777777778,\"#fb9f3a\"],[0.8888888888888888,\"#fdca26\"],[1.0,\"#f0f921\"]]}],\"contourcarpet\":[{\"type\":\"contourcarpet\",\"colorbar\":{\"outlinewidth\":0,\"ticks\":\"\"}}],\"contour\":[{\"type\":\"contour\",\"colorbar\":{\"outlinewidth\":0,\"ticks\":\"\"},\"colorscale\":[[0.0,\"#0d0887\"],[0.1111111111111111,\"#46039f\"],[0.2222222222222222,\"#7201a8\"],[0.3333333333333333,\"#9c179e\"],[0.4444444444444444,\"#bd3786\"],[0.5555555555555556,\"#d8576b\"],[0.6666666666666666,\"#ed7953\"],[0.7777777777777778,\"#fb9f3a\"],[0.8888888888888888,\"#fdca26\"],[1.0,\"#f0f921\"]]}],\"surface\":[{\"type\":\"surface\",\"colorbar\":{\"outlinewidth\":0,\"ticks\":\"\"},\"colorscale\":[[0.0,\"#0d0887\"],[0.1111111111111111,\"#46039f\"],[0.2222222222222222,\"#7201a8\"],[0.3333333333333333,\"#9c179e\"],[0.4444444444444444,\"#bd3786\"],[0.5555555555555556,\"#d8576b\"],[0.6666666666666666,\"#ed7953\"],[0.7777777777777778,\"#fb9f3a\"],[0.8888888888888888,\"#fdca26\"],[1.0,\"#f0f921\"]]}],\"mesh3d\":[{\"type\":\"mesh3d\",\"colorbar\":{\"outlinewidth\":0,\"ticks\":\"\"}}],\"scatter\":[{\"fillpattern\":{\"fillmode\":\"overlay\",\"size\":10,\"solidity\":0.2},\"type\":\"scatter\"}],\"parcoords\":[{\"type\":\"parcoords\",\"line\":{\"colorbar\":{\"outlinewidth\":0,\"ticks\":\"\"}}}],\"scatterpolargl\":[{\"type\":\"scatterpolargl\",\"marker\":{\"colorbar\":{\"outlinewidth\":0,\"ticks\":\"\"}}}],\"bar\":[{\"error_x\":{\"color\":\"#2a3f5f\"},\"error_y\":{\"color\":\"#2a3f5f\"},\"marker\":{\"line\":{\"color\":\"#E5ECF6\",\"width\":0.5},\"pattern\":{\"fillmode\":\"overlay\",\"size\":10,\"solidity\":0.2}},\"type\":\"bar\"}],\"scattergeo\":[{\"type\":\"scattergeo\",\"marker\":{\"colorbar\":{\"outlinewidth\":0,\"ticks\":\"\"}}}],\"scatterpolar\":[{\"type\":\"scatterpolar\",\"marker\":{\"colorbar\":{\"outlinewidth\":0,\"ticks\":\"\"}}}],\"histogram\":[{\"marker\":{\"pattern\":{\"fillmode\":\"overlay\",\"size\":10,\"solidity\":0.2}},\"type\":\"histogram\"}],\"scattergl\":[{\"type\":\"scattergl\",\"marker\":{\"colorbar\":{\"outlinewidth\":0,\"ticks\":\"\"}}}],\"scatter3d\":[{\"type\":\"scatter3d\",\"line\":{\"colorbar\":{\"outlinewidth\":0,\"ticks\":\"\"}},\"marker\":{\"colorbar\":{\"outlinewidth\":0,\"ticks\":\"\"}}}],\"scattermapbox\":[{\"type\":\"scattermapbox\",\"marker\":{\"colorbar\":{\"outlinewidth\":0,\"ticks\":\"\"}}}],\"scatterternary\":[{\"type\":\"scatterternary\",\"marker\":{\"colorbar\":{\"outlinewidth\":0,\"ticks\":\"\"}}}],\"scattercarpet\":[{\"type\":\"scattercarpet\",\"marker\":{\"colorbar\":{\"outlinewidth\":0,\"ticks\":\"\"}}}],\"carpet\":[{\"aaxis\":{\"endlinecolor\":\"#2a3f5f\",\"gridcolor\":\"white\",\"linecolor\":\"white\",\"minorgridcolor\":\"white\",\"startlinecolor\":\"#2a3f5f\"},\"baxis\":{\"endlinecolor\":\"#2a3f5f\",\"gridcolor\":\"white\",\"linecolor\":\"white\",\"minorgridcolor\":\"white\",\"startlinecolor\":\"#2a3f5f\"},\"type\":\"carpet\"}],\"table\":[{\"cells\":{\"fill\":{\"color\":\"#EBF0F8\"},\"line\":{\"color\":\"white\"}},\"header\":{\"fill\":{\"color\":\"#C8D4E3\"},\"line\":{\"color\":\"white\"}},\"type\":\"table\"}],\"barpolar\":[{\"marker\":{\"line\":{\"color\":\"#E5ECF6\",\"width\":0.5},\"pattern\":{\"fillmode\":\"overlay\",\"size\":10,\"solidity\":0.2}},\"type\":\"barpolar\"}],\"pie\":[{\"automargin\":true,\"type\":\"pie\"}]},\"layout\":{\"autotypenumbers\":\"strict\",\"colorway\":[\"#636efa\",\"#EF553B\",\"#00cc96\",\"#ab63fa\",\"#FFA15A\",\"#19d3f3\",\"#FF6692\",\"#B6E880\",\"#FF97FF\",\"#FECB52\"],\"font\":{\"color\":\"#2a3f5f\"},\"hovermode\":\"closest\",\"hoverlabel\":{\"align\":\"left\"},\"paper_bgcolor\":\"white\",\"plot_bgcolor\":\"#E5ECF6\",\"polar\":{\"bgcolor\":\"#E5ECF6\",\"angularaxis\":{\"gridcolor\":\"white\",\"linecolor\":\"white\",\"ticks\":\"\"},\"radialaxis\":{\"gridcolor\":\"white\",\"linecolor\":\"white\",\"ticks\":\"\"}},\"ternary\":{\"bgcolor\":\"#E5ECF6\",\"aaxis\":{\"gridcolor\":\"white\",\"linecolor\":\"white\",\"ticks\":\"\"},\"baxis\":{\"gridcolor\":\"white\",\"linecolor\":\"white\",\"ticks\":\"\"},\"caxis\":{\"gridcolor\":\"white\",\"linecolor\":\"white\",\"ticks\":\"\"}},\"coloraxis\":{\"colorbar\":{\"outlinewidth\":0,\"ticks\":\"\"}},\"colorscale\":{\"sequential\":[[0.0,\"#0d0887\"],[0.1111111111111111,\"#46039f\"],[0.2222222222222222,\"#7201a8\"],[0.3333333333333333,\"#9c179e\"],[0.4444444444444444,\"#bd3786\"],[0.5555555555555556,\"#d8576b\"],[0.6666666666666666,\"#ed7953\"],[0.7777777777777778,\"#fb9f3a\"],[0.8888888888888888,\"#fdca26\"],[1.0,\"#f0f921\"]],\"sequentialminus\":[[0.0,\"#0d0887\"],[0.1111111111111111,\"#46039f\"],[0.2222222222222222,\"#7201a8\"],[0.3333333333333333,\"#9c179e\"],[0.4444444444444444,\"#bd3786\"],[0.5555555555555556,\"#d8576b\"],[0.6666666666666666,\"#ed7953\"],[0.7777777777777778,\"#fb9f3a\"],[0.8888888888888888,\"#fdca26\"],[1.0,\"#f0f921\"]],\"diverging\":[[0,\"#8e0152\"],[0.1,\"#c51b7d\"],[0.2,\"#de77ae\"],[0.3,\"#f1b6da\"],[0.4,\"#fde0ef\"],[0.5,\"#f7f7f7\"],[0.6,\"#e6f5d0\"],[0.7,\"#b8e186\"],[0.8,\"#7fbc41\"],[0.9,\"#4d9221\"],[1,\"#276419\"]]},\"xaxis\":{\"gridcolor\":\"white\",\"linecolor\":\"white\",\"ticks\":\"\",\"title\":{\"standoff\":15},\"zerolinecolor\":\"white\",\"automargin\":true,\"zerolinewidth\":2},\"yaxis\":{\"gridcolor\":\"white\",\"linecolor\":\"white\",\"ticks\":\"\",\"title\":{\"standoff\":15},\"zerolinecolor\":\"white\",\"automargin\":true,\"zerolinewidth\":2},\"scene\":{\"xaxis\":{\"backgroundcolor\":\"#E5ECF6\",\"gridcolor\":\"white\",\"linecolor\":\"white\",\"showbackground\":true,\"ticks\":\"\",\"zerolinecolor\":\"white\",\"gridwidth\":2},\"yaxis\":{\"backgroundcolor\":\"#E5ECF6\",\"gridcolor\":\"white\",\"linecolor\":\"white\",\"showbackground\":true,\"ticks\":\"\",\"zerolinecolor\":\"white\",\"gridwidth\":2},\"zaxis\":{\"backgroundcolor\":\"#E5ECF6\",\"gridcolor\":\"white\",\"linecolor\":\"white\",\"showbackground\":true,\"ticks\":\"\",\"zerolinecolor\":\"white\",\"gridwidth\":2}},\"shapedefaults\":{\"line\":{\"color\":\"#2a3f5f\"}},\"annotationdefaults\":{\"arrowcolor\":\"#2a3f5f\",\"arrowhead\":0,\"arrowwidth\":1},\"geo\":{\"bgcolor\":\"white\",\"landcolor\":\"#E5ECF6\",\"subunitcolor\":\"white\",\"showland\":true,\"showlakes\":true,\"lakecolor\":\"white\"},\"title\":{\"x\":0.05},\"mapbox\":{\"style\":\"light\"}}},\"scene\":{\"domain\":{\"x\":[0.0,1.0],\"y\":[0.0,1.0]},\"xaxis\":{\"title\":{\"text\":\"min_salary\"}},\"yaxis\":{\"title\":{\"text\":\"max_salary\"}},\"zaxis\":{\"title\":{\"text\":\"avg_salary\"}}},\"legend\":{\"title\":{\"text\":\"Industry\"},\"tracegroupgap\":0,\"itemsizing\":\"constant\"},\"title\":{\"text\":\"3d plot for salary distributions\"},\"height\":800,\"width\":1000},                        {\"responsive\": true}                    ).then(function(){\n",
       "                            \n",
       "var gd = document.getElementById('bd4dd61f-b319-448f-a3e3-3d8b88f1eddf');\n",
       "var x = new MutationObserver(function (mutations, observer) {{\n",
       "        var display = window.getComputedStyle(gd).display;\n",
       "        if (!display || display === 'none') {{\n",
       "            console.log([gd, 'removed!']);\n",
       "            Plotly.purge(gd);\n",
       "            observer.disconnect();\n",
       "        }}\n",
       "}});\n",
       "\n",
       "// Listen for the removal of the full notebook cells\n",
       "var notebookContainer = gd.closest('#notebook-container');\n",
       "if (notebookContainer) {{\n",
       "    x.observe(notebookContainer, {childList: true});\n",
       "}}\n",
       "\n",
       "// Listen for the clearing of the current output cell\n",
       "var outputEl = gd.closest('.output');\n",
       "if (outputEl) {{\n",
       "    x.observe(outputEl, {childList: true});\n",
       "}}\n",
       "\n",
       "                        })                };                });            </script>        </div>"
      ]
     },
     "metadata": {},
     "output_type": "display_data"
    }
   ],
   "source": [
    "fig = px.scatter_3d(data_frame=df, x='min_salary', y='max_salary', z='avg_salary',\n",
    "                    color='Industry', size='min_salary', title='3d plot for salary distributions',\n",
    "                   width=1000, height=800)\n",
    "#fig.layout.height = 500\n",
    "fig.show()"
   ]
  },
  {
   "cell_type": "markdown",
   "id": "639d987c-7f04-4075-8bf8-6dac2b5be00c",
   "metadata": {},
   "source": [
    "The following plot above offers an interactive visualization of the salary distributions across different industries. "
   ]
  },
  {
   "cell_type": "code",
   "execution_count": 43,
   "id": "94d29eab-9956-47d4-a325-b4a8424d8fdc",
   "metadata": {},
   "outputs": [
    {
     "data": {
      "text/plain": [
       "Text(0.5, 1.0, 'Minimum salary distribution across the top 3 industries')"
      ]
     },
     "execution_count": 43,
     "metadata": {},
     "output_type": "execute_result"
    },
    {
     "data": {
      "image/png": "[encoded data removed]",
      "text/plain": [
       "<Figure size 1000x400 with 1 Axes>"
      ]
     },
     "metadata": {},
     "output_type": "display_data"
    }
   ],
   "source": [
    "# Viewing the distribution of minimum salaries across industries\n",
    "top_three = df['Industry'].value_counts().head(3).index\n",
    "plt.figure(figsize=(10,4))\n",
    "ax = sns.violinplot(x='Industry', y='min_salary', data=df[df['Industry'].isin(top_three)], \n",
    "                    hue='Industry', palette='muted', fill=False, inner='quartiles')\n",
    "ax.set_yticks(sal_ticks,[f\"${x}k\" for x in sal_ticks])\n",
    "ax.set_ylabel('Minimum salary (USD)')\n",
    "ax.set_title('Minimum salary distribution across the top 3 industries')"
   ]
  },
  {
   "cell_type": "markdown",
   "id": "936c3eb9-0f57-4504-a0f4-49cc8b6e9529",
   "metadata": {},
   "source": [
    "## Second type of Vizualization for Salary Distribution\n",
    "This chart presents the distribution of minimum salaries across the top three industries in our dataset. It is to highlight the baseline salaries that potential employees might expect when starting in a particular sector. The width of each violin at different salary levels shows how many jobs within that industry offer that salary. We can denote that the thick bar in the middle is the range where the middle 50 % of salaries fall into."
   ]
  },
  {
   "cell_type": "code",
   "execution_count": 44,
   "id": "ad7d14ce-0bbb-4bd6-ae26-3fd0c0b66a28",
   "metadata": {},
   "outputs": [
    {
     "data": {
      "application/vnd.plotly.v1+json": {
       "config": {
        "plotlyServerURL": "https://plot.ly"
       },
       "data": [
        {
         "marker": {
          "color": "purple"
         },
         "name": "Probability - yes (1)",
         "type": "bar",
         "x": [
          "aws",
          "big_data",
          "excel",
          "hadoop",
          "machine_learning",
          "python",
          "spark",
          "tableau"
         ],
         "xaxis": "x",
         "y": [
          0.25318761384335153,
          0.21311475409836064,
          0.4553734061930783,
          0.21129326047358835,
          0.6083788706739527,
          0.7304189435336976,
          0.2768670309653916,
          0.18579234972677597
         ],
         "yaxis": "y"
        },
        {
         "marker": {
          "color": "red"
         },
         "name": "Count - yes (1)",
         "type": "bar",
         "x": [
          "aws",
          "big_data",
          "excel",
          "hadoop",
          "machine_learning",
          "python",
          "spark",
          "tableau"
         ],
         "xaxis": "x2",
         "y": [
          139,
          117,
          250,
          116,
          334,
          401,
          152,
          102
         ],
         "yaxis": "y2"
        },
        {
         "marker": {
          "color": "green"
         },
         "name": "Probability - no (0)",
         "type": "bar",
         "x": [
          "aws",
          "big_data",
          "excel",
          "hadoop",
          "machine_learning",
          "python",
          "spark",
          "tableau"
         ],
         "xaxis": "x",
         "y": [
          0.7468123861566485,
          0.7868852459016393,
          0.5446265938069217,
          0.7887067395264117,
          0.39162112932604737,
          0.26958105646630237,
          0.7231329690346083,
          0.8142076502732241
         ],
         "yaxis": "y"
        },
        {
         "marker": {
          "color": "blue"
         },
         "name": "Count - no (0)",
         "type": "bar",
         "x": [
          "aws",
          "big_data",
          "excel",
          "hadoop",
          "machine_learning",
          "python",
          "spark",
          "tableau"
         ],
         "xaxis": "x2",
         "y": [
          410,
          432,
          299,
          433,
          215,
          148,
          397,
          447
         ],
         "yaxis": "y2"
        }
       ],
       "layout": {
        "height": 500,
        "template": {
         "data": {
          "bar": [
           {
            "error_x": {
             "color": "#2a3f5f"
            },
            "error_y": {
             "color": "#2a3f5f"
            },
            "marker": {
             "line": {
              "color": "#E5ECF6",
              "width": 0.5
             },
             "pattern": {
              "fillmode": "overlay",
              "size": 10,
              "solidity": 0.2
             }
            },
            "type": "bar"
           }
          ],
          "barpolar": [
           {
            "marker": {
             "line": {
              "color": "#E5ECF6",
              "width": 0.5
             },
             "pattern": {
              "fillmode": "overlay",
              "size": 10,
              "solidity": 0.2
             }
            },
            "type": "barpolar"
           }
          ],
          "carpet": [
           {
            "aaxis": {
             "endlinecolor": "#2a3f5f",
             "gridcolor": "white",
             "linecolor": "white",
             "minorgridcolor": "white",
             "startlinecolor": "#2a3f5f"
            },
            "baxis": {
             "endlinecolor": "#2a3f5f",
             "gridcolor": "white",
             "linecolor": "white",
             "minorgridcolor": "white",
             "startlinecolor": "#2a3f5f"
            },
            "type": "carpet"
           }
          ],
          "choropleth": [
           {
            "colorbar": {
             "outlinewidth": 0,
             "ticks": ""
            },
            "type": "choropleth"
           }
          ],
          "contour": [
           {
            "colorbar": {
             "outlinewidth": 0,
             "ticks": ""
            },
            "colorscale": [
             [
              0,
              "#0d0887"
             ],
             [
              0.1111111111111111,
              "#46039f"
             ],
             [
              0.2222222222222222,
              "#7201a8"
             ],
             [
              0.3333333333333333,
              "#9c179e"
             ],
             [
              0.4444444444444444,
              "#bd3786"
             ],
             [
              0.5555555555555556,
              "#d8576b"
             ],
             [
              0.6666666666666666,
              "#ed7953"
             ],
             [
              0.7777777777777778,
              "#fb9f3a"
             ],
             [
              0.8888888888888888,
              "#fdca26"
             ],
             [
              1,
              "#f0f921"
             ]
            ],
            "type": "contour"
           }
          ],
          "contourcarpet": [
           {
            "colorbar": {
             "outlinewidth": 0,
             "ticks": ""
            },
            "type": "contourcarpet"
           }
          ],
          "heatmap": [
           {
            "colorbar": {
             "outlinewidth": 0,
             "ticks": ""
            },
            "colorscale": [
             [
              0,
              "#0d0887"
             ],
             [
              0.1111111111111111,
              "#46039f"
             ],
             [
              0.2222222222222222,
              "#7201a8"
             ],
             [
              0.3333333333333333,
              "#9c179e"
             ],
             [
              0.4444444444444444,
              "#bd3786"
             ],
             [
              0.5555555555555556,
              "#d8576b"
             ],
             [
              0.6666666666666666,
              "#ed7953"
             ],
             [
              0.7777777777777778,
              "#fb9f3a"
             ],
             [
              0.8888888888888888,
              "#fdca26"
             ],
             [
              1,
              "#f0f921"
             ]
            ],
            "type": "heatmap"
           }
          ],
          "heatmapgl": [
           {
            "colorbar": {
             "outlinewidth": 0,
             "ticks": ""
            },
            "colorscale": [
             [
              0,
              "#0d0887"
             ],
             [
              0.1111111111111111,
              "#46039f"
             ],
             [
              0.2222222222222222,
              "#7201a8"
             ],
             [
              0.3333333333333333,
              "#9c179e"
             ],
             [
              0.4444444444444444,
              "#bd3786"
             ],
             [
              0.5555555555555556,
              "#d8576b"
             ],
             [
              0.6666666666666666,
              "#ed7953"
             ],
             [
              0.7777777777777778,
              "#fb9f3a"
             ],
             [
              0.8888888888888888,
              "#fdca26"
             ],
             [
              1,
              "#f0f921"
             ]
            ],
            "type": "heatmapgl"
           }
          ],
          "histogram": [
           {
            "marker": {
             "pattern": {
              "fillmode": "overlay",
              "size": 10,
              "solidity": 0.2
             }
            },
            "type": "histogram"
           }
          ],
          "histogram2d": [
           {
            "colorbar": {
             "outlinewidth": 0,
             "ticks": ""
            },
            "colorscale": [
             [
              0,
              "#0d0887"
             ],
             [
              0.1111111111111111,
              "#46039f"
             ],
             [
              0.2222222222222222,
              "#7201a8"
             ],
             [
              0.3333333333333333,
              "#9c179e"
             ],
             [
              0.4444444444444444,
              "#bd3786"
             ],
             [
              0.5555555555555556,
              "#d8576b"
             ],
             [
              0.6666666666666666,
              "#ed7953"
             ],
             [
              0.7777777777777778,
              "#fb9f3a"
             ],
             [
              0.8888888888888888,
              "#fdca26"
             ],
             [
              1,
              "#f0f921"
             ]
            ],
            "type": "histogram2d"
           }
          ],
          "histogram2dcontour": [
           {
            "colorbar": {
             "outlinewidth": 0,
             "ticks": ""
            },
            "colorscale": [
             [
              0,
              "#0d0887"
             ],
             [
              0.1111111111111111,
              "#46039f"
             ],
             [
              0.2222222222222222,
              "#7201a8"
             ],
             [
              0.3333333333333333,
              "#9c179e"
             ],
             [
              0.4444444444444444,
              "#bd3786"
             ],
             [
              0.5555555555555556,
              "#d8576b"
             ],
             [
              0.6666666666666666,
              "#ed7953"
             ],
             [
              0.7777777777777778,
              "#fb9f3a"
             ],
             [
              0.8888888888888888,
              "#fdca26"
             ],
             [
              1,
              "#f0f921"
             ]
            ],
            "type": "histogram2dcontour"
           }
          ],
          "mesh3d": [
           {
            "colorbar": {
             "outlinewidth": 0,
             "ticks": ""
            },
            "type": "mesh3d"
           }
          ],
          "parcoords": [
           {
            "line": {
             "colorbar": {
              "outlinewidth": 0,
              "ticks": ""
             }
            },
            "type": "parcoords"
           }
          ],
          "pie": [
           {
            "automargin": true,
            "type": "pie"
           }
          ],
          "scatter": [
           {
            "fillpattern": {
             "fillmode": "overlay",
             "size": 10,
             "solidity": 0.2
            },
            "type": "scatter"
           }
          ],
          "scatter3d": [
           {
            "line": {
             "colorbar": {
              "outlinewidth": 0,
              "ticks": ""
             }
            },
            "marker": {
             "colorbar": {
              "outlinewidth": 0,
              "ticks": ""
             }
            },
            "type": "scatter3d"
           }
          ],
          "scattercarpet": [
           {
            "marker": {
             "colorbar": {
              "outlinewidth": 0,
              "ticks": ""
             }
            },
            "type": "scattercarpet"
           }
          ],
          "scattergeo": [
           {
            "marker": {
             "colorbar": {
              "outlinewidth": 0,
              "ticks": ""
             }
            },
            "type": "scattergeo"
           }
          ],
          "scattergl": [
           {
            "marker": {
             "colorbar": {
              "outlinewidth": 0,
              "ticks": ""
             }
            },
            "type": "scattergl"
           }
          ],
          "scattermapbox": [
           {
            "marker": {
             "colorbar": {
              "outlinewidth": 0,
              "ticks": ""
             }
            },
            "type": "scattermapbox"
           }
          ],
          "scatterpolar": [
           {
            "marker": {
             "colorbar": {
              "outlinewidth": 0,
              "ticks": ""
             }
            },
            "type": "scatterpolar"
           }
          ],
          "scatterpolargl": [
           {
            "marker": {
             "colorbar": {
              "outlinewidth": 0,
              "ticks": ""
             }
            },
            "type": "scatterpolargl"
           }
          ],
          "scatterternary": [
           {
            "marker": {
             "colorbar": {
              "outlinewidth": 0,
              "ticks": ""
             }
            },
            "type": "scatterternary"
           }
          ],
          "surface": [
           {
            "colorbar": {
             "outlinewidth": 0,
             "ticks": ""
            },
            "colorscale": [
             [
              0,
              "#0d0887"
             ],
             [
              0.1111111111111111,
              "#46039f"
             ],
             [
              0.2222222222222222,
              "#7201a8"
             ],
             [
              0.3333333333333333,
              "#9c179e"
             ],
             [
              0.4444444444444444,
              "#bd3786"
             ],
             [
              0.5555555555555556,
              "#d8576b"
             ],
             [
              0.6666666666666666,
              "#ed7953"
             ],
             [
              0.7777777777777778,
              "#fb9f3a"
             ],
             [
              0.8888888888888888,
              "#fdca26"
             ],
             [
              1,
              "#f0f921"
             ]
            ],
            "type": "surface"
           }
          ],
          "table": [
           {
            "cells": {
             "fill": {
              "color": "#EBF0F8"
             },
             "line": {
              "color": "white"
             }
            },
            "header": {
             "fill": {
              "color": "#C8D4E3"
             },
             "line": {
              "color": "white"
             }
            },
            "type": "table"
           }
          ]
         },
         "layout": {
          "annotationdefaults": {
           "arrowcolor": "#2a3f5f",
           "arrowhead": 0,
           "arrowwidth": 1
          },
          "autotypenumbers": "strict",
          "coloraxis": {
           "colorbar": {
            "outlinewidth": 0,
            "ticks": ""
           }
          },
          "colorscale": {
           "diverging": [
            [
             0,
             "#8e0152"
            ],
            [
             0.1,
             "#c51b7d"
            ],
            [
             0.2,
             "#de77ae"
            ],
            [
             0.3,
             "#f1b6da"
            ],
            [
             0.4,
             "#fde0ef"
            ],
            [
             0.5,
             "#f7f7f7"
            ],
            [
             0.6,
             "#e6f5d0"
            ],
            [
             0.7,
             "#b8e186"
            ],
            [
             0.8,
             "#7fbc41"
            ],
            [
             0.9,
             "#4d9221"
            ],
            [
             1,
             "#276419"
            ]
           ],
           "sequential": [
            [
             0,
             "#0d0887"
            ],
            [
             0.1111111111111111,
             "#46039f"
            ],
            [
             0.2222222222222222,
             "#7201a8"
            ],
            [
             0.3333333333333333,
             "#9c179e"
            ],
            [
             0.4444444444444444,
             "#bd3786"
            ],
            [
             0.5555555555555556,
             "#d8576b"
            ],
            [
             0.6666666666666666,
             "#ed7953"
            ],
            [
             0.7777777777777778,
             "#fb9f3a"
            ],
            [
             0.8888888888888888,
             "#fdca26"
            ],
            [
             1,
             "#f0f921"
            ]
           ],
           "sequentialminus": [
            [
             0,
             "#0d0887"
            ],
            [
             0.1111111111111111,
             "#46039f"
            ],
            [
             0.2222222222222222,
             "#7201a8"
            ],
            [
             0.3333333333333333,
             "#9c179e"
            ],
            [
             0.4444444444444444,
             "#bd3786"
            ],
            [
             0.5555555555555556,
             "#d8576b"
            ],
            [
             0.6666666666666666,
             "#ed7953"
            ],
            [
             0.7777777777777778,
             "#fb9f3a"
            ],
            [
             0.8888888888888888,
             "#fdca26"
            ],
            [
             1,
             "#f0f921"
            ]
           ]
          },
          "colorway": [
           "#636efa",
           "#EF553B",
           "#00cc96",
           "#ab63fa",
           "#FFA15A",
           "#19d3f3",
           "#FF6692",
           "#B6E880",
           "#FF97FF",
           "#FECB52"
          ],
          "font": {
           "color": "#2a3f5f"
          },
          "geo": {
           "bgcolor": "white",
           "lakecolor": "white",
           "landcolor": "#E5ECF6",
           "showlakes": true,
           "showland": true,
           "subunitcolor": "white"
          },
          "hoverlabel": {
           "align": "left"
          },
          "hovermode": "closest",
          "mapbox": {
           "style": "light"
          },
          "paper_bgcolor": "white",
          "plot_bgcolor": "#E5ECF6",
          "polar": {
           "angularaxis": {
            "gridcolor": "white",
            "linecolor": "white",
            "ticks": ""
           },
           "bgcolor": "#E5ECF6",
           "radialaxis": {
            "gridcolor": "white",
            "linecolor": "white",
            "ticks": ""
           }
          },
          "scene": {
           "xaxis": {
            "backgroundcolor": "#E5ECF6",
            "gridcolor": "white",
            "gridwidth": 2,
            "linecolor": "white",
            "showbackground": true,
            "ticks": "",
            "zerolinecolor": "white"
           },
           "yaxis": {
            "backgroundcolor": "#E5ECF6",
            "gridcolor": "white",
            "gridwidth": 2,
            "linecolor": "white",
            "showbackground": true,
            "ticks": "",
            "zerolinecolor": "white"
           },
           "zaxis": {
            "backgroundcolor": "#E5ECF6",
            "gridcolor": "white",
            "gridwidth": 2,
            "linecolor": "white",
            "showbackground": true,
            "ticks": "",
            "zerolinecolor": "white"
           }
          },
          "shapedefaults": {
           "line": {
            "color": "#2a3f5f"
           }
          },
          "ternary": {
           "aaxis": {
            "gridcolor": "white",
            "linecolor": "white",
            "ticks": ""
           },
           "baxis": {
            "gridcolor": "white",
            "linecolor": "white",
            "ticks": ""
           },
           "bgcolor": "#E5ECF6",
           "caxis": {
            "gridcolor": "white",
            "linecolor": "white",
            "ticks": ""
           }
          },
          "title": {
           "x": 0.05
          },
          "xaxis": {
           "automargin": true,
           "gridcolor": "white",
           "linecolor": "white",
           "ticks": "",
           "title": {
            "standoff": 15
           },
           "zerolinecolor": "white",
           "zerolinewidth": 2
          },
          "yaxis": {
           "automargin": true,
           "gridcolor": "white",
           "linecolor": "white",
           "ticks": "",
           "title": {
            "standoff": 15
           },
           "zerolinecolor": "white",
           "zerolinewidth": 2
          }
         }
        },
        "width": 1000,
        "xaxis": {
         "anchor": "y",
         "autorange": true,
         "domain": [
          0,
          1
         ],
         "range": [
          -0.5,
          7.5
         ],
         "type": "category"
        },
        "xaxis2": {
         "anchor": "y2",
         "autorange": true,
         "domain": [
          0,
          1
         ],
         "range": [
          -0.5,
          7.5
         ],
         "type": "category"
        },
        "yaxis": {
         "anchor": "x",
         "autorange": true,
         "domain": [
          0.575,
          1
         ],
         "range": [
          0,
          0.8570606844981306
         ],
         "title": {
          "text": "Probability"
         },
         "type": "linear"
        },
        "yaxis2": {
         "anchor": "x2",
         "autorange": true,
         "domain": [
          0,
          0.425
         ],
         "range": [
          0,
          470.5263157894737
         ],
         "title": {
          "text": "Count"
         },
         "type": "linear"
        }
       }
      },
      "image/png": "[encoded data removed]",
      "text/html": [
       "<div>                            <div id=\"19929cb5-18b5-4973-9a8d-4e96e62bb84d\" class=\"plotly-graph-div\" style=\"height:500px; width:1000px;\"></div>            <script type=\"text/javascript\">                require([\"plotly\"], function(Plotly) {                    window.PLOTLYENV=window.PLOTLYENV || {};                                    if (document.getElementById(\"19929cb5-18b5-4973-9a8d-4e96e62bb84d\")) {                    Plotly.newPlot(                        \"19929cb5-18b5-4973-9a8d-4e96e62bb84d\",                        [{\"marker\":{\"color\":\"purple\"},\"name\":\"Probability - yes (1)\",\"x\":[\"aws\",\"big_data\",\"excel\",\"hadoop\",\"machine_learning\",\"python\",\"spark\",\"tableau\"],\"y\":[0.25318761384335153,0.21311475409836064,0.4553734061930783,0.21129326047358835,0.6083788706739527,0.7304189435336976,0.2768670309653916,0.18579234972677597],\"type\":\"bar\",\"xaxis\":\"x\",\"yaxis\":\"y\"},{\"marker\":{\"color\":\"red\"},\"name\":\"Count - yes (1)\",\"x\":[\"aws\",\"big_data\",\"excel\",\"hadoop\",\"machine_learning\",\"python\",\"spark\",\"tableau\"],\"y\":[139,117,250,116,334,401,152,102],\"type\":\"bar\",\"xaxis\":\"x2\",\"yaxis\":\"y2\"},{\"marker\":{\"color\":\"green\"},\"name\":\"Probability - no (0)\",\"x\":[\"aws\",\"big_data\",\"excel\",\"hadoop\",\"machine_learning\",\"python\",\"spark\",\"tableau\"],\"y\":[0.7468123861566485,0.7868852459016393,0.5446265938069217,0.7887067395264117,0.39162112932604737,0.26958105646630237,0.7231329690346083,0.8142076502732241],\"type\":\"bar\",\"xaxis\":\"x\",\"yaxis\":\"y\"},{\"marker\":{\"color\":\"blue\"},\"name\":\"Count - no (0)\",\"x\":[\"aws\",\"big_data\",\"excel\",\"hadoop\",\"machine_learning\",\"python\",\"spark\",\"tableau\"],\"y\":[410,432,299,433,215,148,397,447],\"type\":\"bar\",\"xaxis\":\"x2\",\"yaxis\":\"y2\"}],                        {\"template\":{\"data\":{\"histogram2dcontour\":[{\"type\":\"histogram2dcontour\",\"colorbar\":{\"outlinewidth\":0,\"ticks\":\"\"},\"colorscale\":[[0.0,\"#0d0887\"],[0.1111111111111111,\"#46039f\"],[0.2222222222222222,\"#7201a8\"],[0.3333333333333333,\"#9c179e\"],[0.4444444444444444,\"#bd3786\"],[0.5555555555555556,\"#d8576b\"],[0.6666666666666666,\"#ed7953\"],[0.7777777777777778,\"#fb9f3a\"],[0.8888888888888888,\"#fdca26\"],[1.0,\"#f0f921\"]]}],\"choropleth\":[{\"type\":\"choropleth\",\"colorbar\":{\"outlinewidth\":0,\"ticks\":\"\"}}],\"histogram2d\":[{\"type\":\"histogram2d\",\"colorbar\":{\"outlinewidth\":0,\"ticks\":\"\"},\"colorscale\":[[0.0,\"#0d0887\"],[0.1111111111111111,\"#46039f\"],[0.2222222222222222,\"#7201a8\"],[0.3333333333333333,\"#9c179e\"],[0.4444444444444444,\"#bd3786\"],[0.5555555555555556,\"#d8576b\"],[0.6666666666666666,\"#ed7953\"],[0.7777777777777778,\"#fb9f3a\"],[0.8888888888888888,\"#fdca26\"],[1.0,\"#f0f921\"]]}],\"heatmap\":[{\"type\":\"heatmap\",\"colorbar\":{\"outlinewidth\":0,\"ticks\":\"\"},\"colorscale\":[[0.0,\"#0d0887\"],[0.1111111111111111,\"#46039f\"],[0.2222222222222222,\"#7201a8\"],[0.3333333333333333,\"#9c179e\"],[0.4444444444444444,\"#bd3786\"],[0.5555555555555556,\"#d8576b\"],[0.6666666666666666,\"#ed7953\"],[0.7777777777777778,\"#fb9f3a\"],[0.8888888888888888,\"#fdca26\"],[1.0,\"#f0f921\"]]}],\"heatmapgl\":[{\"type\":\"heatmapgl\",\"colorbar\":{\"outlinewidth\":0,\"ticks\":\"\"},\"colorscale\":[[0.0,\"#0d0887\"],[0.1111111111111111,\"#46039f\"],[0.2222222222222222,\"#7201a8\"],[0.3333333333333333,\"#9c179e\"],[0.4444444444444444,\"#bd3786\"],[0.5555555555555556,\"#d8576b\"],[0.6666666666666666,\"#ed7953\"],[0.7777777777777778,\"#fb9f3a\"],[0.8888888888888888,\"#fdca26\"],[1.0,\"#f0f921\"]]}],\"contourcarpet\":[{\"type\":\"contourcarpet\",\"colorbar\":{\"outlinewidth\":0,\"ticks\":\"\"}}],\"contour\":[{\"type\":\"contour\",\"colorbar\":{\"outlinewidth\":0,\"ticks\":\"\"},\"colorscale\":[[0.0,\"#0d0887\"],[0.1111111111111111,\"#46039f\"],[0.2222222222222222,\"#7201a8\"],[0.3333333333333333,\"#9c179e\"],[0.4444444444444444,\"#bd3786\"],[0.5555555555555556,\"#d8576b\"],[0.6666666666666666,\"#ed7953\"],[0.7777777777777778,\"#fb9f3a\"],[0.8888888888888888,\"#fdca26\"],[1.0,\"#f0f921\"]]}],\"surface\":[{\"type\":\"surface\",\"colorbar\":{\"outlinewidth\":0,\"ticks\":\"\"},\"colorscale\":[[0.0,\"#0d0887\"],[0.1111111111111111,\"#46039f\"],[0.2222222222222222,\"#7201a8\"],[0.3333333333333333,\"#9c179e\"],[0.4444444444444444,\"#bd3786\"],[0.5555555555555556,\"#d8576b\"],[0.6666666666666666,\"#ed7953\"],[0.7777777777777778,\"#fb9f3a\"],[0.8888888888888888,\"#fdca26\"],[1.0,\"#f0f921\"]]}],\"mesh3d\":[{\"type\":\"mesh3d\",\"colorbar\":{\"outlinewidth\":0,\"ticks\":\"\"}}],\"scatter\":[{\"fillpattern\":{\"fillmode\":\"overlay\",\"size\":10,\"solidity\":0.2},\"type\":\"scatter\"}],\"parcoords\":[{\"type\":\"parcoords\",\"line\":{\"colorbar\":{\"outlinewidth\":0,\"ticks\":\"\"}}}],\"scatterpolargl\":[{\"type\":\"scatterpolargl\",\"marker\":{\"colorbar\":{\"outlinewidth\":0,\"ticks\":\"\"}}}],\"bar\":[{\"error_x\":{\"color\":\"#2a3f5f\"},\"error_y\":{\"color\":\"#2a3f5f\"},\"marker\":{\"line\":{\"color\":\"#E5ECF6\",\"width\":0.5},\"pattern\":{\"fillmode\":\"overlay\",\"size\":10,\"solidity\":0.2}},\"type\":\"bar\"}],\"scattergeo\":[{\"type\":\"scattergeo\",\"marker\":{\"colorbar\":{\"outlinewidth\":0,\"ticks\":\"\"}}}],\"scatterpolar\":[{\"type\":\"scatterpolar\",\"marker\":{\"colorbar\":{\"outlinewidth\":0,\"ticks\":\"\"}}}],\"histogram\":[{\"marker\":{\"pattern\":{\"fillmode\":\"overlay\",\"size\":10,\"solidity\":0.2}},\"type\":\"histogram\"}],\"scattergl\":[{\"type\":\"scattergl\",\"marker\":{\"colorbar\":{\"outlinewidth\":0,\"ticks\":\"\"}}}],\"scatter3d\":[{\"type\":\"scatter3d\",\"line\":{\"colorbar\":{\"outlinewidth\":0,\"ticks\":\"\"}},\"marker\":{\"colorbar\":{\"outlinewidth\":0,\"ticks\":\"\"}}}],\"scattermapbox\":[{\"type\":\"scattermapbox\",\"marker\":{\"colorbar\":{\"outlinewidth\":0,\"ticks\":\"\"}}}],\"scatterternary\":[{\"type\":\"scatterternary\",\"marker\":{\"colorbar\":{\"outlinewidth\":0,\"ticks\":\"\"}}}],\"scattercarpet\":[{\"type\":\"scattercarpet\",\"marker\":{\"colorbar\":{\"outlinewidth\":0,\"ticks\":\"\"}}}],\"carpet\":[{\"aaxis\":{\"endlinecolor\":\"#2a3f5f\",\"gridcolor\":\"white\",\"linecolor\":\"white\",\"minorgridcolor\":\"white\",\"startlinecolor\":\"#2a3f5f\"},\"baxis\":{\"endlinecolor\":\"#2a3f5f\",\"gridcolor\":\"white\",\"linecolor\":\"white\",\"minorgridcolor\":\"white\",\"startlinecolor\":\"#2a3f5f\"},\"type\":\"carpet\"}],\"table\":[{\"cells\":{\"fill\":{\"color\":\"#EBF0F8\"},\"line\":{\"color\":\"white\"}},\"header\":{\"fill\":{\"color\":\"#C8D4E3\"},\"line\":{\"color\":\"white\"}},\"type\":\"table\"}],\"barpolar\":[{\"marker\":{\"line\":{\"color\":\"#E5ECF6\",\"width\":0.5},\"pattern\":{\"fillmode\":\"overlay\",\"size\":10,\"solidity\":0.2}},\"type\":\"barpolar\"}],\"pie\":[{\"automargin\":true,\"type\":\"pie\"}]},\"layout\":{\"autotypenumbers\":\"strict\",\"colorway\":[\"#636efa\",\"#EF553B\",\"#00cc96\",\"#ab63fa\",\"#FFA15A\",\"#19d3f3\",\"#FF6692\",\"#B6E880\",\"#FF97FF\",\"#FECB52\"],\"font\":{\"color\":\"#2a3f5f\"},\"hovermode\":\"closest\",\"hoverlabel\":{\"align\":\"left\"},\"paper_bgcolor\":\"white\",\"plot_bgcolor\":\"#E5ECF6\",\"polar\":{\"bgcolor\":\"#E5ECF6\",\"angularaxis\":{\"gridcolor\":\"white\",\"linecolor\":\"white\",\"ticks\":\"\"},\"radialaxis\":{\"gridcolor\":\"white\",\"linecolor\":\"white\",\"ticks\":\"\"}},\"ternary\":{\"bgcolor\":\"#E5ECF6\",\"aaxis\":{\"gridcolor\":\"white\",\"linecolor\":\"white\",\"ticks\":\"\"},\"baxis\":{\"gridcolor\":\"white\",\"linecolor\":\"white\",\"ticks\":\"\"},\"caxis\":{\"gridcolor\":\"white\",\"linecolor\":\"white\",\"ticks\":\"\"}},\"coloraxis\":{\"colorbar\":{\"outlinewidth\":0,\"ticks\":\"\"}},\"colorscale\":{\"sequential\":[[0.0,\"#0d0887\"],[0.1111111111111111,\"#46039f\"],[0.2222222222222222,\"#7201a8\"],[0.3333333333333333,\"#9c179e\"],[0.4444444444444444,\"#bd3786\"],[0.5555555555555556,\"#d8576b\"],[0.6666666666666666,\"#ed7953\"],[0.7777777777777778,\"#fb9f3a\"],[0.8888888888888888,\"#fdca26\"],[1.0,\"#f0f921\"]],\"sequentialminus\":[[0.0,\"#0d0887\"],[0.1111111111111111,\"#46039f\"],[0.2222222222222222,\"#7201a8\"],[0.3333333333333333,\"#9c179e\"],[0.4444444444444444,\"#bd3786\"],[0.5555555555555556,\"#d8576b\"],[0.6666666666666666,\"#ed7953\"],[0.7777777777777778,\"#fb9f3a\"],[0.8888888888888888,\"#fdca26\"],[1.0,\"#f0f921\"]],\"diverging\":[[0,\"#8e0152\"],[0.1,\"#c51b7d\"],[0.2,\"#de77ae\"],[0.3,\"#f1b6da\"],[0.4,\"#fde0ef\"],[0.5,\"#f7f7f7\"],[0.6,\"#e6f5d0\"],[0.7,\"#b8e186\"],[0.8,\"#7fbc41\"],[0.9,\"#4d9221\"],[1,\"#276419\"]]},\"xaxis\":{\"gridcolor\":\"white\",\"linecolor\":\"white\",\"ticks\":\"\",\"title\":{\"standoff\":15},\"zerolinecolor\":\"white\",\"automargin\":true,\"zerolinewidth\":2},\"yaxis\":{\"gridcolor\":\"white\",\"linecolor\":\"white\",\"ticks\":\"\",\"title\":{\"standoff\":15},\"zerolinecolor\":\"white\",\"automargin\":true,\"zerolinewidth\":2},\"scene\":{\"xaxis\":{\"backgroundcolor\":\"#E5ECF6\",\"gridcolor\":\"white\",\"linecolor\":\"white\",\"showbackground\":true,\"ticks\":\"\",\"zerolinecolor\":\"white\",\"gridwidth\":2},\"yaxis\":{\"backgroundcolor\":\"#E5ECF6\",\"gridcolor\":\"white\",\"linecolor\":\"white\",\"showbackground\":true,\"ticks\":\"\",\"zerolinecolor\":\"white\",\"gridwidth\":2},\"zaxis\":{\"backgroundcolor\":\"#E5ECF6\",\"gridcolor\":\"white\",\"linecolor\":\"white\",\"showbackground\":true,\"ticks\":\"\",\"zerolinecolor\":\"white\",\"gridwidth\":2}},\"shapedefaults\":{\"line\":{\"color\":\"#2a3f5f\"}},\"annotationdefaults\":{\"arrowcolor\":\"#2a3f5f\",\"arrowhead\":0,\"arrowwidth\":1},\"geo\":{\"bgcolor\":\"white\",\"landcolor\":\"#E5ECF6\",\"subunitcolor\":\"white\",\"showland\":true,\"showlakes\":true,\"lakecolor\":\"white\"},\"title\":{\"x\":0.05},\"mapbox\":{\"style\":\"light\"}}},\"xaxis\":{\"anchor\":\"y\",\"domain\":[0.0,1.0]},\"yaxis\":{\"anchor\":\"x\",\"domain\":[0.575,1.0],\"title\":{\"text\":\"Probability\"}},\"xaxis2\":{\"anchor\":\"y2\",\"domain\":[0.0,1.0]},\"yaxis2\":{\"anchor\":\"x2\",\"domain\":[0.0,0.425],\"title\":{\"text\":\"Count\"}},\"height\":500,\"width\":1000},                        {\"responsive\": true}                    ).then(function(){\n",
       "                            \n",
       "var gd = document.getElementById('19929cb5-18b5-4973-9a8d-4e96e62bb84d');\n",
       "var x = new MutationObserver(function (mutations, observer) {{\n",
       "        var display = window.getComputedStyle(gd).display;\n",
       "        if (!display || display === 'none') {{\n",
       "            console.log([gd, 'removed!']);\n",
       "            Plotly.purge(gd);\n",
       "            observer.disconnect();\n",
       "        }}\n",
       "}});\n",
       "\n",
       "// Listen for the removal of the full notebook cells\n",
       "var notebookContainer = gd.closest('#notebook-container');\n",
       "if (notebookContainer) {{\n",
       "    x.observe(notebookContainer, {childList: true});\n",
       "}}\n",
       "\n",
       "// Listen for the clearing of the current output cell\n",
       "var outputEl = gd.closest('.output');\n",
       "if (outputEl) {{\n",
       "    x.observe(outputEl, {childList: true});\n",
       "}}\n",
       "\n",
       "                        })                };                });            </script>        </div>"
      ]
     },
     "metadata": {},
     "output_type": "display_data"
    }
   ],
   "source": [
    "# To create subplots with 2 rows and 1 column\n",
    "fig = make_subplots(rows=2, cols=1)\n",
    "# Get required data for melt function\n",
    "data = df[['python', 'excel', 'hadoop', 'spark', \n",
    "             'tableau', 'aws', 'big_data', 'machine_learning']]\n",
    "\n",
    "# Melt function: Unpivots a DataFrame from a wide format to a long format\n",
    "# Converts DataFrame into long DataFrame with two columns: Skill and Presence\n",
    "data_melted = data.melt(var_name='Skill', value_name='Presence')\n",
    "# Grouping data and resetting index\n",
    "prob_data = data_melted.groupby(['Skill', 'Presence']).size().reset_index(name = 'Count')\n",
    "# divide the total of Counts by the number of skill req\n",
    "prob_data['Probability'] = prob_data['Count'] / len(data)\n",
    "conditions = [\n",
    "    {'presence': 1, 'prob_color': 'purple', 'count_color': 'red', 'prob_name': 'Probability - yes (1)', 'count_name': 'Count - yes (1)'},\n",
    "    {'presence': 0, 'prob_color': 'green', 'count_color': 'blue', 'prob_name': 'Probability - no (0)',  'count_name': 'Count - no (0)'}\n",
    "]\n",
    "for cond in conditions:\n",
    "    # Subplot #1\n",
    "    fig.add_trace(\n",
    "        go.Bar(x=prob_data.query(f'Presence == {cond[\"presence\"]}')['Skill'], \n",
    "               y=prob_data.query(f'Presence == {cond[\"presence\"]}')['Probability'], \n",
    "               name=cond['prob_name'],\n",
    "               marker_color=cond['prob_color']\n",
    "        ), \n",
    "        row=1, col=1\n",
    "    )\n",
    "    \n",
    "    fig.add_trace( \n",
    "         go.Bar(x=prob_data.query(f'Presence == {cond[\"presence\"]}')['Skill'], \n",
    "                y=prob_data.query(f'Presence == {cond[\"presence\"]}')['Count'],\n",
    "                name=cond['count_name'],\n",
    "                marker_color=cond['count_color']\n",
    "        ), \n",
    "        row=2, col=1\n",
    "    )\n",
    "\n",
    "fig.update_layout(height=500, \n",
    "                  width=1000)\n",
    "\n",
    "fig.update_yaxes(title_text='Probability', row=1, col=1)\n",
    "fig.update_yaxes(title_text='Count', row=2, col=1)\n",
    "\n",
    "\n",
    "fig.show()\n"
   ]
  },
  {
   "cell_type": "markdown",
   "id": "fca241ee-b036-4012-8e29-0edff9208b53",
   "metadata": {},
   "source": [
    "## Finding Relevant skills\n",
    "This figure contains two subplots that analyzes the presence of specific skills. Understanding the probability and count of job listings requiring specific skills helps job seekers prioritize their learning development. Employers are able to use this information to tailor their job postings to attract qualified candidates with the most relevant skills."
   ]
  },
  {
   "cell_type": "code",
   "execution_count": 45,
   "id": "3be70579-0e16-4fff-8121-bbe2956565b6",
   "metadata": {},
   "outputs": [
    {
     "data": {
      "application/vnd.plotly.v1+json": {
       "config": {
        "plotlyServerURL": "https://plot.ly"
       },
       "data": [
        {
         "type": "heatmap",
         "x": [
          "python",
          "excel",
          "hadoop",
          "spark",
          "tableau",
          "aws",
          "big_data",
          "machine_learning"
         ],
         "y": [
          "python",
          "excel",
          "hadoop",
          "spark",
          "tableau",
          "aws",
          "big_data",
          "machine_learning"
         ],
         "z": [
          [
           1,
           0.04447095047304672,
           0.19378032542429,
           0.20160775560883962,
           0.0685719054880684,
           0.1649327110227988,
           0.15578046594261832,
           0.3871799320933405
          ],
          [
           0.04447095047304672,
           1,
           0.001583044754267917,
           -0.050817540554650896,
           0.20267431555219967,
           0.047970930279409636,
           0.024305815374242732,
           -0.09062959046274094
          ],
          [
           0.19378032542429,
           0.001583044754267917,
           1,
           0.5572696165907759,
           0.06250138235068578,
           0.18090818586697255,
           0.39529031724169295,
           0.1318908317671735
          ],
          [
           0.20160775560883962,
           -0.050817540554650896,
           0.5572696165907759,
           1,
           -0.04438253264418393,
           0.22950725427320012,
           0.37383853953253093,
           0.22122863453369712
          ],
          [
           0.0685719054880684,
           0.20267431555219967,
           0.06250138235068578,
           -0.04438253264418393,
           1,
           -0.08427739375474036,
           -0.03130908162626159,
           -0.17322676002284987
          ],
          [
           0.1649327110227988,
           0.047970930279409636,
           0.18090818586697255,
           0.22950725427320012,
           -0.08427739375474036,
           1,
           0.07546071058081943,
           0.11529994926534186
          ],
          [
           0.15578046594261832,
           0.024305815374242732,
           0.39529031724169295,
           0.37383853953253093,
           -0.03130908162626159,
           0.07546071058081943,
           1,
           0.08948331491410583
          ],
          [
           0.3871799320933405,
           -0.09062959046274094,
           0.1318908317671735,
           0.22122863453369712,
           -0.17322676002284987,
           0.11529994926534186,
           0.08948331491410583,
           1
          ]
         ]
        }
       ],
       "layout": {
        "annotations": [
         {
          "font": {
           "color": "white",
           "size": 12
          },
          "showarrow": false,
          "text": "1.0",
          "x": "python",
          "y": "python"
         },
         {
          "font": {
           "color": "white",
           "size": 12
          },
          "showarrow": false,
          "text": "0.04",
          "x": "excel",
          "y": "python"
         },
         {
          "font": {
           "color": "white",
           "size": 12
          },
          "showarrow": false,
          "text": "0.19",
          "x": "hadoop",
          "y": "python"
         },
         {
          "font": {
           "color": "white",
           "size": 12
          },
          "showarrow": false,
          "text": "0.2",
          "x": "spark",
          "y": "python"
         },
         {
          "font": {
           "color": "white",
           "size": 12
          },
          "showarrow": false,
          "text": "0.07",
          "x": "tableau",
          "y": "python"
         },
         {
          "font": {
           "color": "white",
           "size": 12
          },
          "showarrow": false,
          "text": "0.16",
          "x": "aws",
          "y": "python"
         },
         {
          "font": {
           "color": "white",
           "size": 12
          },
          "showarrow": false,
          "text": "0.16",
          "x": "big_data",
          "y": "python"
         },
         {
          "font": {
           "color": "white",
           "size": 12
          },
          "showarrow": false,
          "text": "0.39",
          "x": "machine_learning",
          "y": "python"
         },
         {
          "font": {
           "color": "white",
           "size": 12
          },
          "showarrow": false,
          "text": "0.04",
          "x": "python",
          "y": "excel"
         },
         {
          "font": {
           "color": "white",
           "size": 12
          },
          "showarrow": false,
          "text": "1.0",
          "x": "excel",
          "y": "excel"
         },
         {
          "font": {
           "color": "white",
           "size": 12
          },
          "showarrow": false,
          "text": "0.0",
          "x": "hadoop",
          "y": "excel"
         },
         {
          "font": {
           "color": "white",
           "size": 12
          },
          "showarrow": false,
          "text": "-0.05",
          "x": "spark",
          "y": "excel"
         },
         {
          "font": {
           "color": "white",
           "size": 12
          },
          "showarrow": false,
          "text": "0.2",
          "x": "tableau",
          "y": "excel"
         },
         {
          "font": {
           "color": "white",
           "size": 12
          },
          "showarrow": false,
          "text": "0.05",
          "x": "aws",
          "y": "excel"
         },
         {
          "font": {
           "color": "white",
           "size": 12
          },
          "showarrow": false,
          "text": "0.02",
          "x": "big_data",
          "y": "excel"
         },
         {
          "font": {
           "color": "white",
           "size": 12
          },
          "showarrow": false,
          "text": "-0.09",
          "x": "machine_learning",
          "y": "excel"
         },
         {
          "font": {
           "color": "white",
           "size": 12
          },
          "showarrow": false,
          "text": "0.19",
          "x": "python",
          "y": "hadoop"
         },
         {
          "font": {
           "color": "white",
           "size": 12
          },
          "showarrow": false,
          "text": "0.0",
          "x": "excel",
          "y": "hadoop"
         },
         {
          "font": {
           "color": "white",
           "size": 12
          },
          "showarrow": false,
          "text": "1.0",
          "x": "hadoop",
          "y": "hadoop"
         },
         {
          "font": {
           "color": "white",
           "size": 12
          },
          "showarrow": false,
          "text": "0.56",
          "x": "spark",
          "y": "hadoop"
         },
         {
          "font": {
           "color": "white",
           "size": 12
          },
          "showarrow": false,
          "text": "0.06",
          "x": "tableau",
          "y": "hadoop"
         },
         {
          "font": {
           "color": "white",
           "size": 12
          },
          "showarrow": false,
          "text": "0.18",
          "x": "aws",
          "y": "hadoop"
         },
         {
          "font": {
           "color": "white",
           "size": 12
          },
          "showarrow": false,
          "text": "0.4",
          "x": "big_data",
          "y": "hadoop"
         },
         {
          "font": {
           "color": "white",
           "size": 12
          },
          "showarrow": false,
          "text": "0.13",
          "x": "machine_learning",
          "y": "hadoop"
         },
         {
          "font": {
           "color": "white",
           "size": 12
          },
          "showarrow": false,
          "text": "0.2",
          "x": "python",
          "y": "spark"
         },
         {
          "font": {
           "color": "white",
           "size": 12
          },
          "showarrow": false,
          "text": "-0.05",
          "x": "excel",
          "y": "spark"
         },
         {
          "font": {
           "color": "white",
           "size": 12
          },
          "showarrow": false,
          "text": "0.56",
          "x": "hadoop",
          "y": "spark"
         },
         {
          "font": {
           "color": "white",
           "size": 12
          },
          "showarrow": false,
          "text": "1.0",
          "x": "spark",
          "y": "spark"
         },
         {
          "font": {
           "color": "white",
           "size": 12
          },
          "showarrow": false,
          "text": "-0.04",
          "x": "tableau",
          "y": "spark"
         },
         {
          "font": {
           "color": "white",
           "size": 12
          },
          "showarrow": false,
          "text": "0.23",
          "x": "aws",
          "y": "spark"
         },
         {
          "font": {
           "color": "white",
           "size": 12
          },
          "showarrow": false,
          "text": "0.37",
          "x": "big_data",
          "y": "spark"
         },
         {
          "font": {
           "color": "white",
           "size": 12
          },
          "showarrow": false,
          "text": "0.22",
          "x": "machine_learning",
          "y": "spark"
         },
         {
          "font": {
           "color": "white",
           "size": 12
          },
          "showarrow": false,
          "text": "0.07",
          "x": "python",
          "y": "tableau"
         },
         {
          "font": {
           "color": "white",
           "size": 12
          },
          "showarrow": false,
          "text": "0.2",
          "x": "excel",
          "y": "tableau"
         },
         {
          "font": {
           "color": "white",
           "size": 12
          },
          "showarrow": false,
          "text": "0.06",
          "x": "hadoop",
          "y": "tableau"
         },
         {
          "font": {
           "color": "white",
           "size": 12
          },
          "showarrow": false,
          "text": "-0.04",
          "x": "spark",
          "y": "tableau"
         },
         {
          "font": {
           "color": "white",
           "size": 12
          },
          "showarrow": false,
          "text": "1.0",
          "x": "tableau",
          "y": "tableau"
         },
         {
          "font": {
           "color": "white",
           "size": 12
          },
          "showarrow": false,
          "text": "-0.08",
          "x": "aws",
          "y": "tableau"
         },
         {
          "font": {
           "color": "white",
           "size": 12
          },
          "showarrow": false,
          "text": "-0.03",
          "x": "big_data",
          "y": "tableau"
         },
         {
          "font": {
           "color": "white",
           "size": 12
          },
          "showarrow": false,
          "text": "-0.17",
          "x": "machine_learning",
          "y": "tableau"
         },
         {
          "font": {
           "color": "white",
           "size": 12
          },
          "showarrow": false,
          "text": "0.16",
          "x": "python",
          "y": "aws"
         },
         {
          "font": {
           "color": "white",
           "size": 12
          },
          "showarrow": false,
          "text": "0.05",
          "x": "excel",
          "y": "aws"
         },
         {
          "font": {
           "color": "white",
           "size": 12
          },
          "showarrow": false,
          "text": "0.18",
          "x": "hadoop",
          "y": "aws"
         },
         {
          "font": {
           "color": "white",
           "size": 12
          },
          "showarrow": false,
          "text": "0.23",
          "x": "spark",
          "y": "aws"
         },
         {
          "font": {
           "color": "white",
           "size": 12
          },
          "showarrow": false,
          "text": "-0.08",
          "x": "tableau",
          "y": "aws"
         },
         {
          "font": {
           "color": "white",
           "size": 12
          },
          "showarrow": false,
          "text": "1.0",
          "x": "aws",
          "y": "aws"
         },
         {
          "font": {
           "color": "white",
           "size": 12
          },
          "showarrow": false,
          "text": "0.08",
          "x": "big_data",
          "y": "aws"
         },
         {
          "font": {
           "color": "white",
           "size": 12
          },
          "showarrow": false,
          "text": "0.12",
          "x": "machine_learning",
          "y": "aws"
         },
         {
          "font": {
           "color": "white",
           "size": 12
          },
          "showarrow": false,
          "text": "0.16",
          "x": "python",
          "y": "big_data"
         },
         {
          "font": {
           "color": "white",
           "size": 12
          },
          "showarrow": false,
          "text": "0.02",
          "x": "excel",
          "y": "big_data"
         },
         {
          "font": {
           "color": "white",
           "size": 12
          },
          "showarrow": false,
          "text": "0.4",
          "x": "hadoop",
          "y": "big_data"
         },
         {
          "font": {
           "color": "white",
           "size": 12
          },
          "showarrow": false,
          "text": "0.37",
          "x": "spark",
          "y": "big_data"
         },
         {
          "font": {
           "color": "white",
           "size": 12
          },
          "showarrow": false,
          "text": "-0.03",
          "x": "tableau",
          "y": "big_data"
         },
         {
          "font": {
           "color": "white",
           "size": 12
          },
          "showarrow": false,
          "text": "0.08",
          "x": "aws",
          "y": "big_data"
         },
         {
          "font": {
           "color": "white",
           "size": 12
          },
          "showarrow": false,
          "text": "1.0",
          "x": "big_data",
          "y": "big_data"
         },
         {
          "font": {
           "color": "white",
           "size": 12
          },
          "showarrow": false,
          "text": "0.09",
          "x": "machine_learning",
          "y": "big_data"
         },
         {
          "font": {
           "color": "white",
           "size": 12
          },
          "showarrow": false,
          "text": "0.39",
          "x": "python",
          "y": "machine_learning"
         },
         {
          "font": {
           "color": "white",
           "size": 12
          },
          "showarrow": false,
          "text": "-0.09",
          "x": "excel",
          "y": "machine_learning"
         },
         {
          "font": {
           "color": "white",
           "size": 12
          },
          "showarrow": false,
          "text": "0.13",
          "x": "hadoop",
          "y": "machine_learning"
         },
         {
          "font": {
           "color": "white",
           "size": 12
          },
          "showarrow": false,
          "text": "0.22",
          "x": "spark",
          "y": "machine_learning"
         },
         {
          "font": {
           "color": "white",
           "size": 12
          },
          "showarrow": false,
          "text": "-0.17",
          "x": "tableau",
          "y": "machine_learning"
         },
         {
          "font": {
           "color": "white",
           "size": 12
          },
          "showarrow": false,
          "text": "0.12",
          "x": "aws",
          "y": "machine_learning"
         },
         {
          "font": {
           "color": "white",
           "size": 12
          },
          "showarrow": false,
          "text": "0.09",
          "x": "big_data",
          "y": "machine_learning"
         },
         {
          "font": {
           "color": "white",
           "size": 12
          },
          "showarrow": false,
          "text": "1.0",
          "x": "machine_learning",
          "y": "machine_learning"
         }
        ],
        "height": 500,
        "template": {
         "data": {
          "bar": [
           {
            "error_x": {
             "color": "#2a3f5f"
            },
            "error_y": {
             "color": "#2a3f5f"
            },
            "marker": {
             "line": {
              "color": "#E5ECF6",
              "width": 0.5
             },
             "pattern": {
              "fillmode": "overlay",
              "size": 10,
              "solidity": 0.2
             }
            },
            "type": "bar"
           }
          ],
          "barpolar": [
           {
            "marker": {
             "line": {
              "color": "#E5ECF6",
              "width": 0.5
             },
             "pattern": {
              "fillmode": "overlay",
              "size": 10,
              "solidity": 0.2
             }
            },
            "type": "barpolar"
           }
          ],
          "carpet": [
           {
            "aaxis": {
             "endlinecolor": "#2a3f5f",
             "gridcolor": "white",
             "linecolor": "white",
             "minorgridcolor": "white",
             "startlinecolor": "#2a3f5f"
            },
            "baxis": {
             "endlinecolor": "#2a3f5f",
             "gridcolor": "white",
             "linecolor": "white",
             "minorgridcolor": "white",
             "startlinecolor": "#2a3f5f"
            },
            "type": "carpet"
           }
          ],
          "choropleth": [
           {
            "colorbar": {
             "outlinewidth": 0,
             "ticks": ""
            },
            "type": "choropleth"
           }
          ],
          "contour": [
           {
            "colorbar": {
             "outlinewidth": 0,
             "ticks": ""
            },
            "colorscale": [
             [
              0,
              "#0d0887"
             ],
             [
              0.1111111111111111,
              "#46039f"
             ],
             [
              0.2222222222222222,
              "#7201a8"
             ],
             [
              0.3333333333333333,
              "#9c179e"
             ],
             [
              0.4444444444444444,
              "#bd3786"
             ],
             [
              0.5555555555555556,
              "#d8576b"
             ],
             [
              0.6666666666666666,
              "#ed7953"
             ],
             [
              0.7777777777777778,
              "#fb9f3a"
             ],
             [
              0.8888888888888888,
              "#fdca26"
             ],
             [
              1,
              "#f0f921"
             ]
            ],
            "type": "contour"
           }
          ],
          "contourcarpet": [
           {
            "colorbar": {
             "outlinewidth": 0,
             "ticks": ""
            },
            "type": "contourcarpet"
           }
          ],
          "heatmap": [
           {
            "colorbar": {
             "outlinewidth": 0,
             "ticks": ""
            },
            "colorscale": [
             [
              0,
              "#0d0887"
             ],
             [
              0.1111111111111111,
              "#46039f"
             ],
             [
              0.2222222222222222,
              "#7201a8"
             ],
             [
              0.3333333333333333,
              "#9c179e"
             ],
             [
              0.4444444444444444,
              "#bd3786"
             ],
             [
              0.5555555555555556,
              "#d8576b"
             ],
             [
              0.6666666666666666,
              "#ed7953"
             ],
             [
              0.7777777777777778,
              "#fb9f3a"
             ],
             [
              0.8888888888888888,
              "#fdca26"
             ],
             [
              1,
              "#f0f921"
             ]
            ],
            "type": "heatmap"
           }
          ],
          "heatmapgl": [
           {
            "colorbar": {
             "outlinewidth": 0,
             "ticks": ""
            },
            "colorscale": [
             [
              0,
              "#0d0887"
             ],
             [
              0.1111111111111111,
              "#46039f"
             ],
             [
              0.2222222222222222,
              "#7201a8"
             ],
             [
              0.3333333333333333,
              "#9c179e"
             ],
             [
              0.4444444444444444,
              "#bd3786"
             ],
             [
              0.5555555555555556,
              "#d8576b"
             ],
             [
              0.6666666666666666,
              "#ed7953"
             ],
             [
              0.7777777777777778,
              "#fb9f3a"
             ],
             [
              0.8888888888888888,
              "#fdca26"
             ],
             [
              1,
              "#f0f921"
             ]
            ],
            "type": "heatmapgl"
           }
          ],
          "histogram": [
           {
            "marker": {
             "pattern": {
              "fillmode": "overlay",
              "size": 10,
              "solidity": 0.2
             }
            },
            "type": "histogram"
           }
          ],
          "histogram2d": [
           {
            "colorbar": {
             "outlinewidth": 0,
             "ticks": ""
            },
            "colorscale": [
             [
              0,
              "#0d0887"
             ],
             [
              0.1111111111111111,
              "#46039f"
             ],
             [
              0.2222222222222222,
              "#7201a8"
             ],
             [
              0.3333333333333333,
              "#9c179e"
             ],
             [
              0.4444444444444444,
              "#bd3786"
             ],
             [
              0.5555555555555556,
              "#d8576b"
             ],
             [
              0.6666666666666666,
              "#ed7953"
             ],
             [
              0.7777777777777778,
              "#fb9f3a"
             ],
             [
              0.8888888888888888,
              "#fdca26"
             ],
             [
              1,
              "#f0f921"
             ]
            ],
            "type": "histogram2d"
           }
          ],
          "histogram2dcontour": [
           {
            "colorbar": {
             "outlinewidth": 0,
             "ticks": ""
            },
            "colorscale": [
             [
              0,
              "#0d0887"
             ],
             [
              0.1111111111111111,
              "#46039f"
             ],
             [
              0.2222222222222222,
              "#7201a8"
             ],
             [
              0.3333333333333333,
              "#9c179e"
             ],
             [
              0.4444444444444444,
              "#bd3786"
             ],
             [
              0.5555555555555556,
              "#d8576b"
             ],
             [
              0.6666666666666666,
              "#ed7953"
             ],
             [
              0.7777777777777778,
              "#fb9f3a"
             ],
             [
              0.8888888888888888,
              "#fdca26"
             ],
             [
              1,
              "#f0f921"
             ]
            ],
            "type": "histogram2dcontour"
           }
          ],
          "mesh3d": [
           {
            "colorbar": {
             "outlinewidth": 0,
             "ticks": ""
            },
            "type": "mesh3d"
           }
          ],
          "parcoords": [
           {
            "line": {
             "colorbar": {
              "outlinewidth": 0,
              "ticks": ""
             }
            },
            "type": "parcoords"
           }
          ],
          "pie": [
           {
            "automargin": true,
            "type": "pie"
           }
          ],
          "scatter": [
           {
            "fillpattern": {
             "fillmode": "overlay",
             "size": 10,
             "solidity": 0.2
            },
            "type": "scatter"
           }
          ],
          "scatter3d": [
           {
            "line": {
             "colorbar": {
              "outlinewidth": 0,
              "ticks": ""
             }
            },
            "marker": {
             "colorbar": {
              "outlinewidth": 0,
              "ticks": ""
             }
            },
            "type": "scatter3d"
           }
          ],
          "scattercarpet": [
           {
            "marker": {
             "colorbar": {
              "outlinewidth": 0,
              "ticks": ""
             }
            },
            "type": "scattercarpet"
           }
          ],
          "scattergeo": [
           {
            "marker": {
             "colorbar": {
              "outlinewidth": 0,
              "ticks": ""
             }
            },
            "type": "scattergeo"
           }
          ],
          "scattergl": [
           {
            "marker": {
             "colorbar": {
              "outlinewidth": 0,
              "ticks": ""
             }
            },
            "type": "scattergl"
           }
          ],
          "scattermapbox": [
           {
            "marker": {
             "colorbar": {
              "outlinewidth": 0,
              "ticks": ""
             }
            },
            "type": "scattermapbox"
           }
          ],
          "scatterpolar": [
           {
            "marker": {
             "colorbar": {
              "outlinewidth": 0,
              "ticks": ""
             }
            },
            "type": "scatterpolar"
           }
          ],
          "scatterpolargl": [
           {
            "marker": {
             "colorbar": {
              "outlinewidth": 0,
              "ticks": ""
             }
            },
            "type": "scatterpolargl"
           }
          ],
          "scatterternary": [
           {
            "marker": {
             "colorbar": {
              "outlinewidth": 0,
              "ticks": ""
             }
            },
            "type": "scatterternary"
           }
          ],
          "surface": [
           {
            "colorbar": {
             "outlinewidth": 0,
             "ticks": ""
            },
            "colorscale": [
             [
              0,
              "#0d0887"
             ],
             [
              0.1111111111111111,
              "#46039f"
             ],
             [
              0.2222222222222222,
              "#7201a8"
             ],
             [
              0.3333333333333333,
              "#9c179e"
             ],
             [
              0.4444444444444444,
              "#bd3786"
             ],
             [
              0.5555555555555556,
              "#d8576b"
             ],
             [
              0.6666666666666666,
              "#ed7953"
             ],
             [
              0.7777777777777778,
              "#fb9f3a"
             ],
             [
              0.8888888888888888,
              "#fdca26"
             ],
             [
              1,
              "#f0f921"
             ]
            ],
            "type": "surface"
           }
          ],
          "table": [
           {
            "cells": {
             "fill": {
              "color": "#EBF0F8"
             },
             "line": {
              "color": "white"
             }
            },
            "header": {
             "fill": {
              "color": "#C8D4E3"
             },
             "line": {
              "color": "white"
             }
            },
            "type": "table"
           }
          ]
         },
         "layout": {
          "annotationdefaults": {
           "arrowcolor": "#2a3f5f",
           "arrowhead": 0,
           "arrowwidth": 1
          },
          "autotypenumbers": "strict",
          "coloraxis": {
           "colorbar": {
            "outlinewidth": 0,
            "ticks": ""
           }
          },
          "colorscale": {
           "diverging": [
            [
             0,
             "#8e0152"
            ],
            [
             0.1,
             "#c51b7d"
            ],
            [
             0.2,
             "#de77ae"
            ],
            [
             0.3,
             "#f1b6da"
            ],
            [
             0.4,
             "#fde0ef"
            ],
            [
             0.5,
             "#f7f7f7"
            ],
            [
             0.6,
             "#e6f5d0"
            ],
            [
             0.7,
             "#b8e186"
            ],
            [
             0.8,
             "#7fbc41"
            ],
            [
             0.9,
             "#4d9221"
            ],
            [
             1,
             "#276419"
            ]
           ],
           "sequential": [
            [
             0,
             "#0d0887"
            ],
            [
             0.1111111111111111,
             "#46039f"
            ],
            [
             0.2222222222222222,
             "#7201a8"
            ],
            [
             0.3333333333333333,
             "#9c179e"
            ],
            [
             0.4444444444444444,
             "#bd3786"
            ],
            [
             0.5555555555555556,
             "#d8576b"
            ],
            [
             0.6666666666666666,
             "#ed7953"
            ],
            [
             0.7777777777777778,
             "#fb9f3a"
            ],
            [
             0.8888888888888888,
             "#fdca26"
            ],
            [
             1,
             "#f0f921"
            ]
           ],
           "sequentialminus": [
            [
             0,
             "#0d0887"
            ],
            [
             0.1111111111111111,
             "#46039f"
            ],
            [
             0.2222222222222222,
             "#7201a8"
            ],
            [
             0.3333333333333333,
             "#9c179e"
            ],
            [
             0.4444444444444444,
             "#bd3786"
            ],
            [
             0.5555555555555556,
             "#d8576b"
            ],
            [
             0.6666666666666666,
             "#ed7953"
            ],
            [
             0.7777777777777778,
             "#fb9f3a"
            ],
            [
             0.8888888888888888,
             "#fdca26"
            ],
            [
             1,
             "#f0f921"
            ]
           ]
          },
          "colorway": [
           "#636efa",
           "#EF553B",
           "#00cc96",
           "#ab63fa",
           "#FFA15A",
           "#19d3f3",
           "#FF6692",
           "#B6E880",
           "#FF97FF",
           "#FECB52"
          ],
          "font": {
           "color": "#2a3f5f"
          },
          "geo": {
           "bgcolor": "white",
           "lakecolor": "white",
           "landcolor": "#E5ECF6",
           "showlakes": true,
           "showland": true,
           "subunitcolor": "white"
          },
          "hoverlabel": {
           "align": "left"
          },
          "hovermode": "closest",
          "mapbox": {
           "style": "light"
          },
          "paper_bgcolor": "white",
          "plot_bgcolor": "#E5ECF6",
          "polar": {
           "angularaxis": {
            "gridcolor": "white",
            "linecolor": "white",
            "ticks": ""
           },
           "bgcolor": "#E5ECF6",
           "radialaxis": {
            "gridcolor": "white",
            "linecolor": "white",
            "ticks": ""
           }
          },
          "scene": {
           "xaxis": {
            "backgroundcolor": "#E5ECF6",
            "gridcolor": "white",
            "gridwidth": 2,
            "linecolor": "white",
            "showbackground": true,
            "ticks": "",
            "zerolinecolor": "white"
           },
           "yaxis": {
            "backgroundcolor": "#E5ECF6",
            "gridcolor": "white",
            "gridwidth": 2,
            "linecolor": "white",
            "showbackground": true,
            "ticks": "",
            "zerolinecolor": "white"
           },
           "zaxis": {
            "backgroundcolor": "#E5ECF6",
            "gridcolor": "white",
            "gridwidth": 2,
            "linecolor": "white",
            "showbackground": true,
            "ticks": "",
            "zerolinecolor": "white"
           }
          },
          "shapedefaults": {
           "line": {
            "color": "#2a3f5f"
           }
          },
          "ternary": {
           "aaxis": {
            "gridcolor": "white",
            "linecolor": "white",
            "ticks": ""
           },
           "baxis": {
            "gridcolor": "white",
            "linecolor": "white",
            "ticks": ""
           },
           "bgcolor": "#E5ECF6",
           "caxis": {
            "gridcolor": "white",
            "linecolor": "white",
            "ticks": ""
           }
          },
          "title": {
           "x": 0.05
          },
          "xaxis": {
           "automargin": true,
           "gridcolor": "white",
           "linecolor": "white",
           "ticks": "",
           "title": {
            "standoff": 15
           },
           "zerolinecolor": "white",
           "zerolinewidth": 2
          },
          "yaxis": {
           "automargin": true,
           "gridcolor": "white",
           "linecolor": "white",
           "ticks": "",
           "title": {
            "standoff": 15
           },
           "zerolinecolor": "white",
           "zerolinewidth": 2
          }
         }
        },
        "width": 1000,
        "xaxis": {
         "autorange": true,
         "range": [
          -0.5,
          7.5
         ],
         "type": "category"
        },
        "yaxis": {
         "autorange": true,
         "range": [
          -0.5,
          7.5
         ],
         "type": "category"
        }
       }
      },
      "image/png": "[encoded data removed]",
      "text/html": [
       "<div>                            <div id=\"5a68fb7b-cefe-41ff-b0b2-eba2d9d73a54\" class=\"plotly-graph-div\" style=\"height:500px; width:1000px;\"></div>            <script type=\"text/javascript\">                require([\"plotly\"], function(Plotly) {                    window.PLOTLYENV=window.PLOTLYENV || {};                                    if (document.getElementById(\"5a68fb7b-cefe-41ff-b0b2-eba2d9d73a54\")) {                    Plotly.newPlot(                        \"5a68fb7b-cefe-41ff-b0b2-eba2d9d73a54\",                        [{\"x\":[\"python\",\"excel\",\"hadoop\",\"spark\",\"tableau\",\"aws\",\"big_data\",\"machine_learning\"],\"y\":[\"python\",\"excel\",\"hadoop\",\"spark\",\"tableau\",\"aws\",\"big_data\",\"machine_learning\"],\"z\":[[1.0,0.04447095047304672,0.19378032542429,0.20160775560883962,0.0685719054880684,0.1649327110227988,0.15578046594261832,0.3871799320933405],[0.04447095047304672,1.0,0.001583044754267917,-0.050817540554650896,0.20267431555219967,0.047970930279409636,0.024305815374242732,-0.09062959046274094],[0.19378032542429,0.001583044754267917,1.0,0.5572696165907759,0.06250138235068578,0.18090818586697255,0.39529031724169295,0.1318908317671735],[0.20160775560883962,-0.050817540554650896,0.5572696165907759,1.0,-0.04438253264418393,0.22950725427320012,0.37383853953253093,0.22122863453369712],[0.0685719054880684,0.20267431555219967,0.06250138235068578,-0.04438253264418393,1.0,-0.08427739375474036,-0.03130908162626159,-0.17322676002284987],[0.1649327110227988,0.047970930279409636,0.18090818586697255,0.22950725427320012,-0.08427739375474036,1.0,0.07546071058081943,0.11529994926534186],[0.15578046594261832,0.024305815374242732,0.39529031724169295,0.37383853953253093,-0.03130908162626159,0.07546071058081943,1.0,0.08948331491410583],[0.3871799320933405,-0.09062959046274094,0.1318908317671735,0.22122863453369712,-0.17322676002284987,0.11529994926534186,0.08948331491410583,1.0]],\"type\":\"heatmap\"}],                        {\"template\":{\"data\":{\"histogram2dcontour\":[{\"type\":\"histogram2dcontour\",\"colorbar\":{\"outlinewidth\":0,\"ticks\":\"\"},\"colorscale\":[[0.0,\"#0d0887\"],[0.1111111111111111,\"#46039f\"],[0.2222222222222222,\"#7201a8\"],[0.3333333333333333,\"#9c179e\"],[0.4444444444444444,\"#bd3786\"],[0.5555555555555556,\"#d8576b\"],[0.6666666666666666,\"#ed7953\"],[0.7777777777777778,\"#fb9f3a\"],[0.8888888888888888,\"#fdca26\"],[1.0,\"#f0f921\"]]}],\"choropleth\":[{\"type\":\"choropleth\",\"colorbar\":{\"outlinewidth\":0,\"ticks\":\"\"}}],\"histogram2d\":[{\"type\":\"histogram2d\",\"colorbar\":{\"outlinewidth\":0,\"ticks\":\"\"},\"colorscale\":[[0.0,\"#0d0887\"],[0.1111111111111111,\"#46039f\"],[0.2222222222222222,\"#7201a8\"],[0.3333333333333333,\"#9c179e\"],[0.4444444444444444,\"#bd3786\"],[0.5555555555555556,\"#d8576b\"],[0.6666666666666666,\"#ed7953\"],[0.7777777777777778,\"#fb9f3a\"],[0.8888888888888888,\"#fdca26\"],[1.0,\"#f0f921\"]]}],\"heatmap\":[{\"type\":\"heatmap\",\"colorbar\":{\"outlinewidth\":0,\"ticks\":\"\"},\"colorscale\":[[0.0,\"#0d0887\"],[0.1111111111111111,\"#46039f\"],[0.2222222222222222,\"#7201a8\"],[0.3333333333333333,\"#9c179e\"],[0.4444444444444444,\"#bd3786\"],[0.5555555555555556,\"#d8576b\"],[0.6666666666666666,\"#ed7953\"],[0.7777777777777778,\"#fb9f3a\"],[0.8888888888888888,\"#fdca26\"],[1.0,\"#f0f921\"]]}],\"heatmapgl\":[{\"type\":\"heatmapgl\",\"colorbar\":{\"outlinewidth\":0,\"ticks\":\"\"},\"colorscale\":[[0.0,\"#0d0887\"],[0.1111111111111111,\"#46039f\"],[0.2222222222222222,\"#7201a8\"],[0.3333333333333333,\"#9c179e\"],[0.4444444444444444,\"#bd3786\"],[0.5555555555555556,\"#d8576b\"],[0.6666666666666666,\"#ed7953\"],[0.7777777777777778,\"#fb9f3a\"],[0.8888888888888888,\"#fdca26\"],[1.0,\"#f0f921\"]]}],\"contourcarpet\":[{\"type\":\"contourcarpet\",\"colorbar\":{\"outlinewidth\":0,\"ticks\":\"\"}}],\"contour\":[{\"type\":\"contour\",\"colorbar\":{\"outlinewidth\":0,\"ticks\":\"\"},\"colorscale\":[[0.0,\"#0d0887\"],[0.1111111111111111,\"#46039f\"],[0.2222222222222222,\"#7201a8\"],[0.3333333333333333,\"#9c179e\"],[0.4444444444444444,\"#bd3786\"],[0.5555555555555556,\"#d8576b\"],[0.6666666666666666,\"#ed7953\"],[0.7777777777777778,\"#fb9f3a\"],[0.8888888888888888,\"#fdca26\"],[1.0,\"#f0f921\"]]}],\"surface\":[{\"type\":\"surface\",\"colorbar\":{\"outlinewidth\":0,\"ticks\":\"\"},\"colorscale\":[[0.0,\"#0d0887\"],[0.1111111111111111,\"#46039f\"],[0.2222222222222222,\"#7201a8\"],[0.3333333333333333,\"#9c179e\"],[0.4444444444444444,\"#bd3786\"],[0.5555555555555556,\"#d8576b\"],[0.6666666666666666,\"#ed7953\"],[0.7777777777777778,\"#fb9f3a\"],[0.8888888888888888,\"#fdca26\"],[1.0,\"#f0f921\"]]}],\"mesh3d\":[{\"type\":\"mesh3d\",\"colorbar\":{\"outlinewidth\":0,\"ticks\":\"\"}}],\"scatter\":[{\"fillpattern\":{\"fillmode\":\"overlay\",\"size\":10,\"solidity\":0.2},\"type\":\"scatter\"}],\"parcoords\":[{\"type\":\"parcoords\",\"line\":{\"colorbar\":{\"outlinewidth\":0,\"ticks\":\"\"}}}],\"scatterpolargl\":[{\"type\":\"scatterpolargl\",\"marker\":{\"colorbar\":{\"outlinewidth\":0,\"ticks\":\"\"}}}],\"bar\":[{\"error_x\":{\"color\":\"#2a3f5f\"},\"error_y\":{\"color\":\"#2a3f5f\"},\"marker\":{\"line\":{\"color\":\"#E5ECF6\",\"width\":0.5},\"pattern\":{\"fillmode\":\"overlay\",\"size\":10,\"solidity\":0.2}},\"type\":\"bar\"}],\"scattergeo\":[{\"type\":\"scattergeo\",\"marker\":{\"colorbar\":{\"outlinewidth\":0,\"ticks\":\"\"}}}],\"scatterpolar\":[{\"type\":\"scatterpolar\",\"marker\":{\"colorbar\":{\"outlinewidth\":0,\"ticks\":\"\"}}}],\"histogram\":[{\"marker\":{\"pattern\":{\"fillmode\":\"overlay\",\"size\":10,\"solidity\":0.2}},\"type\":\"histogram\"}],\"scattergl\":[{\"type\":\"scattergl\",\"marker\":{\"colorbar\":{\"outlinewidth\":0,\"ticks\":\"\"}}}],\"scatter3d\":[{\"type\":\"scatter3d\",\"line\":{\"colorbar\":{\"outlinewidth\":0,\"ticks\":\"\"}},\"marker\":{\"colorbar\":{\"outlinewidth\":0,\"ticks\":\"\"}}}],\"scattermapbox\":[{\"type\":\"scattermapbox\",\"marker\":{\"colorbar\":{\"outlinewidth\":0,\"ticks\":\"\"}}}],\"scatterternary\":[{\"type\":\"scatterternary\",\"marker\":{\"colorbar\":{\"outlinewidth\":0,\"ticks\":\"\"}}}],\"scattercarpet\":[{\"type\":\"scattercarpet\",\"marker\":{\"colorbar\":{\"outlinewidth\":0,\"ticks\":\"\"}}}],\"carpet\":[{\"aaxis\":{\"endlinecolor\":\"#2a3f5f\",\"gridcolor\":\"white\",\"linecolor\":\"white\",\"minorgridcolor\":\"white\",\"startlinecolor\":\"#2a3f5f\"},\"baxis\":{\"endlinecolor\":\"#2a3f5f\",\"gridcolor\":\"white\",\"linecolor\":\"white\",\"minorgridcolor\":\"white\",\"startlinecolor\":\"#2a3f5f\"},\"type\":\"carpet\"}],\"table\":[{\"cells\":{\"fill\":{\"color\":\"#EBF0F8\"},\"line\":{\"color\":\"white\"}},\"header\":{\"fill\":{\"color\":\"#C8D4E3\"},\"line\":{\"color\":\"white\"}},\"type\":\"table\"}],\"barpolar\":[{\"marker\":{\"line\":{\"color\":\"#E5ECF6\",\"width\":0.5},\"pattern\":{\"fillmode\":\"overlay\",\"size\":10,\"solidity\":0.2}},\"type\":\"barpolar\"}],\"pie\":[{\"automargin\":true,\"type\":\"pie\"}]},\"layout\":{\"autotypenumbers\":\"strict\",\"colorway\":[\"#636efa\",\"#EF553B\",\"#00cc96\",\"#ab63fa\",\"#FFA15A\",\"#19d3f3\",\"#FF6692\",\"#B6E880\",\"#FF97FF\",\"#FECB52\"],\"font\":{\"color\":\"#2a3f5f\"},\"hovermode\":\"closest\",\"hoverlabel\":{\"align\":\"left\"},\"paper_bgcolor\":\"white\",\"plot_bgcolor\":\"#E5ECF6\",\"polar\":{\"bgcolor\":\"#E5ECF6\",\"angularaxis\":{\"gridcolor\":\"white\",\"linecolor\":\"white\",\"ticks\":\"\"},\"radialaxis\":{\"gridcolor\":\"white\",\"linecolor\":\"white\",\"ticks\":\"\"}},\"ternary\":{\"bgcolor\":\"#E5ECF6\",\"aaxis\":{\"gridcolor\":\"white\",\"linecolor\":\"white\",\"ticks\":\"\"},\"baxis\":{\"gridcolor\":\"white\",\"linecolor\":\"white\",\"ticks\":\"\"},\"caxis\":{\"gridcolor\":\"white\",\"linecolor\":\"white\",\"ticks\":\"\"}},\"coloraxis\":{\"colorbar\":{\"outlinewidth\":0,\"ticks\":\"\"}},\"colorscale\":{\"sequential\":[[0.0,\"#0d0887\"],[0.1111111111111111,\"#46039f\"],[0.2222222222222222,\"#7201a8\"],[0.3333333333333333,\"#9c179e\"],[0.4444444444444444,\"#bd3786\"],[0.5555555555555556,\"#d8576b\"],[0.6666666666666666,\"#ed7953\"],[0.7777777777777778,\"#fb9f3a\"],[0.8888888888888888,\"#fdca26\"],[1.0,\"#f0f921\"]],\"sequentialminus\":[[0.0,\"#0d0887\"],[0.1111111111111111,\"#46039f\"],[0.2222222222222222,\"#7201a8\"],[0.3333333333333333,\"#9c179e\"],[0.4444444444444444,\"#bd3786\"],[0.5555555555555556,\"#d8576b\"],[0.6666666666666666,\"#ed7953\"],[0.7777777777777778,\"#fb9f3a\"],[0.8888888888888888,\"#fdca26\"],[1.0,\"#f0f921\"]],\"diverging\":[[0,\"#8e0152\"],[0.1,\"#c51b7d\"],[0.2,\"#de77ae\"],[0.3,\"#f1b6da\"],[0.4,\"#fde0ef\"],[0.5,\"#f7f7f7\"],[0.6,\"#e6f5d0\"],[0.7,\"#b8e186\"],[0.8,\"#7fbc41\"],[0.9,\"#4d9221\"],[1,\"#276419\"]]},\"xaxis\":{\"gridcolor\":\"white\",\"linecolor\":\"white\",\"ticks\":\"\",\"title\":{\"standoff\":15},\"zerolinecolor\":\"white\",\"automargin\":true,\"zerolinewidth\":2},\"yaxis\":{\"gridcolor\":\"white\",\"linecolor\":\"white\",\"ticks\":\"\",\"title\":{\"standoff\":15},\"zerolinecolor\":\"white\",\"automargin\":true,\"zerolinewidth\":2},\"scene\":{\"xaxis\":{\"backgroundcolor\":\"#E5ECF6\",\"gridcolor\":\"white\",\"linecolor\":\"white\",\"showbackground\":true,\"ticks\":\"\",\"zerolinecolor\":\"white\",\"gridwidth\":2},\"yaxis\":{\"backgroundcolor\":\"#E5ECF6\",\"gridcolor\":\"white\",\"linecolor\":\"white\",\"showbackground\":true,\"ticks\":\"\",\"zerolinecolor\":\"white\",\"gridwidth\":2},\"zaxis\":{\"backgroundcolor\":\"#E5ECF6\",\"gridcolor\":\"white\",\"linecolor\":\"white\",\"showbackground\":true,\"ticks\":\"\",\"zerolinecolor\":\"white\",\"gridwidth\":2}},\"shapedefaults\":{\"line\":{\"color\":\"#2a3f5f\"}},\"annotationdefaults\":{\"arrowcolor\":\"#2a3f5f\",\"arrowhead\":0,\"arrowwidth\":1},\"geo\":{\"bgcolor\":\"white\",\"landcolor\":\"#E5ECF6\",\"subunitcolor\":\"white\",\"showland\":true,\"showlakes\":true,\"lakecolor\":\"white\"},\"title\":{\"x\":0.05},\"mapbox\":{\"style\":\"light\"}}},\"height\":500,\"width\":1000,\"annotations\":[{\"font\":{\"color\":\"white\",\"size\":12},\"showarrow\":false,\"text\":\"1.0\",\"x\":\"python\",\"y\":\"python\"},{\"font\":{\"color\":\"white\",\"size\":12},\"showarrow\":false,\"text\":\"0.04\",\"x\":\"excel\",\"y\":\"python\"},{\"font\":{\"color\":\"white\",\"size\":12},\"showarrow\":false,\"text\":\"0.19\",\"x\":\"hadoop\",\"y\":\"python\"},{\"font\":{\"color\":\"white\",\"size\":12},\"showarrow\":false,\"text\":\"0.2\",\"x\":\"spark\",\"y\":\"python\"},{\"font\":{\"color\":\"white\",\"size\":12},\"showarrow\":false,\"text\":\"0.07\",\"x\":\"tableau\",\"y\":\"python\"},{\"font\":{\"color\":\"white\",\"size\":12},\"showarrow\":false,\"text\":\"0.16\",\"x\":\"aws\",\"y\":\"python\"},{\"font\":{\"color\":\"white\",\"size\":12},\"showarrow\":false,\"text\":\"0.16\",\"x\":\"big_data\",\"y\":\"python\"},{\"font\":{\"color\":\"white\",\"size\":12},\"showarrow\":false,\"text\":\"0.39\",\"x\":\"machine_learning\",\"y\":\"python\"},{\"font\":{\"color\":\"white\",\"size\":12},\"showarrow\":false,\"text\":\"0.04\",\"x\":\"python\",\"y\":\"excel\"},{\"font\":{\"color\":\"white\",\"size\":12},\"showarrow\":false,\"text\":\"1.0\",\"x\":\"excel\",\"y\":\"excel\"},{\"font\":{\"color\":\"white\",\"size\":12},\"showarrow\":false,\"text\":\"0.0\",\"x\":\"hadoop\",\"y\":\"excel\"},{\"font\":{\"color\":\"white\",\"size\":12},\"showarrow\":false,\"text\":\"-0.05\",\"x\":\"spark\",\"y\":\"excel\"},{\"font\":{\"color\":\"white\",\"size\":12},\"showarrow\":false,\"text\":\"0.2\",\"x\":\"tableau\",\"y\":\"excel\"},{\"font\":{\"color\":\"white\",\"size\":12},\"showarrow\":false,\"text\":\"0.05\",\"x\":\"aws\",\"y\":\"excel\"},{\"font\":{\"color\":\"white\",\"size\":12},\"showarrow\":false,\"text\":\"0.02\",\"x\":\"big_data\",\"y\":\"excel\"},{\"font\":{\"color\":\"white\",\"size\":12},\"showarrow\":false,\"text\":\"-0.09\",\"x\":\"machine_learning\",\"y\":\"excel\"},{\"font\":{\"color\":\"white\",\"size\":12},\"showarrow\":false,\"text\":\"0.19\",\"x\":\"python\",\"y\":\"hadoop\"},{\"font\":{\"color\":\"white\",\"size\":12},\"showarrow\":false,\"text\":\"0.0\",\"x\":\"excel\",\"y\":\"hadoop\"},{\"font\":{\"color\":\"white\",\"size\":12},\"showarrow\":false,\"text\":\"1.0\",\"x\":\"hadoop\",\"y\":\"hadoop\"},{\"font\":{\"color\":\"white\",\"size\":12},\"showarrow\":false,\"text\":\"0.56\",\"x\":\"spark\",\"y\":\"hadoop\"},{\"font\":{\"color\":\"white\",\"size\":12},\"showarrow\":false,\"text\":\"0.06\",\"x\":\"tableau\",\"y\":\"hadoop\"},{\"font\":{\"color\":\"white\",\"size\":12},\"showarrow\":false,\"text\":\"0.18\",\"x\":\"aws\",\"y\":\"hadoop\"},{\"font\":{\"color\":\"white\",\"size\":12},\"showarrow\":false,\"text\":\"0.4\",\"x\":\"big_data\",\"y\":\"hadoop\"},{\"font\":{\"color\":\"white\",\"size\":12},\"showarrow\":false,\"text\":\"0.13\",\"x\":\"machine_learning\",\"y\":\"hadoop\"},{\"font\":{\"color\":\"white\",\"size\":12},\"showarrow\":false,\"text\":\"0.2\",\"x\":\"python\",\"y\":\"spark\"},{\"font\":{\"color\":\"white\",\"size\":12},\"showarrow\":false,\"text\":\"-0.05\",\"x\":\"excel\",\"y\":\"spark\"},{\"font\":{\"color\":\"white\",\"size\":12},\"showarrow\":false,\"text\":\"0.56\",\"x\":\"hadoop\",\"y\":\"spark\"},{\"font\":{\"color\":\"white\",\"size\":12},\"showarrow\":false,\"text\":\"1.0\",\"x\":\"spark\",\"y\":\"spark\"},{\"font\":{\"color\":\"white\",\"size\":12},\"showarrow\":false,\"text\":\"-0.04\",\"x\":\"tableau\",\"y\":\"spark\"},{\"font\":{\"color\":\"white\",\"size\":12},\"showarrow\":false,\"text\":\"0.23\",\"x\":\"aws\",\"y\":\"spark\"},{\"font\":{\"color\":\"white\",\"size\":12},\"showarrow\":false,\"text\":\"0.37\",\"x\":\"big_data\",\"y\":\"spark\"},{\"font\":{\"color\":\"white\",\"size\":12},\"showarrow\":false,\"text\":\"0.22\",\"x\":\"machine_learning\",\"y\":\"spark\"},{\"font\":{\"color\":\"white\",\"size\":12},\"showarrow\":false,\"text\":\"0.07\",\"x\":\"python\",\"y\":\"tableau\"},{\"font\":{\"color\":\"white\",\"size\":12},\"showarrow\":false,\"text\":\"0.2\",\"x\":\"excel\",\"y\":\"tableau\"},{\"font\":{\"color\":\"white\",\"size\":12},\"showarrow\":false,\"text\":\"0.06\",\"x\":\"hadoop\",\"y\":\"tableau\"},{\"font\":{\"color\":\"white\",\"size\":12},\"showarrow\":false,\"text\":\"-0.04\",\"x\":\"spark\",\"y\":\"tableau\"},{\"font\":{\"color\":\"white\",\"size\":12},\"showarrow\":false,\"text\":\"1.0\",\"x\":\"tableau\",\"y\":\"tableau\"},{\"font\":{\"color\":\"white\",\"size\":12},\"showarrow\":false,\"text\":\"-0.08\",\"x\":\"aws\",\"y\":\"tableau\"},{\"font\":{\"color\":\"white\",\"size\":12},\"showarrow\":false,\"text\":\"-0.03\",\"x\":\"big_data\",\"y\":\"tableau\"},{\"font\":{\"color\":\"white\",\"size\":12},\"showarrow\":false,\"text\":\"-0.17\",\"x\":\"machine_learning\",\"y\":\"tableau\"},{\"font\":{\"color\":\"white\",\"size\":12},\"showarrow\":false,\"text\":\"0.16\",\"x\":\"python\",\"y\":\"aws\"},{\"font\":{\"color\":\"white\",\"size\":12},\"showarrow\":false,\"text\":\"0.05\",\"x\":\"excel\",\"y\":\"aws\"},{\"font\":{\"color\":\"white\",\"size\":12},\"showarrow\":false,\"text\":\"0.18\",\"x\":\"hadoop\",\"y\":\"aws\"},{\"font\":{\"color\":\"white\",\"size\":12},\"showarrow\":false,\"text\":\"0.23\",\"x\":\"spark\",\"y\":\"aws\"},{\"font\":{\"color\":\"white\",\"size\":12},\"showarrow\":false,\"text\":\"-0.08\",\"x\":\"tableau\",\"y\":\"aws\"},{\"font\":{\"color\":\"white\",\"size\":12},\"showarrow\":false,\"text\":\"1.0\",\"x\":\"aws\",\"y\":\"aws\"},{\"font\":{\"color\":\"white\",\"size\":12},\"showarrow\":false,\"text\":\"0.08\",\"x\":\"big_data\",\"y\":\"aws\"},{\"font\":{\"color\":\"white\",\"size\":12},\"showarrow\":false,\"text\":\"0.12\",\"x\":\"machine_learning\",\"y\":\"aws\"},{\"font\":{\"color\":\"white\",\"size\":12},\"showarrow\":false,\"text\":\"0.16\",\"x\":\"python\",\"y\":\"big_data\"},{\"font\":{\"color\":\"white\",\"size\":12},\"showarrow\":false,\"text\":\"0.02\",\"x\":\"excel\",\"y\":\"big_data\"},{\"font\":{\"color\":\"white\",\"size\":12},\"showarrow\":false,\"text\":\"0.4\",\"x\":\"hadoop\",\"y\":\"big_data\"},{\"font\":{\"color\":\"white\",\"size\":12},\"showarrow\":false,\"text\":\"0.37\",\"x\":\"spark\",\"y\":\"big_data\"},{\"font\":{\"color\":\"white\",\"size\":12},\"showarrow\":false,\"text\":\"-0.03\",\"x\":\"tableau\",\"y\":\"big_data\"},{\"font\":{\"color\":\"white\",\"size\":12},\"showarrow\":false,\"text\":\"0.08\",\"x\":\"aws\",\"y\":\"big_data\"},{\"font\":{\"color\":\"white\",\"size\":12},\"showarrow\":false,\"text\":\"1.0\",\"x\":\"big_data\",\"y\":\"big_data\"},{\"font\":{\"color\":\"white\",\"size\":12},\"showarrow\":false,\"text\":\"0.09\",\"x\":\"machine_learning\",\"y\":\"big_data\"},{\"font\":{\"color\":\"white\",\"size\":12},\"showarrow\":false,\"text\":\"0.39\",\"x\":\"python\",\"y\":\"machine_learning\"},{\"font\":{\"color\":\"white\",\"size\":12},\"showarrow\":false,\"text\":\"-0.09\",\"x\":\"excel\",\"y\":\"machine_learning\"},{\"font\":{\"color\":\"white\",\"size\":12},\"showarrow\":false,\"text\":\"0.13\",\"x\":\"hadoop\",\"y\":\"machine_learning\"},{\"font\":{\"color\":\"white\",\"size\":12},\"showarrow\":false,\"text\":\"0.22\",\"x\":\"spark\",\"y\":\"machine_learning\"},{\"font\":{\"color\":\"white\",\"size\":12},\"showarrow\":false,\"text\":\"-0.17\",\"x\":\"tableau\",\"y\":\"machine_learning\"},{\"font\":{\"color\":\"white\",\"size\":12},\"showarrow\":false,\"text\":\"0.12\",\"x\":\"aws\",\"y\":\"machine_learning\"},{\"font\":{\"color\":\"white\",\"size\":12},\"showarrow\":false,\"text\":\"0.09\",\"x\":\"big_data\",\"y\":\"machine_learning\"},{\"font\":{\"color\":\"white\",\"size\":12},\"showarrow\":false,\"text\":\"1.0\",\"x\":\"machine_learning\",\"y\":\"machine_learning\"}]},                        {\"responsive\": true}                    ).then(function(){\n",
       "                            \n",
       "var gd = document.getElementById('5a68fb7b-cefe-41ff-b0b2-eba2d9d73a54');\n",
       "var x = new MutationObserver(function (mutations, observer) {{\n",
       "        var display = window.getComputedStyle(gd).display;\n",
       "        if (!display || display === 'none') {{\n",
       "            console.log([gd, 'removed!']);\n",
       "            Plotly.purge(gd);\n",
       "            observer.disconnect();\n",
       "        }}\n",
       "}});\n",
       "\n",
       "// Listen for the removal of the full notebook cells\n",
       "var notebookContainer = gd.closest('#notebook-container');\n",
       "if (notebookContainer) {{\n",
       "    x.observe(notebookContainer, {childList: true});\n",
       "}}\n",
       "\n",
       "// Listen for the clearing of the current output cell\n",
       "var outputEl = gd.closest('.output');\n",
       "if (outputEl) {{\n",
       "    x.observe(outputEl, {childList: true});\n",
       "}}\n",
       "\n",
       "                        })                };                });            </script>        </div>"
      ]
     },
     "metadata": {},
     "output_type": "display_data"
    }
   ],
   "source": [
    "# Take the correlation coefficients between each pair of skills\n",
    "correl = df[['python', 'excel', 'hadoop', 'spark', \n",
    "             'tableau', 'aws', 'big_data', 'machine_learning']].corr()\n",
    "# Get row and columns of alues of correlation \n",
    "leng = [(i, j) for i in range(len(correl)) for j in range(len(correl))]\n",
    "annotations = [\n",
    "    # Create layout\n",
    "    go.layout.Annotation(\n",
    "        x = correl.columns[j],\n",
    "        y = correl.columns[i],\n",
    "        text=str(round(correl.iloc[i,j], 2)),\n",
    "        showarrow=False,\n",
    "        font=dict(size=12, color=\"white\")\n",
    "    )\n",
    "    for i, j in leng\n",
    "]\n",
    "# Create heatmap with the values\n",
    "fig = go.Figure(data=go.Heatmap(\n",
    "    z=correl.values,\n",
    "    x=correl.columns,\n",
    "    y=correl.columns\n",
    "))\n",
    "# Adjust heatmap\n",
    "fig.update_layout(height=500, \n",
    "                  width=1000,\n",
    "                 annotations=annotations)\n",
    "fig.show()\n",
    "\n"
   ]
  },
  {
   "cell_type": "markdown",
   "id": "eda969b9-4132-476b-a3c3-39661ef2139f",
   "metadata": {},
   "source": [
    "## Heatmap correlation\n",
    "We have created a heatmap that shows the correlation of skills with one another."
   ]
  },
  {
   "cell_type": "code",
   "execution_count": 46,
   "id": "c8327001-42ef-41f1-b097-273465535207",
   "metadata": {},
   "outputs": [
    {
     "data": {
      "text/html": [
       "<div>\n",
       "<style scoped>\n",
       "    .dataframe tbody tr th:only-of-type {\n",
       "        vertical-align: middle;\n",
       "    }\n",
       "\n",
       "    .dataframe tbody tr th {\n",
       "        vertical-align: top;\n",
       "    }\n",
       "\n",
       "    .dataframe thead th {\n",
       "        text-align: right;\n",
       "    }\n",
       "</style>\n",
       "<table border=\"1\" class=\"dataframe\">\n",
       "  <thead>\n",
       "    <tr style=\"text-align: right;\">\n",
       "      <th></th>\n",
       "      <th>python</th>\n",
       "      <th>excel</th>\n",
       "      <th>hadoop</th>\n",
       "      <th>spark</th>\n",
       "      <th>tableau</th>\n",
       "      <th>aws</th>\n",
       "      <th>big_data</th>\n",
       "      <th>machine_learning</th>\n",
       "    </tr>\n",
       "  </thead>\n",
       "  <tbody>\n",
       "    <tr>\n",
       "      <th>python</th>\n",
       "      <td>1.000000</td>\n",
       "      <td>-0.333963</td>\n",
       "      <td>-0.073029</td>\n",
       "      <td>-0.002287</td>\n",
       "      <td>-0.265404</td>\n",
       "      <td>-0.021282</td>\n",
       "      <td>-0.092405</td>\n",
       "      <td>0.502619</td>\n",
       "    </tr>\n",
       "    <tr>\n",
       "      <th>excel</th>\n",
       "      <td>-0.333963</td>\n",
       "      <td>1.000000</td>\n",
       "      <td>-0.450428</td>\n",
       "      <td>-0.548530</td>\n",
       "      <td>0.297051</td>\n",
       "      <td>-0.229500</td>\n",
       "      <td>-0.335512</td>\n",
       "      <td>-0.499063</td>\n",
       "    </tr>\n",
       "    <tr>\n",
       "      <th>hadoop</th>\n",
       "      <td>-0.073029</td>\n",
       "      <td>-0.450428</td>\n",
       "      <td>1.000000</td>\n",
       "      <td>0.737634</td>\n",
       "      <td>-0.294022</td>\n",
       "      <td>0.020835</td>\n",
       "      <td>0.508763</td>\n",
       "      <td>-0.027316</td>\n",
       "    </tr>\n",
       "    <tr>\n",
       "      <th>spark</th>\n",
       "      <td>-0.002287</td>\n",
       "      <td>-0.548530</td>\n",
       "      <td>0.737634</td>\n",
       "      <td>1.000000</td>\n",
       "      <td>-0.483652</td>\n",
       "      <td>0.138536</td>\n",
       "      <td>0.481139</td>\n",
       "      <td>0.164456</td>\n",
       "    </tr>\n",
       "    <tr>\n",
       "      <th>tableau</th>\n",
       "      <td>-0.265404</td>\n",
       "      <td>0.297051</td>\n",
       "      <td>-0.294022</td>\n",
       "      <td>-0.483652</td>\n",
       "      <td>1.000000</td>\n",
       "      <td>-0.447702</td>\n",
       "      <td>-0.367254</td>\n",
       "      <td>-0.596458</td>\n",
       "    </tr>\n",
       "    <tr>\n",
       "      <th>aws</th>\n",
       "      <td>-0.021282</td>\n",
       "      <td>-0.229500</td>\n",
       "      <td>0.020835</td>\n",
       "      <td>0.138536</td>\n",
       "      <td>-0.447702</td>\n",
       "      <td>1.000000</td>\n",
       "      <td>-0.131176</td>\n",
       "      <td>0.026836</td>\n",
       "    </tr>\n",
       "    <tr>\n",
       "      <th>big_data</th>\n",
       "      <td>-0.092405</td>\n",
       "      <td>-0.335512</td>\n",
       "      <td>0.508763</td>\n",
       "      <td>0.481139</td>\n",
       "      <td>-0.367254</td>\n",
       "      <td>-0.131176</td>\n",
       "      <td>1.000000</td>\n",
       "      <td>-0.060410</td>\n",
       "    </tr>\n",
       "    <tr>\n",
       "      <th>machine_learning</th>\n",
       "      <td>0.502619</td>\n",
       "      <td>-0.499063</td>\n",
       "      <td>-0.027316</td>\n",
       "      <td>0.164456</td>\n",
       "      <td>-0.596458</td>\n",
       "      <td>0.026836</td>\n",
       "      <td>-0.060410</td>\n",
       "      <td>1.000000</td>\n",
       "    </tr>\n",
       "  </tbody>\n",
       "</table>\n",
       "</div>"
      ],
      "text/plain": [
       "                    python     excel    hadoop     spark   tableau       aws  \\\n",
       "python            1.000000 -0.333963 -0.073029 -0.002287 -0.265404 -0.021282   \n",
       "excel            -0.333963  1.000000 -0.450428 -0.548530  0.297051 -0.229500   \n",
       "hadoop           -0.073029 -0.450428  1.000000  0.737634 -0.294022  0.020835   \n",
       "spark            -0.002287 -0.548530  0.737634  1.000000 -0.483652  0.138536   \n",
       "tableau          -0.265404  0.297051 -0.294022 -0.483652  1.000000 -0.447702   \n",
       "aws              -0.021282 -0.229500  0.020835  0.138536 -0.447702  1.000000   \n",
       "big_data         -0.092405 -0.335512  0.508763  0.481139 -0.367254 -0.131176   \n",
       "machine_learning  0.502619 -0.499063 -0.027316  0.164456 -0.596458  0.026836   \n",
       "\n",
       "                  big_data  machine_learning  \n",
       "python           -0.092405          0.502619  \n",
       "excel            -0.335512         -0.499063  \n",
       "hadoop            0.508763         -0.027316  \n",
       "spark             0.481139          0.164456  \n",
       "tableau          -0.367254         -0.596458  \n",
       "aws              -0.131176          0.026836  \n",
       "big_data          1.000000         -0.060410  \n",
       "machine_learning -0.060410          1.000000  "
      ]
     },
     "execution_count": 46,
     "metadata": {},
     "output_type": "execute_result"
    }
   ],
   "source": [
    "correl.corr()"
   ]
  },
  {
   "cell_type": "code",
   "execution_count": 47,
   "id": "0fd01aa1-1122-4351-9480-39599e4fd67c",
   "metadata": {},
   "outputs": [],
   "source": [
    "df_cleaned = df.copy()"
   ]
  },
  {
   "cell_type": "code",
   "execution_count": 48,
   "id": "4ec246ff-207a-4af6-a955-3302f8d913f5",
   "metadata": {},
   "outputs": [
    {
     "data": {
      "text/html": [
       "<div>\n",
       "<style scoped>\n",
       "    .dataframe tbody tr th:only-of-type {\n",
       "        vertical-align: middle;\n",
       "    }\n",
       "\n",
       "    .dataframe tbody tr th {\n",
       "        vertical-align: top;\n",
       "    }\n",
       "\n",
       "    .dataframe thead th {\n",
       "        text-align: right;\n",
       "    }\n",
       "</style>\n",
       "<table border=\"1\" class=\"dataframe\">\n",
       "  <thead>\n",
       "    <tr style=\"text-align: right;\">\n",
       "      <th></th>\n",
       "      <th>Job_Title</th>\n",
       "      <th>Salary_Estimate</th>\n",
       "      <th>Job_Description</th>\n",
       "      <th>Rating</th>\n",
       "      <th>Company_Name</th>\n",
       "      <th>Location</th>\n",
       "      <th>Headquarters</th>\n",
       "      <th>Size</th>\n",
       "      <th>Founded</th>\n",
       "      <th>Ownership_Type</th>\n",
       "      <th>Industry</th>\n",
       "      <th>Revenue</th>\n",
       "      <th>min_salary</th>\n",
       "      <th>max_salary</th>\n",
       "      <th>avg_salary</th>\n",
       "      <th>python</th>\n",
       "      <th>excel</th>\n",
       "      <th>hadoop</th>\n",
       "      <th>spark</th>\n",
       "      <th>tableau</th>\n",
       "      <th>aws</th>\n",
       "      <th>big_data</th>\n",
       "      <th>machine_learning</th>\n",
       "    </tr>\n",
       "    <tr>\n",
       "      <th>index</th>\n",
       "      <th></th>\n",
       "      <th></th>\n",
       "      <th></th>\n",
       "      <th></th>\n",
       "      <th></th>\n",
       "      <th></th>\n",
       "      <th></th>\n",
       "      <th></th>\n",
       "      <th></th>\n",
       "      <th></th>\n",
       "      <th></th>\n",
       "      <th></th>\n",
       "      <th></th>\n",
       "      <th></th>\n",
       "      <th></th>\n",
       "      <th></th>\n",
       "      <th></th>\n",
       "      <th></th>\n",
       "      <th></th>\n",
       "      <th></th>\n",
       "      <th></th>\n",
       "      <th></th>\n",
       "      <th></th>\n",
       "    </tr>\n",
       "  </thead>\n",
       "  <tbody>\n",
       "    <tr>\n",
       "      <th>0</th>\n",
       "      <td>Sr Data Scientist</td>\n",
       "      <td>137-171</td>\n",
       "      <td>Description: The Senior Data Scientist is resp...</td>\n",
       "      <td>3.1</td>\n",
       "      <td>Healthfirst</td>\n",
       "      <td>New York, NY</td>\n",
       "      <td>New York, NY</td>\n",
       "      <td>1001 to 5000 employees</td>\n",
       "      <td>1993</td>\n",
       "      <td>Nonprofit Organization</td>\n",
       "      <td>Insurance Carriers</td>\n",
       "      <td>Unknown / Non-Applicable</td>\n",
       "      <td>137</td>\n",
       "      <td>171</td>\n",
       "      <td>154</td>\n",
       "      <td>0</td>\n",
       "      <td>0</td>\n",
       "      <td>0</td>\n",
       "      <td>0</td>\n",
       "      <td>0</td>\n",
       "      <td>1</td>\n",
       "      <td>0</td>\n",
       "      <td>1</td>\n",
       "    </tr>\n",
       "    <tr>\n",
       "      <th>1</th>\n",
       "      <td>Data Scientist</td>\n",
       "      <td>137-171</td>\n",
       "      <td>Secure our Nation, Ignite your Future: Join th...</td>\n",
       "      <td>4.2</td>\n",
       "      <td>ManTech</td>\n",
       "      <td>Chantilly, VA</td>\n",
       "      <td>Herndon, VA</td>\n",
       "      <td>5001 to 10000 employees</td>\n",
       "      <td>1968</td>\n",
       "      <td>Company - Public</td>\n",
       "      <td>Research &amp; Development</td>\n",
       "      <td>$1 to $2 billion (USD)</td>\n",
       "      <td>137</td>\n",
       "      <td>171</td>\n",
       "      <td>154</td>\n",
       "      <td>0</td>\n",
       "      <td>0</td>\n",
       "      <td>1</td>\n",
       "      <td>0</td>\n",
       "      <td>0</td>\n",
       "      <td>0</td>\n",
       "      <td>1</td>\n",
       "      <td>1</td>\n",
       "    </tr>\n",
       "    <tr>\n",
       "      <th>2</th>\n",
       "      <td>Data Scientist</td>\n",
       "      <td>137-171</td>\n",
       "      <td>Overview: Analysis Group is one of the largest...</td>\n",
       "      <td>3.8</td>\n",
       "      <td>Analysis Group</td>\n",
       "      <td>Boston, MA</td>\n",
       "      <td>Boston, MA</td>\n",
       "      <td>1001 to 5000 employees</td>\n",
       "      <td>1981</td>\n",
       "      <td>Private Practice / Firm</td>\n",
       "      <td>Consulting</td>\n",
       "      <td>$100 to $500 million (USD)</td>\n",
       "      <td>137</td>\n",
       "      <td>171</td>\n",
       "      <td>154</td>\n",
       "      <td>1</td>\n",
       "      <td>1</td>\n",
       "      <td>0</td>\n",
       "      <td>0</td>\n",
       "      <td>0</td>\n",
       "      <td>1</td>\n",
       "      <td>0</td>\n",
       "      <td>1</td>\n",
       "    </tr>\n",
       "    <tr>\n",
       "      <th>3</th>\n",
       "      <td>Data Scientist</td>\n",
       "      <td>137-171</td>\n",
       "      <td>JOB DESCRIPTION:  Do you have a passion for Da...</td>\n",
       "      <td>3.5</td>\n",
       "      <td>INFICON</td>\n",
       "      <td>Newton, MA</td>\n",
       "      <td>Bad Ragaz, Switzerland</td>\n",
       "      <td>501 to 1000 employees</td>\n",
       "      <td>2000</td>\n",
       "      <td>Company - Public</td>\n",
       "      <td>Electrical &amp; Electronic Manufacturing</td>\n",
       "      <td>$100 to $500 million (USD)</td>\n",
       "      <td>137</td>\n",
       "      <td>171</td>\n",
       "      <td>154</td>\n",
       "      <td>1</td>\n",
       "      <td>1</td>\n",
       "      <td>0</td>\n",
       "      <td>0</td>\n",
       "      <td>0</td>\n",
       "      <td>1</td>\n",
       "      <td>0</td>\n",
       "      <td>1</td>\n",
       "    </tr>\n",
       "    <tr>\n",
       "      <th>4</th>\n",
       "      <td>Data Scientist</td>\n",
       "      <td>137-171</td>\n",
       "      <td>Data Scientist: Affinity Solutions / Marketing...</td>\n",
       "      <td>2.9</td>\n",
       "      <td>Affinity Solutions</td>\n",
       "      <td>New York, NY</td>\n",
       "      <td>New York, NY</td>\n",
       "      <td>51 to 200 employees</td>\n",
       "      <td>1998</td>\n",
       "      <td>Company - Private</td>\n",
       "      <td>Advertising &amp; Marketing</td>\n",
       "      <td>Unknown / Non-Applicable</td>\n",
       "      <td>137</td>\n",
       "      <td>171</td>\n",
       "      <td>154</td>\n",
       "      <td>1</td>\n",
       "      <td>1</td>\n",
       "      <td>0</td>\n",
       "      <td>0</td>\n",
       "      <td>0</td>\n",
       "      <td>0</td>\n",
       "      <td>0</td>\n",
       "      <td>1</td>\n",
       "    </tr>\n",
       "  </tbody>\n",
       "</table>\n",
       "</div>"
      ],
      "text/plain": [
       "               Job_Title Salary_Estimate  \\\n",
       "index                                      \n",
       "0      Sr Data Scientist        137-171    \n",
       "1         Data Scientist        137-171    \n",
       "2         Data Scientist        137-171    \n",
       "3         Data Scientist        137-171    \n",
       "4         Data Scientist        137-171    \n",
       "\n",
       "                                         Job_Description  Rating  \\\n",
       "index                                                              \n",
       "0      Description: The Senior Data Scientist is resp...     3.1   \n",
       "1      Secure our Nation, Ignite your Future: Join th...     4.2   \n",
       "2      Overview: Analysis Group is one of the largest...     3.8   \n",
       "3      JOB DESCRIPTION:  Do you have a passion for Da...     3.5   \n",
       "4      Data Scientist: Affinity Solutions / Marketing...     2.9   \n",
       "\n",
       "             Company_Name       Location            Headquarters  \\\n",
       "index                                                              \n",
       "0             Healthfirst   New York, NY            New York, NY   \n",
       "1                 ManTech  Chantilly, VA             Herndon, VA   \n",
       "2          Analysis Group     Boston, MA              Boston, MA   \n",
       "3                 INFICON     Newton, MA  Bad Ragaz, Switzerland   \n",
       "4      Affinity Solutions   New York, NY            New York, NY   \n",
       "\n",
       "                          Size Founded           Ownership_Type  \\\n",
       "index                                                             \n",
       "0       1001 to 5000 employees    1993   Nonprofit Organization   \n",
       "1      5001 to 10000 employees    1968         Company - Public   \n",
       "2       1001 to 5000 employees    1981  Private Practice / Firm   \n",
       "3        501 to 1000 employees    2000         Company - Public   \n",
       "4          51 to 200 employees    1998        Company - Private   \n",
       "\n",
       "                                    Industry                     Revenue  \\\n",
       "index                                                                      \n",
       "0                         Insurance Carriers    Unknown / Non-Applicable   \n",
       "1                     Research & Development      $1 to $2 billion (USD)   \n",
       "2                                 Consulting  $100 to $500 million (USD)   \n",
       "3      Electrical & Electronic Manufacturing  $100 to $500 million (USD)   \n",
       "4                    Advertising & Marketing    Unknown / Non-Applicable   \n",
       "\n",
       "       min_salary  max_salary  avg_salary  python  excel  hadoop  spark  \\\n",
       "index                                                                     \n",
       "0             137         171         154       0      0       0      0   \n",
       "1             137         171         154       0      0       1      0   \n",
       "2             137         171         154       1      1       0      0   \n",
       "3             137         171         154       1      1       0      0   \n",
       "4             137         171         154       1      1       0      0   \n",
       "\n",
       "       tableau  aws  big_data  machine_learning  \n",
       "index                                            \n",
       "0            0    1         0                 1  \n",
       "1            0    0         1                 1  \n",
       "2            0    1         0                 1  \n",
       "3            0    1         0                 1  \n",
       "4            0    0         0                 1  "
      ]
     },
     "execution_count": 48,
     "metadata": {},
     "output_type": "execute_result"
    }
   ],
   "source": [
    "df_cleaned.head()"
   ]
  },
  {
   "cell_type": "code",
   "execution_count": 49,
   "id": "29fa3a5d-350e-47b9-97fa-40f219aaec6d",
   "metadata": {},
   "outputs": [],
   "source": [
    "# Save cleaned dataset to csv\n",
    "df.to_csv('cleaned_DS_Jobs.csv', index=False)"
   ]
  },
  {
   "cell_type": "code",
   "execution_count": null,
   "id": "a978e1cb-2595-4379-a7fc-dcb4f559255e",
   "metadata": {},
   "outputs": [],
   "source": []
  }
 ],
 "metadata": {
  "kernelspec": {
   "display_name": "Python 3 (ipykernel)",
   "language": "python",
   "name": "python3"
  },
  "language_info": {
   "codemirror_mode": {
    "name": "ipython",
    "version": 3
   },
   "file_extension": ".py",
   "mimetype": "text/x-python",
   "name": "python",
   "nbconvert_exporter": "python",
   "pygments_lexer": "ipython3",
   "version": "3.12.0"
  }
 },
 "nbformat": 4,
 "nbformat_minor": 5
}
